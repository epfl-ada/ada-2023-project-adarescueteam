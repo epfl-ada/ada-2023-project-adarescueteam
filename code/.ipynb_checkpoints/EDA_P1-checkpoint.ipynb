{
 "cells": [
  {
   "cell_type": "markdown",
   "metadata": {},
   "source": [
    "# ADA Project Milestone P2 Deliverable"
   ]
  },
  {
   "cell_type": "markdown",
   "metadata": {},
   "source": [
    "## <span style=\"color: darkblue;\">Import libraries and set paths </span>"
   ]
  },
  {
   "cell_type": "markdown",
   "metadata": {},
   "source": [
    "For data cleaning and EDA, import the following libraries:"
   ]
  },
  {
   "cell_type": "code",
   "execution_count": 3,
   "metadata": {},
   "outputs": [],
   "source": [
    "import os\n",
    "import sys\n",
    "import pickle\n",
    "import numpy as np\n",
    "import pandas as pd\n",
    "import matplotlib.pyplot as plt\n",
    "import seaborn as sns\n",
    "from datetime import datetime\n",
    "%matplotlib inline"
   ]
  },
  {
   "cell_type": "markdown",
   "metadata": {},
   "source": [
    "If you further try sentiment analysis, further import the following libraries:"
   ]
  },
  {
   "cell_type": "code",
   "execution_count": 1,
   "metadata": {},
   "outputs": [],
   "source": [
    "import torch\n",
    "from tqdm import tqdm\n",
    "from transformers import pipeline\n",
    "from transformers import AutoTokenizer\n",
    "from transformers import AutoModelForSequenceClassification\n",
    "from scipy.special import softmax\n",
    "from lime.lime_text import LimeTextExplainer"
   ]
  },
  {
   "cell_type": "markdown",
   "metadata": {},
   "source": [
    "Set the global variables for the paths to the data folder."
   ]
  },
  {
   "cell_type": "code",
   "execution_count": 4,
   "metadata": {},
   "outputs": [
    {
     "name": "stdout",
     "output_type": "stream",
     "text": [
      "your data directory:\n"
     ]
    },
    {
     "data": {
      "text/plain": [
       "'c:\\\\Users\\\\asus\\\\Documents\\\\GitHub\\\\ada-2023-project-adarescueteam\\\\code\\\\data'"
      ]
     },
     "execution_count": 4,
     "metadata": {},
     "output_type": "execute_result"
    }
   ],
   "source": [
    "# add your data folder into the 'code' folder, make sure it is in the .gitignore file\n",
    "\n",
    "CODE_DIR = os.getcwd()\n",
    "DATA_DIR = os.path.join(CODE_DIR, 'data')\n",
    "\n",
    "print('your data directory:')\n",
    "DATA_DIR"
   ]
  },
  {
   "cell_type": "code",
   "execution_count": 5,
   "metadata": {},
   "outputs": [],
   "source": [
    "# set path for BeerAdvocate data\n",
    "DATA_BeerAdvocate = os.path.join(DATA_DIR, \"BeerAdvocate.tar\")\n",
    "\n",
    "# set path for RateBeer data\n",
    "DATA_RateBeer = os.path.join(DATA_DIR, \"RateBeer.tar\")\n",
    "\n",
    "# set path for MatchedBeer data\n",
    "DATA_MatchedBeers = os.path.join(DATA_DIR, \"matched_beer_data.tar\")"
   ]
  },
  {
   "cell_type": "markdown",
   "metadata": {},
   "source": [
    "## <span style=\"color: darkblue;\">Define functions to load huge txt files</span>"
   ]
  },
  {
   "cell_type": "markdown",
   "metadata": {},
   "source": [
    "### Convert the time for the users dataset"
   ]
  },
  {
   "cell_type": "code",
   "execution_count": 6,
   "metadata": {},
   "outputs": [],
   "source": [
    "# convert the joined\n",
    "def convert_timestamp(timestamp):\n",
    "    try:\n",
    "        timestamp = float(timestamp)\n",
    "        return datetime.fromtimestamp(timestamp)\n",
    "    except (ValueError, TypeError):\n",
    "        return None"
   ]
  },
  {
   "cell_type": "markdown",
   "metadata": {},
   "source": [
    "<span style=\"color: red;\">One can choose skipping the implementation of 'Read ratings' and 'Read reviews' if you downloaded the .csv data</span> ([download here preprocessed .txt to .csv data](https://drive.google.com/drive/folders/1ZhaUtzQaGtIEi6PmHZ7uXhoo7sC1byAT?usp=sharing))\n",
    "\n",
    "Please place the .csv files in their corresponding folders."
   ]
  },
  {
   "cell_type": "code",
   "execution_count": 7,
   "metadata": {},
   "outputs": [],
   "source": [
    "# change the boolean to false if you did not download the data\n",
    "CSV_DOWNLOAD = True"
   ]
  },
  {
   "cell_type": "markdown",
   "metadata": {},
   "source": [
    "### Read ratings"
   ]
  },
  {
   "cell_type": "code",
   "execution_count": 11,
   "metadata": {},
   "outputs": [],
   "source": [
    "# read in the ratings\n",
    "def read_ratings_txt(folder, file_name):\n",
    "    data = []\n",
    "    counter = 0\n",
    "\n",
    "    with open(os.path.join(folder, file_name), 'rb') as file:\n",
    "        rating_data = {}\n",
    "        for line in file:\n",
    "            line = line.strip()\n",
    "            if line.startswith(b'beer_name:'):\n",
    "                # check if dictionary is not empty\n",
    "                if rating_data:\n",
    "                    data.append(rating_data)\n",
    "                rating_data = {'beer_name': line.split(b'beer_name:')[1].decode('utf-8')}\n",
    "            elif line.startswith(b'beer_id:'):\n",
    "                rating_data['beer_id'] = line.split(b'beer_id:')[1].decode('utf-8')\n",
    "            elif line.startswith(b'brewery_name:'):\n",
    "                rating_data['brewery_name'] = line.split(b'brewery_name:')[1].decode('utf-8')\n",
    "            elif line.startswith(b'brewery_id:'):\n",
    "                rating_data['brewery_id'] = line.split(b'brewery_id:')[1].decode('utf-8')\n",
    "            elif line.startswith(b'style:'):\n",
    "                rating_data['style'] = line.split(b'style:')[1].decode('utf-8')\n",
    "            elif line.startswith(b'abv:'):\n",
    "                rating_data['abv'] = line.split(b'abv:')[1].decode('utf-8')\n",
    "            elif line.startswith(b'date:'):\n",
    "                timestamp = float(line.split(b'date:')[1].decode('utf-8'))\n",
    "                rating_data['date'] = datetime.utcfromtimestamp(timestamp).strftime('%Y-%m-%d %H:%M:%S')\n",
    "            elif line.startswith(b'user_name:'):\n",
    "                rating_data['user_name'] = line.split(b'user_name:')[1].decode('utf-8')\n",
    "            elif line.startswith(b'user_id:'):\n",
    "                rating_data['user_id'] = line.split(b'user_id:')[1].decode('utf-8')\n",
    "            elif line.startswith(b'appearance:'):\n",
    "                rating_data['appearance'] = line.split(b'appearance:')[1].decode('utf-8')\n",
    "            elif line.startswith(b'aroma:'):\n",
    "                rating_data['aroma'] = line.split(b'aroma:')[1].decode('utf-8')\n",
    "            elif line.startswith(b'palate:'):\n",
    "                rating_data['palate'] = line.split(b'palate:')[1].decode('utf-8')\n",
    "            elif line.startswith(b'taste:'):\n",
    "                rating_data['taste'] = line.split(b'taste:')[1].decode('utf-8')\n",
    "            elif line.startswith(b'overall:'):\n",
    "                rating_data['overall'] = line.split(b'overall:')[1].decode('utf-8')\n",
    "            elif line.startswith(b'rating:'):\n",
    "                rating_data['rating'] = line.split(b'rating:')[1].decode('utf-8')\n",
    "            elif line.startswith(b'text:'):\n",
    "                rating_data['text'] = line.split(b'text:')[1].decode('utf-8')\n",
    "            elif line.startswith(b'review:'):\n",
    "                rating_data['review'] = line.split(b'review:')[1].decode('utf-8')\n",
    "\n",
    "            #counter += 1\n",
    "\n",
    "            #if counter == 100000:  # limit amount of lines to read in\n",
    "            #    break\n",
    "\n",
    "    if rating_data:\n",
    "        data.append(rating_data)\n",
    "\n",
    "    ratings = pd.DataFrame(data)\n",
    "    return ratings"
   ]
  },
  {
   "cell_type": "markdown",
   "metadata": {},
   "source": [
    "### Read reviews"
   ]
  },
  {
   "cell_type": "code",
   "execution_count": 12,
   "metadata": {},
   "outputs": [],
   "source": [
    "# read in the reviews\n",
    "def read_reviews_txt(folder, file_name):\n",
    "    data = []\n",
    "    counter = 0\n",
    "\n",
    "    with open(os.path.join(folder, file_name), 'rb') as file:\n",
    "        review_data = {}\n",
    "        for line in file:\n",
    "            line = line.strip()\n",
    "            if line.startswith(b'beer_name:'):\n",
    "                # check if dictionary is not empty\n",
    "                if review_data:\n",
    "                    data.append(review_data)\n",
    "                review_data = {'beer_name': line.split(b'beer_name:')[1].decode('utf-8')}\n",
    "            elif line.startswith(b'beer_id:'):\n",
    "                review_data['beer_id'] = line.split(b'beer_id:')[1].decode('utf-8')\n",
    "            elif line.startswith(b'brewery_name:'):\n",
    "                review_data['brewery_name'] = line.split(b'brewery_name:')[1].decode('utf-8')\n",
    "            elif line.startswith(b'brewery_id:'):\n",
    "                review_data['brewery_id'] = line.split(b'brewery_id:')[1].decode('utf-8')\n",
    "            elif line.startswith(b'style:'):\n",
    "                review_data['style'] = line.split(b'style:')[1].decode('utf-8')\n",
    "            elif line.startswith(b'abv:'):\n",
    "                review_data['abv'] = line.split(b'abv:')[1].decode('utf-8')\n",
    "            elif line.startswith(b'date:'):\n",
    "                timestamp = float(line.split(b'date:')[1].decode('utf-8'))\n",
    "                review_data['date'] = datetime.utcfromtimestamp(timestamp).strftime('%Y-%m-%d %H:%M:%S')\n",
    "            elif line.startswith(b'user_name:'):\n",
    "                review_data['user_name'] = line.split(b'user_name:')[1].decode('utf-8')\n",
    "            elif line.startswith(b'user_id:'):\n",
    "                review_data['user_id'] = line.split(b'user_id:')[1].decode('utf-8')\n",
    "            elif line.startswith(b'appearance:'):\n",
    "                review_data['appearance'] = line.split(b'appearance:')[1].decode('utf-8')\n",
    "            elif line.startswith(b'aroma:'):\n",
    "                review_data['aroma'] = line.split(b'aroma:')[1].decode('utf-8')\n",
    "            elif line.startswith(b'palate:'):\n",
    "                review_data['palate'] = line.split(b'palate:')[1].decode('utf-8')\n",
    "            elif line.startswith(b'taste:'):\n",
    "                review_data['taste'] = line.split(b'taste:')[1].decode('utf-8')\n",
    "            elif line.startswith(b'overall:'):\n",
    "                review_data['overall'] = line.split(b'overall:')[1].decode('utf-8')\n",
    "            elif line.startswith(b'rating:'):\n",
    "                review_data['rating'] = line.split(b'rating:')[1].decode('utf-8')\n",
    "            elif line.startswith(b'text:'):\n",
    "                review_data['text'] = line.split(b'text:')[1].decode('utf-8')\n",
    "\n",
    "            #counter += 1\n",
    "\n",
    "            #if counter == 10000:  # limit amount of lines to read in\n",
    "            #    break\n",
    "\n",
    "    if review_data:\n",
    "        data.append(review_data)\n",
    "\n",
    "    reviews = pd.DataFrame(data)\n",
    "    return reviews"
   ]
  },
  {
   "cell_type": "markdown",
   "metadata": {},
   "source": [
    "# <span style=\"color: blue;\">LOAD FILES</span>"
   ]
  },
  {
   "cell_type": "markdown",
   "metadata": {},
   "source": [
    "### <span style=\"color: blue;\">BeerAdvocate (BA) Dataset</span>"
   ]
  },
  {
   "cell_type": "markdown",
   "metadata": {},
   "source": [
    "### beers.csv"
   ]
  },
  {
   "cell_type": "code",
   "execution_count": 8,
   "metadata": {},
   "outputs": [
    {
     "name": "stdout",
     "output_type": "stream",
     "text": [
      "(280823, 15)\n"
     ]
    },
    {
     "data": {
      "text/html": [
       "<div>\n",
       "<style scoped>\n",
       "    .dataframe tbody tr th:only-of-type {\n",
       "        vertical-align: middle;\n",
       "    }\n",
       "\n",
       "    .dataframe tbody tr th {\n",
       "        vertical-align: top;\n",
       "    }\n",
       "\n",
       "    .dataframe thead th {\n",
       "        text-align: right;\n",
       "    }\n",
       "</style>\n",
       "<table border=\"1\" class=\"dataframe\">\n",
       "  <thead>\n",
       "    <tr style=\"text-align: right;\">\n",
       "      <th></th>\n",
       "      <th>beer_id</th>\n",
       "      <th>beer_name</th>\n",
       "      <th>brewery_id</th>\n",
       "      <th>brewery_name</th>\n",
       "      <th>style</th>\n",
       "      <th>nbr_ratings</th>\n",
       "      <th>nbr_reviews</th>\n",
       "      <th>avg</th>\n",
       "      <th>ba_score</th>\n",
       "      <th>bros_score</th>\n",
       "      <th>abv</th>\n",
       "      <th>avg_computed</th>\n",
       "      <th>zscore</th>\n",
       "      <th>nbr_matched_valid_ratings</th>\n",
       "      <th>avg_matched_valid_ratings</th>\n",
       "    </tr>\n",
       "  </thead>\n",
       "  <tbody>\n",
       "    <tr>\n",
       "      <th>0</th>\n",
       "      <td>166064</td>\n",
       "      <td>Nashe Moskovskoe</td>\n",
       "      <td>39912</td>\n",
       "      <td>Abdysh-Ata (Абдыш Ата)</td>\n",
       "      <td>Euro Pale Lager</td>\n",
       "      <td>0</td>\n",
       "      <td>0</td>\n",
       "      <td>NaN</td>\n",
       "      <td>NaN</td>\n",
       "      <td>NaN</td>\n",
       "      <td>4.7</td>\n",
       "      <td>NaN</td>\n",
       "      <td>NaN</td>\n",
       "      <td>0</td>\n",
       "      <td>NaN</td>\n",
       "    </tr>\n",
       "    <tr>\n",
       "      <th>1</th>\n",
       "      <td>166065</td>\n",
       "      <td>Nashe Pivovskoe</td>\n",
       "      <td>39912</td>\n",
       "      <td>Abdysh-Ata (Абдыш Ата)</td>\n",
       "      <td>Euro Pale Lager</td>\n",
       "      <td>0</td>\n",
       "      <td>0</td>\n",
       "      <td>NaN</td>\n",
       "      <td>NaN</td>\n",
       "      <td>NaN</td>\n",
       "      <td>3.8</td>\n",
       "      <td>NaN</td>\n",
       "      <td>NaN</td>\n",
       "      <td>0</td>\n",
       "      <td>NaN</td>\n",
       "    </tr>\n",
       "    <tr>\n",
       "      <th>2</th>\n",
       "      <td>166066</td>\n",
       "      <td>Nashe Shakhterskoe</td>\n",
       "      <td>39912</td>\n",
       "      <td>Abdysh-Ata (Абдыш Ата)</td>\n",
       "      <td>Euro Pale Lager</td>\n",
       "      <td>0</td>\n",
       "      <td>0</td>\n",
       "      <td>NaN</td>\n",
       "      <td>NaN</td>\n",
       "      <td>NaN</td>\n",
       "      <td>4.8</td>\n",
       "      <td>NaN</td>\n",
       "      <td>NaN</td>\n",
       "      <td>0</td>\n",
       "      <td>NaN</td>\n",
       "    </tr>\n",
       "    <tr>\n",
       "      <th>3</th>\n",
       "      <td>166067</td>\n",
       "      <td>Nashe Zhigulevskoe</td>\n",
       "      <td>39912</td>\n",
       "      <td>Abdysh-Ata (Абдыш Ата)</td>\n",
       "      <td>Euro Pale Lager</td>\n",
       "      <td>0</td>\n",
       "      <td>0</td>\n",
       "      <td>NaN</td>\n",
       "      <td>NaN</td>\n",
       "      <td>NaN</td>\n",
       "      <td>4.0</td>\n",
       "      <td>NaN</td>\n",
       "      <td>NaN</td>\n",
       "      <td>0</td>\n",
       "      <td>NaN</td>\n",
       "    </tr>\n",
       "    <tr>\n",
       "      <th>4</th>\n",
       "      <td>166063</td>\n",
       "      <td>Zhivoe</td>\n",
       "      <td>39912</td>\n",
       "      <td>Abdysh-Ata (Абдыш Ата)</td>\n",
       "      <td>Euro Pale Lager</td>\n",
       "      <td>0</td>\n",
       "      <td>0</td>\n",
       "      <td>NaN</td>\n",
       "      <td>NaN</td>\n",
       "      <td>NaN</td>\n",
       "      <td>4.5</td>\n",
       "      <td>NaN</td>\n",
       "      <td>NaN</td>\n",
       "      <td>0</td>\n",
       "      <td>NaN</td>\n",
       "    </tr>\n",
       "  </tbody>\n",
       "</table>\n",
       "</div>"
      ],
      "text/plain": [
       "   beer_id           beer_name  brewery_id            brewery_name  \\\n",
       "0   166064    Nashe Moskovskoe       39912  Abdysh-Ata (Абдыш Ата)   \n",
       "1   166065     Nashe Pivovskoe       39912  Abdysh-Ata (Абдыш Ата)   \n",
       "2   166066  Nashe Shakhterskoe       39912  Abdysh-Ata (Абдыш Ата)   \n",
       "3   166067  Nashe Zhigulevskoe       39912  Abdysh-Ata (Абдыш Ата)   \n",
       "4   166063              Zhivoe       39912  Abdysh-Ata (Абдыш Ата)   \n",
       "\n",
       "             style  nbr_ratings  nbr_reviews  avg  ba_score  bros_score  abv  \\\n",
       "0  Euro Pale Lager            0            0  NaN       NaN         NaN  4.7   \n",
       "1  Euro Pale Lager            0            0  NaN       NaN         NaN  3.8   \n",
       "2  Euro Pale Lager            0            0  NaN       NaN         NaN  4.8   \n",
       "3  Euro Pale Lager            0            0  NaN       NaN         NaN  4.0   \n",
       "4  Euro Pale Lager            0            0  NaN       NaN         NaN  4.5   \n",
       "\n",
       "   avg_computed  zscore  nbr_matched_valid_ratings  avg_matched_valid_ratings  \n",
       "0           NaN     NaN                          0                        NaN  \n",
       "1           NaN     NaN                          0                        NaN  \n",
       "2           NaN     NaN                          0                        NaN  \n",
       "3           NaN     NaN                          0                        NaN  \n",
       "4           NaN     NaN                          0                        NaN  "
      ]
     },
     "execution_count": 8,
     "metadata": {},
     "output_type": "execute_result"
    }
   ],
   "source": [
    "# read in the beers.csv file as a DataFrame\n",
    "BA_beers = pd.read_csv(os.path.join(DATA_BeerAdvocate, \"beers.csv\"))\n",
    "print(BA_beers.shape)\n",
    "BA_beers.head()\n"
   ]
  },
  {
   "cell_type": "markdown",
   "metadata": {},
   "source": [
    "### breweries.csv"
   ]
  },
  {
   "cell_type": "code",
   "execution_count": 9,
   "metadata": {},
   "outputs": [
    {
     "name": "stdout",
     "output_type": "stream",
     "text": [
      "(16758, 4)\n"
     ]
    },
    {
     "data": {
      "text/html": [
       "<div>\n",
       "<style scoped>\n",
       "    .dataframe tbody tr th:only-of-type {\n",
       "        vertical-align: middle;\n",
       "    }\n",
       "\n",
       "    .dataframe tbody tr th {\n",
       "        vertical-align: top;\n",
       "    }\n",
       "\n",
       "    .dataframe thead th {\n",
       "        text-align: right;\n",
       "    }\n",
       "</style>\n",
       "<table border=\"1\" class=\"dataframe\">\n",
       "  <thead>\n",
       "    <tr style=\"text-align: right;\">\n",
       "      <th></th>\n",
       "      <th>id</th>\n",
       "      <th>location</th>\n",
       "      <th>name</th>\n",
       "      <th>nbr_beers</th>\n",
       "    </tr>\n",
       "  </thead>\n",
       "  <tbody>\n",
       "    <tr>\n",
       "      <th>0</th>\n",
       "      <td>39912</td>\n",
       "      <td>Kyrgyzstan</td>\n",
       "      <td>Abdysh-Ata (Абдыш Ата)</td>\n",
       "      <td>5</td>\n",
       "    </tr>\n",
       "    <tr>\n",
       "      <th>1</th>\n",
       "      <td>39913</td>\n",
       "      <td>Kyrgyzstan</td>\n",
       "      <td>Arpa (АРПА)</td>\n",
       "      <td>1</td>\n",
       "    </tr>\n",
       "    <tr>\n",
       "      <th>2</th>\n",
       "      <td>39914</td>\n",
       "      <td>Kyrgyzstan</td>\n",
       "      <td>Bear Beer</td>\n",
       "      <td>4</td>\n",
       "    </tr>\n",
       "    <tr>\n",
       "      <th>3</th>\n",
       "      <td>39915</td>\n",
       "      <td>Kyrgyzstan</td>\n",
       "      <td>Blonder Pub</td>\n",
       "      <td>4</td>\n",
       "    </tr>\n",
       "    <tr>\n",
       "      <th>4</th>\n",
       "      <td>39916</td>\n",
       "      <td>Kyrgyzstan</td>\n",
       "      <td>Kellers Bier</td>\n",
       "      <td>2</td>\n",
       "    </tr>\n",
       "  </tbody>\n",
       "</table>\n",
       "</div>"
      ],
      "text/plain": [
       "      id    location                    name  nbr_beers\n",
       "0  39912  Kyrgyzstan  Abdysh-Ata (Абдыш Ата)          5\n",
       "1  39913  Kyrgyzstan             Arpa (АРПА)          1\n",
       "2  39914  Kyrgyzstan               Bear Beer          4\n",
       "3  39915  Kyrgyzstan             Blonder Pub          4\n",
       "4  39916  Kyrgyzstan            Kellers Bier          2"
      ]
     },
     "execution_count": 9,
     "metadata": {},
     "output_type": "execute_result"
    }
   ],
   "source": [
    "BA_breweries = pd.read_csv(os.path.join(DATA_BeerAdvocate, \"breweries.csv\"))\n",
    "print(BA_breweries.shape)\n",
    "BA_breweries.head()"
   ]
  },
  {
   "cell_type": "markdown",
   "metadata": {},
   "source": [
    "### users.csv"
   ]
  },
  {
   "cell_type": "code",
   "execution_count": 10,
   "metadata": {},
   "outputs": [
    {
     "name": "stdout",
     "output_type": "stream",
     "text": [
      "(153704, 6)\n"
     ]
    },
    {
     "data": {
      "text/html": [
       "<div>\n",
       "<style scoped>\n",
       "    .dataframe tbody tr th:only-of-type {\n",
       "        vertical-align: middle;\n",
       "    }\n",
       "\n",
       "    .dataframe tbody tr th {\n",
       "        vertical-align: top;\n",
       "    }\n",
       "\n",
       "    .dataframe thead th {\n",
       "        text-align: right;\n",
       "    }\n",
       "</style>\n",
       "<table border=\"1\" class=\"dataframe\">\n",
       "  <thead>\n",
       "    <tr style=\"text-align: right;\">\n",
       "      <th></th>\n",
       "      <th>nbr_ratings</th>\n",
       "      <th>nbr_reviews</th>\n",
       "      <th>user_id</th>\n",
       "      <th>user_name</th>\n",
       "      <th>joined</th>\n",
       "      <th>location</th>\n",
       "    </tr>\n",
       "  </thead>\n",
       "  <tbody>\n",
       "    <tr>\n",
       "      <th>0</th>\n",
       "      <td>7820</td>\n",
       "      <td>465</td>\n",
       "      <td>nmann08.184925</td>\n",
       "      <td>nmann08</td>\n",
       "      <td>2008-01-07 12:00:00</td>\n",
       "      <td>United States, Washington</td>\n",
       "    </tr>\n",
       "    <tr>\n",
       "      <th>1</th>\n",
       "      <td>2521</td>\n",
       "      <td>2504</td>\n",
       "      <td>stjamesgate.163714</td>\n",
       "      <td>StJamesGate</td>\n",
       "      <td>2007-10-08 12:00:00</td>\n",
       "      <td>United States, New York</td>\n",
       "    </tr>\n",
       "    <tr>\n",
       "      <th>2</th>\n",
       "      <td>1797</td>\n",
       "      <td>1143</td>\n",
       "      <td>mdagnew.19527</td>\n",
       "      <td>mdagnew</td>\n",
       "      <td>2005-05-18 12:00:00</td>\n",
       "      <td>Northern Ireland</td>\n",
       "    </tr>\n",
       "    <tr>\n",
       "      <th>3</th>\n",
       "      <td>31</td>\n",
       "      <td>31</td>\n",
       "      <td>helloloser12345.10867</td>\n",
       "      <td>helloloser12345</td>\n",
       "      <td>2004-11-25 12:00:00</td>\n",
       "      <td>Northern Ireland</td>\n",
       "    </tr>\n",
       "    <tr>\n",
       "      <th>4</th>\n",
       "      <td>604</td>\n",
       "      <td>604</td>\n",
       "      <td>cypressbob.3708</td>\n",
       "      <td>cypressbob</td>\n",
       "      <td>2003-11-20 12:00:00</td>\n",
       "      <td>Northern Ireland</td>\n",
       "    </tr>\n",
       "  </tbody>\n",
       "</table>\n",
       "</div>"
      ],
      "text/plain": [
       "   nbr_ratings  nbr_reviews                user_id        user_name  \\\n",
       "0         7820          465         nmann08.184925          nmann08   \n",
       "1         2521         2504     stjamesgate.163714      StJamesGate   \n",
       "2         1797         1143          mdagnew.19527          mdagnew   \n",
       "3           31           31  helloloser12345.10867  helloloser12345   \n",
       "4          604          604        cypressbob.3708       cypressbob   \n",
       "\n",
       "               joined                   location  \n",
       "0 2008-01-07 12:00:00  United States, Washington  \n",
       "1 2007-10-08 12:00:00    United States, New York  \n",
       "2 2005-05-18 12:00:00           Northern Ireland  \n",
       "3 2004-11-25 12:00:00           Northern Ireland  \n",
       "4 2003-11-20 12:00:00           Northern Ireland  "
      ]
     },
     "execution_count": 10,
     "metadata": {},
     "output_type": "execute_result"
    }
   ],
   "source": [
    "BA_users = pd.read_csv(os.path.join(DATA_BeerAdvocate, \"users.csv\"), \n",
    "                       converters={\"joined\": convert_timestamp}\n",
    "                       )\n",
    "print(BA_users.shape)\n",
    "BA_users.head()"
   ]
  },
  {
   "cell_type": "markdown",
   "metadata": {},
   "source": [
    "### ratings.txt"
   ]
  },
  {
   "cell_type": "code",
   "execution_count": 11,
   "metadata": {},
   "outputs": [],
   "source": [
    "BA_ratings = pd.DataFrame()\n",
    "\n",
    "if not CSV_DOWNLOAD:\n",
    "    # read in the .txt\n",
    "    BA_ratings = read_ratings_txt(DATA_BeerAdvocate, \"ratings.txt\")\n",
    "    print(BA_ratings.shape)\n",
    "    BA_ratings.head()\n",
    "\n",
    "    # create a csv from BA_ratings\n",
    "    BA_ratings.to_csv(os.path.join(DATA_BeerAdvocate, \"BA_ratings.csv\"), index=False)"
   ]
  },
  {
   "cell_type": "code",
   "execution_count": 12,
   "metadata": {},
   "outputs": [
    {
     "name": "stderr",
     "output_type": "stream",
     "text": [
      "C:\\Users\\asus\\AppData\\Local\\Temp\\ipykernel_21384\\928916667.py:3: DtypeWarning: Columns (5) have mixed types. Specify dtype option on import or set low_memory=False.\n",
      "  BA_ratings = pd.read_csv(os.path.join(DATA_BeerAdvocate, \"BA_ratings.csv\"), header=0)\n"
     ]
    },
    {
     "name": "stdout",
     "output_type": "stream",
     "text": [
      "(8393032, 17)\n"
     ]
    }
   ],
   "source": [
    "if CSV_DOWNLOAD:\n",
    "    # read in new BA_ratings.csv\n",
    "    BA_ratings = pd.read_csv(os.path.join(DATA_BeerAdvocate, \"BA_ratings.csv\"), header=0)\n",
    "    print(BA_ratings.shape)"
   ]
  },
  {
   "cell_type": "code",
   "execution_count": 30,
   "metadata": {},
   "outputs": [
    {
     "data": {
      "text/html": [
       "<div>\n",
       "<style scoped>\n",
       "    .dataframe tbody tr th:only-of-type {\n",
       "        vertical-align: middle;\n",
       "    }\n",
       "\n",
       "    .dataframe tbody tr th {\n",
       "        vertical-align: top;\n",
       "    }\n",
       "\n",
       "    .dataframe thead th {\n",
       "        text-align: right;\n",
       "    }\n",
       "</style>\n",
       "<table border=\"1\" class=\"dataframe\">\n",
       "  <thead>\n",
       "    <tr style=\"text-align: right;\">\n",
       "      <th></th>\n",
       "      <th>beer_name</th>\n",
       "      <th>beer_id</th>\n",
       "      <th>brewery_name</th>\n",
       "      <th>brewery_id</th>\n",
       "      <th>style</th>\n",
       "      <th>abv</th>\n",
       "      <th>date</th>\n",
       "      <th>user_name</th>\n",
       "      <th>user_id</th>\n",
       "      <th>appearance</th>\n",
       "      <th>aroma</th>\n",
       "      <th>palate</th>\n",
       "      <th>taste</th>\n",
       "      <th>overall</th>\n",
       "      <th>rating</th>\n",
       "      <th>text</th>\n",
       "      <th>review</th>\n",
       "    </tr>\n",
       "  </thead>\n",
       "  <tbody>\n",
       "    <tr>\n",
       "      <th>0</th>\n",
       "      <td>Régab</td>\n",
       "      <td>142544</td>\n",
       "      <td>Societe des Brasseries du Gabon (SOBRAGA)</td>\n",
       "      <td>37262</td>\n",
       "      <td>Euro Pale Lager</td>\n",
       "      <td>4.5</td>\n",
       "      <td>2015-08-20 10:00:00</td>\n",
       "      <td>nmann08</td>\n",
       "      <td>nmann08.184925</td>\n",
       "      <td>3.25</td>\n",
       "      <td>2.75</td>\n",
       "      <td>3.25</td>\n",
       "      <td>2.75</td>\n",
       "      <td>3.0</td>\n",
       "      <td>2.88</td>\n",
       "      <td>From a bottle, pours a piss yellow color with...</td>\n",
       "      <td>True</td>\n",
       "    </tr>\n",
       "    <tr>\n",
       "      <th>1</th>\n",
       "      <td>Barelegs Brew</td>\n",
       "      <td>19590</td>\n",
       "      <td>Strangford Lough Brewing Company Ltd</td>\n",
       "      <td>10093</td>\n",
       "      <td>English Pale Ale</td>\n",
       "      <td>4.5</td>\n",
       "      <td>2009-02-20 11:00:00</td>\n",
       "      <td>StJamesGate</td>\n",
       "      <td>stjamesgate.163714</td>\n",
       "      <td>3.0</td>\n",
       "      <td>3.5</td>\n",
       "      <td>3.5</td>\n",
       "      <td>4.0</td>\n",
       "      <td>3.5</td>\n",
       "      <td>3.67</td>\n",
       "      <td>Pours pale copper with a thin head that quick...</td>\n",
       "      <td>True</td>\n",
       "    </tr>\n",
       "    <tr>\n",
       "      <th>2</th>\n",
       "      <td>Barelegs Brew</td>\n",
       "      <td>19590</td>\n",
       "      <td>Strangford Lough Brewing Company Ltd</td>\n",
       "      <td>10093</td>\n",
       "      <td>English Pale Ale</td>\n",
       "      <td>4.5</td>\n",
       "      <td>2006-03-13 11:00:00</td>\n",
       "      <td>mdagnew</td>\n",
       "      <td>mdagnew.19527</td>\n",
       "      <td>4.0</td>\n",
       "      <td>3.5</td>\n",
       "      <td>3.5</td>\n",
       "      <td>4.0</td>\n",
       "      <td>3.5</td>\n",
       "      <td>3.73</td>\n",
       "      <td>500ml Bottle bought from The Vintage, Antrim....</td>\n",
       "      <td>True</td>\n",
       "    </tr>\n",
       "    <tr>\n",
       "      <th>3</th>\n",
       "      <td>Barelegs Brew</td>\n",
       "      <td>19590</td>\n",
       "      <td>Strangford Lough Brewing Company Ltd</td>\n",
       "      <td>10093</td>\n",
       "      <td>English Pale Ale</td>\n",
       "      <td>4.5</td>\n",
       "      <td>2004-12-01 11:00:00</td>\n",
       "      <td>helloloser12345</td>\n",
       "      <td>helloloser12345.10867</td>\n",
       "      <td>4.0</td>\n",
       "      <td>3.5</td>\n",
       "      <td>4.0</td>\n",
       "      <td>4.0</td>\n",
       "      <td>4.5</td>\n",
       "      <td>3.98</td>\n",
       "      <td>Serving: 500ml brown bottlePour: Good head wi...</td>\n",
       "      <td>True</td>\n",
       "    </tr>\n",
       "    <tr>\n",
       "      <th>4</th>\n",
       "      <td>Barelegs Brew</td>\n",
       "      <td>19590</td>\n",
       "      <td>Strangford Lough Brewing Company Ltd</td>\n",
       "      <td>10093</td>\n",
       "      <td>English Pale Ale</td>\n",
       "      <td>4.5</td>\n",
       "      <td>2004-08-30 10:00:00</td>\n",
       "      <td>cypressbob</td>\n",
       "      <td>cypressbob.3708</td>\n",
       "      <td>4.0</td>\n",
       "      <td>4.0</td>\n",
       "      <td>4.0</td>\n",
       "      <td>4.0</td>\n",
       "      <td>4.0</td>\n",
       "      <td>4.00</td>\n",
       "      <td>500ml bottlePours with a light, slightly hazy...</td>\n",
       "      <td>True</td>\n",
       "    </tr>\n",
       "  </tbody>\n",
       "</table>\n",
       "</div>"
      ],
      "text/plain": [
       "        beer_name  beer_id                                brewery_name  \\\n",
       "0           Régab   142544   Societe des Brasseries du Gabon (SOBRAGA)   \n",
       "1   Barelegs Brew    19590        Strangford Lough Brewing Company Ltd   \n",
       "2   Barelegs Brew    19590        Strangford Lough Brewing Company Ltd   \n",
       "3   Barelegs Brew    19590        Strangford Lough Brewing Company Ltd   \n",
       "4   Barelegs Brew    19590        Strangford Lough Brewing Company Ltd   \n",
       "\n",
       "   brewery_id              style   abv                 date         user_name  \\\n",
       "0       37262    Euro Pale Lager   4.5  2015-08-20 10:00:00           nmann08   \n",
       "1       10093   English Pale Ale   4.5  2009-02-20 11:00:00       StJamesGate   \n",
       "2       10093   English Pale Ale   4.5  2006-03-13 11:00:00           mdagnew   \n",
       "3       10093   English Pale Ale   4.5  2004-12-01 11:00:00   helloloser12345   \n",
       "4       10093   English Pale Ale   4.5  2004-08-30 10:00:00        cypressbob   \n",
       "\n",
       "                  user_id appearance  aroma palate  taste overall  rating  \\\n",
       "0          nmann08.184925       3.25   2.75   3.25   2.75     3.0    2.88   \n",
       "1      stjamesgate.163714        3.0    3.5    3.5    4.0     3.5    3.67   \n",
       "2           mdagnew.19527        4.0    3.5    3.5    4.0     3.5    3.73   \n",
       "3   helloloser12345.10867        4.0    3.5    4.0    4.0     4.5    3.98   \n",
       "4         cypressbob.3708        4.0    4.0    4.0    4.0     4.0    4.00   \n",
       "\n",
       "                                                text review  \n",
       "0   From a bottle, pours a piss yellow color with...   True  \n",
       "1   Pours pale copper with a thin head that quick...   True  \n",
       "2   500ml Bottle bought from The Vintage, Antrim....   True  \n",
       "3   Serving: 500ml brown bottlePour: Good head wi...   True  \n",
       "4   500ml bottlePours with a light, slightly hazy...   True  "
      ]
     },
     "execution_count": 30,
     "metadata": {},
     "output_type": "execute_result"
    }
   ],
   "source": [
    "BA_ratings.head()"
   ]
  },
  {
   "cell_type": "markdown",
   "metadata": {},
   "source": [
    "### reviews.txt"
   ]
  },
  {
   "cell_type": "code",
   "execution_count": 28,
   "metadata": {},
   "outputs": [],
   "source": [
    "BA_reviews = pd.DataFrame()\n",
    "if not CSV_DOWNLOAD:\n",
    "    # read the .txt file\n",
    "    BA_reviews = read_reviews_txt(DATA_BeerAdvocate, \"reviews.txt\")\n",
    "    BA_reviews.head(), BA_reviews.shape\n",
    "    # write the csv file\n",
    "    BA_reviews.to_csv(os.path.join(DATA_BeerAdvocate, \"BA_reviews.csv\"), index=False)"
   ]
  },
  {
   "cell_type": "code",
   "execution_count": 31,
   "metadata": {},
   "outputs": [
    {
     "name": "stdout",
     "output_type": "stream",
     "text": [
      "(2589586, 16)\n"
     ]
    }
   ],
   "source": [
    "if CSV_DOWNLOAD:\n",
    "    # read back in the csv file\n",
    "    BA_reviews = pd.read_csv(os.path.join(DATA_BeerAdvocate, \"BA_reviews.csv\"), header=0)\n",
    "    print(BA_reviews.shape)"
   ]
  },
  {
   "cell_type": "code",
   "execution_count": 32,
   "metadata": {},
   "outputs": [
    {
     "data": {
      "text/html": [
       "<div>\n",
       "<style scoped>\n",
       "    .dataframe tbody tr th:only-of-type {\n",
       "        vertical-align: middle;\n",
       "    }\n",
       "\n",
       "    .dataframe tbody tr th {\n",
       "        vertical-align: top;\n",
       "    }\n",
       "\n",
       "    .dataframe thead th {\n",
       "        text-align: right;\n",
       "    }\n",
       "</style>\n",
       "<table border=\"1\" class=\"dataframe\">\n",
       "  <thead>\n",
       "    <tr style=\"text-align: right;\">\n",
       "      <th></th>\n",
       "      <th>beer_name</th>\n",
       "      <th>beer_id</th>\n",
       "      <th>brewery_name</th>\n",
       "      <th>brewery_id</th>\n",
       "      <th>style</th>\n",
       "      <th>abv</th>\n",
       "      <th>date</th>\n",
       "      <th>user_name</th>\n",
       "      <th>user_id</th>\n",
       "      <th>appearance</th>\n",
       "      <th>aroma</th>\n",
       "      <th>palate</th>\n",
       "      <th>taste</th>\n",
       "      <th>overall</th>\n",
       "      <th>rating</th>\n",
       "      <th>text</th>\n",
       "    </tr>\n",
       "  </thead>\n",
       "  <tbody>\n",
       "    <tr>\n",
       "      <th>0</th>\n",
       "      <td>Régab</td>\n",
       "      <td>142544</td>\n",
       "      <td>Societe des Brasseries du Gabon (SOBRAGA)</td>\n",
       "      <td>37262</td>\n",
       "      <td>Euro Pale Lager</td>\n",
       "      <td>4.5</td>\n",
       "      <td>2015-08-20 10:00:00</td>\n",
       "      <td>nmann08</td>\n",
       "      <td>nmann08.184925</td>\n",
       "      <td>3.25</td>\n",
       "      <td>2.75</td>\n",
       "      <td>3.25</td>\n",
       "      <td>2.75</td>\n",
       "      <td>3.0</td>\n",
       "      <td>2.88</td>\n",
       "      <td>From a bottle, pours a piss yellow color with...</td>\n",
       "    </tr>\n",
       "    <tr>\n",
       "      <th>1</th>\n",
       "      <td>Barelegs Brew</td>\n",
       "      <td>19590</td>\n",
       "      <td>Strangford Lough Brewing Company Ltd</td>\n",
       "      <td>10093</td>\n",
       "      <td>English Pale Ale</td>\n",
       "      <td>4.5</td>\n",
       "      <td>2009-02-20 11:00:00</td>\n",
       "      <td>StJamesGate</td>\n",
       "      <td>stjamesgate.163714</td>\n",
       "      <td>3.0</td>\n",
       "      <td>3.5</td>\n",
       "      <td>3.5</td>\n",
       "      <td>4.0</td>\n",
       "      <td>3.5</td>\n",
       "      <td>3.67</td>\n",
       "      <td>Pours pale copper with a thin head that quick...</td>\n",
       "    </tr>\n",
       "    <tr>\n",
       "      <th>2</th>\n",
       "      <td>Barelegs Brew</td>\n",
       "      <td>19590</td>\n",
       "      <td>Strangford Lough Brewing Company Ltd</td>\n",
       "      <td>10093</td>\n",
       "      <td>English Pale Ale</td>\n",
       "      <td>4.5</td>\n",
       "      <td>2006-03-13 11:00:00</td>\n",
       "      <td>mdagnew</td>\n",
       "      <td>mdagnew.19527</td>\n",
       "      <td>4.0</td>\n",
       "      <td>3.5</td>\n",
       "      <td>3.5</td>\n",
       "      <td>4.0</td>\n",
       "      <td>3.5</td>\n",
       "      <td>3.73</td>\n",
       "      <td>500ml Bottle bought from The Vintage, Antrim....</td>\n",
       "    </tr>\n",
       "    <tr>\n",
       "      <th>3</th>\n",
       "      <td>Barelegs Brew</td>\n",
       "      <td>19590</td>\n",
       "      <td>Strangford Lough Brewing Company Ltd</td>\n",
       "      <td>10093</td>\n",
       "      <td>English Pale Ale</td>\n",
       "      <td>4.5</td>\n",
       "      <td>2004-12-01 11:00:00</td>\n",
       "      <td>helloloser12345</td>\n",
       "      <td>helloloser12345.10867</td>\n",
       "      <td>4.0</td>\n",
       "      <td>3.5</td>\n",
       "      <td>4.0</td>\n",
       "      <td>4.0</td>\n",
       "      <td>4.5</td>\n",
       "      <td>3.98</td>\n",
       "      <td>Serving: 500ml brown bottlePour: Good head wi...</td>\n",
       "    </tr>\n",
       "    <tr>\n",
       "      <th>4</th>\n",
       "      <td>Barelegs Brew</td>\n",
       "      <td>19590</td>\n",
       "      <td>Strangford Lough Brewing Company Ltd</td>\n",
       "      <td>10093</td>\n",
       "      <td>English Pale Ale</td>\n",
       "      <td>4.5</td>\n",
       "      <td>2004-08-30 10:00:00</td>\n",
       "      <td>cypressbob</td>\n",
       "      <td>cypressbob.3708</td>\n",
       "      <td>4.0</td>\n",
       "      <td>4.0</td>\n",
       "      <td>4.0</td>\n",
       "      <td>4.0</td>\n",
       "      <td>4.0</td>\n",
       "      <td>4.00</td>\n",
       "      <td>500ml bottlePours with a light, slightly hazy...</td>\n",
       "    </tr>\n",
       "  </tbody>\n",
       "</table>\n",
       "</div>"
      ],
      "text/plain": [
       "        beer_name  beer_id                                brewery_name  \\\n",
       "0           Régab   142544   Societe des Brasseries du Gabon (SOBRAGA)   \n",
       "1   Barelegs Brew    19590        Strangford Lough Brewing Company Ltd   \n",
       "2   Barelegs Brew    19590        Strangford Lough Brewing Company Ltd   \n",
       "3   Barelegs Brew    19590        Strangford Lough Brewing Company Ltd   \n",
       "4   Barelegs Brew    19590        Strangford Lough Brewing Company Ltd   \n",
       "\n",
       "   brewery_id              style   abv                 date         user_name  \\\n",
       "0       37262    Euro Pale Lager   4.5  2015-08-20 10:00:00           nmann08   \n",
       "1       10093   English Pale Ale   4.5  2009-02-20 11:00:00       StJamesGate   \n",
       "2       10093   English Pale Ale   4.5  2006-03-13 11:00:00           mdagnew   \n",
       "3       10093   English Pale Ale   4.5  2004-12-01 11:00:00   helloloser12345   \n",
       "4       10093   English Pale Ale   4.5  2004-08-30 10:00:00        cypressbob   \n",
       "\n",
       "                  user_id appearance  aroma palate  taste overall  rating  \\\n",
       "0          nmann08.184925       3.25   2.75   3.25   2.75     3.0    2.88   \n",
       "1      stjamesgate.163714        3.0    3.5    3.5    4.0     3.5    3.67   \n",
       "2           mdagnew.19527        4.0    3.5    3.5    4.0     3.5    3.73   \n",
       "3   helloloser12345.10867        4.0    3.5    4.0    4.0     4.5    3.98   \n",
       "4         cypressbob.3708        4.0    4.0    4.0    4.0     4.0    4.00   \n",
       "\n",
       "                                                text  \n",
       "0   From a bottle, pours a piss yellow color with...  \n",
       "1   Pours pale copper with a thin head that quick...  \n",
       "2   500ml Bottle bought from The Vintage, Antrim....  \n",
       "3   Serving: 500ml brown bottlePour: Good head wi...  \n",
       "4   500ml bottlePours with a light, slightly hazy...  "
      ]
     },
     "execution_count": 32,
     "metadata": {},
     "output_type": "execute_result"
    }
   ],
   "source": [
    "BA_reviews.head()"
   ]
  },
  {
   "cell_type": "markdown",
   "metadata": {},
   "source": [
    "## <span style=\"color: blue;\">RateBeer (RB) Dataset</span>"
   ]
  },
  {
   "cell_type": "markdown",
   "metadata": {},
   "source": [
    "### beers.csv"
   ]
  },
  {
   "cell_type": "code",
   "execution_count": 34,
   "metadata": {},
   "outputs": [
    {
     "data": {
      "text/plain": [
       "(   beer_id               beer_name  brewery_id      brewery_name  \\\n",
       " 0   410549       33 Export (Gabon)        3198           Sobraga   \n",
       " 1   105273     Castel Beer (Gabon)        3198           Sobraga   \n",
       " 2    19445                   Régab        3198           Sobraga   \n",
       " 3   155699  Ards Bally Black Stout       13538  Ards Brewing Co.   \n",
       " 4   239097        Ards Belfast 366       13538  Ards Brewing Co.   \n",
       " \n",
       "                   style  nbr_ratings  overall_score  style_score   avg  abv  \\\n",
       " 0            Pale Lager            1            NaN          NaN  2.72  5.0   \n",
       " 1            Pale Lager           10            5.0         58.0  2.18  5.2   \n",
       " 2            Pale Lager           27            1.0         22.0  1.83  4.5   \n",
       " 3                 Stout            6            NaN          NaN  3.18  4.6   \n",
       " 4  Golden Ale/Blond Ale            1            NaN          NaN  2.79  4.2   \n",
       " \n",
       "    avg_computed    zscore  nbr_matched_valid_ratings  \\\n",
       " 0      2.000000       NaN                          0   \n",
       " 1      1.910000       NaN                          0   \n",
       " 2      1.811111       NaN                          0   \n",
       " 3      3.866667  0.823699                          6   \n",
       " 4      3.000000       NaN                          0   \n",
       " \n",
       "    avg_matched_valid_ratings  \n",
       " 0                        NaN  \n",
       " 1                        NaN  \n",
       " 2                        NaN  \n",
       " 3                   3.866667  \n",
       " 4                        NaN  ,\n",
       " (442081, 14))"
      ]
     },
     "execution_count": 34,
     "metadata": {},
     "output_type": "execute_result"
    }
   ],
   "source": [
    "# read in the beers.csv file as a DataFrame\n",
    "RB_beers = pd.read_csv(os.path.join(DATA_RateBeer, \"beers.csv\"))\n",
    "RB_beers.head(), RB_beers.shape"
   ]
  },
  {
   "cell_type": "markdown",
   "metadata": {},
   "source": [
    "### breweries.csv"
   ]
  },
  {
   "cell_type": "code",
   "execution_count": 35,
   "metadata": {},
   "outputs": [
    {
     "data": {
      "text/plain": [
       "(      id          location                       name  nbr_beers\n",
       " 0   3198             Gabon                    Sobraga          3\n",
       " 1  13538  Northern Ireland           Ards Brewing Co.         13\n",
       " 2  22304  Northern Ireland  Barrahooley Craft Brewery          4\n",
       " 3  22818  Northern Ireland                   Boundary         66\n",
       " 4  24297  Northern Ireland            Brewbot Belfast          3,\n",
       " (24189, 4))"
      ]
     },
     "execution_count": 35,
     "metadata": {},
     "output_type": "execute_result"
    }
   ],
   "source": [
    "RB_breweries = pd.read_csv(os.path.join(DATA_RateBeer, \"breweries.csv\"))\n",
    "RB_breweries.head(), RB_breweries.shape"
   ]
  },
  {
   "cell_type": "markdown",
   "metadata": {},
   "source": [
    "### users.csv"
   ]
  },
  {
   "cell_type": "code",
   "execution_count": 37,
   "metadata": {},
   "outputs": [
    {
     "data": {
      "text/plain": [
       "((70174, 5),\n",
       "    nbr_ratings  nbr_reviews                user_id        user_name  \\\n",
       " 0         7820          465         nmann08.184925          nmann08   \n",
       " 1         2521         2504     stjamesgate.163714      StJamesGate   \n",
       " 2         1797         1143          mdagnew.19527          mdagnew   \n",
       " 3           31           31  helloloser12345.10867  helloloser12345   \n",
       " 4          604          604        cypressbob.3708       cypressbob   \n",
       " \n",
       "                joined                   location  \n",
       " 0 2008-01-07 12:00:00  United States, Washington  \n",
       " 1 2007-10-08 12:00:00    United States, New York  \n",
       " 2 2005-05-18 12:00:00           Northern Ireland  \n",
       " 3 2004-11-25 12:00:00           Northern Ireland  \n",
       " 4 2003-11-20 12:00:00           Northern Ireland  )"
      ]
     },
     "execution_count": 37,
     "metadata": {},
     "output_type": "execute_result"
    }
   ],
   "source": [
    "RB_users = pd.read_csv(os.path.join(DATA_RateBeer, \"users.csv\"),\n",
    "                       converters={\"joined\": convert_timestamp}\n",
    "                       )\n",
    "RB_users.shape, BA_users.head()"
   ]
  },
  {
   "cell_type": "markdown",
   "metadata": {},
   "source": [
    "### ratings.txt"
   ]
  },
  {
   "cell_type": "markdown",
   "metadata": {},
   "source": [
    "run only the code below (<span style=\"color: red;\">*</span>) if you have downloaded the .csv file:"
   ]
  },
  {
   "cell_type": "code",
   "execution_count": null,
   "metadata": {},
   "outputs": [],
   "source": [
    "# read in the .txt\n",
    "RB_ratings = read_reviews_txt(DATA_RateBeer, \"ratings.txt\") # has no 'review' column\n",
    "RB_ratings.head(), RB_ratings.shape"
   ]
  },
  {
   "cell_type": "code",
   "execution_count": 9,
   "metadata": {},
   "outputs": [],
   "source": [
    "# create a csv from RB_ratings\n",
    "RB_ratings.to_csv(os.path.join(DATA_RateBeer, \"RB_ratings.csv\"), index=False)"
   ]
  },
  {
   "cell_type": "markdown",
   "metadata": {},
   "source": [
    "<span style=\"color: red;\">*</span>"
   ]
  },
  {
   "cell_type": "code",
   "execution_count": 35,
   "metadata": {},
   "outputs": [
    {
     "name": "stderr",
     "output_type": "stream",
     "text": [
      "C:\\Users\\fulci\\AppData\\Local\\Temp\\ipykernel_23016\\3449270348.py:2: DtypeWarning: Columns (5) have mixed types. Specify dtype option on import or set low_memory=False.\n",
      "  RB_ratings = pd.read_csv(os.path.join(DATA_RateBeer, \"RB_ratings.csv\"), header=0)\n"
     ]
    },
    {
     "data": {
      "text/plain": [
       "(              beer_name  beer_id brewery_name  brewery_id        style   abv  \\\n",
       " 0     33 Export (Gabon)   410549      Sobraga        3198   Pale Lager   5.0   \n",
       " 1   Castel Beer (Gabon)   105273      Sobraga        3198   Pale Lager   5.2   \n",
       " 2   Castel Beer (Gabon)   105273      Sobraga        3198   Pale Lager   5.2   \n",
       " 3   Castel Beer (Gabon)   105273      Sobraga        3198   Pale Lager   5.2   \n",
       " 4   Castel Beer (Gabon)   105273      Sobraga        3198   Pale Lager   5.2   \n",
       " \n",
       "                   date      user_name  user_id  appearance  aroma  palate  \\\n",
       " 0  2016-04-26 10:00:00        Manslow   175852           2      4       2   \n",
       " 1  2017-02-17 11:00:00   MAGICuenca91   442761           2      3       2   \n",
       " 2  2016-06-24 10:00:00         Sibarh   288889           3      3       2   \n",
       " 3  2016-01-01 11:00:00        fombe89   250510           4      3       1   \n",
       " 4  2015-10-23 10:00:00     kevnic2008   122778           2      4       2   \n",
       " \n",
       "    taste  overall  rating                                               text  \n",
       " 0      4        8     2.0   Puszka 0,33l dzięki Christoph . Kolor jasnozł...  \n",
       " 1      4        8     1.9   Cerveza pale lager gabonesa. MÃ¡s floja que l...  \n",
       " 2      3        5     1.6   Kolor- złoty, klarowny. Piana - drobna, średn...  \n",
       " 3      2        5     1.5   Botella, de GabÃ³n regalo familiar.31/01/2015...  \n",
       " 4      4        7     1.9   Many thanks for this beer to Erzengel. Pours ...  ,\n",
       " (7122074, 16))"
      ]
     },
     "execution_count": 35,
     "metadata": {},
     "output_type": "execute_result"
    }
   ],
   "source": [
    "# read back in the ratings csv file\n",
    "RB_ratings = pd.read_csv(os.path.join(DATA_RateBeer, \"RB_ratings.csv\"), header=0)\n",
    "RB_ratings.head(5), RB_ratings.shape"
   ]
  },
  {
   "cell_type": "markdown",
   "metadata": {},
   "source": [
    "### reviews.txt"
   ]
  },
  {
   "cell_type": "markdown",
   "metadata": {},
   "source": [
    "run only the code below (<span style=\"color: red;\">*</span>) if you have downloaded the .csv file:"
   ]
  },
  {
   "cell_type": "code",
   "execution_count": null,
   "metadata": {},
   "outputs": [],
   "source": [
    "# read in the .txt file\n",
    "RB_reviews = read_reviews_txt(DATA_RateBeer, \"reviews.txt\")\n",
    "RB_reviews.head(), RB_reviews.shape"
   ]
  },
  {
   "cell_type": "code",
   "execution_count": 12,
   "metadata": {},
   "outputs": [],
   "source": [
    "# create a csv from RB_reviews\n",
    "RB_reviews.to_csv(os.path.join(DATA_RateBeer, \"RB_reviews.csv\"), index=False)"
   ]
  },
  {
   "cell_type": "markdown",
   "metadata": {},
   "source": [
    "<span style=\"color: red;\">*</span>"
   ]
  },
  {
   "cell_type": "code",
   "execution_count": 36,
   "metadata": {},
   "outputs": [
    {
     "name": "stderr",
     "output_type": "stream",
     "text": [
      "C:\\Users\\fulci\\AppData\\Local\\Temp\\ipykernel_23016\\3713087291.py:2: DtypeWarning: Columns (5) have mixed types. Specify dtype option on import or set low_memory=False.\n",
      "  RB_reviews = pd.read_csv(os.path.join(DATA_RateBeer, \"RB_reviews.csv\"), header=0)\n"
     ]
    },
    {
     "data": {
      "text/plain": [
       "(              beer_name  beer_id brewery_name  brewery_id        style   abv  \\\n",
       " 0     33 Export (Gabon)   410549      Sobraga        3198   Pale Lager   5.0   \n",
       " 1   Castel Beer (Gabon)   105273      Sobraga        3198   Pale Lager   5.2   \n",
       " 2   Castel Beer (Gabon)   105273      Sobraga        3198   Pale Lager   5.2   \n",
       " 3   Castel Beer (Gabon)   105273      Sobraga        3198   Pale Lager   5.2   \n",
       " 4   Castel Beer (Gabon)   105273      Sobraga        3198   Pale Lager   5.2   \n",
       " \n",
       "                   date      user_name  user_id  appearance  aroma  palate  \\\n",
       " 0  2016-04-26 10:00:00        Manslow   175852           2      4       2   \n",
       " 1  2017-02-17 11:00:00   MAGICuenca91   442761           2      3       2   \n",
       " 2  2016-06-24 10:00:00         Sibarh   288889           3      3       2   \n",
       " 3  2016-01-01 11:00:00        fombe89   250510           4      3       1   \n",
       " 4  2015-10-23 10:00:00     kevnic2008   122778           2      4       2   \n",
       " \n",
       "    taste  overall  rating                                               text  \n",
       " 0      4        8     2.0   Puszka 0,33l dzięki Christoph . Kolor jasnozł...  \n",
       " 1      4        8     1.9   Cerveza pale lager gabonesa. MÃ¡s floja que l...  \n",
       " 2      3        5     1.6   Kolor- złoty, klarowny. Piana - drobna, średn...  \n",
       " 3      2        5     1.5   Botella, de GabÃ³n regalo familiar.31/01/2015...  \n",
       " 4      4        7     1.9   Many thanks for this beer to Erzengel. Pours ...  ,\n",
       " (7122074, 16))"
      ]
     },
     "execution_count": 36,
     "metadata": {},
     "output_type": "execute_result"
    }
   ],
   "source": [
    "# read back in the reviews csv file\n",
    "RB_reviews = pd.read_csv(os.path.join(DATA_RateBeer, \"RB_reviews.csv\"), header=0)\n",
    "RB_reviews.head(5), RB_reviews.shape"
   ]
  },
  {
   "cell_type": "markdown",
   "metadata": {},
   "source": [
    "## <span style=\"color: blue;\">Matched beer (MB) dataset</span>"
   ]
  },
  {
   "cell_type": "markdown",
   "metadata": {},
   "source": [
    "### beers.csv"
   ]
  },
  {
   "cell_type": "code",
   "execution_count": 40,
   "metadata": {},
   "outputs": [
    {
     "name": "stderr",
     "output_type": "stream",
     "text": [
      "C:\\Users\\fulci\\AppData\\Local\\Temp\\ipykernel_20928\\2716705438.py:2: DtypeWarning: Columns (0,1,2,3,4,5,8,10,11,12,13,15,16,17,18,19,20,23,25,26,27,29,30,31,32) have mixed types. Specify dtype option on import or set low_memory=False.\n",
      "  MB_beers = pd.read_csv(os.path.join(DATA_MatchedBeers, \"beers.csv\"))\n"
     ]
    },
    {
     "data": {
      "text/plain": [
       "(    ba  ba.1               ba.2                       ba.3      ba.4     ba.5  \\\n",
       " 0  abv   avg       avg_computed  avg_matched_valid_ratings  ba_score  beer_id   \n",
       " 1  4.8  3.45  3.439866666666666          3.504067796610169      80.0    19827   \n",
       " 2  6.0  3.86            3.88875          3.768333333333333       NaN    20841   \n",
       " 3  4.2  3.56         3.55609375          3.580416666666667      82.0    20842   \n",
       " 4  4.8  3.96               3.96                       3.96       NaN    22659   \n",
       " \n",
       "                  ba.6                    ba.7        ba.8  \\\n",
       " 0           beer_name  beer_wout_brewery_name  brewery_id   \n",
       " 1            Legbiter                Legbiter       10093   \n",
       " 2   St. Patrick's Ale         Patricks Ale St       10093   \n",
       " 3  St. Patrick's Best        Patricks Best St       10093   \n",
       " 4  St. Patrick's Gold        Patricks Gold St       10093   \n",
       " \n",
       "                                    ba.9  ...        rb.7              rb.8  \\\n",
       " 0                          brewery_name  ...  brewery_id      brewery_name   \n",
       " 1  Strangford Lough Brewing Company Ltd  ...        4959  Strangford Lough   \n",
       " 2  Strangford Lough Brewing Company Ltd  ...        4959  Strangford Lough   \n",
       " 3  Strangford Lough Brewing Company Ltd  ...        4959  Strangford Lough   \n",
       " 4  Strangford Lough Brewing Company Ltd  ...        4959  Strangford Lough   \n",
       " \n",
       "                         rb.9        rb.10          rb.11  \\\n",
       " 0  nbr_matched_valid_ratings  nbr_ratings  overall_score   \n",
       " 1                         89           89           23.0   \n",
       " 2                         11           11           52.0   \n",
       " 3                         74           74           26.0   \n",
       " 4                          4            4            NaN   \n",
       " \n",
       "                   rb.12        rb.13                 rb.14             scores  \\\n",
       " 0                 style  style_score                zscore               diff   \n",
       " 1  Golden Ale/Blond Ale         27.0     -0.69830388113311                1.0   \n",
       " 2             Irish Ale         79.0  0.005754083235128498  0.527140514545712   \n",
       " 3                Bitter         25.0   -0.8621191741786616  0.527140514545712   \n",
       " 4             Amber Ale          NaN   -0.7584908630826819  0.527140514545712   \n",
       " \n",
       "   scores.1  \n",
       " 0      sim  \n",
       " 1      1.0  \n",
       " 2      1.0  \n",
       " 3      1.0  \n",
       " 4      1.0  \n",
       " \n",
       " [5 rows x 33 columns],\n",
       " (45641, 33))"
      ]
     },
     "execution_count": 40,
     "metadata": {},
     "output_type": "execute_result"
    }
   ],
   "source": [
    "# read in the beers.csv file as a DataFrame\n",
    "MB_beers = pd.read_csv(os.path.join(DATA_MatchedBeers, \"beers.csv\"))\n",
    "MB_beers.head(), MB_beers.shape"
   ]
  },
  {
   "cell_type": "markdown",
   "metadata": {},
   "source": [
    "### breweries.csv"
   ]
  },
  {
   "cell_type": "code",
   "execution_count": 41,
   "metadata": {},
   "outputs": [
    {
     "data": {
      "text/plain": [
       "(      ba              ba.1                                  ba.2       ba.3  \\\n",
       " 0     id          location                                  name  nbr_beers   \n",
       " 1  10093  Northern Ireland  Strangford Lough Brewing Company Ltd          5   \n",
       " 2  32848  Northern Ireland                   The Sheelin Brewery          4   \n",
       " 3  40360  Northern Ireland           Walled City Brewing Company          6   \n",
       " 4  40309  Northern Ireland                  Ards Brewing Company          7   \n",
       " \n",
       "       rb              rb.1              rb.2       rb.3               scores  \\\n",
       " 0     id          location              name  nbr_beers                 diff   \n",
       " 1   4959  Northern Ireland  Strangford Lough          5  0.43127548708778424   \n",
       " 2  17616  Northern Ireland           Sheelin          2     0.52638836243535   \n",
       " 3  24866  Northern Ireland       Walled City          3   0.5278523214614645   \n",
       " 4  13538  Northern Ireland  Ards Brewing Co.         13   0.5543953017091594   \n",
       " \n",
       "              scores.1  \n",
       " 0                 sim  \n",
       " 1  0.8890620997705575  \n",
       " 2  0.8635957345058749  \n",
       " 3  0.9541834284914152  \n",
       " 4  0.8960983801420876  ,\n",
       " (8282, 10))"
      ]
     },
     "execution_count": 41,
     "metadata": {},
     "output_type": "execute_result"
    }
   ],
   "source": [
    "MB_breweries = pd.read_csv(os.path.join(DATA_MatchedBeers, \"breweries.csv\"))\n",
    "MB_breweries.head(), MB_breweries.shape"
   ]
  },
  {
   "cell_type": "markdown",
   "metadata": {},
   "source": [
    "### users.csv"
   ]
  },
  {
   "cell_type": "code",
   "execution_count": 45,
   "metadata": {},
   "outputs": [
    {
     "data": {
      "text/plain": [
       "Index(['ba', 'ba.1', 'ba.2', 'ba.3', 'ba.4', 'ba.5', 'ba.6', 'rb', 'rb.1',\n",
       "       'rb.2', 'rb.3', 'rb.4', 'rb.5'],\n",
       "      dtype='object')"
      ]
     },
     "execution_count": 45,
     "metadata": {},
     "output_type": "execute_result"
    }
   ],
   "source": [
    "MB_users.columns # first run the cell down below"
   ]
  },
  {
   "cell_type": "code",
   "execution_count": 44,
   "metadata": {},
   "outputs": [
    {
     "data": {
      "text/plain": [
       "(                   ba                       ba.1         ba.2         ba.3  \\\n",
       " 0                 NaT                   location  nbr_ratings  nbr_reviews   \n",
       " 1 2008-09-08 12:00:00                    Germany            6            6   \n",
       " 2 2012-09-23 12:00:00    United States, Virginia            1            1   \n",
       " 3 2008-04-04 12:00:00  United States, Washington            3            3   \n",
       " 4 2011-12-01 12:00:00                    Estonia           11            0   \n",
       " \n",
       "                  ba.4         ba.5             ba.6                  rb  \\\n",
       " 0             user_id    user_name  user_name_lower                 NaT   \n",
       " 1     erzengel.248045     Erzengel         erzengel 2008-10-18 12:00:00   \n",
       " 2     gendv138.695700     GenDV138         gendv138 2013-11-29 12:00:00   \n",
       " 3   nimbleprop.208928   nimbleprop       nimbleprop 2006-06-20 12:00:00   \n",
       " 4  visionthing.639993  visionthing      visionthing 2009-05-22 12:00:00   \n",
       " \n",
       "                         rb.1         rb.2     rb.3         rb.4  \\\n",
       " 0                   location  nbr_ratings  user_id    user_name   \n",
       " 1                    Germany         8781    83106     Erzengel   \n",
       " 2    United States, Virginia         6240   290599     GenDV138   \n",
       " 3  United States, Washington         7452    38859   nimbleprop   \n",
       " 4                    Estonia         5462    91324  visionthing   \n",
       " \n",
       "               rb.5  \n",
       " 0  user_name_lower  \n",
       " 1         erzengel  \n",
       " 2         gendv138  \n",
       " 3       nimbleprop  \n",
       " 4      visionthing  ,\n",
       " (3021, 13))"
      ]
     },
     "execution_count": 44,
     "metadata": {},
     "output_type": "execute_result"
    }
   ],
   "source": [
    "MB_users = pd.read_csv(os.path.join(DATA_MatchedBeers, \"users.csv\"), \n",
    "                       converters={\"ba\": convert_timestamp, \"rb\": convert_timestamp}\n",
    "                       )\n",
    "MB_users.head(), MB_users.shape"
   ]
  },
  {
   "cell_type": "markdown",
   "metadata": {},
   "source": [
    "### users_approx.csv"
   ]
  },
  {
   "cell_type": "code",
   "execution_count": 46,
   "metadata": {},
   "outputs": [
    {
     "data": {
      "text/plain": [
       "(                   ba                       ba.1         ba.2         ba.3  \\\n",
       " 0                 NaT                   location  nbr_ratings  nbr_reviews   \n",
       " 1 2008-09-08 12:00:00                    Germany            6            6   \n",
       " 2 2012-09-23 12:00:00    United States, Virginia            1            1   \n",
       " 3 2008-04-04 12:00:00  United States, Washington            3            3   \n",
       " 4 2011-12-01 12:00:00                    Estonia           11            0   \n",
       " \n",
       "                  ba.4         ba.5             ba.6                  rb  \\\n",
       " 0             user_id    user_name  user_name_lower                 NaT   \n",
       " 1     erzengel.248045     Erzengel         erzengel 2008-10-18 12:00:00   \n",
       " 2     gendv138.695700     GenDV138         gendv138 2013-11-29 12:00:00   \n",
       " 3   nimbleprop.208928   nimbleprop       nimbleprop 2006-06-20 12:00:00   \n",
       " 4  visionthing.639993  visionthing      visionthing 2009-05-22 12:00:00   \n",
       " \n",
       "                         rb.1         rb.2     rb.3         rb.4  \\\n",
       " 0                   location  nbr_ratings  user_id    user_name   \n",
       " 1                    Germany         8781    83106     Erzengel   \n",
       " 2    United States, Virginia         6240   290599     GenDV138   \n",
       " 3  United States, Washington         7452    38859   nimbleprop   \n",
       " 4                    Estonia         5462    91324  visionthing   \n",
       " \n",
       "               rb.5  \n",
       " 0  user_name_lower  \n",
       " 1         erzengel  \n",
       " 2         gendv138  \n",
       " 3       nimbleprop  \n",
       " 4      visionthing  ,\n",
       " (3021, 13))"
      ]
     },
     "execution_count": 46,
     "metadata": {},
     "output_type": "execute_result"
    }
   ],
   "source": [
    "MB_users_approx = pd.read_csv(os.path.join(DATA_MatchedBeers, \"users.csv\"), \n",
    "                       converters={\"ba\": convert_timestamp, \"rb\": convert_timestamp}\n",
    "                       )\n",
    "MB_users_approx.head(), MB_users_approx.shape "
   ]
  },
  {
   "cell_type": "markdown",
   "metadata": {},
   "source": [
    "### ratings_ba.txt"
   ]
  },
  {
   "cell_type": "markdown",
   "metadata": {},
   "source": [
    "run only the code below (<span style=\"color: red;\">*</span>) if you have downloaded the .csv file:"
   ]
  },
  {
   "cell_type": "code",
   "execution_count": null,
   "metadata": {},
   "outputs": [],
   "source": [
    "MB_ratings_ba = read_ratings_txt(DATA_MatchedBeers, \"ratings_ba.txt\") # contains TRUE and FALSE values in the 'review' column  # ratings_ba.review.head(40), \n",
    "MB_ratings_ba.head(), MB_ratings_ba.shape"
   ]
  },
  {
   "cell_type": "code",
   "execution_count": 17,
   "metadata": {},
   "outputs": [],
   "source": [
    "# create a csv from RB_ratings\n",
    "MB_ratings_ba.to_csv(os.path.join(DATA_MatchedBeers, \"MB_ratings_ba.csv\"), index=False)"
   ]
  },
  {
   "cell_type": "markdown",
   "metadata": {},
   "source": [
    "<span style=\"color: red;\">*</span>"
   ]
  },
  {
   "cell_type": "code",
   "execution_count": 6,
   "metadata": {},
   "outputs": [
    {
     "data": {
      "text/plain": [
       "(   beer_name  beer_id                           brewery_name  brewery_id  \\\n",
       " 0   Legbiter    19827   Strangford Lough Brewing Company Ltd       10093   \n",
       " 1   Legbiter    19827   Strangford Lough Brewing Company Ltd       10093   \n",
       " 2   Legbiter    19827   Strangford Lough Brewing Company Ltd       10093   \n",
       " 3   Legbiter    19827   Strangford Lough Brewing Company Ltd       10093   \n",
       " 4   Legbiter    19827   Strangford Lough Brewing Company Ltd       10093   \n",
       " \n",
       "                style  abv                 date        user_name  \\\n",
       " 0   English Pale Ale  4.8  2014-12-01 11:00:00        Hellpop65   \n",
       " 1   English Pale Ale  4.8  2014-05-29 10:00:00         Latarnik   \n",
       " 2   English Pale Ale  4.8  2014-02-26 11:00:00   RochefortChris   \n",
       " 3   English Pale Ale  4.8  2014-02-10 11:00:00       OKCNittany   \n",
       " 4   English Pale Ale  4.8  2014-01-25 11:00:00           jaydoc   \n",
       " \n",
       "                   user_id appearance aroma palate taste overall  rating  text  \\\n",
       " 0         hellpop65.48993        nan   nan    nan   nan     nan    3.25   nan   \n",
       " 1          latarnik.52897        nan   nan    nan   nan     nan    3.50   nan   \n",
       " 2   rochefortchris.697017        nan   nan    nan   nan     nan    3.50   nan   \n",
       " 3       okcnittany.144868        nan   nan    nan   nan     nan    3.75   nan   \n",
       " 4           jaydoc.265507        nan   nan    nan   nan     nan    3.25   nan   \n",
       " \n",
       "    review  \n",
       " 0   False  \n",
       " 1   False  \n",
       " 2   False  \n",
       " 3   False  \n",
       " 4   False  ,\n",
       " (955968, 17))"
      ]
     },
     "execution_count": 6,
     "metadata": {},
     "output_type": "execute_result"
    }
   ],
   "source": [
    "# read back in the ratings csv file\n",
    "MB_ratings_ba = pd.read_csv(os.path.join(DATA_MatchedBeers, \"MB_ratings_ba.csv\"), header=0)\n",
    "MB_ratings_ba.head(), MB_ratings_ba.shape"
   ]
  },
  {
   "cell_type": "markdown",
   "metadata": {},
   "source": [
    "### ratings_with_text_ba.txt"
   ]
  },
  {
   "cell_type": "markdown",
   "metadata": {},
   "source": [
    "run only the code below (<span style=\"color: red;\">*</span>) if you have downloaded the .csv file:"
   ]
  },
  {
   "cell_type": "code",
   "execution_count": null,
   "metadata": {},
   "outputs": [],
   "source": [
    "MB_ratings_with_text_ba = read_ratings_txt(DATA_MatchedBeers, \"ratings_with_text_ba.txt\") # contains only TRUE values in the 'review' column # ratings_ba_with_text_ba.review.head(40), \n",
    "MB_ratings_with_text_ba.head(), MB_ratings_with_text_ba.shape"
   ]
  },
  {
   "cell_type": "code",
   "execution_count": 22,
   "metadata": {},
   "outputs": [],
   "source": [
    "# create a csv from RB_reviews\n",
    "MB_ratings_with_text_ba.to_csv(os.path.join(DATA_MatchedBeers, \"MB_ratings_with_text_ba.csv\"), index=False)"
   ]
  },
  {
   "cell_type": "markdown",
   "metadata": {},
   "source": [
    "<span style=\"color: red;\">*</span>"
   ]
  },
  {
   "cell_type": "code",
   "execution_count": 7,
   "metadata": {},
   "outputs": [
    {
     "data": {
      "text/plain": [
       "(   beer_name  beer_id                           brewery_name  brewery_id  \\\n",
       " 0   Legbiter    19827   Strangford Lough Brewing Company Ltd       10093   \n",
       " 1   Legbiter    19827   Strangford Lough Brewing Company Ltd       10093   \n",
       " 2   Legbiter    19827   Strangford Lough Brewing Company Ltd       10093   \n",
       " 3   Legbiter    19827   Strangford Lough Brewing Company Ltd       10093   \n",
       " 4   Legbiter    19827   Strangford Lough Brewing Company Ltd       10093   \n",
       " \n",
       "                style  abv                 date      user_name  \\\n",
       " 0   English Pale Ale  4.8  2013-02-13 11:00:00   brewdude1982   \n",
       " 1   English Pale Ale  4.8  2013-01-09 11:00:00     AgentMunky   \n",
       " 2   English Pale Ale  4.8  2012-11-17 11:00:00      ferrari29   \n",
       " 3   English Pale Ale  4.8  2012-07-14 10:00:00     OtherShoe2   \n",
       " 4   English Pale Ale  4.8  2012-04-28 10:00:00       brentk56   \n",
       " \n",
       "                 user_id appearance  aroma palate  taste overall  rating  \\\n",
       " 0   brewdude1982.691169       4.25    4.5   3.25   3.75    3.75    3.91   \n",
       " 1     agentmunky.409755        4.0   3.75    3.5    3.5    3.75    3.64   \n",
       " 2      ferrari29.320392        3.0    3.5    2.5    2.5     2.5    2.77   \n",
       " 3     othershoe2.233642        4.0    3.5    4.0    3.5     4.0    3.68   \n",
       " 4         brentk56.6284        4.5    3.0    3.5    2.5     2.5    2.84   \n",
       " \n",
       "                                                 text review  \n",
       " 0   This was a 12 oz bottle poured into a snifter...   True  \n",
       " 1   Poured from a 12 ounce bottle into a pilsner ...   True  \n",
       " 2   Beer poured from bottle into a Nonic shaped p...   True  \n",
       " 3   Pours a rich brownish red with some chill haz...   True  \n",
       " 4   Appearance: These Strangford Lough beers pour...   True  ,\n",
       " (289025, 17))"
      ]
     },
     "execution_count": 7,
     "metadata": {},
     "output_type": "execute_result"
    }
   ],
   "source": [
    "# read back in the ratings csv file\n",
    "MB_ratings_with_text_ba = pd.read_csv(os.path.join(DATA_MatchedBeers, \"MB_ratings_with_text_ba.csv\"), header=0)\n",
    "MB_ratings_with_text_ba.head(), MB_ratings_with_text_ba.shape"
   ]
  },
  {
   "cell_type": "markdown",
   "metadata": {},
   "source": [
    "### ratings_rb.txt"
   ]
  },
  {
   "cell_type": "markdown",
   "metadata": {},
   "source": [
    "run only the code below (<span style=\"color: red;\">*</span>) if you have downloaded the .csv file:"
   ]
  },
  {
   "cell_type": "code",
   "execution_count": null,
   "metadata": {},
   "outputs": [],
   "source": [
    "MB_ratings_rb = read_ratings_txt(DATA_MatchedBeers, \"ratings_rb.txt\") # contains TRUE and FALSE values in the 'review' column  # ratings_ba.review.head(40), \n",
    "MB_ratings_rb.head(), MB_ratings_rb.shape"
   ]
  },
  {
   "cell_type": "code",
   "execution_count": 25,
   "metadata": {},
   "outputs": [],
   "source": [
    "# create a csv from RB_ratings\n",
    "MB_ratings_rb.to_csv(os.path.join(DATA_MatchedBeers, \"MB_ratings_rb.csv\"), index=False)"
   ]
  },
  {
   "cell_type": "markdown",
   "metadata": {},
   "source": [
    "<span style=\"color: red;\">*</span>"
   ]
  },
  {
   "cell_type": "code",
   "execution_count": 8,
   "metadata": {},
   "outputs": [
    {
     "data": {
      "text/plain": [
       "(                 beer_name  beer_id       brewery_name  brewery_id   style  \\\n",
       " 0   Ards Bally Black Stout   155699   Ards Brewing Co.       13538   Stout   \n",
       " 1   Ards Bally Black Stout   155699   Ards Brewing Co.       13538   Stout   \n",
       " 2   Ards Bally Black Stout   155699   Ards Brewing Co.       13538   Stout   \n",
       " 3   Ards Bally Black Stout   155699   Ards Brewing Co.       13538   Stout   \n",
       " 4   Ards Bally Black Stout   155699   Ards Brewing Co.       13538   Stout   \n",
       " \n",
       "    abv                 date   user_name  user_id  appearance  aroma  palate  \\\n",
       " 0  4.6  2015-04-16 10:00:00     ciaranc   151109           3      7       2   \n",
       " 1  4.6  2015-03-31 10:00:00     Rowlymo   198957           4      7       4   \n",
       " 2  4.6  2015-01-19 11:00:00     Don2711   285162           4      8       5   \n",
       " 3  4.6  2013-10-01 10:00:00   genegenie   224156           5      8       3   \n",
       " 4  4.6  2013-06-18 10:00:00    kiwianer    88501           4      7       4   \n",
       " \n",
       "    taste  overall  rating                                               text  \n",
       " 0      8       17     3.7   Bottle, gift from Aaron. Black, big head, lot...  \n",
       " 1      8       15     3.8   500ml Bottle in Bittles bar Belfast. Chocolat...  \n",
       " 2      7       17     4.1   Great one and made very local to me. Bottle b...  \n",
       " 3      5       19     4.0   Deep roasted aroma, good dark brown/black col...  \n",
       " 4      7       14     3.6   The head is medium, the body black. It smells...  ,\n",
       " (1020638, 16))"
      ]
     },
     "execution_count": 8,
     "metadata": {},
     "output_type": "execute_result"
    }
   ],
   "source": [
    "# read back in the ratings csv file\n",
    "MB_ratings_rb = pd.read_csv(os.path.join(DATA_MatchedBeers, \"MB_ratings_rb.csv\"), header=0)\n",
    "MB_ratings_rb.head(), MB_ratings_rb.shape"
   ]
  },
  {
   "cell_type": "markdown",
   "metadata": {},
   "source": [
    "### ratings_with_text_rb.txt"
   ]
  },
  {
   "cell_type": "markdown",
   "metadata": {},
   "source": [
    "run only the code below (<span style=\"color: red;\">*</span>) if you have downloaded the .csv file:"
   ]
  },
  {
   "cell_type": "code",
   "execution_count": null,
   "metadata": {},
   "outputs": [],
   "source": [
    "MB_ratings_with_text_rb = read_ratings_txt(DATA_MatchedBeers, \"ratings_with_text_rb.txt\") # contains only TRUE values in the 'review' column # ratings_ba_with_text_ba.review.head(40), \n",
    "MB_ratings_with_text_rb.head(), MB_ratings_with_text_rb.shape"
   ]
  },
  {
   "cell_type": "code",
   "execution_count": 26,
   "metadata": {},
   "outputs": [],
   "source": [
    "# create a csv from RB_reviews\n",
    "MB_ratings_with_text_rb.to_csv(os.path.join(DATA_MatchedBeers, \"MB_ratings_with_text_rb.csv\"), index=False)"
   ]
  },
  {
   "cell_type": "markdown",
   "metadata": {},
   "source": [
    "<span style=\"color: red;\">*</span>"
   ]
  },
  {
   "cell_type": "code",
   "execution_count": 9,
   "metadata": {},
   "outputs": [
    {
     "data": {
      "text/plain": [
       "(                 beer_name  beer_id       brewery_name  brewery_id   style  \\\n",
       " 0   Ards Bally Black Stout   155699   Ards Brewing Co.       13538   Stout   \n",
       " 1   Ards Bally Black Stout   155699   Ards Brewing Co.       13538   Stout   \n",
       " 2   Ards Bally Black Stout   155699   Ards Brewing Co.       13538   Stout   \n",
       " 3   Ards Bally Black Stout   155699   Ards Brewing Co.       13538   Stout   \n",
       " 4   Ards Bally Black Stout   155699   Ards Brewing Co.       13538   Stout   \n",
       " \n",
       "    abv                 date   user_name  user_id  appearance  aroma  palate  \\\n",
       " 0  4.6  2015-04-16 10:00:00     ciaranc   151109           3      7       2   \n",
       " 1  4.6  2015-03-31 10:00:00     Rowlymo   198957           4      7       4   \n",
       " 2  4.6  2015-01-19 11:00:00     Don2711   285162           4      8       5   \n",
       " 3  4.6  2013-10-01 10:00:00   genegenie   224156           5      8       3   \n",
       " 4  4.6  2013-06-18 10:00:00    kiwianer    88501           4      7       4   \n",
       " \n",
       "    taste  overall  rating                                               text  \n",
       " 0      8       17     3.7   Bottle, gift from Aaron. Black, big head, lot...  \n",
       " 1      8       15     3.8   500ml Bottle in Bittles bar Belfast. Chocolat...  \n",
       " 2      7       17     4.1   Great one and made very local to me. Bottle b...  \n",
       " 3      5       19     4.0   Deep roasted aroma, good dark brown/black col...  \n",
       " 4      7       14     3.6   The head is medium, the body black. It smells...  ,\n",
       " (1020599, 16))"
      ]
     },
     "execution_count": 9,
     "metadata": {},
     "output_type": "execute_result"
    }
   ],
   "source": [
    "# read back in the ratings csv file\n",
    "MB_ratings_with_text_rb = pd.read_csv(os.path.join(DATA_MatchedBeers, \"MB_ratings_with_text_rb.csv\"), header=0)\n",
    "MB_ratings_with_text_rb.head(), MB_ratings_with_text_rb.shape"
   ]
  },
  {
   "cell_type": "markdown",
   "metadata": {},
   "source": [
    "## Pickle the dataframes"
   ]
  },
  {
   "cell_type": "code",
   "execution_count": null,
   "metadata": {},
   "outputs": [],
   "source": [
    "# first create a file .pkl in your code folder before running this cell\n",
    "# attempt to create a pickle.. MemoryError .. with 32gb of ram\n",
    "with open('BA_ratings.pkl', 'wb') as file:\n",
    "    pickle.dump(BA_ratings, file)\n",
    "#OR\n",
    "# example for multiple objects\n",
    "with open('data_beers.pkl', 'wb') as file:\n",
    "    pickle.dump([BA_beers, BA_breweries, BA_users, BA_ratings, BA_reviews], file)\n",
    "    pickle.dump([RB_beers, RB_breweries, RB_users, RB_ratings, RB_reviews], file)\n",
    "    pickle.dump([MB_beers, MB_breweries, MB_users, MB_users_approx, MB_ratings_ba, MB_ratings_with_text_ba, MB_ratings_rb, MB_ratings_with_text_rb], file)"
   ]
  },
  {
   "cell_type": "markdown",
   "metadata": {},
   "source": [
    "However that should not be necessary.."
   ]
  },
  {
   "cell_type": "markdown",
   "metadata": {},
   "source": [
    "## How similar are the datasets"
   ]
  },
  {
   "cell_type": "markdown",
   "metadata": {},
   "source": [
    "### BA_ratings and BA_reviews"
   ]
  },
  {
   "cell_type": "code",
   "execution_count": 36,
   "metadata": {},
   "outputs": [
    {
     "name": "stdout",
     "output_type": "stream",
     "text": [
      "BA_ratings shape: (8393032, 17)\n",
      "BA_reviews shape: (2589586, 16)\n"
     ]
    }
   ],
   "source": [
    "# print the shape of BA_ratings and RB_ratings\n",
    "print(\"BA_ratings shape:\", BA_ratings.shape)\n",
    "print(\"BA_reviews shape:\", BA_reviews.shape)"
   ]
  },
  {
   "cell_type": "code",
   "execution_count": 38,
   "metadata": {},
   "outputs": [
    {
     "data": {
      "text/plain": [
       "(Index(['beer_name', 'beer_id', 'brewery_name', 'brewery_id', 'style', 'abv',\n",
       "        'date', 'user_name', 'user_id', 'appearance', 'aroma', 'palate',\n",
       "        'taste', 'overall', 'rating', 'text', 'review'],\n",
       "       dtype='object'),\n",
       " Index(['beer_name', 'beer_id', 'brewery_name', 'brewery_id', 'style', 'abv',\n",
       "        'date', 'user_name', 'user_id', 'appearance', 'aroma', 'palate',\n",
       "        'taste', 'overall', 'rating', 'text'],\n",
       "       dtype='object'))"
      ]
     },
     "execution_count": 38,
     "metadata": {},
     "output_type": "execute_result"
    }
   ],
   "source": [
    "#compare their columns\n",
    "BA_ratings.columns, BA_reviews.columns"
   ]
  },
  {
   "cell_type": "code",
   "execution_count": 39,
   "metadata": {},
   "outputs": [
    {
     "data": {
      "text/plain": [
       "Index(['beer_name', 'beer_id', 'brewery_name', 'brewery_id', 'style', 'abv',\n",
       "       'date', 'user_name', 'user_id', 'appearance', 'aroma', 'palate',\n",
       "       'taste', 'overall', 'rating', 'text'],\n",
       "      dtype='object')"
      ]
     },
     "execution_count": 39,
     "metadata": {},
     "output_type": "execute_result"
    }
   ],
   "source": [
    "# drop the review column in ratings\n",
    "BA_ratings_temp = BA_ratings.drop(columns='review').copy()\n",
    "BA_ratings_temp.columns"
   ]
  },
  {
   "cell_type": "code",
   "execution_count": 40,
   "metadata": {},
   "outputs": [],
   "source": [
    "# comparison and create indexes\n",
    "BA_compare = BA_ratings_temp.isin(BA_reviews)"
   ]
  },
  {
   "cell_type": "code",
   "execution_count": 41,
   "metadata": {},
   "outputs": [
    {
     "name": "stdout",
     "output_type": "stream",
     "text": [
      "(8393032, 16)\n"
     ]
    },
    {
     "data": {
      "text/html": [
       "<div>\n",
       "<style scoped>\n",
       "    .dataframe tbody tr th:only-of-type {\n",
       "        vertical-align: middle;\n",
       "    }\n",
       "\n",
       "    .dataframe tbody tr th {\n",
       "        vertical-align: top;\n",
       "    }\n",
       "\n",
       "    .dataframe thead th {\n",
       "        text-align: right;\n",
       "    }\n",
       "</style>\n",
       "<table border=\"1\" class=\"dataframe\">\n",
       "  <thead>\n",
       "    <tr style=\"text-align: right;\">\n",
       "      <th></th>\n",
       "      <th>beer_name</th>\n",
       "      <th>beer_id</th>\n",
       "      <th>brewery_name</th>\n",
       "      <th>brewery_id</th>\n",
       "      <th>style</th>\n",
       "      <th>abv</th>\n",
       "      <th>date</th>\n",
       "      <th>user_name</th>\n",
       "      <th>user_id</th>\n",
       "      <th>appearance</th>\n",
       "      <th>aroma</th>\n",
       "      <th>palate</th>\n",
       "      <th>taste</th>\n",
       "      <th>overall</th>\n",
       "      <th>rating</th>\n",
       "      <th>text</th>\n",
       "    </tr>\n",
       "  </thead>\n",
       "  <tbody>\n",
       "    <tr>\n",
       "      <th>0</th>\n",
       "      <td>True</td>\n",
       "      <td>True</td>\n",
       "      <td>True</td>\n",
       "      <td>True</td>\n",
       "      <td>True</td>\n",
       "      <td>True</td>\n",
       "      <td>True</td>\n",
       "      <td>True</td>\n",
       "      <td>True</td>\n",
       "      <td>True</td>\n",
       "      <td>True</td>\n",
       "      <td>True</td>\n",
       "      <td>True</td>\n",
       "      <td>True</td>\n",
       "      <td>True</td>\n",
       "      <td>True</td>\n",
       "    </tr>\n",
       "    <tr>\n",
       "      <th>1</th>\n",
       "      <td>True</td>\n",
       "      <td>True</td>\n",
       "      <td>True</td>\n",
       "      <td>True</td>\n",
       "      <td>True</td>\n",
       "      <td>True</td>\n",
       "      <td>True</td>\n",
       "      <td>True</td>\n",
       "      <td>True</td>\n",
       "      <td>True</td>\n",
       "      <td>True</td>\n",
       "      <td>True</td>\n",
       "      <td>True</td>\n",
       "      <td>True</td>\n",
       "      <td>True</td>\n",
       "      <td>True</td>\n",
       "    </tr>\n",
       "    <tr>\n",
       "      <th>2</th>\n",
       "      <td>True</td>\n",
       "      <td>True</td>\n",
       "      <td>True</td>\n",
       "      <td>True</td>\n",
       "      <td>True</td>\n",
       "      <td>True</td>\n",
       "      <td>True</td>\n",
       "      <td>True</td>\n",
       "      <td>True</td>\n",
       "      <td>True</td>\n",
       "      <td>True</td>\n",
       "      <td>True</td>\n",
       "      <td>True</td>\n",
       "      <td>True</td>\n",
       "      <td>True</td>\n",
       "      <td>True</td>\n",
       "    </tr>\n",
       "    <tr>\n",
       "      <th>3</th>\n",
       "      <td>True</td>\n",
       "      <td>True</td>\n",
       "      <td>True</td>\n",
       "      <td>True</td>\n",
       "      <td>True</td>\n",
       "      <td>True</td>\n",
       "      <td>True</td>\n",
       "      <td>True</td>\n",
       "      <td>True</td>\n",
       "      <td>True</td>\n",
       "      <td>True</td>\n",
       "      <td>True</td>\n",
       "      <td>True</td>\n",
       "      <td>True</td>\n",
       "      <td>True</td>\n",
       "      <td>True</td>\n",
       "    </tr>\n",
       "    <tr>\n",
       "      <th>4</th>\n",
       "      <td>True</td>\n",
       "      <td>True</td>\n",
       "      <td>True</td>\n",
       "      <td>True</td>\n",
       "      <td>True</td>\n",
       "      <td>True</td>\n",
       "      <td>True</td>\n",
       "      <td>True</td>\n",
       "      <td>True</td>\n",
       "      <td>True</td>\n",
       "      <td>True</td>\n",
       "      <td>True</td>\n",
       "      <td>True</td>\n",
       "      <td>True</td>\n",
       "      <td>True</td>\n",
       "      <td>True</td>\n",
       "    </tr>\n",
       "    <tr>\n",
       "      <th>5</th>\n",
       "      <td>True</td>\n",
       "      <td>True</td>\n",
       "      <td>True</td>\n",
       "      <td>True</td>\n",
       "      <td>True</td>\n",
       "      <td>True</td>\n",
       "      <td>False</td>\n",
       "      <td>False</td>\n",
       "      <td>False</td>\n",
       "      <td>False</td>\n",
       "      <td>False</td>\n",
       "      <td>False</td>\n",
       "      <td>False</td>\n",
       "      <td>False</td>\n",
       "      <td>False</td>\n",
       "      <td>False</td>\n",
       "    </tr>\n",
       "  </tbody>\n",
       "</table>\n",
       "</div>"
      ],
      "text/plain": [
       "   beer_name  beer_id  brewery_name  brewery_id  style   abv   date  \\\n",
       "0       True     True          True        True   True  True   True   \n",
       "1       True     True          True        True   True  True   True   \n",
       "2       True     True          True        True   True  True   True   \n",
       "3       True     True          True        True   True  True   True   \n",
       "4       True     True          True        True   True  True   True   \n",
       "5       True     True          True        True   True  True  False   \n",
       "\n",
       "   user_name  user_id  appearance  aroma  palate  taste  overall  rating  \\\n",
       "0       True     True        True   True    True   True     True    True   \n",
       "1       True     True        True   True    True   True     True    True   \n",
       "2       True     True        True   True    True   True     True    True   \n",
       "3       True     True        True   True    True   True     True    True   \n",
       "4       True     True        True   True    True   True     True    True   \n",
       "5      False    False       False  False   False  False    False   False   \n",
       "\n",
       "    text  \n",
       "0   True  \n",
       "1   True  \n",
       "2   True  \n",
       "3   True  \n",
       "4   True  \n",
       "5  False  "
      ]
     },
     "execution_count": 41,
     "metadata": {},
     "output_type": "execute_result"
    }
   ],
   "source": [
    "print(BA_compare.shape)\n",
    "BA_compare.head(6)"
   ]
  },
  {
   "cell_type": "code",
   "execution_count": 46,
   "metadata": {},
   "outputs": [
    {
     "data": {
      "text/plain": [
       "5"
      ]
     },
     "execution_count": 46,
     "metadata": {},
     "output_type": "execute_result"
    }
   ],
   "source": [
    "# check how many rows have 'True' in all columns\n",
    "BA_compare.eq(True).all(axis=1).sum() # .eq(True) is the same as == True"
   ]
  },
  {
   "cell_type": "markdown",
   "metadata": {},
   "source": [
    "i.e. only the 5 first entries are the same, this works also the other way around:"
   ]
  },
  {
   "cell_type": "code",
   "execution_count": 47,
   "metadata": {},
   "outputs": [],
   "source": [
    "BA_compare_temp = BA_reviews.copy().isin(BA_ratings)"
   ]
  },
  {
   "cell_type": "code",
   "execution_count": 48,
   "metadata": {},
   "outputs": [
    {
     "data": {
      "text/plain": [
       "5"
      ]
     },
     "execution_count": 48,
     "metadata": {},
     "output_type": "execute_result"
    }
   ],
   "source": [
    "BA_compare_temp.eq(True).all(axis=1).sum()"
   ]
  },
  {
   "cell_type": "markdown",
   "metadata": {},
   "source": [
    "So this means both datasets have to be used, as reviews most likely are not contained in the ratings."
   ]
  },
  {
   "cell_type": "markdown",
   "metadata": {},
   "source": [
    "### RB_ratings and RB_reviews"
   ]
  },
  {
   "cell_type": "code",
   "execution_count": 56,
   "metadata": {},
   "outputs": [
    {
     "data": {
      "text/plain": [
       "((7122074, 16), (7122074, 16))"
      ]
     },
     "execution_count": 56,
     "metadata": {},
     "output_type": "execute_result"
    }
   ],
   "source": [
    "RB_ratings.shape, RB_reviews.shape"
   ]
  },
  {
   "cell_type": "code",
   "execution_count": 37,
   "metadata": {},
   "outputs": [
    {
     "data": {
      "text/plain": [
       "(Index(['beer_name', 'beer_id', 'brewery_name', 'brewery_id', 'style', 'abv',\n",
       "        'date', 'user_name', 'user_id', 'appearance', 'aroma', 'palate',\n",
       "        'taste', 'overall', 'rating', 'text'],\n",
       "       dtype='object'),\n",
       " Index(['beer_name', 'beer_id', 'brewery_name', 'brewery_id', 'style', 'abv',\n",
       "        'date', 'user_name', 'user_id', 'appearance', 'aroma', 'palate',\n",
       "        'taste', 'overall', 'rating', 'text'],\n",
       "       dtype='object'))"
      ]
     },
     "execution_count": 37,
     "metadata": {},
     "output_type": "execute_result"
    }
   ],
   "source": [
    "#compare how similar BA_ratings and BA_reviews are\n",
    "RB_ratings.columns, RB_reviews.columns"
   ]
  },
  {
   "cell_type": "markdown",
   "metadata": {},
   "source": [
    "There is no review column in this dataset"
   ]
  },
  {
   "cell_type": "code",
   "execution_count": null,
   "metadata": {},
   "outputs": [],
   "source": [
    "# comparison and create indexes\n",
    "RB_compare = RB_ratings.isin(RB_reviews)"
   ]
  },
  {
   "cell_type": "code",
   "execution_count": 42,
   "metadata": {},
   "outputs": [
    {
     "data": {
      "text/plain": [
       "(   beer_name  beer_id  brewery_name  brewery_id  style   abv  date  user_name  \\\n",
       " 0       True     True          True        True   True  True  True       True   \n",
       " 1       True     True          True        True   True  True  True       True   \n",
       " 2       True     True          True        True   True  True  True       True   \n",
       " 3       True     True          True        True   True  True  True       True   \n",
       " 4       True     True          True        True   True  True  True       True   \n",
       " \n",
       "    user_id  appearance  aroma  palate  taste  overall  rating  text  \n",
       " 0     True        True   True    True   True     True    True  True  \n",
       " 1     True        True   True    True   True     True    True  True  \n",
       " 2     True        True   True    True   True     True    True  True  \n",
       " 3     True        True   True    True   True     True    True  True  \n",
       " 4     True        True   True    True   True     True    True  True  ,\n",
       " (7122074, 16))"
      ]
     },
     "execution_count": 42,
     "metadata": {},
     "output_type": "execute_result"
    }
   ],
   "source": [
    "RB_compare.head(), RB_compare.shape"
   ]
  },
  {
   "cell_type": "code",
   "execution_count": 49,
   "metadata": {},
   "outputs": [
    {
     "data": {
      "text/plain": [
       "7121626"
      ]
     },
     "execution_count": 49,
     "metadata": {},
     "output_type": "execute_result"
    }
   ],
   "source": [
    "# check how many rows have 'True' in all columns\n",
    "RB_compare.eq(True).all(axis=1).sum() # .eq(True) is the same as == True"
   ]
  },
  {
   "cell_type": "code",
   "execution_count": 55,
   "metadata": {},
   "outputs": [
    {
     "data": {
      "text/plain": [
       "(7122074, 16)"
      ]
     },
     "execution_count": 55,
     "metadata": {},
     "output_type": "execute_result"
    }
   ],
   "source": [
    "RB_reviews.shape"
   ]
  },
  {
   "cell_type": "markdown",
   "metadata": {},
   "source": [
    "i.e. 7121626/7122074 (about 450 are not) entries of RB_ratings coincide with RB_reviews"
   ]
  },
  {
   "cell_type": "code",
   "execution_count": 52,
   "metadata": {},
   "outputs": [],
   "source": [
    "RB_compare_temp = RB_reviews.isin(RB_ratings)"
   ]
  },
  {
   "cell_type": "code",
   "execution_count": 59,
   "metadata": {},
   "outputs": [
    {
     "data": {
      "text/plain": [
       "7121626"
      ]
     },
     "execution_count": 59,
     "metadata": {},
     "output_type": "execute_result"
    }
   ],
   "source": [
    "# check how many rows have 'True' in all columns\n",
    "RB_compare_temp.eq(True).all(axis=1).sum() # .eq(True) is the same as == True"
   ]
  },
  {
   "cell_type": "markdown",
   "metadata": {},
   "source": [
    "In this approach it seems that we have an issue to find all the rows within the respective dataframes. We can use another approach instead to compare the dataframes directly:"
   ]
  },
  {
   "cell_type": "code",
   "execution_count": 60,
   "metadata": {},
   "outputs": [
    {
     "data": {
      "text/plain": [
       "True"
      ]
     },
     "execution_count": 60,
     "metadata": {},
     "output_type": "execute_result"
    }
   ],
   "source": [
    "RB_ratings.equals(RB_reviews)"
   ]
  },
  {
   "cell_type": "markdown",
   "metadata": {},
   "source": [
    "So the assumption that both dataframes are equal is true."
   ]
  },
  {
   "cell_type": "markdown",
   "metadata": {},
   "source": [
    "Just to make sure, that the assumption that the BA_dataframes are really not equal, we go with the same approach:"
   ]
  },
  {
   "cell_type": "code",
   "execution_count": 68,
   "metadata": {},
   "outputs": [
    {
     "data": {
      "text/plain": [
       "(False, False)"
      ]
     },
     "execution_count": 68,
     "metadata": {},
     "output_type": "execute_result"
    }
   ],
   "source": [
    "BA_ratings.equals(BA_reviews), BA_reviews.equals(BA_ratings)"
   ]
  },
  {
   "cell_type": "markdown",
   "metadata": {},
   "source": [
    "### MatchedBeer with itself and in RateBeer or BeerAd"
   ]
  },
  {
   "cell_type": "markdown",
   "metadata": {},
   "source": [
    "#### MB_ratings_ba"
   ]
  },
  {
   "cell_type": "code",
   "execution_count": 10,
   "metadata": {},
   "outputs": [
    {
     "data": {
      "text/plain": [
       "((955968, 17), (289025, 17))"
      ]
     },
     "execution_count": 10,
     "metadata": {},
     "output_type": "execute_result"
    }
   ],
   "source": [
    "MB_ratings_ba.shape, MB_ratings_with_text_ba.shape"
   ]
  },
  {
   "cell_type": "code",
   "execution_count": 11,
   "metadata": {},
   "outputs": [
    {
     "data": {
      "text/plain": [
       "(Index(['beer_name', 'beer_id', 'brewery_name', 'brewery_id', 'style', 'abv',\n",
       "        'date', 'user_name', 'user_id', 'appearance', 'aroma', 'palate',\n",
       "        'taste', 'overall', 'rating', 'text', 'review'],\n",
       "       dtype='object'),\n",
       " Index(['beer_name', 'beer_id', 'brewery_name', 'brewery_id', 'style', 'abv',\n",
       "        'date', 'user_name', 'user_id', 'appearance', 'aroma', 'palate',\n",
       "        'taste', 'overall', 'rating', 'text', 'review'],\n",
       "       dtype='object'))"
      ]
     },
     "execution_count": 11,
     "metadata": {},
     "output_type": "execute_result"
    }
   ],
   "source": [
    "MB_ratings_ba.columns, MB_ratings_with_text_ba.columns"
   ]
  },
  {
   "cell_type": "code",
   "execution_count": 14,
   "metadata": {},
   "outputs": [
    {
     "data": {
      "text/html": [
       "<div>\n",
       "<style scoped>\n",
       "    .dataframe tbody tr th:only-of-type {\n",
       "        vertical-align: middle;\n",
       "    }\n",
       "\n",
       "    .dataframe tbody tr th {\n",
       "        vertical-align: top;\n",
       "    }\n",
       "\n",
       "    .dataframe thead th {\n",
       "        text-align: right;\n",
       "    }\n",
       "</style>\n",
       "<table border=\"1\" class=\"dataframe\">\n",
       "  <thead>\n",
       "    <tr style=\"text-align: right;\">\n",
       "      <th></th>\n",
       "      <th>beer_name</th>\n",
       "      <th>beer_id</th>\n",
       "      <th>brewery_name</th>\n",
       "      <th>brewery_id</th>\n",
       "      <th>style</th>\n",
       "      <th>abv</th>\n",
       "      <th>date</th>\n",
       "      <th>user_name</th>\n",
       "      <th>user_id</th>\n",
       "      <th>appearance</th>\n",
       "      <th>aroma</th>\n",
       "      <th>palate</th>\n",
       "      <th>taste</th>\n",
       "      <th>overall</th>\n",
       "      <th>rating</th>\n",
       "      <th>text</th>\n",
       "      <th>review</th>\n",
       "    </tr>\n",
       "  </thead>\n",
       "  <tbody>\n",
       "    <tr>\n",
       "      <th>0</th>\n",
       "      <td>Legbiter</td>\n",
       "      <td>19827</td>\n",
       "      <td>Strangford Lough Brewing Company Ltd</td>\n",
       "      <td>10093</td>\n",
       "      <td>English Pale Ale</td>\n",
       "      <td>4.8</td>\n",
       "      <td>2014-12-01 11:00:00</td>\n",
       "      <td>Hellpop65</td>\n",
       "      <td>hellpop65.48993</td>\n",
       "      <td>nan</td>\n",
       "      <td>nan</td>\n",
       "      <td>nan</td>\n",
       "      <td>nan</td>\n",
       "      <td>nan</td>\n",
       "      <td>3.25</td>\n",
       "      <td>nan</td>\n",
       "      <td>False</td>\n",
       "    </tr>\n",
       "    <tr>\n",
       "      <th>1</th>\n",
       "      <td>Legbiter</td>\n",
       "      <td>19827</td>\n",
       "      <td>Strangford Lough Brewing Company Ltd</td>\n",
       "      <td>10093</td>\n",
       "      <td>English Pale Ale</td>\n",
       "      <td>4.8</td>\n",
       "      <td>2014-05-29 10:00:00</td>\n",
       "      <td>Latarnik</td>\n",
       "      <td>latarnik.52897</td>\n",
       "      <td>nan</td>\n",
       "      <td>nan</td>\n",
       "      <td>nan</td>\n",
       "      <td>nan</td>\n",
       "      <td>nan</td>\n",
       "      <td>3.50</td>\n",
       "      <td>nan</td>\n",
       "      <td>False</td>\n",
       "    </tr>\n",
       "    <tr>\n",
       "      <th>2</th>\n",
       "      <td>Legbiter</td>\n",
       "      <td>19827</td>\n",
       "      <td>Strangford Lough Brewing Company Ltd</td>\n",
       "      <td>10093</td>\n",
       "      <td>English Pale Ale</td>\n",
       "      <td>4.8</td>\n",
       "      <td>2014-02-26 11:00:00</td>\n",
       "      <td>RochefortChris</td>\n",
       "      <td>rochefortchris.697017</td>\n",
       "      <td>nan</td>\n",
       "      <td>nan</td>\n",
       "      <td>nan</td>\n",
       "      <td>nan</td>\n",
       "      <td>nan</td>\n",
       "      <td>3.50</td>\n",
       "      <td>nan</td>\n",
       "      <td>False</td>\n",
       "    </tr>\n",
       "    <tr>\n",
       "      <th>3</th>\n",
       "      <td>Legbiter</td>\n",
       "      <td>19827</td>\n",
       "      <td>Strangford Lough Brewing Company Ltd</td>\n",
       "      <td>10093</td>\n",
       "      <td>English Pale Ale</td>\n",
       "      <td>4.8</td>\n",
       "      <td>2014-02-10 11:00:00</td>\n",
       "      <td>OKCNittany</td>\n",
       "      <td>okcnittany.144868</td>\n",
       "      <td>nan</td>\n",
       "      <td>nan</td>\n",
       "      <td>nan</td>\n",
       "      <td>nan</td>\n",
       "      <td>nan</td>\n",
       "      <td>3.75</td>\n",
       "      <td>nan</td>\n",
       "      <td>False</td>\n",
       "    </tr>\n",
       "    <tr>\n",
       "      <th>4</th>\n",
       "      <td>Legbiter</td>\n",
       "      <td>19827</td>\n",
       "      <td>Strangford Lough Brewing Company Ltd</td>\n",
       "      <td>10093</td>\n",
       "      <td>English Pale Ale</td>\n",
       "      <td>4.8</td>\n",
       "      <td>2014-01-25 11:00:00</td>\n",
       "      <td>jaydoc</td>\n",
       "      <td>jaydoc.265507</td>\n",
       "      <td>nan</td>\n",
       "      <td>nan</td>\n",
       "      <td>nan</td>\n",
       "      <td>nan</td>\n",
       "      <td>nan</td>\n",
       "      <td>3.25</td>\n",
       "      <td>nan</td>\n",
       "      <td>False</td>\n",
       "    </tr>\n",
       "    <tr>\n",
       "      <th>5</th>\n",
       "      <td>Legbiter</td>\n",
       "      <td>19827</td>\n",
       "      <td>Strangford Lough Brewing Company Ltd</td>\n",
       "      <td>10093</td>\n",
       "      <td>English Pale Ale</td>\n",
       "      <td>4.8</td>\n",
       "      <td>2013-10-03 10:00:00</td>\n",
       "      <td>ejimhof</td>\n",
       "      <td>ejimhof.5743</td>\n",
       "      <td>nan</td>\n",
       "      <td>nan</td>\n",
       "      <td>nan</td>\n",
       "      <td>nan</td>\n",
       "      <td>nan</td>\n",
       "      <td>3.00</td>\n",
       "      <td>nan</td>\n",
       "      <td>False</td>\n",
       "    </tr>\n",
       "    <tr>\n",
       "      <th>6</th>\n",
       "      <td>Legbiter</td>\n",
       "      <td>19827</td>\n",
       "      <td>Strangford Lough Brewing Company Ltd</td>\n",
       "      <td>10093</td>\n",
       "      <td>English Pale Ale</td>\n",
       "      <td>4.8</td>\n",
       "      <td>2013-04-25 10:00:00</td>\n",
       "      <td>GraduatedCashew</td>\n",
       "      <td>graduatedcashew.730089</td>\n",
       "      <td>nan</td>\n",
       "      <td>nan</td>\n",
       "      <td>nan</td>\n",
       "      <td>nan</td>\n",
       "      <td>nan</td>\n",
       "      <td>3.00</td>\n",
       "      <td>nan</td>\n",
       "      <td>False</td>\n",
       "    </tr>\n",
       "    <tr>\n",
       "      <th>7</th>\n",
       "      <td>Legbiter</td>\n",
       "      <td>19827</td>\n",
       "      <td>Strangford Lough Brewing Company Ltd</td>\n",
       "      <td>10093</td>\n",
       "      <td>English Pale Ale</td>\n",
       "      <td>4.8</td>\n",
       "      <td>2013-02-13 11:00:00</td>\n",
       "      <td>brewdude1982</td>\n",
       "      <td>brewdude1982.691169</td>\n",
       "      <td>4.25</td>\n",
       "      <td>4.5</td>\n",
       "      <td>3.25</td>\n",
       "      <td>3.75</td>\n",
       "      <td>3.75</td>\n",
       "      <td>3.91</td>\n",
       "      <td>This was a 12 oz bottle poured into a snifter...</td>\n",
       "      <td>True</td>\n",
       "    </tr>\n",
       "    <tr>\n",
       "      <th>8</th>\n",
       "      <td>Legbiter</td>\n",
       "      <td>19827</td>\n",
       "      <td>Strangford Lough Brewing Company Ltd</td>\n",
       "      <td>10093</td>\n",
       "      <td>English Pale Ale</td>\n",
       "      <td>4.8</td>\n",
       "      <td>2013-01-09 11:00:00</td>\n",
       "      <td>AgentMunky</td>\n",
       "      <td>agentmunky.409755</td>\n",
       "      <td>4.0</td>\n",
       "      <td>3.75</td>\n",
       "      <td>3.5</td>\n",
       "      <td>3.5</td>\n",
       "      <td>3.75</td>\n",
       "      <td>3.64</td>\n",
       "      <td>Poured from a 12 ounce bottle into a pilsner ...</td>\n",
       "      <td>True</td>\n",
       "    </tr>\n",
       "    <tr>\n",
       "      <th>9</th>\n",
       "      <td>Legbiter</td>\n",
       "      <td>19827</td>\n",
       "      <td>Strangford Lough Brewing Company Ltd</td>\n",
       "      <td>10093</td>\n",
       "      <td>English Pale Ale</td>\n",
       "      <td>4.8</td>\n",
       "      <td>2012-12-14 11:00:00</td>\n",
       "      <td>swungomonkey</td>\n",
       "      <td>swungomonkey.698859</td>\n",
       "      <td>nan</td>\n",
       "      <td>nan</td>\n",
       "      <td>nan</td>\n",
       "      <td>nan</td>\n",
       "      <td>nan</td>\n",
       "      <td>3.00</td>\n",
       "      <td>nan</td>\n",
       "      <td>False</td>\n",
       "    </tr>\n",
       "    <tr>\n",
       "      <th>10</th>\n",
       "      <td>Legbiter</td>\n",
       "      <td>19827</td>\n",
       "      <td>Strangford Lough Brewing Company Ltd</td>\n",
       "      <td>10093</td>\n",
       "      <td>English Pale Ale</td>\n",
       "      <td>4.8</td>\n",
       "      <td>2012-12-02 11:00:00</td>\n",
       "      <td>BYOFB</td>\n",
       "      <td>byofb.537281</td>\n",
       "      <td>nan</td>\n",
       "      <td>nan</td>\n",
       "      <td>nan</td>\n",
       "      <td>nan</td>\n",
       "      <td>nan</td>\n",
       "      <td>3.50</td>\n",
       "      <td>nan</td>\n",
       "      <td>False</td>\n",
       "    </tr>\n",
       "    <tr>\n",
       "      <th>11</th>\n",
       "      <td>Legbiter</td>\n",
       "      <td>19827</td>\n",
       "      <td>Strangford Lough Brewing Company Ltd</td>\n",
       "      <td>10093</td>\n",
       "      <td>English Pale Ale</td>\n",
       "      <td>4.8</td>\n",
       "      <td>2012-11-24 11:00:00</td>\n",
       "      <td>CadensDad</td>\n",
       "      <td>cadensdad.704691</td>\n",
       "      <td>nan</td>\n",
       "      <td>nan</td>\n",
       "      <td>nan</td>\n",
       "      <td>nan</td>\n",
       "      <td>nan</td>\n",
       "      <td>4.00</td>\n",
       "      <td>nan</td>\n",
       "      <td>False</td>\n",
       "    </tr>\n",
       "    <tr>\n",
       "      <th>12</th>\n",
       "      <td>Legbiter</td>\n",
       "      <td>19827</td>\n",
       "      <td>Strangford Lough Brewing Company Ltd</td>\n",
       "      <td>10093</td>\n",
       "      <td>English Pale Ale</td>\n",
       "      <td>4.8</td>\n",
       "      <td>2012-11-17 11:00:00</td>\n",
       "      <td>ferrari29</td>\n",
       "      <td>ferrari29.320392</td>\n",
       "      <td>3.0</td>\n",
       "      <td>3.5</td>\n",
       "      <td>2.5</td>\n",
       "      <td>2.5</td>\n",
       "      <td>2.5</td>\n",
       "      <td>2.77</td>\n",
       "      <td>Beer poured from bottle into a Nonic shaped p...</td>\n",
       "      <td>True</td>\n",
       "    </tr>\n",
       "    <tr>\n",
       "      <th>13</th>\n",
       "      <td>Legbiter</td>\n",
       "      <td>19827</td>\n",
       "      <td>Strangford Lough Brewing Company Ltd</td>\n",
       "      <td>10093</td>\n",
       "      <td>English Pale Ale</td>\n",
       "      <td>4.8</td>\n",
       "      <td>2012-11-01 11:00:00</td>\n",
       "      <td>samurai221</td>\n",
       "      <td>samurai221.575106</td>\n",
       "      <td>nan</td>\n",
       "      <td>nan</td>\n",
       "      <td>nan</td>\n",
       "      <td>nan</td>\n",
       "      <td>nan</td>\n",
       "      <td>2.00</td>\n",
       "      <td>nan</td>\n",
       "      <td>False</td>\n",
       "    </tr>\n",
       "    <tr>\n",
       "      <th>14</th>\n",
       "      <td>Legbiter</td>\n",
       "      <td>19827</td>\n",
       "      <td>Strangford Lough Brewing Company Ltd</td>\n",
       "      <td>10093</td>\n",
       "      <td>English Pale Ale</td>\n",
       "      <td>4.8</td>\n",
       "      <td>2012-07-14 10:00:00</td>\n",
       "      <td>OtherShoe2</td>\n",
       "      <td>othershoe2.233642</td>\n",
       "      <td>4.0</td>\n",
       "      <td>3.5</td>\n",
       "      <td>4.0</td>\n",
       "      <td>3.5</td>\n",
       "      <td>4.0</td>\n",
       "      <td>3.68</td>\n",
       "      <td>Pours a rich brownish red with some chill haz...</td>\n",
       "      <td>True</td>\n",
       "    </tr>\n",
       "    <tr>\n",
       "      <th>15</th>\n",
       "      <td>Legbiter</td>\n",
       "      <td>19827</td>\n",
       "      <td>Strangford Lough Brewing Company Ltd</td>\n",
       "      <td>10093</td>\n",
       "      <td>English Pale Ale</td>\n",
       "      <td>4.8</td>\n",
       "      <td>2012-05-04 10:00:00</td>\n",
       "      <td>FriedGold2112</td>\n",
       "      <td>friedgold2112.672227</td>\n",
       "      <td>nan</td>\n",
       "      <td>nan</td>\n",
       "      <td>nan</td>\n",
       "      <td>nan</td>\n",
       "      <td>nan</td>\n",
       "      <td>4.25</td>\n",
       "      <td>nan</td>\n",
       "      <td>False</td>\n",
       "    </tr>\n",
       "    <tr>\n",
       "      <th>16</th>\n",
       "      <td>Legbiter</td>\n",
       "      <td>19827</td>\n",
       "      <td>Strangford Lough Brewing Company Ltd</td>\n",
       "      <td>10093</td>\n",
       "      <td>English Pale Ale</td>\n",
       "      <td>4.8</td>\n",
       "      <td>2012-04-28 10:00:00</td>\n",
       "      <td>brentk56</td>\n",
       "      <td>brentk56.6284</td>\n",
       "      <td>4.5</td>\n",
       "      <td>3.0</td>\n",
       "      <td>3.5</td>\n",
       "      <td>2.5</td>\n",
       "      <td>2.5</td>\n",
       "      <td>2.84</td>\n",
       "      <td>Appearance: These Strangford Lough beers pour...</td>\n",
       "      <td>True</td>\n",
       "    </tr>\n",
       "    <tr>\n",
       "      <th>17</th>\n",
       "      <td>Legbiter</td>\n",
       "      <td>19827</td>\n",
       "      <td>Strangford Lough Brewing Company Ltd</td>\n",
       "      <td>10093</td>\n",
       "      <td>English Pale Ale</td>\n",
       "      <td>4.8</td>\n",
       "      <td>2012-04-28 10:00:00</td>\n",
       "      <td>emerge077</td>\n",
       "      <td>emerge077.17949</td>\n",
       "      <td>4.0</td>\n",
       "      <td>3.0</td>\n",
       "      <td>3.5</td>\n",
       "      <td>3.0</td>\n",
       "      <td>3.5</td>\n",
       "      <td>3.21</td>\n",
       "      <td>Six pack from George's deli case, always some...</td>\n",
       "      <td>True</td>\n",
       "    </tr>\n",
       "    <tr>\n",
       "      <th>18</th>\n",
       "      <td>Legbiter</td>\n",
       "      <td>19827</td>\n",
       "      <td>Strangford Lough Brewing Company Ltd</td>\n",
       "      <td>10093</td>\n",
       "      <td>English Pale Ale</td>\n",
       "      <td>4.8</td>\n",
       "      <td>2012-04-01 10:00:00</td>\n",
       "      <td>buckyp</td>\n",
       "      <td>buckyp.435592</td>\n",
       "      <td>nan</td>\n",
       "      <td>nan</td>\n",
       "      <td>nan</td>\n",
       "      <td>nan</td>\n",
       "      <td>nan</td>\n",
       "      <td>2.75</td>\n",
       "      <td>nan</td>\n",
       "      <td>False</td>\n",
       "    </tr>\n",
       "    <tr>\n",
       "      <th>19</th>\n",
       "      <td>Legbiter</td>\n",
       "      <td>19827</td>\n",
       "      <td>Strangford Lough Brewing Company Ltd</td>\n",
       "      <td>10093</td>\n",
       "      <td>English Pale Ale</td>\n",
       "      <td>4.8</td>\n",
       "      <td>2012-03-23 11:00:00</td>\n",
       "      <td>GarthDanielson</td>\n",
       "      <td>garthdanielson.522584</td>\n",
       "      <td>4.0</td>\n",
       "      <td>3.5</td>\n",
       "      <td>2.5</td>\n",
       "      <td>3.5</td>\n",
       "      <td>3.0</td>\n",
       "      <td>3.33</td>\n",
       "      <td>Poured from a bottle into a tumbler pint, the...</td>\n",
       "      <td>True</td>\n",
       "    </tr>\n",
       "    <tr>\n",
       "      <th>20</th>\n",
       "      <td>Legbiter</td>\n",
       "      <td>19827</td>\n",
       "      <td>Strangford Lough Brewing Company Ltd</td>\n",
       "      <td>10093</td>\n",
       "      <td>English Pale Ale</td>\n",
       "      <td>4.8</td>\n",
       "      <td>2012-02-16 11:00:00</td>\n",
       "      <td>poopsmitherson</td>\n",
       "      <td>poopsmitherson.468246</td>\n",
       "      <td>nan</td>\n",
       "      <td>nan</td>\n",
       "      <td>nan</td>\n",
       "      <td>nan</td>\n",
       "      <td>nan</td>\n",
       "      <td>2.00</td>\n",
       "      <td>nan</td>\n",
       "      <td>False</td>\n",
       "    </tr>\n",
       "    <tr>\n",
       "      <th>21</th>\n",
       "      <td>Legbiter</td>\n",
       "      <td>19827</td>\n",
       "      <td>Strangford Lough Brewing Company Ltd</td>\n",
       "      <td>10093</td>\n",
       "      <td>English Pale Ale</td>\n",
       "      <td>4.8</td>\n",
       "      <td>2012-01-02 11:00:00</td>\n",
       "      <td>animal69</td>\n",
       "      <td>animal69.160100</td>\n",
       "      <td>nan</td>\n",
       "      <td>nan</td>\n",
       "      <td>nan</td>\n",
       "      <td>nan</td>\n",
       "      <td>nan</td>\n",
       "      <td>3.50</td>\n",
       "      <td>nan</td>\n",
       "      <td>False</td>\n",
       "    </tr>\n",
       "    <tr>\n",
       "      <th>22</th>\n",
       "      <td>Legbiter</td>\n",
       "      <td>19827</td>\n",
       "      <td>Strangford Lough Brewing Company Ltd</td>\n",
       "      <td>10093</td>\n",
       "      <td>English Pale Ale</td>\n",
       "      <td>4.8</td>\n",
       "      <td>2011-12-10 11:00:00</td>\n",
       "      <td>chinchill</td>\n",
       "      <td>chinchill.199175</td>\n",
       "      <td>4.0</td>\n",
       "      <td>3.5</td>\n",
       "      <td>4.0</td>\n",
       "      <td>4.0</td>\n",
       "      <td>4.0</td>\n",
       "      <td>3.88</td>\n",
       "      <td>A- Pours a dark brownish red with a nice crea...</td>\n",
       "      <td>True</td>\n",
       "    </tr>\n",
       "    <tr>\n",
       "      <th>23</th>\n",
       "      <td>Legbiter</td>\n",
       "      <td>19827</td>\n",
       "      <td>Strangford Lough Brewing Company Ltd</td>\n",
       "      <td>10093</td>\n",
       "      <td>English Pale Ale</td>\n",
       "      <td>4.8</td>\n",
       "      <td>2011-12-02 11:00:00</td>\n",
       "      <td>barnzy78</td>\n",
       "      <td>barnzy78.224763</td>\n",
       "      <td>nan</td>\n",
       "      <td>nan</td>\n",
       "      <td>nan</td>\n",
       "      <td>nan</td>\n",
       "      <td>nan</td>\n",
       "      <td>3.00</td>\n",
       "      <td>nan</td>\n",
       "      <td>False</td>\n",
       "    </tr>\n",
       "    <tr>\n",
       "      <th>24</th>\n",
       "      <td>Legbiter</td>\n",
       "      <td>19827</td>\n",
       "      <td>Strangford Lough Brewing Company Ltd</td>\n",
       "      <td>10093</td>\n",
       "      <td>English Pale Ale</td>\n",
       "      <td>4.8</td>\n",
       "      <td>2011-11-11 11:00:00</td>\n",
       "      <td>BrettMc</td>\n",
       "      <td>brettmc.615627</td>\n",
       "      <td>4.0</td>\n",
       "      <td>4.0</td>\n",
       "      <td>4.0</td>\n",
       "      <td>4.0</td>\n",
       "      <td>4.0</td>\n",
       "      <td>4.00</td>\n",
       "      <td>Poured into a Jail House Brewery tumbler. The...</td>\n",
       "      <td>True</td>\n",
       "    </tr>\n",
       "    <tr>\n",
       "      <th>25</th>\n",
       "      <td>Legbiter</td>\n",
       "      <td>19827</td>\n",
       "      <td>Strangford Lough Brewing Company Ltd</td>\n",
       "      <td>10093</td>\n",
       "      <td>English Pale Ale</td>\n",
       "      <td>4.8</td>\n",
       "      <td>2011-09-14 10:00:00</td>\n",
       "      <td>Cyberkedi</td>\n",
       "      <td>cyberkedi.113659</td>\n",
       "      <td>4.0</td>\n",
       "      <td>3.0</td>\n",
       "      <td>3.0</td>\n",
       "      <td>3.5</td>\n",
       "      <td>3.5</td>\n",
       "      <td>3.36</td>\n",
       "      <td>Pours a nice clear mahogany with a fluffy, if...</td>\n",
       "      <td>True</td>\n",
       "    </tr>\n",
       "    <tr>\n",
       "      <th>26</th>\n",
       "      <td>Legbiter</td>\n",
       "      <td>19827</td>\n",
       "      <td>Strangford Lough Brewing Company Ltd</td>\n",
       "      <td>10093</td>\n",
       "      <td>English Pale Ale</td>\n",
       "      <td>4.8</td>\n",
       "      <td>2011-09-12 10:00:00</td>\n",
       "      <td>ChainGangGuy</td>\n",
       "      <td>chaingangguy.8942</td>\n",
       "      <td>4.0</td>\n",
       "      <td>2.5</td>\n",
       "      <td>3.5</td>\n",
       "      <td>2.5</td>\n",
       "      <td>2.5</td>\n",
       "      <td>2.69</td>\n",
       "      <td>Appearance: Pours a clear, medium-brown body,...</td>\n",
       "      <td>True</td>\n",
       "    </tr>\n",
       "    <tr>\n",
       "      <th>27</th>\n",
       "      <td>Legbiter</td>\n",
       "      <td>19827</td>\n",
       "      <td>Strangford Lough Brewing Company Ltd</td>\n",
       "      <td>10093</td>\n",
       "      <td>English Pale Ale</td>\n",
       "      <td>4.8</td>\n",
       "      <td>2011-09-07 10:00:00</td>\n",
       "      <td>Treyliff</td>\n",
       "      <td>treyliff.490010</td>\n",
       "      <td>3.5</td>\n",
       "      <td>4.0</td>\n",
       "      <td>3.5</td>\n",
       "      <td>3.5</td>\n",
       "      <td>3.5</td>\n",
       "      <td>3.62</td>\n",
       "      <td>Pours a dark brown with a decent creamy head....</td>\n",
       "      <td>True</td>\n",
       "    </tr>\n",
       "    <tr>\n",
       "      <th>28</th>\n",
       "      <td>Legbiter</td>\n",
       "      <td>19827</td>\n",
       "      <td>Strangford Lough Brewing Company Ltd</td>\n",
       "      <td>10093</td>\n",
       "      <td>English Pale Ale</td>\n",
       "      <td>4.8</td>\n",
       "      <td>2011-07-16 10:00:00</td>\n",
       "      <td>ColSanders123</td>\n",
       "      <td>colsanders123.545441</td>\n",
       "      <td>4.0</td>\n",
       "      <td>3.5</td>\n",
       "      <td>3.0</td>\n",
       "      <td>3.5</td>\n",
       "      <td>3.5</td>\n",
       "      <td>3.48</td>\n",
       "      <td>A- Pours a dark brownish red with a nice thic...</td>\n",
       "      <td>True</td>\n",
       "    </tr>\n",
       "    <tr>\n",
       "      <th>29</th>\n",
       "      <td>Legbiter</td>\n",
       "      <td>19827</td>\n",
       "      <td>Strangford Lough Brewing Company Ltd</td>\n",
       "      <td>10093</td>\n",
       "      <td>English Pale Ale</td>\n",
       "      <td>4.8</td>\n",
       "      <td>2011-07-15 10:00:00</td>\n",
       "      <td>DerekP</td>\n",
       "      <td>derekp.400402</td>\n",
       "      <td>3.5</td>\n",
       "      <td>3.5</td>\n",
       "      <td>3.5</td>\n",
       "      <td>3.5</td>\n",
       "      <td>3.5</td>\n",
       "      <td>3.50</td>\n",
       "      <td>Brownish-red in appearance (I gotta take issu...</td>\n",
       "      <td>True</td>\n",
       "    </tr>\n",
       "    <tr>\n",
       "      <th>30</th>\n",
       "      <td>Legbiter</td>\n",
       "      <td>19827</td>\n",
       "      <td>Strangford Lough Brewing Company Ltd</td>\n",
       "      <td>10093</td>\n",
       "      <td>English Pale Ale</td>\n",
       "      <td>4.8</td>\n",
       "      <td>2011-07-11 10:00:00</td>\n",
       "      <td>JayS2629</td>\n",
       "      <td>jays2629.517433</td>\n",
       "      <td>3.0</td>\n",
       "      <td>3.5</td>\n",
       "      <td>2.5</td>\n",
       "      <td>3.0</td>\n",
       "      <td>3.0</td>\n",
       "      <td>3.07</td>\n",
       "      <td>It pours a clear copper color with a thin whi...</td>\n",
       "      <td>True</td>\n",
       "    </tr>\n",
       "    <tr>\n",
       "      <th>31</th>\n",
       "      <td>Legbiter</td>\n",
       "      <td>19827</td>\n",
       "      <td>Strangford Lough Brewing Company Ltd</td>\n",
       "      <td>10093</td>\n",
       "      <td>English Pale Ale</td>\n",
       "      <td>4.8</td>\n",
       "      <td>2011-07-07 10:00:00</td>\n",
       "      <td>puboflyons</td>\n",
       "      <td>puboflyons.237852</td>\n",
       "      <td>3.5</td>\n",
       "      <td>4.0</td>\n",
       "      <td>3.0</td>\n",
       "      <td>3.5</td>\n",
       "      <td>3.5</td>\n",
       "      <td>3.57</td>\n",
       "      <td>From the U.S. brewed 12 fl. oz. bottle. Sampl...</td>\n",
       "      <td>True</td>\n",
       "    </tr>\n",
       "    <tr>\n",
       "      <th>32</th>\n",
       "      <td>Legbiter</td>\n",
       "      <td>19827</td>\n",
       "      <td>Strangford Lough Brewing Company Ltd</td>\n",
       "      <td>10093</td>\n",
       "      <td>English Pale Ale</td>\n",
       "      <td>4.8</td>\n",
       "      <td>2011-07-03 10:00:00</td>\n",
       "      <td>Dodo2step</td>\n",
       "      <td>dodo2step.110880</td>\n",
       "      <td>4.0</td>\n",
       "      <td>3.5</td>\n",
       "      <td>3.5</td>\n",
       "      <td>3.5</td>\n",
       "      <td>3.5</td>\n",
       "      <td>3.53</td>\n",
       "      <td>P- Thanks to my buddy Trask in NCA- a clear l...</td>\n",
       "      <td>True</td>\n",
       "    </tr>\n",
       "    <tr>\n",
       "      <th>33</th>\n",
       "      <td>Legbiter</td>\n",
       "      <td>19827</td>\n",
       "      <td>Strangford Lough Brewing Company Ltd</td>\n",
       "      <td>10093</td>\n",
       "      <td>English Pale Ale</td>\n",
       "      <td>4.8</td>\n",
       "      <td>2011-05-16 10:00:00</td>\n",
       "      <td>beerprovedwright</td>\n",
       "      <td>beerprovedwright.484930</td>\n",
       "      <td>4.0</td>\n",
       "      <td>4.0</td>\n",
       "      <td>4.5</td>\n",
       "      <td>4.0</td>\n",
       "      <td>4.0</td>\n",
       "      <td>4.05</td>\n",
       "      <td>Foamy two finger head, with lace that runs fr...</td>\n",
       "      <td>True</td>\n",
       "    </tr>\n",
       "    <tr>\n",
       "      <th>34</th>\n",
       "      <td>Legbiter</td>\n",
       "      <td>19827</td>\n",
       "      <td>Strangford Lough Brewing Company Ltd</td>\n",
       "      <td>10093</td>\n",
       "      <td>English Pale Ale</td>\n",
       "      <td>4.8</td>\n",
       "      <td>2011-05-14 10:00:00</td>\n",
       "      <td>oberon</td>\n",
       "      <td>oberon.256</td>\n",
       "      <td>4.0</td>\n",
       "      <td>3.5</td>\n",
       "      <td>3.5</td>\n",
       "      <td>3.5</td>\n",
       "      <td>3.5</td>\n",
       "      <td>3.53</td>\n",
       "      <td>Poured into a standard pint glass a deep rich...</td>\n",
       "      <td>True</td>\n",
       "    </tr>\n",
       "    <tr>\n",
       "      <th>35</th>\n",
       "      <td>Legbiter</td>\n",
       "      <td>19827</td>\n",
       "      <td>Strangford Lough Brewing Company Ltd</td>\n",
       "      <td>10093</td>\n",
       "      <td>English Pale Ale</td>\n",
       "      <td>4.8</td>\n",
       "      <td>2011-03-05 11:00:00</td>\n",
       "      <td>RonaldTheriot</td>\n",
       "      <td>ronaldtheriot.241704</td>\n",
       "      <td>3.5</td>\n",
       "      <td>3.0</td>\n",
       "      <td>4.0</td>\n",
       "      <td>3.5</td>\n",
       "      <td>3.0</td>\n",
       "      <td>3.33</td>\n",
       "      <td>Legbiter has a medium, off-white, rootbeer-st...</td>\n",
       "      <td>True</td>\n",
       "    </tr>\n",
       "    <tr>\n",
       "      <th>36</th>\n",
       "      <td>Legbiter</td>\n",
       "      <td>19827</td>\n",
       "      <td>Strangford Lough Brewing Company Ltd</td>\n",
       "      <td>10093</td>\n",
       "      <td>English Pale Ale</td>\n",
       "      <td>4.8</td>\n",
       "      <td>2011-02-24 11:00:00</td>\n",
       "      <td>Morey</td>\n",
       "      <td>morey.182874</td>\n",
       "      <td>4.0</td>\n",
       "      <td>3.0</td>\n",
       "      <td>3.5</td>\n",
       "      <td>3.5</td>\n",
       "      <td>3.5</td>\n",
       "      <td>3.41</td>\n",
       "      <td>Pours reddish-brown in color with nice clarit...</td>\n",
       "      <td>True</td>\n",
       "    </tr>\n",
       "    <tr>\n",
       "      <th>37</th>\n",
       "      <td>Legbiter</td>\n",
       "      <td>19827</td>\n",
       "      <td>Strangford Lough Brewing Company Ltd</td>\n",
       "      <td>10093</td>\n",
       "      <td>English Pale Ale</td>\n",
       "      <td>4.8</td>\n",
       "      <td>2011-01-11 11:00:00</td>\n",
       "      <td>BeerAdvocate</td>\n",
       "      <td>beeradvocate.1</td>\n",
       "      <td>3.5</td>\n",
       "      <td>3.5</td>\n",
       "      <td>3.5</td>\n",
       "      <td>3.5</td>\n",
       "      <td>3.5</td>\n",
       "      <td>3.50</td>\n",
       "      <td>Review from BeerAdvocate Magazine Issue #40 (...</td>\n",
       "      <td>True</td>\n",
       "    </tr>\n",
       "    <tr>\n",
       "      <th>38</th>\n",
       "      <td>Legbiter</td>\n",
       "      <td>19827</td>\n",
       "      <td>Strangford Lough Brewing Company Ltd</td>\n",
       "      <td>10093</td>\n",
       "      <td>English Pale Ale</td>\n",
       "      <td>4.8</td>\n",
       "      <td>2011-01-01 11:00:00</td>\n",
       "      <td>Ty1erC</td>\n",
       "      <td>ty1erc.544652</td>\n",
       "      <td>4.5</td>\n",
       "      <td>2.0</td>\n",
       "      <td>2.5</td>\n",
       "      <td>2.0</td>\n",
       "      <td>3.0</td>\n",
       "      <td>2.40</td>\n",
       "      <td>*12 oz bottle poured into a pint glass.*a: a ...</td>\n",
       "      <td>True</td>\n",
       "    </tr>\n",
       "    <tr>\n",
       "      <th>39</th>\n",
       "      <td>Legbiter</td>\n",
       "      <td>19827</td>\n",
       "      <td>Strangford Lough Brewing Company Ltd</td>\n",
       "      <td>10093</td>\n",
       "      <td>English Pale Ale</td>\n",
       "      <td>4.8</td>\n",
       "      <td>2010-12-06 11:00:00</td>\n",
       "      <td>DKight</td>\n",
       "      <td>dkight.530009</td>\n",
       "      <td>3.5</td>\n",
       "      <td>3.0</td>\n",
       "      <td>3.5</td>\n",
       "      <td>4.0</td>\n",
       "      <td>4.0</td>\n",
       "      <td>3.68</td>\n",
       "      <td>12 ounce bottle.Pours brown, has a light head...</td>\n",
       "      <td>True</td>\n",
       "    </tr>\n",
       "  </tbody>\n",
       "</table>\n",
       "</div>"
      ],
      "text/plain": [
       "    beer_name  beer_id                           brewery_name  brewery_id  \\\n",
       "0    Legbiter    19827   Strangford Lough Brewing Company Ltd       10093   \n",
       "1    Legbiter    19827   Strangford Lough Brewing Company Ltd       10093   \n",
       "2    Legbiter    19827   Strangford Lough Brewing Company Ltd       10093   \n",
       "3    Legbiter    19827   Strangford Lough Brewing Company Ltd       10093   \n",
       "4    Legbiter    19827   Strangford Lough Brewing Company Ltd       10093   \n",
       "5    Legbiter    19827   Strangford Lough Brewing Company Ltd       10093   \n",
       "6    Legbiter    19827   Strangford Lough Brewing Company Ltd       10093   \n",
       "7    Legbiter    19827   Strangford Lough Brewing Company Ltd       10093   \n",
       "8    Legbiter    19827   Strangford Lough Brewing Company Ltd       10093   \n",
       "9    Legbiter    19827   Strangford Lough Brewing Company Ltd       10093   \n",
       "10   Legbiter    19827   Strangford Lough Brewing Company Ltd       10093   \n",
       "11   Legbiter    19827   Strangford Lough Brewing Company Ltd       10093   \n",
       "12   Legbiter    19827   Strangford Lough Brewing Company Ltd       10093   \n",
       "13   Legbiter    19827   Strangford Lough Brewing Company Ltd       10093   \n",
       "14   Legbiter    19827   Strangford Lough Brewing Company Ltd       10093   \n",
       "15   Legbiter    19827   Strangford Lough Brewing Company Ltd       10093   \n",
       "16   Legbiter    19827   Strangford Lough Brewing Company Ltd       10093   \n",
       "17   Legbiter    19827   Strangford Lough Brewing Company Ltd       10093   \n",
       "18   Legbiter    19827   Strangford Lough Brewing Company Ltd       10093   \n",
       "19   Legbiter    19827   Strangford Lough Brewing Company Ltd       10093   \n",
       "20   Legbiter    19827   Strangford Lough Brewing Company Ltd       10093   \n",
       "21   Legbiter    19827   Strangford Lough Brewing Company Ltd       10093   \n",
       "22   Legbiter    19827   Strangford Lough Brewing Company Ltd       10093   \n",
       "23   Legbiter    19827   Strangford Lough Brewing Company Ltd       10093   \n",
       "24   Legbiter    19827   Strangford Lough Brewing Company Ltd       10093   \n",
       "25   Legbiter    19827   Strangford Lough Brewing Company Ltd       10093   \n",
       "26   Legbiter    19827   Strangford Lough Brewing Company Ltd       10093   \n",
       "27   Legbiter    19827   Strangford Lough Brewing Company Ltd       10093   \n",
       "28   Legbiter    19827   Strangford Lough Brewing Company Ltd       10093   \n",
       "29   Legbiter    19827   Strangford Lough Brewing Company Ltd       10093   \n",
       "30   Legbiter    19827   Strangford Lough Brewing Company Ltd       10093   \n",
       "31   Legbiter    19827   Strangford Lough Brewing Company Ltd       10093   \n",
       "32   Legbiter    19827   Strangford Lough Brewing Company Ltd       10093   \n",
       "33   Legbiter    19827   Strangford Lough Brewing Company Ltd       10093   \n",
       "34   Legbiter    19827   Strangford Lough Brewing Company Ltd       10093   \n",
       "35   Legbiter    19827   Strangford Lough Brewing Company Ltd       10093   \n",
       "36   Legbiter    19827   Strangford Lough Brewing Company Ltd       10093   \n",
       "37   Legbiter    19827   Strangford Lough Brewing Company Ltd       10093   \n",
       "38   Legbiter    19827   Strangford Lough Brewing Company Ltd       10093   \n",
       "39   Legbiter    19827   Strangford Lough Brewing Company Ltd       10093   \n",
       "\n",
       "                style  abv                 date          user_name  \\\n",
       "0    English Pale Ale  4.8  2014-12-01 11:00:00          Hellpop65   \n",
       "1    English Pale Ale  4.8  2014-05-29 10:00:00           Latarnik   \n",
       "2    English Pale Ale  4.8  2014-02-26 11:00:00     RochefortChris   \n",
       "3    English Pale Ale  4.8  2014-02-10 11:00:00         OKCNittany   \n",
       "4    English Pale Ale  4.8  2014-01-25 11:00:00             jaydoc   \n",
       "5    English Pale Ale  4.8  2013-10-03 10:00:00            ejimhof   \n",
       "6    English Pale Ale  4.8  2013-04-25 10:00:00    GraduatedCashew   \n",
       "7    English Pale Ale  4.8  2013-02-13 11:00:00       brewdude1982   \n",
       "8    English Pale Ale  4.8  2013-01-09 11:00:00         AgentMunky   \n",
       "9    English Pale Ale  4.8  2012-12-14 11:00:00       swungomonkey   \n",
       "10   English Pale Ale  4.8  2012-12-02 11:00:00              BYOFB   \n",
       "11   English Pale Ale  4.8  2012-11-24 11:00:00          CadensDad   \n",
       "12   English Pale Ale  4.8  2012-11-17 11:00:00          ferrari29   \n",
       "13   English Pale Ale  4.8  2012-11-01 11:00:00         samurai221   \n",
       "14   English Pale Ale  4.8  2012-07-14 10:00:00         OtherShoe2   \n",
       "15   English Pale Ale  4.8  2012-05-04 10:00:00      FriedGold2112   \n",
       "16   English Pale Ale  4.8  2012-04-28 10:00:00           brentk56   \n",
       "17   English Pale Ale  4.8  2012-04-28 10:00:00          emerge077   \n",
       "18   English Pale Ale  4.8  2012-04-01 10:00:00             buckyp   \n",
       "19   English Pale Ale  4.8  2012-03-23 11:00:00     GarthDanielson   \n",
       "20   English Pale Ale  4.8  2012-02-16 11:00:00     poopsmitherson   \n",
       "21   English Pale Ale  4.8  2012-01-02 11:00:00           animal69   \n",
       "22   English Pale Ale  4.8  2011-12-10 11:00:00          chinchill   \n",
       "23   English Pale Ale  4.8  2011-12-02 11:00:00           barnzy78   \n",
       "24   English Pale Ale  4.8  2011-11-11 11:00:00            BrettMc   \n",
       "25   English Pale Ale  4.8  2011-09-14 10:00:00          Cyberkedi   \n",
       "26   English Pale Ale  4.8  2011-09-12 10:00:00       ChainGangGuy   \n",
       "27   English Pale Ale  4.8  2011-09-07 10:00:00           Treyliff   \n",
       "28   English Pale Ale  4.8  2011-07-16 10:00:00      ColSanders123   \n",
       "29   English Pale Ale  4.8  2011-07-15 10:00:00             DerekP   \n",
       "30   English Pale Ale  4.8  2011-07-11 10:00:00           JayS2629   \n",
       "31   English Pale Ale  4.8  2011-07-07 10:00:00         puboflyons   \n",
       "32   English Pale Ale  4.8  2011-07-03 10:00:00          Dodo2step   \n",
       "33   English Pale Ale  4.8  2011-05-16 10:00:00   beerprovedwright   \n",
       "34   English Pale Ale  4.8  2011-05-14 10:00:00             oberon   \n",
       "35   English Pale Ale  4.8  2011-03-05 11:00:00      RonaldTheriot   \n",
       "36   English Pale Ale  4.8  2011-02-24 11:00:00              Morey   \n",
       "37   English Pale Ale  4.8  2011-01-11 11:00:00       BeerAdvocate   \n",
       "38   English Pale Ale  4.8  2011-01-01 11:00:00             Ty1erC   \n",
       "39   English Pale Ale  4.8  2010-12-06 11:00:00             DKight   \n",
       "\n",
       "                     user_id appearance  aroma palate  taste overall  rating  \\\n",
       "0            hellpop65.48993        nan    nan    nan    nan     nan    3.25   \n",
       "1             latarnik.52897        nan    nan    nan    nan     nan    3.50   \n",
       "2      rochefortchris.697017        nan    nan    nan    nan     nan    3.50   \n",
       "3          okcnittany.144868        nan    nan    nan    nan     nan    3.75   \n",
       "4              jaydoc.265507        nan    nan    nan    nan     nan    3.25   \n",
       "5               ejimhof.5743        nan    nan    nan    nan     nan    3.00   \n",
       "6     graduatedcashew.730089        nan    nan    nan    nan     nan    3.00   \n",
       "7        brewdude1982.691169       4.25    4.5   3.25   3.75    3.75    3.91   \n",
       "8          agentmunky.409755        4.0   3.75    3.5    3.5    3.75    3.64   \n",
       "9        swungomonkey.698859        nan    nan    nan    nan     nan    3.00   \n",
       "10              byofb.537281        nan    nan    nan    nan     nan    3.50   \n",
       "11          cadensdad.704691        nan    nan    nan    nan     nan    4.00   \n",
       "12          ferrari29.320392        3.0    3.5    2.5    2.5     2.5    2.77   \n",
       "13         samurai221.575106        nan    nan    nan    nan     nan    2.00   \n",
       "14         othershoe2.233642        4.0    3.5    4.0    3.5     4.0    3.68   \n",
       "15      friedgold2112.672227        nan    nan    nan    nan     nan    4.25   \n",
       "16             brentk56.6284        4.5    3.0    3.5    2.5     2.5    2.84   \n",
       "17           emerge077.17949        4.0    3.0    3.5    3.0     3.5    3.21   \n",
       "18             buckyp.435592        nan    nan    nan    nan     nan    2.75   \n",
       "19     garthdanielson.522584        4.0    3.5    2.5    3.5     3.0    3.33   \n",
       "20     poopsmitherson.468246        nan    nan    nan    nan     nan    2.00   \n",
       "21           animal69.160100        nan    nan    nan    nan     nan    3.50   \n",
       "22          chinchill.199175        4.0    3.5    4.0    4.0     4.0    3.88   \n",
       "23           barnzy78.224763        nan    nan    nan    nan     nan    3.00   \n",
       "24            brettmc.615627        4.0    4.0    4.0    4.0     4.0    4.00   \n",
       "25          cyberkedi.113659        4.0    3.0    3.0    3.5     3.5    3.36   \n",
       "26         chaingangguy.8942        4.0    2.5    3.5    2.5     2.5    2.69   \n",
       "27           treyliff.490010        3.5    4.0    3.5    3.5     3.5    3.62   \n",
       "28      colsanders123.545441        4.0    3.5    3.0    3.5     3.5    3.48   \n",
       "29             derekp.400402        3.5    3.5    3.5    3.5     3.5    3.50   \n",
       "30           jays2629.517433        3.0    3.5    2.5    3.0     3.0    3.07   \n",
       "31         puboflyons.237852        3.5    4.0    3.0    3.5     3.5    3.57   \n",
       "32          dodo2step.110880        4.0    3.5    3.5    3.5     3.5    3.53   \n",
       "33   beerprovedwright.484930        4.0    4.0    4.5    4.0     4.0    4.05   \n",
       "34                oberon.256        4.0    3.5    3.5    3.5     3.5    3.53   \n",
       "35      ronaldtheriot.241704        3.5    3.0    4.0    3.5     3.0    3.33   \n",
       "36              morey.182874        4.0    3.0    3.5    3.5     3.5    3.41   \n",
       "37            beeradvocate.1        3.5    3.5    3.5    3.5     3.5    3.50   \n",
       "38             ty1erc.544652        4.5    2.0    2.5    2.0     3.0    2.40   \n",
       "39             dkight.530009        3.5    3.0    3.5    4.0     4.0    3.68   \n",
       "\n",
       "                                                 text  review  \n",
       "0                                                 nan   False  \n",
       "1                                                 nan   False  \n",
       "2                                                 nan   False  \n",
       "3                                                 nan   False  \n",
       "4                                                 nan   False  \n",
       "5                                                 nan   False  \n",
       "6                                                 nan   False  \n",
       "7    This was a 12 oz bottle poured into a snifter...    True  \n",
       "8    Poured from a 12 ounce bottle into a pilsner ...    True  \n",
       "9                                                 nan   False  \n",
       "10                                                nan   False  \n",
       "11                                                nan   False  \n",
       "12   Beer poured from bottle into a Nonic shaped p...    True  \n",
       "13                                                nan   False  \n",
       "14   Pours a rich brownish red with some chill haz...    True  \n",
       "15                                                nan   False  \n",
       "16   Appearance: These Strangford Lough beers pour...    True  \n",
       "17   Six pack from George's deli case, always some...    True  \n",
       "18                                                nan   False  \n",
       "19   Poured from a bottle into a tumbler pint, the...    True  \n",
       "20                                                nan   False  \n",
       "21                                                nan   False  \n",
       "22   A- Pours a dark brownish red with a nice crea...    True  \n",
       "23                                                nan   False  \n",
       "24   Poured into a Jail House Brewery tumbler. The...    True  \n",
       "25   Pours a nice clear mahogany with a fluffy, if...    True  \n",
       "26   Appearance: Pours a clear, medium-brown body,...    True  \n",
       "27   Pours a dark brown with a decent creamy head....    True  \n",
       "28   A- Pours a dark brownish red with a nice thic...    True  \n",
       "29   Brownish-red in appearance (I gotta take issu...    True  \n",
       "30   It pours a clear copper color with a thin whi...    True  \n",
       "31   From the U.S. brewed 12 fl. oz. bottle. Sampl...    True  \n",
       "32   P- Thanks to my buddy Trask in NCA- a clear l...    True  \n",
       "33   Foamy two finger head, with lace that runs fr...    True  \n",
       "34   Poured into a standard pint glass a deep rich...    True  \n",
       "35   Legbiter has a medium, off-white, rootbeer-st...    True  \n",
       "36   Pours reddish-brown in color with nice clarit...    True  \n",
       "37   Review from BeerAdvocate Magazine Issue #40 (...    True  \n",
       "38   *12 oz bottle poured into a pint glass.*a: a ...    True  \n",
       "39   12 ounce bottle.Pours brown, has a light head...    True  "
      ]
     },
     "execution_count": 14,
     "metadata": {},
     "output_type": "execute_result"
    }
   ],
   "source": [
    "MB_ratings_ba.head(40)"
   ]
  },
  {
   "cell_type": "code",
   "execution_count": 13,
   "metadata": {},
   "outputs": [
    {
     "data": {
      "text/html": [
       "<div>\n",
       "<style scoped>\n",
       "    .dataframe tbody tr th:only-of-type {\n",
       "        vertical-align: middle;\n",
       "    }\n",
       "\n",
       "    .dataframe tbody tr th {\n",
       "        vertical-align: top;\n",
       "    }\n",
       "\n",
       "    .dataframe thead th {\n",
       "        text-align: right;\n",
       "    }\n",
       "</style>\n",
       "<table border=\"1\" class=\"dataframe\">\n",
       "  <thead>\n",
       "    <tr style=\"text-align: right;\">\n",
       "      <th></th>\n",
       "      <th>beer_name</th>\n",
       "      <th>beer_id</th>\n",
       "      <th>brewery_name</th>\n",
       "      <th>brewery_id</th>\n",
       "      <th>style</th>\n",
       "      <th>abv</th>\n",
       "      <th>date</th>\n",
       "      <th>user_name</th>\n",
       "      <th>user_id</th>\n",
       "      <th>appearance</th>\n",
       "      <th>aroma</th>\n",
       "      <th>palate</th>\n",
       "      <th>taste</th>\n",
       "      <th>overall</th>\n",
       "      <th>rating</th>\n",
       "      <th>text</th>\n",
       "      <th>review</th>\n",
       "    </tr>\n",
       "  </thead>\n",
       "  <tbody>\n",
       "    <tr>\n",
       "      <th>0</th>\n",
       "      <td>Legbiter</td>\n",
       "      <td>19827</td>\n",
       "      <td>Strangford Lough Brewing Company Ltd</td>\n",
       "      <td>10093</td>\n",
       "      <td>English Pale Ale</td>\n",
       "      <td>4.8</td>\n",
       "      <td>2013-02-13 11:00:00</td>\n",
       "      <td>brewdude1982</td>\n",
       "      <td>brewdude1982.691169</td>\n",
       "      <td>4.25</td>\n",
       "      <td>4.5</td>\n",
       "      <td>3.25</td>\n",
       "      <td>3.75</td>\n",
       "      <td>3.75</td>\n",
       "      <td>3.91</td>\n",
       "      <td>This was a 12 oz bottle poured into a snifter...</td>\n",
       "      <td>True</td>\n",
       "    </tr>\n",
       "    <tr>\n",
       "      <th>1</th>\n",
       "      <td>Legbiter</td>\n",
       "      <td>19827</td>\n",
       "      <td>Strangford Lough Brewing Company Ltd</td>\n",
       "      <td>10093</td>\n",
       "      <td>English Pale Ale</td>\n",
       "      <td>4.8</td>\n",
       "      <td>2013-01-09 11:00:00</td>\n",
       "      <td>AgentMunky</td>\n",
       "      <td>agentmunky.409755</td>\n",
       "      <td>4.0</td>\n",
       "      <td>3.75</td>\n",
       "      <td>3.5</td>\n",
       "      <td>3.5</td>\n",
       "      <td>3.75</td>\n",
       "      <td>3.64</td>\n",
       "      <td>Poured from a 12 ounce bottle into a pilsner ...</td>\n",
       "      <td>True</td>\n",
       "    </tr>\n",
       "    <tr>\n",
       "      <th>2</th>\n",
       "      <td>Legbiter</td>\n",
       "      <td>19827</td>\n",
       "      <td>Strangford Lough Brewing Company Ltd</td>\n",
       "      <td>10093</td>\n",
       "      <td>English Pale Ale</td>\n",
       "      <td>4.8</td>\n",
       "      <td>2012-11-17 11:00:00</td>\n",
       "      <td>ferrari29</td>\n",
       "      <td>ferrari29.320392</td>\n",
       "      <td>3.0</td>\n",
       "      <td>3.5</td>\n",
       "      <td>2.5</td>\n",
       "      <td>2.5</td>\n",
       "      <td>2.5</td>\n",
       "      <td>2.77</td>\n",
       "      <td>Beer poured from bottle into a Nonic shaped p...</td>\n",
       "      <td>True</td>\n",
       "    </tr>\n",
       "    <tr>\n",
       "      <th>3</th>\n",
       "      <td>Legbiter</td>\n",
       "      <td>19827</td>\n",
       "      <td>Strangford Lough Brewing Company Ltd</td>\n",
       "      <td>10093</td>\n",
       "      <td>English Pale Ale</td>\n",
       "      <td>4.8</td>\n",
       "      <td>2012-07-14 10:00:00</td>\n",
       "      <td>OtherShoe2</td>\n",
       "      <td>othershoe2.233642</td>\n",
       "      <td>4.0</td>\n",
       "      <td>3.5</td>\n",
       "      <td>4.0</td>\n",
       "      <td>3.5</td>\n",
       "      <td>4.0</td>\n",
       "      <td>3.68</td>\n",
       "      <td>Pours a rich brownish red with some chill haz...</td>\n",
       "      <td>True</td>\n",
       "    </tr>\n",
       "    <tr>\n",
       "      <th>4</th>\n",
       "      <td>Legbiter</td>\n",
       "      <td>19827</td>\n",
       "      <td>Strangford Lough Brewing Company Ltd</td>\n",
       "      <td>10093</td>\n",
       "      <td>English Pale Ale</td>\n",
       "      <td>4.8</td>\n",
       "      <td>2012-04-28 10:00:00</td>\n",
       "      <td>brentk56</td>\n",
       "      <td>brentk56.6284</td>\n",
       "      <td>4.5</td>\n",
       "      <td>3.0</td>\n",
       "      <td>3.5</td>\n",
       "      <td>2.5</td>\n",
       "      <td>2.5</td>\n",
       "      <td>2.84</td>\n",
       "      <td>Appearance: These Strangford Lough beers pour...</td>\n",
       "      <td>True</td>\n",
       "    </tr>\n",
       "    <tr>\n",
       "      <th>5</th>\n",
       "      <td>Legbiter</td>\n",
       "      <td>19827</td>\n",
       "      <td>Strangford Lough Brewing Company Ltd</td>\n",
       "      <td>10093</td>\n",
       "      <td>English Pale Ale</td>\n",
       "      <td>4.8</td>\n",
       "      <td>2012-04-28 10:00:00</td>\n",
       "      <td>emerge077</td>\n",
       "      <td>emerge077.17949</td>\n",
       "      <td>4.0</td>\n",
       "      <td>3.0</td>\n",
       "      <td>3.5</td>\n",
       "      <td>3.0</td>\n",
       "      <td>3.5</td>\n",
       "      <td>3.21</td>\n",
       "      <td>Six pack from George's deli case, always some...</td>\n",
       "      <td>True</td>\n",
       "    </tr>\n",
       "    <tr>\n",
       "      <th>6</th>\n",
       "      <td>Legbiter</td>\n",
       "      <td>19827</td>\n",
       "      <td>Strangford Lough Brewing Company Ltd</td>\n",
       "      <td>10093</td>\n",
       "      <td>English Pale Ale</td>\n",
       "      <td>4.8</td>\n",
       "      <td>2012-03-23 11:00:00</td>\n",
       "      <td>GarthDanielson</td>\n",
       "      <td>garthdanielson.522584</td>\n",
       "      <td>4.0</td>\n",
       "      <td>3.5</td>\n",
       "      <td>2.5</td>\n",
       "      <td>3.5</td>\n",
       "      <td>3.0</td>\n",
       "      <td>3.33</td>\n",
       "      <td>Poured from a bottle into a tumbler pint, the...</td>\n",
       "      <td>True</td>\n",
       "    </tr>\n",
       "    <tr>\n",
       "      <th>7</th>\n",
       "      <td>Legbiter</td>\n",
       "      <td>19827</td>\n",
       "      <td>Strangford Lough Brewing Company Ltd</td>\n",
       "      <td>10093</td>\n",
       "      <td>English Pale Ale</td>\n",
       "      <td>4.8</td>\n",
       "      <td>2011-12-10 11:00:00</td>\n",
       "      <td>chinchill</td>\n",
       "      <td>chinchill.199175</td>\n",
       "      <td>4.0</td>\n",
       "      <td>3.5</td>\n",
       "      <td>4.0</td>\n",
       "      <td>4.0</td>\n",
       "      <td>4.0</td>\n",
       "      <td>3.88</td>\n",
       "      <td>A- Pours a dark brownish red with a nice crea...</td>\n",
       "      <td>True</td>\n",
       "    </tr>\n",
       "    <tr>\n",
       "      <th>8</th>\n",
       "      <td>Legbiter</td>\n",
       "      <td>19827</td>\n",
       "      <td>Strangford Lough Brewing Company Ltd</td>\n",
       "      <td>10093</td>\n",
       "      <td>English Pale Ale</td>\n",
       "      <td>4.8</td>\n",
       "      <td>2011-11-11 11:00:00</td>\n",
       "      <td>BrettMc</td>\n",
       "      <td>brettmc.615627</td>\n",
       "      <td>4.0</td>\n",
       "      <td>4.0</td>\n",
       "      <td>4.0</td>\n",
       "      <td>4.0</td>\n",
       "      <td>4.0</td>\n",
       "      <td>4.00</td>\n",
       "      <td>Poured into a Jail House Brewery tumbler. The...</td>\n",
       "      <td>True</td>\n",
       "    </tr>\n",
       "    <tr>\n",
       "      <th>9</th>\n",
       "      <td>Legbiter</td>\n",
       "      <td>19827</td>\n",
       "      <td>Strangford Lough Brewing Company Ltd</td>\n",
       "      <td>10093</td>\n",
       "      <td>English Pale Ale</td>\n",
       "      <td>4.8</td>\n",
       "      <td>2011-09-14 10:00:00</td>\n",
       "      <td>Cyberkedi</td>\n",
       "      <td>cyberkedi.113659</td>\n",
       "      <td>4.0</td>\n",
       "      <td>3.0</td>\n",
       "      <td>3.0</td>\n",
       "      <td>3.5</td>\n",
       "      <td>3.5</td>\n",
       "      <td>3.36</td>\n",
       "      <td>Pours a nice clear mahogany with a fluffy, if...</td>\n",
       "      <td>True</td>\n",
       "    </tr>\n",
       "    <tr>\n",
       "      <th>10</th>\n",
       "      <td>Legbiter</td>\n",
       "      <td>19827</td>\n",
       "      <td>Strangford Lough Brewing Company Ltd</td>\n",
       "      <td>10093</td>\n",
       "      <td>English Pale Ale</td>\n",
       "      <td>4.8</td>\n",
       "      <td>2011-09-12 10:00:00</td>\n",
       "      <td>ChainGangGuy</td>\n",
       "      <td>chaingangguy.8942</td>\n",
       "      <td>4.0</td>\n",
       "      <td>2.5</td>\n",
       "      <td>3.5</td>\n",
       "      <td>2.5</td>\n",
       "      <td>2.5</td>\n",
       "      <td>2.69</td>\n",
       "      <td>Appearance: Pours a clear, medium-brown body,...</td>\n",
       "      <td>True</td>\n",
       "    </tr>\n",
       "    <tr>\n",
       "      <th>11</th>\n",
       "      <td>Legbiter</td>\n",
       "      <td>19827</td>\n",
       "      <td>Strangford Lough Brewing Company Ltd</td>\n",
       "      <td>10093</td>\n",
       "      <td>English Pale Ale</td>\n",
       "      <td>4.8</td>\n",
       "      <td>2011-09-07 10:00:00</td>\n",
       "      <td>Treyliff</td>\n",
       "      <td>treyliff.490010</td>\n",
       "      <td>3.5</td>\n",
       "      <td>4.0</td>\n",
       "      <td>3.5</td>\n",
       "      <td>3.5</td>\n",
       "      <td>3.5</td>\n",
       "      <td>3.62</td>\n",
       "      <td>Pours a dark brown with a decent creamy head....</td>\n",
       "      <td>True</td>\n",
       "    </tr>\n",
       "    <tr>\n",
       "      <th>12</th>\n",
       "      <td>Legbiter</td>\n",
       "      <td>19827</td>\n",
       "      <td>Strangford Lough Brewing Company Ltd</td>\n",
       "      <td>10093</td>\n",
       "      <td>English Pale Ale</td>\n",
       "      <td>4.8</td>\n",
       "      <td>2011-07-16 10:00:00</td>\n",
       "      <td>ColSanders123</td>\n",
       "      <td>colsanders123.545441</td>\n",
       "      <td>4.0</td>\n",
       "      <td>3.5</td>\n",
       "      <td>3.0</td>\n",
       "      <td>3.5</td>\n",
       "      <td>3.5</td>\n",
       "      <td>3.48</td>\n",
       "      <td>A- Pours a dark brownish red with a nice thic...</td>\n",
       "      <td>True</td>\n",
       "    </tr>\n",
       "    <tr>\n",
       "      <th>13</th>\n",
       "      <td>Legbiter</td>\n",
       "      <td>19827</td>\n",
       "      <td>Strangford Lough Brewing Company Ltd</td>\n",
       "      <td>10093</td>\n",
       "      <td>English Pale Ale</td>\n",
       "      <td>4.8</td>\n",
       "      <td>2011-07-15 10:00:00</td>\n",
       "      <td>DerekP</td>\n",
       "      <td>derekp.400402</td>\n",
       "      <td>3.5</td>\n",
       "      <td>3.5</td>\n",
       "      <td>3.5</td>\n",
       "      <td>3.5</td>\n",
       "      <td>3.5</td>\n",
       "      <td>3.50</td>\n",
       "      <td>Brownish-red in appearance (I gotta take issu...</td>\n",
       "      <td>True</td>\n",
       "    </tr>\n",
       "    <tr>\n",
       "      <th>14</th>\n",
       "      <td>Legbiter</td>\n",
       "      <td>19827</td>\n",
       "      <td>Strangford Lough Brewing Company Ltd</td>\n",
       "      <td>10093</td>\n",
       "      <td>English Pale Ale</td>\n",
       "      <td>4.8</td>\n",
       "      <td>2011-07-11 10:00:00</td>\n",
       "      <td>JayS2629</td>\n",
       "      <td>jays2629.517433</td>\n",
       "      <td>3.0</td>\n",
       "      <td>3.5</td>\n",
       "      <td>2.5</td>\n",
       "      <td>3.0</td>\n",
       "      <td>3.0</td>\n",
       "      <td>3.07</td>\n",
       "      <td>It pours a clear copper color with a thin whi...</td>\n",
       "      <td>True</td>\n",
       "    </tr>\n",
       "    <tr>\n",
       "      <th>15</th>\n",
       "      <td>Legbiter</td>\n",
       "      <td>19827</td>\n",
       "      <td>Strangford Lough Brewing Company Ltd</td>\n",
       "      <td>10093</td>\n",
       "      <td>English Pale Ale</td>\n",
       "      <td>4.8</td>\n",
       "      <td>2011-07-07 10:00:00</td>\n",
       "      <td>puboflyons</td>\n",
       "      <td>puboflyons.237852</td>\n",
       "      <td>3.5</td>\n",
       "      <td>4.0</td>\n",
       "      <td>3.0</td>\n",
       "      <td>3.5</td>\n",
       "      <td>3.5</td>\n",
       "      <td>3.57</td>\n",
       "      <td>From the U.S. brewed 12 fl. oz. bottle. Sampl...</td>\n",
       "      <td>True</td>\n",
       "    </tr>\n",
       "    <tr>\n",
       "      <th>16</th>\n",
       "      <td>Legbiter</td>\n",
       "      <td>19827</td>\n",
       "      <td>Strangford Lough Brewing Company Ltd</td>\n",
       "      <td>10093</td>\n",
       "      <td>English Pale Ale</td>\n",
       "      <td>4.8</td>\n",
       "      <td>2011-07-03 10:00:00</td>\n",
       "      <td>Dodo2step</td>\n",
       "      <td>dodo2step.110880</td>\n",
       "      <td>4.0</td>\n",
       "      <td>3.5</td>\n",
       "      <td>3.5</td>\n",
       "      <td>3.5</td>\n",
       "      <td>3.5</td>\n",
       "      <td>3.53</td>\n",
       "      <td>P- Thanks to my buddy Trask in NCA- a clear l...</td>\n",
       "      <td>True</td>\n",
       "    </tr>\n",
       "    <tr>\n",
       "      <th>17</th>\n",
       "      <td>Legbiter</td>\n",
       "      <td>19827</td>\n",
       "      <td>Strangford Lough Brewing Company Ltd</td>\n",
       "      <td>10093</td>\n",
       "      <td>English Pale Ale</td>\n",
       "      <td>4.8</td>\n",
       "      <td>2011-05-16 10:00:00</td>\n",
       "      <td>beerprovedwright</td>\n",
       "      <td>beerprovedwright.484930</td>\n",
       "      <td>4.0</td>\n",
       "      <td>4.0</td>\n",
       "      <td>4.5</td>\n",
       "      <td>4.0</td>\n",
       "      <td>4.0</td>\n",
       "      <td>4.05</td>\n",
       "      <td>Foamy two finger head, with lace that runs fr...</td>\n",
       "      <td>True</td>\n",
       "    </tr>\n",
       "    <tr>\n",
       "      <th>18</th>\n",
       "      <td>Legbiter</td>\n",
       "      <td>19827</td>\n",
       "      <td>Strangford Lough Brewing Company Ltd</td>\n",
       "      <td>10093</td>\n",
       "      <td>English Pale Ale</td>\n",
       "      <td>4.8</td>\n",
       "      <td>2011-05-14 10:00:00</td>\n",
       "      <td>oberon</td>\n",
       "      <td>oberon.256</td>\n",
       "      <td>4.0</td>\n",
       "      <td>3.5</td>\n",
       "      <td>3.5</td>\n",
       "      <td>3.5</td>\n",
       "      <td>3.5</td>\n",
       "      <td>3.53</td>\n",
       "      <td>Poured into a standard pint glass a deep rich...</td>\n",
       "      <td>True</td>\n",
       "    </tr>\n",
       "    <tr>\n",
       "      <th>19</th>\n",
       "      <td>Legbiter</td>\n",
       "      <td>19827</td>\n",
       "      <td>Strangford Lough Brewing Company Ltd</td>\n",
       "      <td>10093</td>\n",
       "      <td>English Pale Ale</td>\n",
       "      <td>4.8</td>\n",
       "      <td>2011-03-05 11:00:00</td>\n",
       "      <td>RonaldTheriot</td>\n",
       "      <td>ronaldtheriot.241704</td>\n",
       "      <td>3.5</td>\n",
       "      <td>3.0</td>\n",
       "      <td>4.0</td>\n",
       "      <td>3.5</td>\n",
       "      <td>3.0</td>\n",
       "      <td>3.33</td>\n",
       "      <td>Legbiter has a medium, off-white, rootbeer-st...</td>\n",
       "      <td>True</td>\n",
       "    </tr>\n",
       "    <tr>\n",
       "      <th>20</th>\n",
       "      <td>Legbiter</td>\n",
       "      <td>19827</td>\n",
       "      <td>Strangford Lough Brewing Company Ltd</td>\n",
       "      <td>10093</td>\n",
       "      <td>English Pale Ale</td>\n",
       "      <td>4.8</td>\n",
       "      <td>2011-02-24 11:00:00</td>\n",
       "      <td>Morey</td>\n",
       "      <td>morey.182874</td>\n",
       "      <td>4.0</td>\n",
       "      <td>3.0</td>\n",
       "      <td>3.5</td>\n",
       "      <td>3.5</td>\n",
       "      <td>3.5</td>\n",
       "      <td>3.41</td>\n",
       "      <td>Pours reddish-brown in color with nice clarit...</td>\n",
       "      <td>True</td>\n",
       "    </tr>\n",
       "    <tr>\n",
       "      <th>21</th>\n",
       "      <td>Legbiter</td>\n",
       "      <td>19827</td>\n",
       "      <td>Strangford Lough Brewing Company Ltd</td>\n",
       "      <td>10093</td>\n",
       "      <td>English Pale Ale</td>\n",
       "      <td>4.8</td>\n",
       "      <td>2011-01-11 11:00:00</td>\n",
       "      <td>BeerAdvocate</td>\n",
       "      <td>beeradvocate.1</td>\n",
       "      <td>3.5</td>\n",
       "      <td>3.5</td>\n",
       "      <td>3.5</td>\n",
       "      <td>3.5</td>\n",
       "      <td>3.5</td>\n",
       "      <td>3.50</td>\n",
       "      <td>Review from BeerAdvocate Magazine Issue #40 (...</td>\n",
       "      <td>True</td>\n",
       "    </tr>\n",
       "    <tr>\n",
       "      <th>22</th>\n",
       "      <td>Legbiter</td>\n",
       "      <td>19827</td>\n",
       "      <td>Strangford Lough Brewing Company Ltd</td>\n",
       "      <td>10093</td>\n",
       "      <td>English Pale Ale</td>\n",
       "      <td>4.8</td>\n",
       "      <td>2011-01-01 11:00:00</td>\n",
       "      <td>Ty1erC</td>\n",
       "      <td>ty1erc.544652</td>\n",
       "      <td>4.5</td>\n",
       "      <td>2.0</td>\n",
       "      <td>2.5</td>\n",
       "      <td>2.0</td>\n",
       "      <td>3.0</td>\n",
       "      <td>2.40</td>\n",
       "      <td>*12 oz bottle poured into a pint glass.*a: a ...</td>\n",
       "      <td>True</td>\n",
       "    </tr>\n",
       "    <tr>\n",
       "      <th>23</th>\n",
       "      <td>Legbiter</td>\n",
       "      <td>19827</td>\n",
       "      <td>Strangford Lough Brewing Company Ltd</td>\n",
       "      <td>10093</td>\n",
       "      <td>English Pale Ale</td>\n",
       "      <td>4.8</td>\n",
       "      <td>2010-12-06 11:00:00</td>\n",
       "      <td>DKight</td>\n",
       "      <td>dkight.530009</td>\n",
       "      <td>3.5</td>\n",
       "      <td>3.0</td>\n",
       "      <td>3.5</td>\n",
       "      <td>4.0</td>\n",
       "      <td>4.0</td>\n",
       "      <td>3.68</td>\n",
       "      <td>12 ounce bottle.Pours brown, has a light head...</td>\n",
       "      <td>True</td>\n",
       "    </tr>\n",
       "    <tr>\n",
       "      <th>24</th>\n",
       "      <td>Legbiter</td>\n",
       "      <td>19827</td>\n",
       "      <td>Strangford Lough Brewing Company Ltd</td>\n",
       "      <td>10093</td>\n",
       "      <td>English Pale Ale</td>\n",
       "      <td>4.8</td>\n",
       "      <td>2010-11-06 11:00:00</td>\n",
       "      <td>alleykatking</td>\n",
       "      <td>alleykatking.257816</td>\n",
       "      <td>3.0</td>\n",
       "      <td>2.5</td>\n",
       "      <td>3.5</td>\n",
       "      <td>3.0</td>\n",
       "      <td>3.0</td>\n",
       "      <td>2.93</td>\n",
       "      <td>Poured from 12oz bottle. A- Pours a brown slu...</td>\n",
       "      <td>True</td>\n",
       "    </tr>\n",
       "    <tr>\n",
       "      <th>25</th>\n",
       "      <td>Legbiter</td>\n",
       "      <td>19827</td>\n",
       "      <td>Strangford Lough Brewing Company Ltd</td>\n",
       "      <td>10093</td>\n",
       "      <td>English Pale Ale</td>\n",
       "      <td>4.8</td>\n",
       "      <td>2010-10-08 10:00:00</td>\n",
       "      <td>Hoagie1973</td>\n",
       "      <td>hoagie1973.191162</td>\n",
       "      <td>4.5</td>\n",
       "      <td>3.5</td>\n",
       "      <td>4.0</td>\n",
       "      <td>3.5</td>\n",
       "      <td>3.0</td>\n",
       "      <td>3.51</td>\n",
       "      <td>This beer is a bit of an amalgam of several s...</td>\n",
       "      <td>True</td>\n",
       "    </tr>\n",
       "    <tr>\n",
       "      <th>26</th>\n",
       "      <td>Legbiter</td>\n",
       "      <td>19827</td>\n",
       "      <td>Strangford Lough Brewing Company Ltd</td>\n",
       "      <td>10093</td>\n",
       "      <td>English Pale Ale</td>\n",
       "      <td>4.8</td>\n",
       "      <td>2010-09-16 10:00:00</td>\n",
       "      <td>TheManiacalOne</td>\n",
       "      <td>themaniacalone.37950</td>\n",
       "      <td>3.5</td>\n",
       "      <td>3.0</td>\n",
       "      <td>3.0</td>\n",
       "      <td>3.5</td>\n",
       "      <td>3.0</td>\n",
       "      <td>3.23</td>\n",
       "      <td>Poured from a 12oz. bottle into a US tumbler ...</td>\n",
       "      <td>True</td>\n",
       "    </tr>\n",
       "    <tr>\n",
       "      <th>27</th>\n",
       "      <td>Legbiter</td>\n",
       "      <td>19827</td>\n",
       "      <td>Strangford Lough Brewing Company Ltd</td>\n",
       "      <td>10093</td>\n",
       "      <td>English Pale Ale</td>\n",
       "      <td>4.8</td>\n",
       "      <td>2010-09-03 10:00:00</td>\n",
       "      <td>climax</td>\n",
       "      <td>climax.91732</td>\n",
       "      <td>4.5</td>\n",
       "      <td>3.0</td>\n",
       "      <td>4.0</td>\n",
       "      <td>4.0</td>\n",
       "      <td>3.5</td>\n",
       "      <td>3.69</td>\n",
       "      <td>Legbiter poured a dark brown with ruby red hi...</td>\n",
       "      <td>True</td>\n",
       "    </tr>\n",
       "    <tr>\n",
       "      <th>28</th>\n",
       "      <td>Legbiter</td>\n",
       "      <td>19827</td>\n",
       "      <td>Strangford Lough Brewing Company Ltd</td>\n",
       "      <td>10093</td>\n",
       "      <td>English Pale Ale</td>\n",
       "      <td>4.8</td>\n",
       "      <td>2010-08-13 10:00:00</td>\n",
       "      <td>skullsplitter</td>\n",
       "      <td>skullsplitter.23718</td>\n",
       "      <td>4.0</td>\n",
       "      <td>3.5</td>\n",
       "      <td>3.0</td>\n",
       "      <td>3.0</td>\n",
       "      <td>3.5</td>\n",
       "      <td>3.28</td>\n",
       "      <td>A - Color was a deep amber brown with a fairl...</td>\n",
       "      <td>True</td>\n",
       "    </tr>\n",
       "    <tr>\n",
       "      <th>29</th>\n",
       "      <td>Legbiter</td>\n",
       "      <td>19827</td>\n",
       "      <td>Strangford Lough Brewing Company Ltd</td>\n",
       "      <td>10093</td>\n",
       "      <td>English Pale Ale</td>\n",
       "      <td>4.8</td>\n",
       "      <td>2010-07-20 10:00:00</td>\n",
       "      <td>russpowell</td>\n",
       "      <td>russpowell.19986</td>\n",
       "      <td>3.0</td>\n",
       "      <td>4.0</td>\n",
       "      <td>3.5</td>\n",
       "      <td>4.0</td>\n",
       "      <td>4.0</td>\n",
       "      <td>3.89</td>\n",
       "      <td>First beer I've had from Northern Ireland in ...</td>\n",
       "      <td>True</td>\n",
       "    </tr>\n",
       "    <tr>\n",
       "      <th>30</th>\n",
       "      <td>Legbiter</td>\n",
       "      <td>19827</td>\n",
       "      <td>Strangford Lough Brewing Company Ltd</td>\n",
       "      <td>10093</td>\n",
       "      <td>English Pale Ale</td>\n",
       "      <td>4.8</td>\n",
       "      <td>2010-07-17 10:00:00</td>\n",
       "      <td>jizdepski</td>\n",
       "      <td>jizdepski.309329</td>\n",
       "      <td>4.0</td>\n",
       "      <td>3.0</td>\n",
       "      <td>4.0</td>\n",
       "      <td>4.0</td>\n",
       "      <td>4.5</td>\n",
       "      <td>3.86</td>\n",
       "      <td>bottle into warmish pint. nice golden brown c...</td>\n",
       "      <td>True</td>\n",
       "    </tr>\n",
       "    <tr>\n",
       "      <th>31</th>\n",
       "      <td>Legbiter</td>\n",
       "      <td>19827</td>\n",
       "      <td>Strangford Lough Brewing Company Ltd</td>\n",
       "      <td>10093</td>\n",
       "      <td>English Pale Ale</td>\n",
       "      <td>4.8</td>\n",
       "      <td>2010-07-16 10:00:00</td>\n",
       "      <td>bump8628</td>\n",
       "      <td>bump8628.197033</td>\n",
       "      <td>3.5</td>\n",
       "      <td>3.5</td>\n",
       "      <td>4.0</td>\n",
       "      <td>4.0</td>\n",
       "      <td>4.0</td>\n",
       "      <td>3.85</td>\n",
       "      <td>Dark amber with a thin but persistent off-whi...</td>\n",
       "      <td>True</td>\n",
       "    </tr>\n",
       "    <tr>\n",
       "      <th>32</th>\n",
       "      <td>Legbiter</td>\n",
       "      <td>19827</td>\n",
       "      <td>Strangford Lough Brewing Company Ltd</td>\n",
       "      <td>10093</td>\n",
       "      <td>English Pale Ale</td>\n",
       "      <td>4.8</td>\n",
       "      <td>2010-06-19 10:00:00</td>\n",
       "      <td>Jayli</td>\n",
       "      <td>jayli.193663</td>\n",
       "      <td>4.0</td>\n",
       "      <td>3.0</td>\n",
       "      <td>2.5</td>\n",
       "      <td>3.0</td>\n",
       "      <td>3.5</td>\n",
       "      <td>3.11</td>\n",
       "      <td>Picked this up at Luke's in Rockland, MAPoure...</td>\n",
       "      <td>True</td>\n",
       "    </tr>\n",
       "    <tr>\n",
       "      <th>33</th>\n",
       "      <td>Legbiter</td>\n",
       "      <td>19827</td>\n",
       "      <td>Strangford Lough Brewing Company Ltd</td>\n",
       "      <td>10093</td>\n",
       "      <td>English Pale Ale</td>\n",
       "      <td>4.8</td>\n",
       "      <td>2010-06-04 10:00:00</td>\n",
       "      <td>zeff80</td>\n",
       "      <td>zeff80.63854</td>\n",
       "      <td>4.0</td>\n",
       "      <td>3.5</td>\n",
       "      <td>3.0</td>\n",
       "      <td>3.5</td>\n",
       "      <td>3.5</td>\n",
       "      <td>3.48</td>\n",
       "      <td>A - Poured out a clear, copper color with a t...</td>\n",
       "      <td>True</td>\n",
       "    </tr>\n",
       "    <tr>\n",
       "      <th>34</th>\n",
       "      <td>Legbiter</td>\n",
       "      <td>19827</td>\n",
       "      <td>Strangford Lough Brewing Company Ltd</td>\n",
       "      <td>10093</td>\n",
       "      <td>English Pale Ale</td>\n",
       "      <td>4.8</td>\n",
       "      <td>2010-05-28 10:00:00</td>\n",
       "      <td>BDIMike</td>\n",
       "      <td>bdimike.146831</td>\n",
       "      <td>4.0</td>\n",
       "      <td>3.0</td>\n",
       "      <td>3.5</td>\n",
       "      <td>3.0</td>\n",
       "      <td>2.0</td>\n",
       "      <td>2.91</td>\n",
       "      <td>Pours a dark copper color that has a huge tan...</td>\n",
       "      <td>True</td>\n",
       "    </tr>\n",
       "    <tr>\n",
       "      <th>35</th>\n",
       "      <td>Legbiter</td>\n",
       "      <td>19827</td>\n",
       "      <td>Strangford Lough Brewing Company Ltd</td>\n",
       "      <td>10093</td>\n",
       "      <td>English Pale Ale</td>\n",
       "      <td>4.8</td>\n",
       "      <td>2010-05-27 10:00:00</td>\n",
       "      <td>erosier</td>\n",
       "      <td>erosier.161073</td>\n",
       "      <td>3.5</td>\n",
       "      <td>3.5</td>\n",
       "      <td>3.5</td>\n",
       "      <td>3.0</td>\n",
       "      <td>3.5</td>\n",
       "      <td>3.30</td>\n",
       "      <td>L: Pours a nice amber color with a medium siz...</td>\n",
       "      <td>True</td>\n",
       "    </tr>\n",
       "    <tr>\n",
       "      <th>36</th>\n",
       "      <td>Legbiter</td>\n",
       "      <td>19827</td>\n",
       "      <td>Strangford Lough Brewing Company Ltd</td>\n",
       "      <td>10093</td>\n",
       "      <td>English Pale Ale</td>\n",
       "      <td>4.8</td>\n",
       "      <td>2010-05-22 10:00:00</td>\n",
       "      <td>Kadonny</td>\n",
       "      <td>kadonny.156863</td>\n",
       "      <td>4.0</td>\n",
       "      <td>3.0</td>\n",
       "      <td>3.0</td>\n",
       "      <td>3.5</td>\n",
       "      <td>3.5</td>\n",
       "      <td>3.36</td>\n",
       "      <td>Poured from a bottle into a pint glass.A medi...</td>\n",
       "      <td>True</td>\n",
       "    </tr>\n",
       "    <tr>\n",
       "      <th>37</th>\n",
       "      <td>Legbiter</td>\n",
       "      <td>19827</td>\n",
       "      <td>Strangford Lough Brewing Company Ltd</td>\n",
       "      <td>10093</td>\n",
       "      <td>English Pale Ale</td>\n",
       "      <td>4.8</td>\n",
       "      <td>2010-05-20 10:00:00</td>\n",
       "      <td>Walken</td>\n",
       "      <td>walken.127993</td>\n",
       "      <td>4.0</td>\n",
       "      <td>3.5</td>\n",
       "      <td>4.5</td>\n",
       "      <td>3.5</td>\n",
       "      <td>3.0</td>\n",
       "      <td>3.53</td>\n",
       "      <td>Strangford Lough Brewing: Legbiter (No date) ...</td>\n",
       "      <td>True</td>\n",
       "    </tr>\n",
       "    <tr>\n",
       "      <th>38</th>\n",
       "      <td>Legbiter</td>\n",
       "      <td>19827</td>\n",
       "      <td>Strangford Lough Brewing Company Ltd</td>\n",
       "      <td>10093</td>\n",
       "      <td>English Pale Ale</td>\n",
       "      <td>4.8</td>\n",
       "      <td>2010-05-16 10:00:00</td>\n",
       "      <td>biggred1</td>\n",
       "      <td>biggred1.206640</td>\n",
       "      <td>4.0</td>\n",
       "      <td>3.5</td>\n",
       "      <td>3.5</td>\n",
       "      <td>3.5</td>\n",
       "      <td>4.0</td>\n",
       "      <td>3.63</td>\n",
       "      <td>Clear, dark honeyed amber with a creamy sand ...</td>\n",
       "      <td>True</td>\n",
       "    </tr>\n",
       "    <tr>\n",
       "      <th>39</th>\n",
       "      <td>Legbiter</td>\n",
       "      <td>19827</td>\n",
       "      <td>Strangford Lough Brewing Company Ltd</td>\n",
       "      <td>10093</td>\n",
       "      <td>English Pale Ale</td>\n",
       "      <td>4.8</td>\n",
       "      <td>2010-05-13 10:00:00</td>\n",
       "      <td>Beerbuddha</td>\n",
       "      <td>beerbuddha.123204</td>\n",
       "      <td>4.0</td>\n",
       "      <td>3.0</td>\n",
       "      <td>3.0</td>\n",
       "      <td>3.0</td>\n",
       "      <td>3.0</td>\n",
       "      <td>3.06</td>\n",
       "      <td>Appearance: Poured from a bottle into glass. ...</td>\n",
       "      <td>True</td>\n",
       "    </tr>\n",
       "  </tbody>\n",
       "</table>\n",
       "</div>"
      ],
      "text/plain": [
       "    beer_name  beer_id                           brewery_name  brewery_id  \\\n",
       "0    Legbiter    19827   Strangford Lough Brewing Company Ltd       10093   \n",
       "1    Legbiter    19827   Strangford Lough Brewing Company Ltd       10093   \n",
       "2    Legbiter    19827   Strangford Lough Brewing Company Ltd       10093   \n",
       "3    Legbiter    19827   Strangford Lough Brewing Company Ltd       10093   \n",
       "4    Legbiter    19827   Strangford Lough Brewing Company Ltd       10093   \n",
       "5    Legbiter    19827   Strangford Lough Brewing Company Ltd       10093   \n",
       "6    Legbiter    19827   Strangford Lough Brewing Company Ltd       10093   \n",
       "7    Legbiter    19827   Strangford Lough Brewing Company Ltd       10093   \n",
       "8    Legbiter    19827   Strangford Lough Brewing Company Ltd       10093   \n",
       "9    Legbiter    19827   Strangford Lough Brewing Company Ltd       10093   \n",
       "10   Legbiter    19827   Strangford Lough Brewing Company Ltd       10093   \n",
       "11   Legbiter    19827   Strangford Lough Brewing Company Ltd       10093   \n",
       "12   Legbiter    19827   Strangford Lough Brewing Company Ltd       10093   \n",
       "13   Legbiter    19827   Strangford Lough Brewing Company Ltd       10093   \n",
       "14   Legbiter    19827   Strangford Lough Brewing Company Ltd       10093   \n",
       "15   Legbiter    19827   Strangford Lough Brewing Company Ltd       10093   \n",
       "16   Legbiter    19827   Strangford Lough Brewing Company Ltd       10093   \n",
       "17   Legbiter    19827   Strangford Lough Brewing Company Ltd       10093   \n",
       "18   Legbiter    19827   Strangford Lough Brewing Company Ltd       10093   \n",
       "19   Legbiter    19827   Strangford Lough Brewing Company Ltd       10093   \n",
       "20   Legbiter    19827   Strangford Lough Brewing Company Ltd       10093   \n",
       "21   Legbiter    19827   Strangford Lough Brewing Company Ltd       10093   \n",
       "22   Legbiter    19827   Strangford Lough Brewing Company Ltd       10093   \n",
       "23   Legbiter    19827   Strangford Lough Brewing Company Ltd       10093   \n",
       "24   Legbiter    19827   Strangford Lough Brewing Company Ltd       10093   \n",
       "25   Legbiter    19827   Strangford Lough Brewing Company Ltd       10093   \n",
       "26   Legbiter    19827   Strangford Lough Brewing Company Ltd       10093   \n",
       "27   Legbiter    19827   Strangford Lough Brewing Company Ltd       10093   \n",
       "28   Legbiter    19827   Strangford Lough Brewing Company Ltd       10093   \n",
       "29   Legbiter    19827   Strangford Lough Brewing Company Ltd       10093   \n",
       "30   Legbiter    19827   Strangford Lough Brewing Company Ltd       10093   \n",
       "31   Legbiter    19827   Strangford Lough Brewing Company Ltd       10093   \n",
       "32   Legbiter    19827   Strangford Lough Brewing Company Ltd       10093   \n",
       "33   Legbiter    19827   Strangford Lough Brewing Company Ltd       10093   \n",
       "34   Legbiter    19827   Strangford Lough Brewing Company Ltd       10093   \n",
       "35   Legbiter    19827   Strangford Lough Brewing Company Ltd       10093   \n",
       "36   Legbiter    19827   Strangford Lough Brewing Company Ltd       10093   \n",
       "37   Legbiter    19827   Strangford Lough Brewing Company Ltd       10093   \n",
       "38   Legbiter    19827   Strangford Lough Brewing Company Ltd       10093   \n",
       "39   Legbiter    19827   Strangford Lough Brewing Company Ltd       10093   \n",
       "\n",
       "                style  abv                 date          user_name  \\\n",
       "0    English Pale Ale  4.8  2013-02-13 11:00:00       brewdude1982   \n",
       "1    English Pale Ale  4.8  2013-01-09 11:00:00         AgentMunky   \n",
       "2    English Pale Ale  4.8  2012-11-17 11:00:00          ferrari29   \n",
       "3    English Pale Ale  4.8  2012-07-14 10:00:00         OtherShoe2   \n",
       "4    English Pale Ale  4.8  2012-04-28 10:00:00           brentk56   \n",
       "5    English Pale Ale  4.8  2012-04-28 10:00:00          emerge077   \n",
       "6    English Pale Ale  4.8  2012-03-23 11:00:00     GarthDanielson   \n",
       "7    English Pale Ale  4.8  2011-12-10 11:00:00          chinchill   \n",
       "8    English Pale Ale  4.8  2011-11-11 11:00:00            BrettMc   \n",
       "9    English Pale Ale  4.8  2011-09-14 10:00:00          Cyberkedi   \n",
       "10   English Pale Ale  4.8  2011-09-12 10:00:00       ChainGangGuy   \n",
       "11   English Pale Ale  4.8  2011-09-07 10:00:00           Treyliff   \n",
       "12   English Pale Ale  4.8  2011-07-16 10:00:00      ColSanders123   \n",
       "13   English Pale Ale  4.8  2011-07-15 10:00:00             DerekP   \n",
       "14   English Pale Ale  4.8  2011-07-11 10:00:00           JayS2629   \n",
       "15   English Pale Ale  4.8  2011-07-07 10:00:00         puboflyons   \n",
       "16   English Pale Ale  4.8  2011-07-03 10:00:00          Dodo2step   \n",
       "17   English Pale Ale  4.8  2011-05-16 10:00:00   beerprovedwright   \n",
       "18   English Pale Ale  4.8  2011-05-14 10:00:00             oberon   \n",
       "19   English Pale Ale  4.8  2011-03-05 11:00:00      RonaldTheriot   \n",
       "20   English Pale Ale  4.8  2011-02-24 11:00:00              Morey   \n",
       "21   English Pale Ale  4.8  2011-01-11 11:00:00       BeerAdvocate   \n",
       "22   English Pale Ale  4.8  2011-01-01 11:00:00             Ty1erC   \n",
       "23   English Pale Ale  4.8  2010-12-06 11:00:00             DKight   \n",
       "24   English Pale Ale  4.8  2010-11-06 11:00:00       alleykatking   \n",
       "25   English Pale Ale  4.8  2010-10-08 10:00:00         Hoagie1973   \n",
       "26   English Pale Ale  4.8  2010-09-16 10:00:00     TheManiacalOne   \n",
       "27   English Pale Ale  4.8  2010-09-03 10:00:00             climax   \n",
       "28   English Pale Ale  4.8  2010-08-13 10:00:00      skullsplitter   \n",
       "29   English Pale Ale  4.8  2010-07-20 10:00:00         russpowell   \n",
       "30   English Pale Ale  4.8  2010-07-17 10:00:00          jizdepski   \n",
       "31   English Pale Ale  4.8  2010-07-16 10:00:00           bump8628   \n",
       "32   English Pale Ale  4.8  2010-06-19 10:00:00              Jayli   \n",
       "33   English Pale Ale  4.8  2010-06-04 10:00:00             zeff80   \n",
       "34   English Pale Ale  4.8  2010-05-28 10:00:00            BDIMike   \n",
       "35   English Pale Ale  4.8  2010-05-27 10:00:00            erosier   \n",
       "36   English Pale Ale  4.8  2010-05-22 10:00:00            Kadonny   \n",
       "37   English Pale Ale  4.8  2010-05-20 10:00:00             Walken   \n",
       "38   English Pale Ale  4.8  2010-05-16 10:00:00           biggred1   \n",
       "39   English Pale Ale  4.8  2010-05-13 10:00:00         Beerbuddha   \n",
       "\n",
       "                     user_id appearance  aroma palate  taste overall  rating  \\\n",
       "0        brewdude1982.691169       4.25    4.5   3.25   3.75    3.75    3.91   \n",
       "1          agentmunky.409755        4.0   3.75    3.5    3.5    3.75    3.64   \n",
       "2           ferrari29.320392        3.0    3.5    2.5    2.5     2.5    2.77   \n",
       "3          othershoe2.233642        4.0    3.5    4.0    3.5     4.0    3.68   \n",
       "4              brentk56.6284        4.5    3.0    3.5    2.5     2.5    2.84   \n",
       "5            emerge077.17949        4.0    3.0    3.5    3.0     3.5    3.21   \n",
       "6      garthdanielson.522584        4.0    3.5    2.5    3.5     3.0    3.33   \n",
       "7           chinchill.199175        4.0    3.5    4.0    4.0     4.0    3.88   \n",
       "8             brettmc.615627        4.0    4.0    4.0    4.0     4.0    4.00   \n",
       "9           cyberkedi.113659        4.0    3.0    3.0    3.5     3.5    3.36   \n",
       "10         chaingangguy.8942        4.0    2.5    3.5    2.5     2.5    2.69   \n",
       "11           treyliff.490010        3.5    4.0    3.5    3.5     3.5    3.62   \n",
       "12      colsanders123.545441        4.0    3.5    3.0    3.5     3.5    3.48   \n",
       "13             derekp.400402        3.5    3.5    3.5    3.5     3.5    3.50   \n",
       "14           jays2629.517433        3.0    3.5    2.5    3.0     3.0    3.07   \n",
       "15         puboflyons.237852        3.5    4.0    3.0    3.5     3.5    3.57   \n",
       "16          dodo2step.110880        4.0    3.5    3.5    3.5     3.5    3.53   \n",
       "17   beerprovedwright.484930        4.0    4.0    4.5    4.0     4.0    4.05   \n",
       "18                oberon.256        4.0    3.5    3.5    3.5     3.5    3.53   \n",
       "19      ronaldtheriot.241704        3.5    3.0    4.0    3.5     3.0    3.33   \n",
       "20              morey.182874        4.0    3.0    3.5    3.5     3.5    3.41   \n",
       "21            beeradvocate.1        3.5    3.5    3.5    3.5     3.5    3.50   \n",
       "22             ty1erc.544652        4.5    2.0    2.5    2.0     3.0    2.40   \n",
       "23             dkight.530009        3.5    3.0    3.5    4.0     4.0    3.68   \n",
       "24       alleykatking.257816        3.0    2.5    3.5    3.0     3.0    2.93   \n",
       "25         hoagie1973.191162        4.5    3.5    4.0    3.5     3.0    3.51   \n",
       "26      themaniacalone.37950        3.5    3.0    3.0    3.5     3.0    3.23   \n",
       "27              climax.91732        4.5    3.0    4.0    4.0     3.5    3.69   \n",
       "28       skullsplitter.23718        4.0    3.5    3.0    3.0     3.5    3.28   \n",
       "29          russpowell.19986        3.0    4.0    3.5    4.0     4.0    3.89   \n",
       "30          jizdepski.309329        4.0    3.0    4.0    4.0     4.5    3.86   \n",
       "31           bump8628.197033        3.5    3.5    4.0    4.0     4.0    3.85   \n",
       "32              jayli.193663        4.0    3.0    2.5    3.0     3.5    3.11   \n",
       "33              zeff80.63854        4.0    3.5    3.0    3.5     3.5    3.48   \n",
       "34            bdimike.146831        4.0    3.0    3.5    3.0     2.0    2.91   \n",
       "35            erosier.161073        3.5    3.5    3.5    3.0     3.5    3.30   \n",
       "36            kadonny.156863        4.0    3.0    3.0    3.5     3.5    3.36   \n",
       "37             walken.127993        4.0    3.5    4.5    3.5     3.0    3.53   \n",
       "38           biggred1.206640        4.0    3.5    3.5    3.5     4.0    3.63   \n",
       "39         beerbuddha.123204        4.0    3.0    3.0    3.0     3.0    3.06   \n",
       "\n",
       "                                                 text review  \n",
       "0    This was a 12 oz bottle poured into a snifter...   True  \n",
       "1    Poured from a 12 ounce bottle into a pilsner ...   True  \n",
       "2    Beer poured from bottle into a Nonic shaped p...   True  \n",
       "3    Pours a rich brownish red with some chill haz...   True  \n",
       "4    Appearance: These Strangford Lough beers pour...   True  \n",
       "5    Six pack from George's deli case, always some...   True  \n",
       "6    Poured from a bottle into a tumbler pint, the...   True  \n",
       "7    A- Pours a dark brownish red with a nice crea...   True  \n",
       "8    Poured into a Jail House Brewery tumbler. The...   True  \n",
       "9    Pours a nice clear mahogany with a fluffy, if...   True  \n",
       "10   Appearance: Pours a clear, medium-brown body,...   True  \n",
       "11   Pours a dark brown with a decent creamy head....   True  \n",
       "12   A- Pours a dark brownish red with a nice thic...   True  \n",
       "13   Brownish-red in appearance (I gotta take issu...   True  \n",
       "14   It pours a clear copper color with a thin whi...   True  \n",
       "15   From the U.S. brewed 12 fl. oz. bottle. Sampl...   True  \n",
       "16   P- Thanks to my buddy Trask in NCA- a clear l...   True  \n",
       "17   Foamy two finger head, with lace that runs fr...   True  \n",
       "18   Poured into a standard pint glass a deep rich...   True  \n",
       "19   Legbiter has a medium, off-white, rootbeer-st...   True  \n",
       "20   Pours reddish-brown in color with nice clarit...   True  \n",
       "21   Review from BeerAdvocate Magazine Issue #40 (...   True  \n",
       "22   *12 oz bottle poured into a pint glass.*a: a ...   True  \n",
       "23   12 ounce bottle.Pours brown, has a light head...   True  \n",
       "24   Poured from 12oz bottle. A- Pours a brown slu...   True  \n",
       "25   This beer is a bit of an amalgam of several s...   True  \n",
       "26   Poured from a 12oz. bottle into a US tumbler ...   True  \n",
       "27   Legbiter poured a dark brown with ruby red hi...   True  \n",
       "28   A - Color was a deep amber brown with a fairl...   True  \n",
       "29   First beer I've had from Northern Ireland in ...   True  \n",
       "30   bottle into warmish pint. nice golden brown c...   True  \n",
       "31   Dark amber with a thin but persistent off-whi...   True  \n",
       "32   Picked this up at Luke's in Rockland, MAPoure...   True  \n",
       "33   A - Poured out a clear, copper color with a t...   True  \n",
       "34   Pours a dark copper color that has a huge tan...   True  \n",
       "35   L: Pours a nice amber color with a medium siz...   True  \n",
       "36   Poured from a bottle into a pint glass.A medi...   True  \n",
       "37   Strangford Lough Brewing: Legbiter (No date) ...   True  \n",
       "38   Clear, dark honeyed amber with a creamy sand ...   True  \n",
       "39   Appearance: Poured from a bottle into glass. ...   True  "
      ]
     },
     "execution_count": 13,
     "metadata": {},
     "output_type": "execute_result"
    }
   ],
   "source": [
    "MB_ratings_with_text_ba.head(40)"
   ]
  },
  {
   "cell_type": "markdown",
   "metadata": {},
   "source": [
    "Evaluating from the review column, it looks like the rating with text is a subset of the whole rating dataset but with the condition that review == True. (the 7th col of _ratings coincides with the 0th column of ratings_text) Lets check if thus the ratings with text are included in the ratings dataset."
   ]
  },
  {
   "cell_type": "code",
   "execution_count": 16,
   "metadata": {},
   "outputs": [
    {
     "data": {
      "text/html": [
       "<div>\n",
       "<style scoped>\n",
       "    .dataframe tbody tr th:only-of-type {\n",
       "        vertical-align: middle;\n",
       "    }\n",
       "\n",
       "    .dataframe tbody tr th {\n",
       "        vertical-align: top;\n",
       "    }\n",
       "\n",
       "    .dataframe thead th {\n",
       "        text-align: right;\n",
       "    }\n",
       "</style>\n",
       "<table border=\"1\" class=\"dataframe\">\n",
       "  <thead>\n",
       "    <tr style=\"text-align: right;\">\n",
       "      <th></th>\n",
       "      <th>beer_name</th>\n",
       "      <th>beer_id</th>\n",
       "      <th>brewery_name</th>\n",
       "      <th>brewery_id</th>\n",
       "      <th>style</th>\n",
       "      <th>abv</th>\n",
       "      <th>date</th>\n",
       "      <th>user_name</th>\n",
       "      <th>user_id</th>\n",
       "      <th>appearance</th>\n",
       "      <th>aroma</th>\n",
       "      <th>palate</th>\n",
       "      <th>taste</th>\n",
       "      <th>overall</th>\n",
       "      <th>rating</th>\n",
       "      <th>text</th>\n",
       "      <th>review</th>\n",
       "    </tr>\n",
       "  </thead>\n",
       "  <tbody>\n",
       "    <tr>\n",
       "      <th>0</th>\n",
       "      <td>True</td>\n",
       "      <td>True</td>\n",
       "      <td>True</td>\n",
       "      <td>True</td>\n",
       "      <td>True</td>\n",
       "      <td>True</td>\n",
       "      <td>False</td>\n",
       "      <td>False</td>\n",
       "      <td>False</td>\n",
       "      <td>False</td>\n",
       "      <td>False</td>\n",
       "      <td>False</td>\n",
       "      <td>False</td>\n",
       "      <td>False</td>\n",
       "      <td>False</td>\n",
       "      <td>False</td>\n",
       "      <td>False</td>\n",
       "    </tr>\n",
       "    <tr>\n",
       "      <th>1</th>\n",
       "      <td>True</td>\n",
       "      <td>True</td>\n",
       "      <td>True</td>\n",
       "      <td>True</td>\n",
       "      <td>True</td>\n",
       "      <td>True</td>\n",
       "      <td>False</td>\n",
       "      <td>False</td>\n",
       "      <td>False</td>\n",
       "      <td>False</td>\n",
       "      <td>False</td>\n",
       "      <td>False</td>\n",
       "      <td>False</td>\n",
       "      <td>False</td>\n",
       "      <td>False</td>\n",
       "      <td>False</td>\n",
       "      <td>False</td>\n",
       "    </tr>\n",
       "    <tr>\n",
       "      <th>2</th>\n",
       "      <td>True</td>\n",
       "      <td>True</td>\n",
       "      <td>True</td>\n",
       "      <td>True</td>\n",
       "      <td>True</td>\n",
       "      <td>True</td>\n",
       "      <td>False</td>\n",
       "      <td>False</td>\n",
       "      <td>False</td>\n",
       "      <td>False</td>\n",
       "      <td>False</td>\n",
       "      <td>False</td>\n",
       "      <td>False</td>\n",
       "      <td>False</td>\n",
       "      <td>False</td>\n",
       "      <td>False</td>\n",
       "      <td>False</td>\n",
       "    </tr>\n",
       "    <tr>\n",
       "      <th>3</th>\n",
       "      <td>True</td>\n",
       "      <td>True</td>\n",
       "      <td>True</td>\n",
       "      <td>True</td>\n",
       "      <td>True</td>\n",
       "      <td>True</td>\n",
       "      <td>False</td>\n",
       "      <td>False</td>\n",
       "      <td>False</td>\n",
       "      <td>False</td>\n",
       "      <td>False</td>\n",
       "      <td>False</td>\n",
       "      <td>False</td>\n",
       "      <td>False</td>\n",
       "      <td>False</td>\n",
       "      <td>False</td>\n",
       "      <td>False</td>\n",
       "    </tr>\n",
       "    <tr>\n",
       "      <th>4</th>\n",
       "      <td>True</td>\n",
       "      <td>True</td>\n",
       "      <td>True</td>\n",
       "      <td>True</td>\n",
       "      <td>True</td>\n",
       "      <td>True</td>\n",
       "      <td>False</td>\n",
       "      <td>False</td>\n",
       "      <td>False</td>\n",
       "      <td>False</td>\n",
       "      <td>False</td>\n",
       "      <td>False</td>\n",
       "      <td>False</td>\n",
       "      <td>False</td>\n",
       "      <td>False</td>\n",
       "      <td>False</td>\n",
       "      <td>False</td>\n",
       "    </tr>\n",
       "    <tr>\n",
       "      <th>5</th>\n",
       "      <td>True</td>\n",
       "      <td>True</td>\n",
       "      <td>True</td>\n",
       "      <td>True</td>\n",
       "      <td>True</td>\n",
       "      <td>True</td>\n",
       "      <td>False</td>\n",
       "      <td>False</td>\n",
       "      <td>False</td>\n",
       "      <td>False</td>\n",
       "      <td>False</td>\n",
       "      <td>False</td>\n",
       "      <td>False</td>\n",
       "      <td>False</td>\n",
       "      <td>False</td>\n",
       "      <td>False</td>\n",
       "      <td>False</td>\n",
       "    </tr>\n",
       "    <tr>\n",
       "      <th>6</th>\n",
       "      <td>True</td>\n",
       "      <td>True</td>\n",
       "      <td>True</td>\n",
       "      <td>True</td>\n",
       "      <td>True</td>\n",
       "      <td>True</td>\n",
       "      <td>False</td>\n",
       "      <td>False</td>\n",
       "      <td>False</td>\n",
       "      <td>False</td>\n",
       "      <td>False</td>\n",
       "      <td>False</td>\n",
       "      <td>False</td>\n",
       "      <td>False</td>\n",
       "      <td>False</td>\n",
       "      <td>False</td>\n",
       "      <td>False</td>\n",
       "    </tr>\n",
       "    <tr>\n",
       "      <th>7</th>\n",
       "      <td>True</td>\n",
       "      <td>True</td>\n",
       "      <td>True</td>\n",
       "      <td>True</td>\n",
       "      <td>True</td>\n",
       "      <td>True</td>\n",
       "      <td>False</td>\n",
       "      <td>False</td>\n",
       "      <td>False</td>\n",
       "      <td>False</td>\n",
       "      <td>False</td>\n",
       "      <td>False</td>\n",
       "      <td>False</td>\n",
       "      <td>False</td>\n",
       "      <td>False</td>\n",
       "      <td>False</td>\n",
       "      <td>True</td>\n",
       "    </tr>\n",
       "    <tr>\n",
       "      <th>8</th>\n",
       "      <td>True</td>\n",
       "      <td>True</td>\n",
       "      <td>True</td>\n",
       "      <td>True</td>\n",
       "      <td>True</td>\n",
       "      <td>True</td>\n",
       "      <td>False</td>\n",
       "      <td>False</td>\n",
       "      <td>False</td>\n",
       "      <td>True</td>\n",
       "      <td>False</td>\n",
       "      <td>False</td>\n",
       "      <td>False</td>\n",
       "      <td>False</td>\n",
       "      <td>False</td>\n",
       "      <td>False</td>\n",
       "      <td>True</td>\n",
       "    </tr>\n",
       "    <tr>\n",
       "      <th>9</th>\n",
       "      <td>True</td>\n",
       "      <td>True</td>\n",
       "      <td>True</td>\n",
       "      <td>True</td>\n",
       "      <td>True</td>\n",
       "      <td>True</td>\n",
       "      <td>False</td>\n",
       "      <td>False</td>\n",
       "      <td>False</td>\n",
       "      <td>False</td>\n",
       "      <td>False</td>\n",
       "      <td>False</td>\n",
       "      <td>False</td>\n",
       "      <td>False</td>\n",
       "      <td>False</td>\n",
       "      <td>False</td>\n",
       "      <td>False</td>\n",
       "    </tr>\n",
       "    <tr>\n",
       "      <th>10</th>\n",
       "      <td>True</td>\n",
       "      <td>True</td>\n",
       "      <td>True</td>\n",
       "      <td>True</td>\n",
       "      <td>True</td>\n",
       "      <td>True</td>\n",
       "      <td>False</td>\n",
       "      <td>False</td>\n",
       "      <td>False</td>\n",
       "      <td>False</td>\n",
       "      <td>False</td>\n",
       "      <td>False</td>\n",
       "      <td>False</td>\n",
       "      <td>False</td>\n",
       "      <td>False</td>\n",
       "      <td>False</td>\n",
       "      <td>False</td>\n",
       "    </tr>\n",
       "    <tr>\n",
       "      <th>11</th>\n",
       "      <td>True</td>\n",
       "      <td>True</td>\n",
       "      <td>True</td>\n",
       "      <td>True</td>\n",
       "      <td>True</td>\n",
       "      <td>True</td>\n",
       "      <td>False</td>\n",
       "      <td>False</td>\n",
       "      <td>False</td>\n",
       "      <td>False</td>\n",
       "      <td>False</td>\n",
       "      <td>False</td>\n",
       "      <td>False</td>\n",
       "      <td>False</td>\n",
       "      <td>False</td>\n",
       "      <td>False</td>\n",
       "      <td>False</td>\n",
       "    </tr>\n",
       "    <tr>\n",
       "      <th>12</th>\n",
       "      <td>True</td>\n",
       "      <td>True</td>\n",
       "      <td>True</td>\n",
       "      <td>True</td>\n",
       "      <td>True</td>\n",
       "      <td>True</td>\n",
       "      <td>False</td>\n",
       "      <td>False</td>\n",
       "      <td>False</td>\n",
       "      <td>False</td>\n",
       "      <td>True</td>\n",
       "      <td>False</td>\n",
       "      <td>False</td>\n",
       "      <td>False</td>\n",
       "      <td>False</td>\n",
       "      <td>False</td>\n",
       "      <td>True</td>\n",
       "    </tr>\n",
       "    <tr>\n",
       "      <th>13</th>\n",
       "      <td>True</td>\n",
       "      <td>True</td>\n",
       "      <td>True</td>\n",
       "      <td>True</td>\n",
       "      <td>True</td>\n",
       "      <td>True</td>\n",
       "      <td>False</td>\n",
       "      <td>False</td>\n",
       "      <td>False</td>\n",
       "      <td>False</td>\n",
       "      <td>False</td>\n",
       "      <td>False</td>\n",
       "      <td>False</td>\n",
       "      <td>False</td>\n",
       "      <td>False</td>\n",
       "      <td>False</td>\n",
       "      <td>False</td>\n",
       "    </tr>\n",
       "    <tr>\n",
       "      <th>14</th>\n",
       "      <td>True</td>\n",
       "      <td>True</td>\n",
       "      <td>True</td>\n",
       "      <td>True</td>\n",
       "      <td>True</td>\n",
       "      <td>True</td>\n",
       "      <td>False</td>\n",
       "      <td>False</td>\n",
       "      <td>False</td>\n",
       "      <td>False</td>\n",
       "      <td>True</td>\n",
       "      <td>False</td>\n",
       "      <td>False</td>\n",
       "      <td>False</td>\n",
       "      <td>False</td>\n",
       "      <td>False</td>\n",
       "      <td>True</td>\n",
       "    </tr>\n",
       "    <tr>\n",
       "      <th>15</th>\n",
       "      <td>True</td>\n",
       "      <td>True</td>\n",
       "      <td>True</td>\n",
       "      <td>True</td>\n",
       "      <td>True</td>\n",
       "      <td>True</td>\n",
       "      <td>False</td>\n",
       "      <td>False</td>\n",
       "      <td>False</td>\n",
       "      <td>False</td>\n",
       "      <td>False</td>\n",
       "      <td>False</td>\n",
       "      <td>False</td>\n",
       "      <td>False</td>\n",
       "      <td>False</td>\n",
       "      <td>False</td>\n",
       "      <td>False</td>\n",
       "    </tr>\n",
       "    <tr>\n",
       "      <th>16</th>\n",
       "      <td>True</td>\n",
       "      <td>True</td>\n",
       "      <td>True</td>\n",
       "      <td>True</td>\n",
       "      <td>True</td>\n",
       "      <td>True</td>\n",
       "      <td>False</td>\n",
       "      <td>False</td>\n",
       "      <td>False</td>\n",
       "      <td>False</td>\n",
       "      <td>False</td>\n",
       "      <td>True</td>\n",
       "      <td>False</td>\n",
       "      <td>False</td>\n",
       "      <td>False</td>\n",
       "      <td>False</td>\n",
       "      <td>True</td>\n",
       "    </tr>\n",
       "    <tr>\n",
       "      <th>17</th>\n",
       "      <td>True</td>\n",
       "      <td>True</td>\n",
       "      <td>True</td>\n",
       "      <td>True</td>\n",
       "      <td>True</td>\n",
       "      <td>True</td>\n",
       "      <td>False</td>\n",
       "      <td>False</td>\n",
       "      <td>False</td>\n",
       "      <td>True</td>\n",
       "      <td>False</td>\n",
       "      <td>False</td>\n",
       "      <td>False</td>\n",
       "      <td>False</td>\n",
       "      <td>False</td>\n",
       "      <td>False</td>\n",
       "      <td>True</td>\n",
       "    </tr>\n",
       "    <tr>\n",
       "      <th>18</th>\n",
       "      <td>True</td>\n",
       "      <td>True</td>\n",
       "      <td>True</td>\n",
       "      <td>True</td>\n",
       "      <td>True</td>\n",
       "      <td>True</td>\n",
       "      <td>False</td>\n",
       "      <td>False</td>\n",
       "      <td>False</td>\n",
       "      <td>False</td>\n",
       "      <td>False</td>\n",
       "      <td>False</td>\n",
       "      <td>False</td>\n",
       "      <td>False</td>\n",
       "      <td>False</td>\n",
       "      <td>False</td>\n",
       "      <td>False</td>\n",
       "    </tr>\n",
       "    <tr>\n",
       "      <th>19</th>\n",
       "      <td>True</td>\n",
       "      <td>True</td>\n",
       "      <td>True</td>\n",
       "      <td>True</td>\n",
       "      <td>True</td>\n",
       "      <td>True</td>\n",
       "      <td>False</td>\n",
       "      <td>False</td>\n",
       "      <td>False</td>\n",
       "      <td>False</td>\n",
       "      <td>False</td>\n",
       "      <td>False</td>\n",
       "      <td>True</td>\n",
       "      <td>True</td>\n",
       "      <td>True</td>\n",
       "      <td>False</td>\n",
       "      <td>True</td>\n",
       "    </tr>\n",
       "    <tr>\n",
       "      <th>20</th>\n",
       "      <td>True</td>\n",
       "      <td>True</td>\n",
       "      <td>True</td>\n",
       "      <td>True</td>\n",
       "      <td>True</td>\n",
       "      <td>True</td>\n",
       "      <td>False</td>\n",
       "      <td>False</td>\n",
       "      <td>False</td>\n",
       "      <td>False</td>\n",
       "      <td>False</td>\n",
       "      <td>False</td>\n",
       "      <td>False</td>\n",
       "      <td>False</td>\n",
       "      <td>False</td>\n",
       "      <td>False</td>\n",
       "      <td>False</td>\n",
       "    </tr>\n",
       "    <tr>\n",
       "      <th>21</th>\n",
       "      <td>True</td>\n",
       "      <td>True</td>\n",
       "      <td>True</td>\n",
       "      <td>True</td>\n",
       "      <td>True</td>\n",
       "      <td>True</td>\n",
       "      <td>False</td>\n",
       "      <td>False</td>\n",
       "      <td>False</td>\n",
       "      <td>False</td>\n",
       "      <td>False</td>\n",
       "      <td>False</td>\n",
       "      <td>False</td>\n",
       "      <td>False</td>\n",
       "      <td>True</td>\n",
       "      <td>False</td>\n",
       "      <td>False</td>\n",
       "    </tr>\n",
       "    <tr>\n",
       "      <th>22</th>\n",
       "      <td>True</td>\n",
       "      <td>True</td>\n",
       "      <td>True</td>\n",
       "      <td>True</td>\n",
       "      <td>True</td>\n",
       "      <td>True</td>\n",
       "      <td>False</td>\n",
       "      <td>False</td>\n",
       "      <td>False</td>\n",
       "      <td>False</td>\n",
       "      <td>False</td>\n",
       "      <td>False</td>\n",
       "      <td>False</td>\n",
       "      <td>False</td>\n",
       "      <td>False</td>\n",
       "      <td>False</td>\n",
       "      <td>True</td>\n",
       "    </tr>\n",
       "    <tr>\n",
       "      <th>23</th>\n",
       "      <td>True</td>\n",
       "      <td>True</td>\n",
       "      <td>True</td>\n",
       "      <td>True</td>\n",
       "      <td>True</td>\n",
       "      <td>True</td>\n",
       "      <td>False</td>\n",
       "      <td>False</td>\n",
       "      <td>False</td>\n",
       "      <td>False</td>\n",
       "      <td>False</td>\n",
       "      <td>False</td>\n",
       "      <td>False</td>\n",
       "      <td>False</td>\n",
       "      <td>False</td>\n",
       "      <td>False</td>\n",
       "      <td>False</td>\n",
       "    </tr>\n",
       "    <tr>\n",
       "      <th>24</th>\n",
       "      <td>True</td>\n",
       "      <td>True</td>\n",
       "      <td>True</td>\n",
       "      <td>True</td>\n",
       "      <td>True</td>\n",
       "      <td>True</td>\n",
       "      <td>False</td>\n",
       "      <td>False</td>\n",
       "      <td>False</td>\n",
       "      <td>False</td>\n",
       "      <td>False</td>\n",
       "      <td>False</td>\n",
       "      <td>False</td>\n",
       "      <td>False</td>\n",
       "      <td>False</td>\n",
       "      <td>False</td>\n",
       "      <td>True</td>\n",
       "    </tr>\n",
       "    <tr>\n",
       "      <th>25</th>\n",
       "      <td>True</td>\n",
       "      <td>True</td>\n",
       "      <td>True</td>\n",
       "      <td>True</td>\n",
       "      <td>True</td>\n",
       "      <td>True</td>\n",
       "      <td>False</td>\n",
       "      <td>False</td>\n",
       "      <td>False</td>\n",
       "      <td>False</td>\n",
       "      <td>False</td>\n",
       "      <td>False</td>\n",
       "      <td>True</td>\n",
       "      <td>False</td>\n",
       "      <td>False</td>\n",
       "      <td>False</td>\n",
       "      <td>True</td>\n",
       "    </tr>\n",
       "    <tr>\n",
       "      <th>26</th>\n",
       "      <td>True</td>\n",
       "      <td>True</td>\n",
       "      <td>True</td>\n",
       "      <td>True</td>\n",
       "      <td>True</td>\n",
       "      <td>True</td>\n",
       "      <td>False</td>\n",
       "      <td>False</td>\n",
       "      <td>False</td>\n",
       "      <td>False</td>\n",
       "      <td>False</td>\n",
       "      <td>False</td>\n",
       "      <td>False</td>\n",
       "      <td>False</td>\n",
       "      <td>False</td>\n",
       "      <td>False</td>\n",
       "      <td>True</td>\n",
       "    </tr>\n",
       "    <tr>\n",
       "      <th>27</th>\n",
       "      <td>True</td>\n",
       "      <td>True</td>\n",
       "      <td>True</td>\n",
       "      <td>True</td>\n",
       "      <td>True</td>\n",
       "      <td>True</td>\n",
       "      <td>False</td>\n",
       "      <td>False</td>\n",
       "      <td>False</td>\n",
       "      <td>False</td>\n",
       "      <td>False</td>\n",
       "      <td>False</td>\n",
       "      <td>False</td>\n",
       "      <td>True</td>\n",
       "      <td>False</td>\n",
       "      <td>False</td>\n",
       "      <td>True</td>\n",
       "    </tr>\n",
       "    <tr>\n",
       "      <th>28</th>\n",
       "      <td>True</td>\n",
       "      <td>True</td>\n",
       "      <td>True</td>\n",
       "      <td>True</td>\n",
       "      <td>True</td>\n",
       "      <td>True</td>\n",
       "      <td>False</td>\n",
       "      <td>False</td>\n",
       "      <td>False</td>\n",
       "      <td>True</td>\n",
       "      <td>True</td>\n",
       "      <td>True</td>\n",
       "      <td>False</td>\n",
       "      <td>True</td>\n",
       "      <td>False</td>\n",
       "      <td>False</td>\n",
       "      <td>True</td>\n",
       "    </tr>\n",
       "    <tr>\n",
       "      <th>29</th>\n",
       "      <td>True</td>\n",
       "      <td>True</td>\n",
       "      <td>True</td>\n",
       "      <td>True</td>\n",
       "      <td>True</td>\n",
       "      <td>True</td>\n",
       "      <td>False</td>\n",
       "      <td>False</td>\n",
       "      <td>False</td>\n",
       "      <td>False</td>\n",
       "      <td>False</td>\n",
       "      <td>True</td>\n",
       "      <td>False</td>\n",
       "      <td>False</td>\n",
       "      <td>False</td>\n",
       "      <td>False</td>\n",
       "      <td>True</td>\n",
       "    </tr>\n",
       "    <tr>\n",
       "      <th>30</th>\n",
       "      <td>True</td>\n",
       "      <td>True</td>\n",
       "      <td>True</td>\n",
       "      <td>True</td>\n",
       "      <td>True</td>\n",
       "      <td>True</td>\n",
       "      <td>False</td>\n",
       "      <td>False</td>\n",
       "      <td>False</td>\n",
       "      <td>False</td>\n",
       "      <td>False</td>\n",
       "      <td>False</td>\n",
       "      <td>False</td>\n",
       "      <td>False</td>\n",
       "      <td>False</td>\n",
       "      <td>False</td>\n",
       "      <td>True</td>\n",
       "    </tr>\n",
       "    <tr>\n",
       "      <th>31</th>\n",
       "      <td>True</td>\n",
       "      <td>True</td>\n",
       "      <td>True</td>\n",
       "      <td>True</td>\n",
       "      <td>True</td>\n",
       "      <td>True</td>\n",
       "      <td>False</td>\n",
       "      <td>False</td>\n",
       "      <td>False</td>\n",
       "      <td>True</td>\n",
       "      <td>False</td>\n",
       "      <td>False</td>\n",
       "      <td>False</td>\n",
       "      <td>False</td>\n",
       "      <td>False</td>\n",
       "      <td>False</td>\n",
       "      <td>True</td>\n",
       "    </tr>\n",
       "    <tr>\n",
       "      <th>32</th>\n",
       "      <td>True</td>\n",
       "      <td>True</td>\n",
       "      <td>True</td>\n",
       "      <td>True</td>\n",
       "      <td>True</td>\n",
       "      <td>True</td>\n",
       "      <td>False</td>\n",
       "      <td>False</td>\n",
       "      <td>False</td>\n",
       "      <td>True</td>\n",
       "      <td>False</td>\n",
       "      <td>False</td>\n",
       "      <td>False</td>\n",
       "      <td>True</td>\n",
       "      <td>False</td>\n",
       "      <td>False</td>\n",
       "      <td>True</td>\n",
       "    </tr>\n",
       "    <tr>\n",
       "      <th>33</th>\n",
       "      <td>True</td>\n",
       "      <td>True</td>\n",
       "      <td>True</td>\n",
       "      <td>True</td>\n",
       "      <td>True</td>\n",
       "      <td>True</td>\n",
       "      <td>False</td>\n",
       "      <td>False</td>\n",
       "      <td>False</td>\n",
       "      <td>True</td>\n",
       "      <td>False</td>\n",
       "      <td>False</td>\n",
       "      <td>False</td>\n",
       "      <td>False</td>\n",
       "      <td>False</td>\n",
       "      <td>False</td>\n",
       "      <td>True</td>\n",
       "    </tr>\n",
       "    <tr>\n",
       "      <th>34</th>\n",
       "      <td>True</td>\n",
       "      <td>True</td>\n",
       "      <td>True</td>\n",
       "      <td>True</td>\n",
       "      <td>True</td>\n",
       "      <td>True</td>\n",
       "      <td>False</td>\n",
       "      <td>False</td>\n",
       "      <td>False</td>\n",
       "      <td>True</td>\n",
       "      <td>False</td>\n",
       "      <td>True</td>\n",
       "      <td>False</td>\n",
       "      <td>False</td>\n",
       "      <td>False</td>\n",
       "      <td>False</td>\n",
       "      <td>True</td>\n",
       "    </tr>\n",
       "    <tr>\n",
       "      <th>35</th>\n",
       "      <td>True</td>\n",
       "      <td>True</td>\n",
       "      <td>True</td>\n",
       "      <td>True</td>\n",
       "      <td>True</td>\n",
       "      <td>True</td>\n",
       "      <td>False</td>\n",
       "      <td>False</td>\n",
       "      <td>False</td>\n",
       "      <td>True</td>\n",
       "      <td>False</td>\n",
       "      <td>False</td>\n",
       "      <td>False</td>\n",
       "      <td>False</td>\n",
       "      <td>False</td>\n",
       "      <td>False</td>\n",
       "      <td>True</td>\n",
       "    </tr>\n",
       "    <tr>\n",
       "      <th>36</th>\n",
       "      <td>True</td>\n",
       "      <td>True</td>\n",
       "      <td>True</td>\n",
       "      <td>True</td>\n",
       "      <td>True</td>\n",
       "      <td>True</td>\n",
       "      <td>False</td>\n",
       "      <td>False</td>\n",
       "      <td>False</td>\n",
       "      <td>True</td>\n",
       "      <td>True</td>\n",
       "      <td>False</td>\n",
       "      <td>True</td>\n",
       "      <td>True</td>\n",
       "      <td>False</td>\n",
       "      <td>False</td>\n",
       "      <td>True</td>\n",
       "    </tr>\n",
       "    <tr>\n",
       "      <th>37</th>\n",
       "      <td>True</td>\n",
       "      <td>True</td>\n",
       "      <td>True</td>\n",
       "      <td>True</td>\n",
       "      <td>True</td>\n",
       "      <td>True</td>\n",
       "      <td>False</td>\n",
       "      <td>False</td>\n",
       "      <td>False</td>\n",
       "      <td>False</td>\n",
       "      <td>True</td>\n",
       "      <td>False</td>\n",
       "      <td>True</td>\n",
       "      <td>False</td>\n",
       "      <td>False</td>\n",
       "      <td>False</td>\n",
       "      <td>True</td>\n",
       "    </tr>\n",
       "    <tr>\n",
       "      <th>38</th>\n",
       "      <td>True</td>\n",
       "      <td>True</td>\n",
       "      <td>True</td>\n",
       "      <td>True</td>\n",
       "      <td>True</td>\n",
       "      <td>True</td>\n",
       "      <td>False</td>\n",
       "      <td>False</td>\n",
       "      <td>False</td>\n",
       "      <td>False</td>\n",
       "      <td>False</td>\n",
       "      <td>False</td>\n",
       "      <td>False</td>\n",
       "      <td>False</td>\n",
       "      <td>False</td>\n",
       "      <td>False</td>\n",
       "      <td>True</td>\n",
       "    </tr>\n",
       "    <tr>\n",
       "      <th>39</th>\n",
       "      <td>True</td>\n",
       "      <td>True</td>\n",
       "      <td>True</td>\n",
       "      <td>True</td>\n",
       "      <td>True</td>\n",
       "      <td>True</td>\n",
       "      <td>False</td>\n",
       "      <td>False</td>\n",
       "      <td>False</td>\n",
       "      <td>False</td>\n",
       "      <td>True</td>\n",
       "      <td>False</td>\n",
       "      <td>False</td>\n",
       "      <td>False</td>\n",
       "      <td>False</td>\n",
       "      <td>False</td>\n",
       "      <td>True</td>\n",
       "    </tr>\n",
       "  </tbody>\n",
       "</table>\n",
       "</div>"
      ],
      "text/plain": [
       "    beer_name  beer_id  brewery_name  brewery_id  style   abv   date  \\\n",
       "0        True     True          True        True   True  True  False   \n",
       "1        True     True          True        True   True  True  False   \n",
       "2        True     True          True        True   True  True  False   \n",
       "3        True     True          True        True   True  True  False   \n",
       "4        True     True          True        True   True  True  False   \n",
       "5        True     True          True        True   True  True  False   \n",
       "6        True     True          True        True   True  True  False   \n",
       "7        True     True          True        True   True  True  False   \n",
       "8        True     True          True        True   True  True  False   \n",
       "9        True     True          True        True   True  True  False   \n",
       "10       True     True          True        True   True  True  False   \n",
       "11       True     True          True        True   True  True  False   \n",
       "12       True     True          True        True   True  True  False   \n",
       "13       True     True          True        True   True  True  False   \n",
       "14       True     True          True        True   True  True  False   \n",
       "15       True     True          True        True   True  True  False   \n",
       "16       True     True          True        True   True  True  False   \n",
       "17       True     True          True        True   True  True  False   \n",
       "18       True     True          True        True   True  True  False   \n",
       "19       True     True          True        True   True  True  False   \n",
       "20       True     True          True        True   True  True  False   \n",
       "21       True     True          True        True   True  True  False   \n",
       "22       True     True          True        True   True  True  False   \n",
       "23       True     True          True        True   True  True  False   \n",
       "24       True     True          True        True   True  True  False   \n",
       "25       True     True          True        True   True  True  False   \n",
       "26       True     True          True        True   True  True  False   \n",
       "27       True     True          True        True   True  True  False   \n",
       "28       True     True          True        True   True  True  False   \n",
       "29       True     True          True        True   True  True  False   \n",
       "30       True     True          True        True   True  True  False   \n",
       "31       True     True          True        True   True  True  False   \n",
       "32       True     True          True        True   True  True  False   \n",
       "33       True     True          True        True   True  True  False   \n",
       "34       True     True          True        True   True  True  False   \n",
       "35       True     True          True        True   True  True  False   \n",
       "36       True     True          True        True   True  True  False   \n",
       "37       True     True          True        True   True  True  False   \n",
       "38       True     True          True        True   True  True  False   \n",
       "39       True     True          True        True   True  True  False   \n",
       "\n",
       "    user_name  user_id  appearance  aroma  palate  taste  overall  rating  \\\n",
       "0       False    False       False  False   False  False    False   False   \n",
       "1       False    False       False  False   False  False    False   False   \n",
       "2       False    False       False  False   False  False    False   False   \n",
       "3       False    False       False  False   False  False    False   False   \n",
       "4       False    False       False  False   False  False    False   False   \n",
       "5       False    False       False  False   False  False    False   False   \n",
       "6       False    False       False  False   False  False    False   False   \n",
       "7       False    False       False  False   False  False    False   False   \n",
       "8       False    False        True  False   False  False    False   False   \n",
       "9       False    False       False  False   False  False    False   False   \n",
       "10      False    False       False  False   False  False    False   False   \n",
       "11      False    False       False  False   False  False    False   False   \n",
       "12      False    False       False   True   False  False    False   False   \n",
       "13      False    False       False  False   False  False    False   False   \n",
       "14      False    False       False   True   False  False    False   False   \n",
       "15      False    False       False  False   False  False    False   False   \n",
       "16      False    False       False  False    True  False    False   False   \n",
       "17      False    False        True  False   False  False    False   False   \n",
       "18      False    False       False  False   False  False    False   False   \n",
       "19      False    False       False  False   False   True     True    True   \n",
       "20      False    False       False  False   False  False    False   False   \n",
       "21      False    False       False  False   False  False    False    True   \n",
       "22      False    False       False  False   False  False    False   False   \n",
       "23      False    False       False  False   False  False    False   False   \n",
       "24      False    False       False  False   False  False    False   False   \n",
       "25      False    False       False  False   False   True    False   False   \n",
       "26      False    False       False  False   False  False    False   False   \n",
       "27      False    False       False  False   False  False     True   False   \n",
       "28      False    False        True   True    True  False     True   False   \n",
       "29      False    False       False  False    True  False    False   False   \n",
       "30      False    False       False  False   False  False    False   False   \n",
       "31      False    False        True  False   False  False    False   False   \n",
       "32      False    False        True  False   False  False     True   False   \n",
       "33      False    False        True  False   False  False    False   False   \n",
       "34      False    False        True  False    True  False    False   False   \n",
       "35      False    False        True  False   False  False    False   False   \n",
       "36      False    False        True   True   False   True     True   False   \n",
       "37      False    False       False   True   False   True    False   False   \n",
       "38      False    False       False  False   False  False    False   False   \n",
       "39      False    False       False   True   False  False    False   False   \n",
       "\n",
       "     text  review  \n",
       "0   False   False  \n",
       "1   False   False  \n",
       "2   False   False  \n",
       "3   False   False  \n",
       "4   False   False  \n",
       "5   False   False  \n",
       "6   False   False  \n",
       "7   False    True  \n",
       "8   False    True  \n",
       "9   False   False  \n",
       "10  False   False  \n",
       "11  False   False  \n",
       "12  False    True  \n",
       "13  False   False  \n",
       "14  False    True  \n",
       "15  False   False  \n",
       "16  False    True  \n",
       "17  False    True  \n",
       "18  False   False  \n",
       "19  False    True  \n",
       "20  False   False  \n",
       "21  False   False  \n",
       "22  False    True  \n",
       "23  False   False  \n",
       "24  False    True  \n",
       "25  False    True  \n",
       "26  False    True  \n",
       "27  False    True  \n",
       "28  False    True  \n",
       "29  False    True  \n",
       "30  False    True  \n",
       "31  False    True  \n",
       "32  False    True  \n",
       "33  False    True  \n",
       "34  False    True  \n",
       "35  False    True  \n",
       "36  False    True  \n",
       "37  False    True  \n",
       "38  False    True  \n",
       "39  False    True  "
      ]
     },
     "execution_count": 16,
     "metadata": {},
     "output_type": "execute_result"
    }
   ],
   "source": [
    "# this approach doesnt work on: \n",
    "MB_compare_ba = MB_ratings_with_text_ba.isin(MB_ratings_ba)\n",
    "MB_compare_ba.head(40)"
   ]
  },
  {
   "cell_type": "markdown",
   "metadata": {},
   "source": [
    "actually the recognition does work... but just for aroma and review, and just for the 8th row...... let's try to look at the datatype."
   ]
  },
  {
   "cell_type": "code",
   "execution_count": 238,
   "metadata": {},
   "outputs": [
    {
     "data": {
      "text/plain": [
       "beer_name        object\n",
       "beer_id           int64\n",
       "brewery_name     object\n",
       "brewery_id        int64\n",
       "style            object\n",
       "abv             float64\n",
       "date             object\n",
       "user_name        object\n",
       "user_id          object\n",
       "appearance       object\n",
       "aroma            object\n",
       "palate           object\n",
       "taste            object\n",
       "overall          object\n",
       "rating          float64\n",
       "text             object\n",
       "review           object\n",
       "dtype: object"
      ]
     },
     "execution_count": 238,
     "metadata": {},
     "output_type": "execute_result"
    }
   ],
   "source": [
    "MB_ratings_ba.dtypes\n",
    "MB_ratings_with_text_ba.dtypes"
   ]
  },
  {
   "cell_type": "markdown",
   "metadata": {},
   "source": [
    "Thus we need to convert the values in the right datatype first:"
   ]
  },
  {
   "cell_type": "code",
   "execution_count": 249,
   "metadata": {},
   "outputs": [
    {
     "data": {
      "text/plain": [
       "beer_name       string[python]\n",
       "beer_id                  Int64\n",
       "brewery_name    string[python]\n",
       "brewery_id               Int64\n",
       "style           string[python]\n",
       "abv                    Float64\n",
       "date            string[python]\n",
       "user_name       string[python]\n",
       "user_id         string[python]\n",
       "appearance      string[python]\n",
       "aroma           string[python]\n",
       "palate          string[python]\n",
       "taste           string[python]\n",
       "overall         string[python]\n",
       "rating                 Float64\n",
       "text            string[python]\n",
       "review          string[python]\n",
       "dtype: object"
      ]
     },
     "execution_count": 249,
     "metadata": {},
     "output_type": "execute_result"
    }
   ],
   "source": [
    "MB_ratings_with_text_ba = MB_ratings_with_text_ba.convert_dtypes(infer_objects=True, convert_string=True,\n",
    "      convert_integer=True, convert_boolean=True, convert_floating=True)\n",
    "MB_ratings_with_text_ba.dtypes"
   ]
  },
  {
   "cell_type": "markdown",
   "metadata": {},
   "source": [
    "This does not seem to work properly, so we convert manually:"
   ]
  },
  {
   "cell_type": "code",
   "execution_count": 251,
   "metadata": {},
   "outputs": [],
   "source": [
    "MB_ratings_with_text_ba['review'] = MB_ratings_with_text_ba['review'].astype(bool)\n",
    "MB_ratings_ba['review'] = MB_ratings_ba['review'].astype(bool)\n",
    "\n",
    "MB_ratings_ba['date'] = pd.to_datetime(MB_ratings_ba['date'], errors='coerce')\n",
    "MB_ratings_with_text_ba['date'] = pd.to_datetime(MB_ratings_with_text_ba['date'], errors='coerce')\n",
    "\n",
    "MB_ratings_ba[['user_name', 'user_id', 'text']] = MB_ratings_ba[['user_name', 'user_id', 'text']].astype('string')\n",
    "MB_ratings_with_text_ba[['user_name', 'user_id', 'text']] = MB_ratings_with_text_ba[['user_name', 'user_id', 'text']].astype('string')\n",
    "\n",
    "MB_ratings_ba[['appearance', 'aroma', 'palate', 'taste', 'overall']] = MB_ratings_ba[['appearance', 'aroma', 'palate', 'taste', 'overall']].apply(pd.to_numeric, errors='coerce')\n",
    "MB_ratings_with_text_ba[['appearance', 'aroma', 'palate', 'taste', 'overall']] = MB_ratings_with_text_ba[['appearance', 'aroma', 'palate', 'taste', 'overall']].apply(pd.to_numeric, errors='coerce')"
   ]
  },
  {
   "cell_type": "code",
   "execution_count": 252,
   "metadata": {},
   "outputs": [
    {
     "data": {
      "text/plain": [
       "beer_name       string[python]\n",
       "beer_id                  Int64\n",
       "brewery_name    string[python]\n",
       "brewery_id               Int64\n",
       "style           string[python]\n",
       "abv                    Float64\n",
       "date            datetime64[ns]\n",
       "user_name       string[python]\n",
       "user_id         string[python]\n",
       "appearance             Float64\n",
       "aroma                  Float64\n",
       "palate                 Float64\n",
       "taste                  Float64\n",
       "overall                Float64\n",
       "rating                 Float64\n",
       "text            string[python]\n",
       "review                    bool\n",
       "dtype: object"
      ]
     },
     "execution_count": 252,
     "metadata": {},
     "output_type": "execute_result"
    }
   ],
   "source": [
    "MB_ratings_ba.dtypes,\n",
    "MB_ratings_with_text_ba.dtypes\n"
   ]
  },
  {
   "cell_type": "code",
   "execution_count": 18,
   "metadata": {},
   "outputs": [
    {
     "data": {
      "text/html": [
       "<div>\n",
       "<style scoped>\n",
       "    .dataframe tbody tr th:only-of-type {\n",
       "        vertical-align: middle;\n",
       "    }\n",
       "\n",
       "    .dataframe tbody tr th {\n",
       "        vertical-align: top;\n",
       "    }\n",
       "\n",
       "    .dataframe thead th {\n",
       "        text-align: right;\n",
       "    }\n",
       "</style>\n",
       "<table border=\"1\" class=\"dataframe\">\n",
       "  <thead>\n",
       "    <tr style=\"text-align: right;\">\n",
       "      <th></th>\n",
       "      <th>beer_name</th>\n",
       "      <th>beer_id</th>\n",
       "      <th>brewery_name</th>\n",
       "      <th>brewery_id</th>\n",
       "      <th>style</th>\n",
       "      <th>abv</th>\n",
       "      <th>date</th>\n",
       "      <th>user_name</th>\n",
       "      <th>user_id</th>\n",
       "      <th>appearance</th>\n",
       "      <th>aroma</th>\n",
       "      <th>palate</th>\n",
       "      <th>taste</th>\n",
       "      <th>overall</th>\n",
       "      <th>rating</th>\n",
       "      <th>text</th>\n",
       "      <th>review</th>\n",
       "    </tr>\n",
       "  </thead>\n",
       "  <tbody>\n",
       "    <tr>\n",
       "      <th>0</th>\n",
       "      <td>True</td>\n",
       "      <td>True</td>\n",
       "      <td>True</td>\n",
       "      <td>True</td>\n",
       "      <td>True</td>\n",
       "      <td>True</td>\n",
       "      <td>False</td>\n",
       "      <td>False</td>\n",
       "      <td>False</td>\n",
       "      <td>False</td>\n",
       "      <td>False</td>\n",
       "      <td>False</td>\n",
       "      <td>False</td>\n",
       "      <td>False</td>\n",
       "      <td>False</td>\n",
       "      <td>False</td>\n",
       "      <td>False</td>\n",
       "    </tr>\n",
       "    <tr>\n",
       "      <th>1</th>\n",
       "      <td>True</td>\n",
       "      <td>True</td>\n",
       "      <td>True</td>\n",
       "      <td>True</td>\n",
       "      <td>True</td>\n",
       "      <td>True</td>\n",
       "      <td>False</td>\n",
       "      <td>False</td>\n",
       "      <td>False</td>\n",
       "      <td>False</td>\n",
       "      <td>False</td>\n",
       "      <td>False</td>\n",
       "      <td>False</td>\n",
       "      <td>False</td>\n",
       "      <td>False</td>\n",
       "      <td>False</td>\n",
       "      <td>False</td>\n",
       "    </tr>\n",
       "    <tr>\n",
       "      <th>2</th>\n",
       "      <td>True</td>\n",
       "      <td>True</td>\n",
       "      <td>True</td>\n",
       "      <td>True</td>\n",
       "      <td>True</td>\n",
       "      <td>True</td>\n",
       "      <td>False</td>\n",
       "      <td>False</td>\n",
       "      <td>False</td>\n",
       "      <td>False</td>\n",
       "      <td>False</td>\n",
       "      <td>False</td>\n",
       "      <td>False</td>\n",
       "      <td>False</td>\n",
       "      <td>False</td>\n",
       "      <td>False</td>\n",
       "      <td>False</td>\n",
       "    </tr>\n",
       "    <tr>\n",
       "      <th>3</th>\n",
       "      <td>True</td>\n",
       "      <td>True</td>\n",
       "      <td>True</td>\n",
       "      <td>True</td>\n",
       "      <td>True</td>\n",
       "      <td>True</td>\n",
       "      <td>False</td>\n",
       "      <td>False</td>\n",
       "      <td>False</td>\n",
       "      <td>False</td>\n",
       "      <td>False</td>\n",
       "      <td>False</td>\n",
       "      <td>False</td>\n",
       "      <td>False</td>\n",
       "      <td>False</td>\n",
       "      <td>False</td>\n",
       "      <td>False</td>\n",
       "    </tr>\n",
       "    <tr>\n",
       "      <th>4</th>\n",
       "      <td>True</td>\n",
       "      <td>True</td>\n",
       "      <td>True</td>\n",
       "      <td>True</td>\n",
       "      <td>True</td>\n",
       "      <td>True</td>\n",
       "      <td>False</td>\n",
       "      <td>False</td>\n",
       "      <td>False</td>\n",
       "      <td>False</td>\n",
       "      <td>False</td>\n",
       "      <td>False</td>\n",
       "      <td>False</td>\n",
       "      <td>False</td>\n",
       "      <td>False</td>\n",
       "      <td>False</td>\n",
       "      <td>False</td>\n",
       "    </tr>\n",
       "    <tr>\n",
       "      <th>...</th>\n",
       "      <td>...</td>\n",
       "      <td>...</td>\n",
       "      <td>...</td>\n",
       "      <td>...</td>\n",
       "      <td>...</td>\n",
       "      <td>...</td>\n",
       "      <td>...</td>\n",
       "      <td>...</td>\n",
       "      <td>...</td>\n",
       "      <td>...</td>\n",
       "      <td>...</td>\n",
       "      <td>...</td>\n",
       "      <td>...</td>\n",
       "      <td>...</td>\n",
       "      <td>...</td>\n",
       "      <td>...</td>\n",
       "      <td>...</td>\n",
       "    </tr>\n",
       "    <tr>\n",
       "      <th>75</th>\n",
       "      <td>False</td>\n",
       "      <td>False</td>\n",
       "      <td>True</td>\n",
       "      <td>True</td>\n",
       "      <td>False</td>\n",
       "      <td>False</td>\n",
       "      <td>False</td>\n",
       "      <td>False</td>\n",
       "      <td>False</td>\n",
       "      <td>False</td>\n",
       "      <td>False</td>\n",
       "      <td>False</td>\n",
       "      <td>False</td>\n",
       "      <td>False</td>\n",
       "      <td>False</td>\n",
       "      <td>False</td>\n",
       "      <td>True</td>\n",
       "    </tr>\n",
       "    <tr>\n",
       "      <th>76</th>\n",
       "      <td>False</td>\n",
       "      <td>False</td>\n",
       "      <td>True</td>\n",
       "      <td>True</td>\n",
       "      <td>False</td>\n",
       "      <td>False</td>\n",
       "      <td>False</td>\n",
       "      <td>False</td>\n",
       "      <td>False</td>\n",
       "      <td>False</td>\n",
       "      <td>False</td>\n",
       "      <td>False</td>\n",
       "      <td>False</td>\n",
       "      <td>False</td>\n",
       "      <td>False</td>\n",
       "      <td>False</td>\n",
       "      <td>False</td>\n",
       "    </tr>\n",
       "    <tr>\n",
       "      <th>77</th>\n",
       "      <td>False</td>\n",
       "      <td>False</td>\n",
       "      <td>True</td>\n",
       "      <td>True</td>\n",
       "      <td>False</td>\n",
       "      <td>False</td>\n",
       "      <td>False</td>\n",
       "      <td>False</td>\n",
       "      <td>False</td>\n",
       "      <td>False</td>\n",
       "      <td>False</td>\n",
       "      <td>False</td>\n",
       "      <td>False</td>\n",
       "      <td>False</td>\n",
       "      <td>False</td>\n",
       "      <td>False</td>\n",
       "      <td>False</td>\n",
       "    </tr>\n",
       "    <tr>\n",
       "      <th>78</th>\n",
       "      <td>False</td>\n",
       "      <td>False</td>\n",
       "      <td>True</td>\n",
       "      <td>True</td>\n",
       "      <td>False</td>\n",
       "      <td>False</td>\n",
       "      <td>False</td>\n",
       "      <td>False</td>\n",
       "      <td>False</td>\n",
       "      <td>True</td>\n",
       "      <td>False</td>\n",
       "      <td>True</td>\n",
       "      <td>True</td>\n",
       "      <td>False</td>\n",
       "      <td>False</td>\n",
       "      <td>False</td>\n",
       "      <td>True</td>\n",
       "    </tr>\n",
       "    <tr>\n",
       "      <th>79</th>\n",
       "      <td>False</td>\n",
       "      <td>False</td>\n",
       "      <td>True</td>\n",
       "      <td>True</td>\n",
       "      <td>False</td>\n",
       "      <td>False</td>\n",
       "      <td>False</td>\n",
       "      <td>False</td>\n",
       "      <td>False</td>\n",
       "      <td>False</td>\n",
       "      <td>True</td>\n",
       "      <td>False</td>\n",
       "      <td>True</td>\n",
       "      <td>False</td>\n",
       "      <td>False</td>\n",
       "      <td>False</td>\n",
       "      <td>True</td>\n",
       "    </tr>\n",
       "  </tbody>\n",
       "</table>\n",
       "<p>80 rows × 17 columns</p>\n",
       "</div>"
      ],
      "text/plain": [
       "    beer_name  beer_id  brewery_name  brewery_id  style    abv   date  \\\n",
       "0        True     True          True        True   True   True  False   \n",
       "1        True     True          True        True   True   True  False   \n",
       "2        True     True          True        True   True   True  False   \n",
       "3        True     True          True        True   True   True  False   \n",
       "4        True     True          True        True   True   True  False   \n",
       "..        ...      ...           ...         ...    ...    ...    ...   \n",
       "75      False    False          True        True  False  False  False   \n",
       "76      False    False          True        True  False  False  False   \n",
       "77      False    False          True        True  False  False  False   \n",
       "78      False    False          True        True  False  False  False   \n",
       "79      False    False          True        True  False  False  False   \n",
       "\n",
       "    user_name  user_id  appearance  aroma  palate  taste  overall  rating  \\\n",
       "0       False    False       False  False   False  False    False   False   \n",
       "1       False    False       False  False   False  False    False   False   \n",
       "2       False    False       False  False   False  False    False   False   \n",
       "3       False    False       False  False   False  False    False   False   \n",
       "4       False    False       False  False   False  False    False   False   \n",
       "..        ...      ...         ...    ...     ...    ...      ...     ...   \n",
       "75      False    False       False  False   False  False    False   False   \n",
       "76      False    False       False  False   False  False    False   False   \n",
       "77      False    False       False  False   False  False    False   False   \n",
       "78      False    False        True  False    True   True    False   False   \n",
       "79      False    False       False   True   False   True    False   False   \n",
       "\n",
       "     text  review  \n",
       "0   False   False  \n",
       "1   False   False  \n",
       "2   False   False  \n",
       "3   False   False  \n",
       "4   False   False  \n",
       "..    ...     ...  \n",
       "75  False    True  \n",
       "76  False   False  \n",
       "77  False   False  \n",
       "78  False    True  \n",
       "79  False    True  \n",
       "\n",
       "[80 rows x 17 columns]"
      ]
     },
     "execution_count": 18,
     "metadata": {},
     "output_type": "execute_result"
    }
   ],
   "source": [
    "MB_compare_ba = MB_ratings_with_text_ba.isin(MB_ratings_ba)\n",
    "MB_compare_ba.head(80)#, MB_compare_ba.shape"
   ]
  },
  {
   "cell_type": "code",
   "execution_count": 22,
   "metadata": {},
   "outputs": [
    {
     "data": {
      "text/plain": [
       "0"
      ]
     },
     "execution_count": 22,
     "metadata": {},
     "output_type": "execute_result"
    }
   ],
   "source": [
    "MB_compare_ba.eq(True).all(axis=1).sum() "
   ]
  },
  {
   "cell_type": "markdown",
   "metadata": {},
   "source": [
    "That doesnt seem to work, but most likely all the rating_with text is included into rating .. just need to figure out how to compare them\n",
    "-> question to TA?"
   ]
  },
  {
   "cell_type": "markdown",
   "metadata": {},
   "source": [
    "#### MB_ratings_rb"
   ]
  },
  {
   "cell_type": "code",
   "execution_count": null,
   "metadata": {},
   "outputs": [],
   "source": [
    "MB_ratings_with_text_rb"
   ]
  },
  {
   "cell_type": "markdown",
   "metadata": {},
   "source": [
    "#### another question to adress, is if the MB rating data is contained in RB or BA, which would make sense given the name, but in that case we would not need to bother with the MB data as it is already contained in the other two datasets..."
   ]
  },
  {
   "cell_type": "markdown",
   "metadata": {},
   "source": [
    "## Preprocessing of data: Isolation of gluten-free beers and their associated ratings"
   ]
  },
  {
   "cell_type": "code",
   "execution_count": null,
   "metadata": {},
   "outputs": [],
   "source": [
    "#Importing csv files created before (heavy and relatively long)\n",
    "rb_ratings=pd.read_csv('data/RB_ratings.csv',header=0,low_memory=False) #rb = ratebeer dataset\n",
    "ba_ratings=pd.read_csv(\"data/BA_ratings.csv\", header=0, low_memory=False) #ba = beeradvocate dataset"
   ]
  },
  {
   "cell_type": "code",
   "execution_count": null,
   "metadata": {},
   "outputs": [],
   "source": [
    "#Importing users and beers data\n",
    "rb_users=pd.read_csv('data/RateBeer/users.csv',header=0)\n",
    "rb_beers=pd.read_csv('data/RateBeer/beers.csv',header=0)\n",
    "ba_users=pd.read_csv('data/BeerAdvocate/users.csv',header=0)\n",
    "ba_beers=pd.read_csv('data/BeerAdvocate/beers.csv',header=0)"
   ]
  },
  {
   "cell_type": "markdown",
   "metadata": {},
   "source": [
    "### Looking at what beers are gluten-free in RateBeer and BeerAdvocate"
   ]
  },
  {
   "cell_type": "code",
   "execution_count": null,
   "metadata": {},
   "outputs": [],
   "source": [
    "rb_gf_beers=rb_beers[rb_beers['beer_name'].str.contains('gluten',case=False, na=False)]\n",
    "rb_gf_beers_id=rb_gf_beers['beer_id']\n",
    "print(\"Number of gluten-free beers in RateBeer:\",rb_gf_beers.shape[0])"
   ]
  },
  {
   "cell_type": "code",
   "execution_count": null,
   "metadata": {},
   "outputs": [],
   "source": [
    "ba_gf_beers=ba_beers[ba_beers['beer_name'].str.contains('gluten',case=False, na=False)]\n",
    "ba_gf_beers_id=ba_gf_beers['beer_id']\n",
    "print(\"Number of gluten-free beers in BeerAdvocate:\",ba_gf_beers.shape[0])"
   ]
  },
  {
   "cell_type": "code",
   "execution_count": null,
   "metadata": {},
   "outputs": [],
   "source": [
    "#Number of coinciding beers between the two datasets:\n",
    "coinciding_gf_beer=ba_gf_beers['beer_name'].isin(rb_gf_beers['beer_name'])\n",
    "print('there are ', coinciding_gf_beer.sum(),' beers present in both dataset')\n",
    "print('those beers are:','\\n',ba_gf_beers[coinciding_gf_beer]['beer_name'].values)"
   ]
  },
  {
   "cell_type": "markdown",
   "metadata": {},
   "source": [
    "### Creation of ratings sub-dataset for only gluten-free beers"
   ]
  },
  {
   "cell_type": "code",
   "execution_count": null,
   "metadata": {},
   "outputs": [],
   "source": [
    "rb_gf_ratings=rb_ratings[rb_ratings['beer_id'].isin(rb_gf_beers_id)]\n",
    "rb_gf_ratings=rb_gf_ratings.merge(rb_users[['user_id','location']],on='user_id') #add location of users\n"
   ]
  },
  {
   "cell_type": "markdown",
   "metadata": {},
   "source": [
    "For BeerAdvocate dataset, user_id are in form of \"user_name.#someID\", which creates problem when trying to merge on it, so we need to convert it to an actual numeric id. Here we will keep the id that is after the dot. This doesn't grant uniqueness of IDs, depleting the duplicates will"
   ]
  },
  {
   "cell_type": "code",
   "execution_count": null,
   "metadata": {},
   "outputs": [],
   "source": [
    "import re\n",
    "\n",
    "ba_users['user_id'] = ba_users['user_id'].apply(lambda x: re.findall(r'\\.(\\d+)', x)[0]).astype(int)\n",
    "ba_ratings['user_id'] = ba_ratings['user_id'].apply(lambda x: re.findall(r'\\.(\\d+)', x)[0]).astype(int)\n",
    "\n",
    "duplicate_ba_id=ba_users[ba_users['user_id'].duplicated(keep='first')]['user_id']\n",
    "ba_users=ba_users.drop(axis=0, index=duplicate_ba_id.index.values)\n",
    "duplicate_ba_id_indexinratings= ba_ratings[ba_ratings['user_id'].isin(duplicate_ba_id)].index.values #get index of ratings placed by person with duplicate id\n",
    "ba_ratings=ba_ratings.drop(axis=0,index=duplicate_ba_id_indexinratings)\n",
    "\n",
    "ba_gf_ratings=ba_ratings[ba_ratings['beer_id'].isin(ba_gf_beers['beer_id'])]\n",
    "ba_gf_ratings=ba_gf_ratings.merge(ba_users[['user_id','location']],on='user_id')"
   ]
  },
  {
   "cell_type": "markdown",
   "metadata": {},
   "source": [
    "### Change date to year only\n",
    "\n",
    "Output of the timestamp function is not easily useable to look at evolution overtime. To change that, we will only look at the year of the ratings"
   ]
  },
  {
   "cell_type": "code",
   "execution_count": null,
   "metadata": {},
   "outputs": [],
   "source": [
    "ba_ratings['year']=ba_ratings['date'].apply(lambda x:int(x[:4])) #4 first characters of timestamp is the year the rating was posted\n",
    "ba_gf_ratings['year']=ba_gf_ratings['date'].apply(lambda x:int(x[:4]))\n",
    "\n",
    "rb_ratings['year']=rb_ratings['date'].apply(lambda x:int(x[:4])) #4 first characters of timestamp is the year the rating was posted\n",
    "rb_gf_ratings['year']=rb_gf_ratings['date'].apply(lambda x:int(x[:4]))"
   ]
  },
  {
   "cell_type": "markdown",
   "metadata": {},
   "source": [
    "### Saving the files as csv"
   ]
  },
  {
   "cell_type": "code",
   "execution_count": null,
   "metadata": {},
   "outputs": [],
   "source": [
    "rb_gf_ratings.to_csv(\"data/rb_gf_ratings.csv\",index=False,header=True)\n",
    "ba_gf_ratings.to_csv(\"data/ba_gf_ratings.csv\",index=False,header=True)"
   ]
  },
  {
   "cell_type": "markdown",
   "metadata": {},
   "source": [
    "# Exploratory Data Analysis"
   ]
  },
  {
   "cell_type": "markdown",
   "metadata": {},
   "source": [
    "## How many breweries produce just one beer "
   ]
  },
  {
   "cell_type": "code",
   "execution_count": null,
   "metadata": {},
   "outputs": [
    {
     "name": "stdout",
     "output_type": "stream",
     "text": [
      "breweries that produced only one beer: 3958\n",
      "that is, 23.62 %\n"
     ]
    }
   ],
   "source": [
    "# BA data\n",
    "print('breweries that produced only one beer:', len(BA_breweries.loc[BA_breweries['nbr_beers'] <= 1]))\n",
    "percent = len(BA_breweries.loc[BA_breweries['nbr_beers'] <= 1]) / len(BA_breweries) * 100\n",
    "print('that is,', round(percent, 2),'%')"
   ]
  },
  {
   "cell_type": "code",
   "execution_count": 36,
   "metadata": {},
   "outputs": [
    {
     "name": "stdout",
     "output_type": "stream",
     "text": [
      "breweries that produced only one beer: 2745\n",
      "that is, 11.35 %\n"
     ]
    }
   ],
   "source": [
    "# RB data\n",
    "print('breweries that produced only one beer:', len(RB_breweries.loc[RB_breweries['nbr_beers'] <= 1]))\n",
    "percent = len(RB_breweries.loc[RB_breweries['nbr_beers'] <= 1]) / len(RB_breweries) * 100\n",
    "print('that is,', round(percent, 2),'%')"
   ]
  },
  {
   "cell_type": "markdown",
   "metadata": {},
   "source": [
    "## How many languages?"
   ]
  },
  {
   "cell_type": "markdown",
   "metadata": {},
   "source": [
    "### Install requirements and load SpaCY package\n",
    "\n",
    "separate installation :\n",
    "\n",
    "pip install spacy-langdetect\n",
    "\n",
    "pip install spacy\n",
    "\n",
    "spacy download en_core_web_sm"
   ]
  },
  {
   "cell_type": "code",
   "execution_count": 1,
   "metadata": {},
   "outputs": [
    {
     "data": {
      "text/plain": [
       "<spacy_langdetect.spacy_langdetect.LanguageDetector at 0x1f7326ca2d0>"
      ]
     },
     "execution_count": 1,
     "metadata": {},
     "output_type": "execute_result"
    }
   ],
   "source": [
    "import spacy\n",
    "from spacy.language import Language\n",
    "from spacy_langdetect import LanguageDetector\n",
    "\n",
    "def get_lang_detector(nlp, name):\n",
    "    return LanguageDetector()\n",
    "\n",
    "nlp = spacy.load(\"en_core_web_sm\")\n",
    "Language.factory(\"language_detector\", func=get_lang_detector)\n",
    "nlp.add_pipe('language_detector', last=True)"
   ]
  },
  {
   "cell_type": "markdown",
   "metadata": {},
   "source": [
    "### Search in MB_ratings_with_text_ba"
   ]
  },
  {
   "cell_type": "code",
   "execution_count": 40,
   "metadata": {},
   "outputs": [
    {
     "name": "stdout",
     "output_type": "stream",
     "text": [
      "{'language': 'en', 'score': 0.9999976138685517}\n"
     ]
    }
   ],
   "source": [
    "text = 'This is an english text.'\n",
    "doc = nlp(text)\n",
    "print(doc._.language)"
   ]
  },
  {
   "cell_type": "code",
   "execution_count": 58,
   "metadata": {},
   "outputs": [],
   "source": [
    "BA_text = MB_ratings_with_text_ba['text'][:1000]"
   ]
  },
  {
   "cell_type": "code",
   "execution_count": 74,
   "metadata": {},
   "outputs": [],
   "source": [
    "# needs about 20s for 1000 rows\n",
    "lang_result_BA = []\n",
    "for row in range(len(BA_text)):\n",
    "    doc = nlp(BA_text[row])\n",
    "    lang_result_BA.append(doc._.language['language']) "
   ]
  },
  {
   "cell_type": "code",
   "execution_count": 61,
   "metadata": {},
   "outputs": [
    {
     "data": {
      "text/plain": [
       "99.8"
      ]
     },
     "execution_count": 61,
     "metadata": {},
     "output_type": "execute_result"
    }
   ],
   "source": [
    "# test how much en is in lang_result_BA\n",
    "lang_result_BA.count('en') / len(lang_result_BA) * 100"
   ]
  },
  {
   "cell_type": "code",
   "execution_count": 62,
   "metadata": {},
   "outputs": [
    {
     "data": {
      "image/png": "[encoded data removed]",
      "text/plain": [
       "<Figure size 640x480 with 1 Axes>"
      ]
     },
     "metadata": {},
     "output_type": "display_data"
    }
   ],
   "source": [
    "# display the distribution of languages\n",
    "sns.set_theme(style=\"darkgrid\")\n",
    "ax = sns.countplot(x=lang_result_BA)\n",
    "ax.set_title('Distribution of languages in BA reviews')\n",
    "ax.set_xlabel('Language')\n",
    "ax.set_ylabel('Number of reviews')\n",
    "plt.show()"
   ]
  },
  {
   "cell_type": "code",
   "execution_count": 73,
   "metadata": {},
   "outputs": [
    {
     "data": {
      "text/plain": [
       "(561, 578)"
      ]
     },
     "execution_count": 73,
     "metadata": {},
     "output_type": "execute_result"
    }
   ],
   "source": [
    "# find other language indexes\n",
    "lang_result_BA.index('so'), lang_result_BA.index('nl')"
   ]
  },
  {
   "cell_type": "code",
   "execution_count": 69,
   "metadata": {},
   "outputs": [
    {
     "name": "stdout",
     "output_type": "stream",
     "text": [
      " Cask \n",
      "\n",
      " Good not amazing decent bottke \n",
      "\n"
     ]
    }
   ],
   "source": [
    "# display other language reviews\n",
    "print(BA_text[lang_result_BA.index('so')], '\\n') #might be english, slowenian, or slovak..\n",
    "print(BA_text[lang_result_BA.index('nl')], '\\n') #likely a typo"
   ]
  },
  {
   "cell_type": "markdown",
   "metadata": {},
   "source": [
    "## How many beertypes .."
   ]
  },
  {
   "cell_type": "markdown",
   "metadata": {},
   "source": [
    "# Sentiment Analysis"
   ]
  },
  {
   "cell_type": "markdown",
   "metadata": {},
   "source": [
    "## Subsetting the data"
   ]
  },
  {
   "cell_type": "markdown",
   "metadata": {},
   "source": [
    "Reviews of the beers matter. Similar as the numerical ratings, sentiment analysis can be used to indicate the evaluation the reviewer gave to the beer. Such an analysis would be helpful for us to understand the data better and to see if the reviews are in line with the numerical ratings across different beer types, breweries, regions, etc."
   ]
  },
  {
   "cell_type": "markdown",
   "metadata": {},
   "source": [
    "Here as a pilot study, we will simply use a subset of from the `BA_ratings` to conduct the sentiment analysis. We want to first see if the sentiment analysis can be done in a reasonable time with promising results. If so, we will then further look for potentially better models and implementations."
   ]
  },
  {
   "cell_type": "code",
   "execution_count": 52,
   "metadata": {},
   "outputs": [
    {
     "name": "stdout",
     "output_type": "stream",
     "text": [
      "number of unique beer in BA: 247982\n",
      "most common beer id in BA: 11757\n"
     ]
    }
   ],
   "source": [
    "# show number of unique breweries\n",
    "print('number of unique beer in BA:', len(BA_ratings['beer_id'].unique()))\n",
    "# get the brewery id that appears the most time\n",
    "print('most common beer id in BA:', BA_ratings['beer_id'].value_counts().idxmax())"
   ]
  },
  {
   "cell_type": "code",
   "execution_count": 58,
   "metadata": {},
   "outputs": [
    {
     "name": "stdout",
     "output_type": "stream",
     "text": [
      "# samples:  16509\n",
      "# unique beers:  1\n"
     ]
    },
    {
     "data": {
      "text/html": [
       "<div>\n",
       "<style scoped>\n",
       "    .dataframe tbody tr th:only-of-type {\n",
       "        vertical-align: middle;\n",
       "    }\n",
       "\n",
       "    .dataframe tbody tr th {\n",
       "        vertical-align: top;\n",
       "    }\n",
       "\n",
       "    .dataframe thead th {\n",
       "        text-align: right;\n",
       "    }\n",
       "</style>\n",
       "<table border=\"1\" class=\"dataframe\">\n",
       "  <thead>\n",
       "    <tr style=\"text-align: right;\">\n",
       "      <th></th>\n",
       "      <th>beer_name</th>\n",
       "      <th>beer_id</th>\n",
       "      <th>brewery_name</th>\n",
       "      <th>brewery_id</th>\n",
       "      <th>style</th>\n",
       "      <th>abv</th>\n",
       "      <th>date</th>\n",
       "      <th>user_name</th>\n",
       "      <th>user_id</th>\n",
       "      <th>appearance</th>\n",
       "      <th>aroma</th>\n",
       "      <th>palate</th>\n",
       "      <th>taste</th>\n",
       "      <th>overall</th>\n",
       "      <th>rating</th>\n",
       "      <th>text</th>\n",
       "      <th>review</th>\n",
       "    </tr>\n",
       "  </thead>\n",
       "  <tbody>\n",
       "    <tr>\n",
       "      <th>6631373</th>\n",
       "      <td>Founders Breakfast Stout</td>\n",
       "      <td>11757</td>\n",
       "      <td>Founders Brewing Company</td>\n",
       "      <td>1199</td>\n",
       "      <td>American Double / Imperial Stout</td>\n",
       "      <td>8.3</td>\n",
       "      <td>2017-07-28 10:00:00</td>\n",
       "      <td>csmrx7</td>\n",
       "      <td>csmrx7.1207392</td>\n",
       "      <td>4.75</td>\n",
       "      <td>4.5</td>\n",
       "      <td>4.25</td>\n",
       "      <td>3.75</td>\n",
       "      <td>4.0</td>\n",
       "      <td>4.09</td>\n",
       "      <td>nan</td>\n",
       "      <td>False</td>\n",
       "    </tr>\n",
       "    <tr>\n",
       "      <th>6631374</th>\n",
       "      <td>Founders Breakfast Stout</td>\n",
       "      <td>11757</td>\n",
       "      <td>Founders Brewing Company</td>\n",
       "      <td>1199</td>\n",
       "      <td>American Double / Imperial Stout</td>\n",
       "      <td>8.3</td>\n",
       "      <td>2017-07-24 10:00:00</td>\n",
       "      <td>sethcroisant</td>\n",
       "      <td>sethcroisant.673351</td>\n",
       "      <td>2.75</td>\n",
       "      <td>4.5</td>\n",
       "      <td>4.0</td>\n",
       "      <td>4.25</td>\n",
       "      <td>4.0</td>\n",
       "      <td>4.15</td>\n",
       "      <td>nan</td>\n",
       "      <td>False</td>\n",
       "    </tr>\n",
       "    <tr>\n",
       "      <th>6631375</th>\n",
       "      <td>Founders Breakfast Stout</td>\n",
       "      <td>11757</td>\n",
       "      <td>Founders Brewing Company</td>\n",
       "      <td>1199</td>\n",
       "      <td>American Double / Imperial Stout</td>\n",
       "      <td>8.3</td>\n",
       "      <td>2017-07-24 10:00:00</td>\n",
       "      <td>BeerDreadz</td>\n",
       "      <td>beerdreadz.44033</td>\n",
       "      <td>4.5</td>\n",
       "      <td>4.5</td>\n",
       "      <td>4.5</td>\n",
       "      <td>4.5</td>\n",
       "      <td>4.5</td>\n",
       "      <td>4.50</td>\n",
       "      <td>nan</td>\n",
       "      <td>False</td>\n",
       "    </tr>\n",
       "    <tr>\n",
       "      <th>6631376</th>\n",
       "      <td>Founders Breakfast Stout</td>\n",
       "      <td>11757</td>\n",
       "      <td>Founders Brewing Company</td>\n",
       "      <td>1199</td>\n",
       "      <td>American Double / Imperial Stout</td>\n",
       "      <td>8.3</td>\n",
       "      <td>2017-07-22 10:00:00</td>\n",
       "      <td>JoeLev</td>\n",
       "      <td>joelev.1148707</td>\n",
       "      <td>4.5</td>\n",
       "      <td>4.5</td>\n",
       "      <td>4.75</td>\n",
       "      <td>4.75</td>\n",
       "      <td>4.5</td>\n",
       "      <td>4.63</td>\n",
       "      <td>nan</td>\n",
       "      <td>False</td>\n",
       "    </tr>\n",
       "    <tr>\n",
       "      <th>6631377</th>\n",
       "      <td>Founders Breakfast Stout</td>\n",
       "      <td>11757</td>\n",
       "      <td>Founders Brewing Company</td>\n",
       "      <td>1199</td>\n",
       "      <td>American Double / Imperial Stout</td>\n",
       "      <td>8.3</td>\n",
       "      <td>2017-07-22 10:00:00</td>\n",
       "      <td>burk1982</td>\n",
       "      <td>burk1982.1206750</td>\n",
       "      <td>4.0</td>\n",
       "      <td>4.0</td>\n",
       "      <td>4.0</td>\n",
       "      <td>4.5</td>\n",
       "      <td>4.25</td>\n",
       "      <td>4.25</td>\n",
       "      <td>nan</td>\n",
       "      <td>False</td>\n",
       "    </tr>\n",
       "  </tbody>\n",
       "</table>\n",
       "</div>"
      ],
      "text/plain": [
       "                         beer_name  beer_id               brewery_name  \\\n",
       "6631373   Founders Breakfast Stout    11757   Founders Brewing Company   \n",
       "6631374   Founders Breakfast Stout    11757   Founders Brewing Company   \n",
       "6631375   Founders Breakfast Stout    11757   Founders Brewing Company   \n",
       "6631376   Founders Breakfast Stout    11757   Founders Brewing Company   \n",
       "6631377   Founders Breakfast Stout    11757   Founders Brewing Company   \n",
       "\n",
       "         brewery_id                              style   abv  \\\n",
       "6631373        1199   American Double / Imperial Stout   8.3   \n",
       "6631374        1199   American Double / Imperial Stout   8.3   \n",
       "6631375        1199   American Double / Imperial Stout   8.3   \n",
       "6631376        1199   American Double / Imperial Stout   8.3   \n",
       "6631377        1199   American Double / Imperial Stout   8.3   \n",
       "\n",
       "                        date      user_name               user_id appearance  \\\n",
       "6631373  2017-07-28 10:00:00         csmrx7        csmrx7.1207392       4.75   \n",
       "6631374  2017-07-24 10:00:00   sethcroisant   sethcroisant.673351       2.75   \n",
       "6631375  2017-07-24 10:00:00     BeerDreadz      beerdreadz.44033        4.5   \n",
       "6631376  2017-07-22 10:00:00         JoeLev        joelev.1148707        4.5   \n",
       "6631377  2017-07-22 10:00:00       burk1982      burk1982.1206750        4.0   \n",
       "\n",
       "        aroma palate  taste overall  rating  text  review  \n",
       "6631373   4.5   4.25   3.75     4.0    4.09   nan   False  \n",
       "6631374   4.5    4.0   4.25     4.0    4.15   nan   False  \n",
       "6631375   4.5    4.5    4.5     4.5    4.50   nan   False  \n",
       "6631376   4.5   4.75   4.75     4.5    4.63   nan   False  \n",
       "6631377   4.0    4.0    4.5    4.25    4.25   nan   False  "
      ]
     },
     "execution_count": 58,
     "metadata": {},
     "output_type": "execute_result"
    }
   ],
   "source": [
    "# subset the data to only contain the most common brewery id\n",
    "BA_ratings_most_com_brw = BA_ratings.loc[BA_ratings['beer_id'] == BA_ratings['beer_id'].value_counts().idxmax()]\n",
    "print(\"# samples: \", len(BA_ratings_most_com_brw))\n",
    "print(\"# unique beers: \", len(BA_ratings_most_com_brw['beer_id'].unique()))\n",
    "BA_ratings_most_com_brw.head(5)"
   ]
  },
  {
   "cell_type": "code",
   "execution_count": 59,
   "metadata": {},
   "outputs": [
    {
     "data": {
      "text/plain": [
       "beer_name        object\n",
       "beer_id           int64\n",
       "brewery_name     object\n",
       "brewery_id        int64\n",
       "style            object\n",
       "abv              object\n",
       "date             object\n",
       "user_name        object\n",
       "user_id          object\n",
       "appearance       object\n",
       "aroma            object\n",
       "palate           object\n",
       "taste            object\n",
       "overall          object\n",
       "rating          float64\n",
       "text             object\n",
       "review           object\n",
       "dtype: object"
      ]
     },
     "execution_count": 59,
     "metadata": {},
     "output_type": "execute_result"
    }
   ],
   "source": [
    "BA_ratings_most_com_brw.dtypes"
   ]
  },
  {
   "cell_type": "code",
   "execution_count": 61,
   "metadata": {},
   "outputs": [
    {
     "name": "stdout",
     "output_type": "stream",
     "text": [
      "# samples:  3811\n"
     ]
    }
   ],
   "source": [
    "# filter the data with review == false\n",
    "BA_ratings_most_com_brw = BA_ratings_most_com_brw.loc[BA_ratings_most_com_brw['review'] == \" True\"]\n",
    "print(\"# samples: \", len(BA_ratings_most_com_brw))"
   ]
  },
  {
   "cell_type": "markdown",
   "metadata": {},
   "source": [
    "The pilot analysis would focus on the 3811 samples, all corresponds to the most reviewed \"Founders Breakfast Stout\" from Founders Brewing Company."
   ]
  },
  {
   "cell_type": "markdown",
   "metadata": {},
   "source": [
    "## EDA and Data preprocessing"
   ]
  },
  {
   "cell_type": "code",
   "execution_count": 62,
   "metadata": {},
   "outputs": [
    {
     "data": {
      "text/plain": [
       "count    3811.000000\n",
       "mean        4.463626\n",
       "std         0.355031\n",
       "min         2.260000\n",
       "25%         4.290000\n",
       "50%         4.500000\n",
       "75%         4.710000\n",
       "max         5.000000\n",
       "Name: rating, dtype: float64"
      ]
     },
     "execution_count": 62,
     "metadata": {},
     "output_type": "execute_result"
    }
   ],
   "source": [
    "BA_ratings_most_com_brw['rating'].describe()"
   ]
  },
  {
   "cell_type": "code",
   "execution_count": 63,
   "metadata": {},
   "outputs": [
    {
     "data": {
      "image/png": "[encoded data removed]",
      "text/plain": [
       "<Figure size 1000x500 with 1 Axes>"
      ]
     },
     "metadata": {},
     "output_type": "display_data"
    }
   ],
   "source": [
    "# study the distribution of rating\n",
    "plt.figure(figsize=(10, 5))\n",
    "plt.hist(BA_ratings_most_com_brw['rating'], bins=20, color = 'blue')\n",
    "plt.xlabel('Rating')\n",
    "plt.ylabel('Count')\n",
    "# set x ticks\n",
    "plt.xticks(np.arange(1, 6, 1))\n",
    "plt.title('Distribution of Ratings')\n",
    "plt.show()"
   ]
  },
  {
   "cell_type": "markdown",
   "metadata": {},
   "source": [
    "Seems like the beer is not popular for no reason. The average rating is 4.46, which is very high. Due to the fact that sentiment analysis works better with discrete values, we convert the 2-decimal ratings into discrete values from 1 to 3."
   ]
  },
  {
   "cell_type": "code",
   "execution_count": 64,
   "metadata": {},
   "outputs": [
    {
     "data": {
      "text/plain": [
       "rating_discrete\n",
       "3    1795\n",
       "2    1667\n",
       "1     349\n",
       "Name: count, dtype: int64"
      ]
     },
     "execution_count": 64,
     "metadata": {},
     "output_type": "execute_result"
    }
   ],
   "source": [
    "# add discrete rating column\n",
    "# 1: 1-4, 2: 4-4.5, 3: 4.5-5\n",
    "BA_ratings_most_com_brw['rating_discrete'] = BA_ratings_most_com_brw['rating'].apply(lambda x: 1 if x <= 4 else (2 if x <= 4.5 else 3))\n",
    "\n",
    "# count the number of each discrete rating\n",
    "BA_ratings_most_com_brw['rating_discrete'].value_counts()"
   ]
  },
  {
   "cell_type": "markdown",
   "metadata": {},
   "source": [
    "## Pretrain model analysis"
   ]
  },
  {
   "cell_type": "markdown",
   "metadata": {},
   "source": [
    "The model is downloaded from huggingface website. There are many different models for different usage, language, and output format. Here we applied 2-way classification trained on english product reviews."
   ]
  },
  {
   "cell_type": "code",
   "execution_count": 65,
   "metadata": {},
   "outputs": [],
   "source": [
    "# get the pretrained model from huggingface's transformers library\n",
    "#MODEL = f\"cardiffnlp/twitter-roberta-base-sentiment\"\n",
    "MODEL = f\"juliensimon/reviews-sentiment-analysis\"\n",
    "#MODEL = f\"lxyuan/distilbert-base-multilingual-cased-sentiments-student\"\n",
    "tokenizer = AutoTokenizer.from_pretrained(MODEL)\n",
    "model = AutoModelForSequenceClassification.from_pretrained(MODEL)"
   ]
  },
  {
   "cell_type": "markdown",
   "metadata": {},
   "source": [
    "Define the polarity scorer for a given sentence."
   ]
  },
  {
   "cell_type": "code",
   "execution_count": 66,
   "metadata": {},
   "outputs": [],
   "source": [
    "# run sentiment analysis over all ratings['text']\n",
    "def polarity_scores(example):\n",
    "    encoded_text = tokenizer(example, return_tensors='pt')\n",
    "    output = model(**encoded_text)\n",
    "    scores = output[0][0].detach().numpy()\n",
    "    scores = softmax(scores)\n",
    "    scores_dict = {\n",
    "        'o1' : scores[0],\n",
    "        'o2' : scores[1]\n",
    "    }\n",
    "    return scores_dict"
   ]
  },
  {
   "cell_type": "code",
   "execution_count": 67,
   "metadata": {},
   "outputs": [
    {
     "name": "stderr",
     "output_type": "stream",
     "text": [
      "  0%|          | 18/3811 [00:03<18:59,  3.33it/s]Token indices sequence length is longer than the specified maximum sequence length for this model (935 > 512). Running this sequence through the model will result in indexing errors\n",
      "  1%|          | 20/3811 [00:04<25:49,  2.45it/s]"
     ]
    },
    {
     "name": "stdout",
     "output_type": "stream",
     "text": [
      "Broke for id 6631545\n"
     ]
    },
    {
     "name": "stderr",
     "output_type": "stream",
     "text": [
      "  1%|▏         | 50/3811 [00:11<17:01,  3.68it/s]"
     ]
    },
    {
     "name": "stdout",
     "output_type": "stream",
     "text": [
      "Broke for id 6631852\n"
     ]
    },
    {
     "name": "stderr",
     "output_type": "stream",
     "text": [
      "  2%|▏         | 59/3811 [00:13<10:32,  5.93it/s]"
     ]
    },
    {
     "name": "stdout",
     "output_type": "stream",
     "text": [
      "Broke for id 6631956\n"
     ]
    },
    {
     "name": "stderr",
     "output_type": "stream",
     "text": [
      "  3%|▎         | 128/3811 [00:36<24:09,  2.54it/s]"
     ]
    },
    {
     "name": "stdout",
     "output_type": "stream",
     "text": [
      "Broke for id 6632570\n"
     ]
    },
    {
     "name": "stderr",
     "output_type": "stream",
     "text": [
      "  6%|▌         | 212/3811 [01:00<11:32,  5.20it/s]"
     ]
    },
    {
     "name": "stdout",
     "output_type": "stream",
     "text": [
      "Broke for id 6633121\n"
     ]
    },
    {
     "name": "stderr",
     "output_type": "stream",
     "text": [
      "  8%|▊         | 311/3811 [01:32<14:18,  4.08it/s]"
     ]
    },
    {
     "name": "stdout",
     "output_type": "stream",
     "text": [
      "Broke for id 6633669\n"
     ]
    },
    {
     "name": "stderr",
     "output_type": "stream",
     "text": [
      " 12%|█▏        | 467/3811 [02:24<22:32,  2.47it/s]"
     ]
    },
    {
     "name": "stdout",
     "output_type": "stream",
     "text": [
      "Broke for id 6634714\n"
     ]
    },
    {
     "name": "stderr",
     "output_type": "stream",
     "text": [
      " 13%|█▎        | 479/3811 [02:26<12:28,  4.45it/s]"
     ]
    },
    {
     "name": "stdout",
     "output_type": "stream",
     "text": [
      "Broke for id 6634779\n"
     ]
    },
    {
     "name": "stderr",
     "output_type": "stream",
     "text": [
      " 13%|█▎        | 512/3811 [02:36<14:24,  3.82it/s]"
     ]
    },
    {
     "name": "stdout",
     "output_type": "stream",
     "text": [
      "Broke for id 6634979\n"
     ]
    },
    {
     "name": "stderr",
     "output_type": "stream",
     "text": [
      " 14%|█▍        | 532/3811 [02:41<12:33,  4.35it/s]"
     ]
    },
    {
     "name": "stdout",
     "output_type": "stream",
     "text": [
      "Broke for id 6635064\n"
     ]
    },
    {
     "name": "stderr",
     "output_type": "stream",
     "text": [
      " 17%|█▋        | 661/3811 [03:18<07:29,  7.01it/s]"
     ]
    },
    {
     "name": "stdout",
     "output_type": "stream",
     "text": [
      "Broke for id 6635818\n"
     ]
    },
    {
     "name": "stderr",
     "output_type": "stream",
     "text": [
      " 25%|██▌       | 953/3811 [05:00<18:02,  2.64it/s]"
     ]
    },
    {
     "name": "stdout",
     "output_type": "stream",
     "text": [
      "Broke for id 6636517\n"
     ]
    },
    {
     "name": "stderr",
     "output_type": "stream",
     "text": [
      " 26%|██▌       | 988/3811 [05:14<19:56,  2.36it/s]"
     ]
    },
    {
     "name": "stdout",
     "output_type": "stream",
     "text": [
      "Broke for id 6636552\n"
     ]
    },
    {
     "name": "stderr",
     "output_type": "stream",
     "text": [
      " 29%|██▉       | 1104/3811 [05:54<14:58,  3.01it/s]"
     ]
    },
    {
     "name": "stdout",
     "output_type": "stream",
     "text": [
      "Broke for id 6636690\n"
     ]
    },
    {
     "name": "stderr",
     "output_type": "stream",
     "text": [
      " 30%|██▉       | 1128/3811 [06:03<11:43,  3.81it/s]"
     ]
    },
    {
     "name": "stdout",
     "output_type": "stream",
     "text": [
      "Broke for id 6636712\n"
     ]
    },
    {
     "name": "stderr",
     "output_type": "stream",
     "text": [
      " 36%|███▌      | 1368/3811 [07:23<14:07,  2.88it/s]"
     ]
    },
    {
     "name": "stdout",
     "output_type": "stream",
     "text": [
      "Broke for id 6636995\n"
     ]
    },
    {
     "name": "stderr",
     "output_type": "stream",
     "text": [
      " 38%|███▊      | 1437/3811 [07:46<09:19,  4.25it/s]"
     ]
    },
    {
     "name": "stdout",
     "output_type": "stream",
     "text": [
      "Broke for id 6637062\n"
     ]
    },
    {
     "name": "stderr",
     "output_type": "stream",
     "text": [
      " 38%|███▊      | 1438/3811 [07:47<12:29,  3.16it/s]"
     ]
    },
    {
     "name": "stdout",
     "output_type": "stream",
     "text": [
      "Broke for id 6637065\n"
     ]
    },
    {
     "name": "stderr",
     "output_type": "stream",
     "text": [
      " 38%|███▊      | 1448/3811 [07:50<11:42,  3.36it/s]"
     ]
    },
    {
     "name": "stdout",
     "output_type": "stream",
     "text": [
      "Broke for id 6637075\n"
     ]
    },
    {
     "name": "stderr",
     "output_type": "stream",
     "text": [
      " 47%|████▋     | 1779/3811 [09:40<11:54,  2.84it/s]"
     ]
    },
    {
     "name": "stdout",
     "output_type": "stream",
     "text": [
      "Broke for id 6637431\n"
     ]
    },
    {
     "name": "stderr",
     "output_type": "stream",
     "text": [
      " 47%|████▋     | 1791/3811 [09:45<13:55,  2.42it/s]"
     ]
    },
    {
     "name": "stdout",
     "output_type": "stream",
     "text": [
      "Broke for id 6637443\n"
     ]
    },
    {
     "name": "stderr",
     "output_type": "stream",
     "text": [
      " 47%|████▋     | 1794/3811 [09:46<09:54,  3.39it/s]"
     ]
    },
    {
     "name": "stdout",
     "output_type": "stream",
     "text": [
      "Broke for id 6637446\n"
     ]
    },
    {
     "name": "stderr",
     "output_type": "stream",
     "text": [
      " 50%|████▉     | 1888/3811 [10:20<09:12,  3.48it/s]"
     ]
    },
    {
     "name": "stdout",
     "output_type": "stream",
     "text": [
      "Broke for id 6637561\n"
     ]
    },
    {
     "name": "stderr",
     "output_type": "stream",
     "text": [
      " 52%|█████▏    | 1987/3811 [10:52<09:43,  3.13it/s]"
     ]
    },
    {
     "name": "stdout",
     "output_type": "stream",
     "text": [
      "Broke for id 6637660\n"
     ]
    },
    {
     "name": "stderr",
     "output_type": "stream",
     "text": [
      " 53%|█████▎    | 2017/3811 [11:02<05:31,  5.42it/s]"
     ]
    },
    {
     "name": "stdout",
     "output_type": "stream",
     "text": [
      "Broke for id 6637688\n"
     ]
    },
    {
     "name": "stderr",
     "output_type": "stream",
     "text": [
      " 54%|█████▍    | 2056/3811 [11:16<12:24,  2.36it/s]"
     ]
    },
    {
     "name": "stdout",
     "output_type": "stream",
     "text": [
      "Broke for id 6637729\n"
     ]
    },
    {
     "name": "stderr",
     "output_type": "stream",
     "text": [
      " 65%|██████▌   | 2484/3811 [13:32<06:50,  3.23it/s]"
     ]
    },
    {
     "name": "stdout",
     "output_type": "stream",
     "text": [
      "Broke for id 6638196\n"
     ]
    },
    {
     "name": "stderr",
     "output_type": "stream",
     "text": [
      " 66%|██████▌   | 2506/3811 [13:38<05:57,  3.65it/s]"
     ]
    },
    {
     "name": "stdout",
     "output_type": "stream",
     "text": [
      "Broke for id 6638218\n"
     ]
    },
    {
     "name": "stderr",
     "output_type": "stream",
     "text": [
      " 68%|██████▊   | 2579/3811 [14:04<09:25,  2.18it/s]"
     ]
    },
    {
     "name": "stdout",
     "output_type": "stream",
     "text": [
      "Broke for id 6638291\n"
     ]
    },
    {
     "name": "stderr",
     "output_type": "stream",
     "text": [
      " 75%|███████▍  | 2845/3811 [15:43<10:50,  1.48it/s]"
     ]
    },
    {
     "name": "stdout",
     "output_type": "stream",
     "text": [
      "Broke for id 6638580\n"
     ]
    },
    {
     "name": "stderr",
     "output_type": "stream",
     "text": [
      " 76%|███████▌  | 2889/3811 [16:03<08:06,  1.89it/s]"
     ]
    },
    {
     "name": "stdout",
     "output_type": "stream",
     "text": [
      "Broke for id 6638644\n"
     ]
    },
    {
     "name": "stderr",
     "output_type": "stream",
     "text": [
      " 80%|████████  | 3066/3811 [16:47<03:28,  3.58it/s]"
     ]
    },
    {
     "name": "stdout",
     "output_type": "stream",
     "text": [
      "Broke for id 6639679\n"
     ]
    },
    {
     "name": "stderr",
     "output_type": "stream",
     "text": [
      " 83%|████████▎ | 3153/3811 [17:08<03:09,  3.48it/s]"
     ]
    },
    {
     "name": "stdout",
     "output_type": "stream",
     "text": [
      "Broke for id 6640437\n"
     ]
    },
    {
     "name": "stderr",
     "output_type": "stream",
     "text": [
      " 88%|████████▊ | 3357/3811 [18:01<01:17,  5.89it/s]"
     ]
    },
    {
     "name": "stdout",
     "output_type": "stream",
     "text": [
      "Broke for id 6643528\n"
     ]
    },
    {
     "name": "stderr",
     "output_type": "stream",
     "text": [
      " 89%|████████▉ | 3391/3811 [18:09<01:08,  6.11it/s]"
     ]
    },
    {
     "name": "stdout",
     "output_type": "stream",
     "text": [
      "Broke for id 6643878\n"
     ]
    },
    {
     "name": "stderr",
     "output_type": "stream",
     "text": [
      " 91%|█████████ | 3450/3811 [18:25<01:47,  3.37it/s]"
     ]
    },
    {
     "name": "stdout",
     "output_type": "stream",
     "text": [
      "Broke for id 6644533\n"
     ]
    },
    {
     "name": "stderr",
     "output_type": "stream",
     "text": [
      " 95%|█████████▍| 3620/3811 [19:13<00:49,  3.86it/s]"
     ]
    },
    {
     "name": "stdout",
     "output_type": "stream",
     "text": [
      "Broke for id 6645717\n"
     ]
    },
    {
     "name": "stderr",
     "output_type": "stream",
     "text": [
      " 95%|█████████▌| 3626/3811 [19:15<01:04,  2.86it/s]"
     ]
    },
    {
     "name": "stdout",
     "output_type": "stream",
     "text": [
      "Broke for id 6645813\n"
     ]
    },
    {
     "name": "stderr",
     "output_type": "stream",
     "text": [
      " 96%|█████████▋| 3672/3811 [19:27<00:34,  4.02it/s]"
     ]
    },
    {
     "name": "stdout",
     "output_type": "stream",
     "text": [
      "Broke for id 6646193\n"
     ]
    },
    {
     "name": "stderr",
     "output_type": "stream",
     "text": [
      "100%|██████████| 3811/3811 [20:06<00:00,  3.16it/s]\n"
     ]
    }
   ],
   "source": [
    "# iterate over all rows and run polarity_scores\n",
    "res = {}\n",
    "for i, row in tqdm(BA_ratings_most_com_brw.iterrows(), total=BA_ratings_most_com_brw.shape[0]):\n",
    "    try:\n",
    "        text = row['text']\n",
    "        myid = i\n",
    "        result = polarity_scores(text)\n",
    "        #result = extract_sentiment_words_attention(text)\n",
    "        res[myid] = result\n",
    "    except RuntimeError:\n",
    "        print(f'Broke for id {myid}') # model can't handle some texts (i.e. too long)"
   ]
  },
  {
   "cell_type": "code",
   "execution_count": 68,
   "metadata": {},
   "outputs": [
    {
     "data": {
      "text/html": [
       "<div>\n",
       "<style scoped>\n",
       "    .dataframe tbody tr th:only-of-type {\n",
       "        vertical-align: middle;\n",
       "    }\n",
       "\n",
       "    .dataframe tbody tr th {\n",
       "        vertical-align: top;\n",
       "    }\n",
       "\n",
       "    .dataframe thead th {\n",
       "        text-align: right;\n",
       "    }\n",
       "</style>\n",
       "<table border=\"1\" class=\"dataframe\">\n",
       "  <thead>\n",
       "    <tr style=\"text-align: right;\">\n",
       "      <th></th>\n",
       "      <th>o1</th>\n",
       "      <th>o2</th>\n",
       "      <th>class</th>\n",
       "    </tr>\n",
       "  </thead>\n",
       "  <tbody>\n",
       "    <tr>\n",
       "      <th>6631396</th>\n",
       "      <td>0.357364</td>\n",
       "      <td>0.642636</td>\n",
       "      <td>1</td>\n",
       "    </tr>\n",
       "    <tr>\n",
       "      <th>6631410</th>\n",
       "      <td>0.347260</td>\n",
       "      <td>0.652740</td>\n",
       "      <td>1</td>\n",
       "    </tr>\n",
       "    <tr>\n",
       "      <th>6631411</th>\n",
       "      <td>0.014994</td>\n",
       "      <td>0.985006</td>\n",
       "      <td>1</td>\n",
       "    </tr>\n",
       "    <tr>\n",
       "      <th>6631413</th>\n",
       "      <td>0.231876</td>\n",
       "      <td>0.768124</td>\n",
       "      <td>1</td>\n",
       "    </tr>\n",
       "    <tr>\n",
       "      <th>6631417</th>\n",
       "      <td>0.387025</td>\n",
       "      <td>0.612975</td>\n",
       "      <td>1</td>\n",
       "    </tr>\n",
       "  </tbody>\n",
       "</table>\n",
       "</div>"
      ],
      "text/plain": [
       "               o1        o2  class\n",
       "6631396  0.357364  0.642636      1\n",
       "6631410  0.347260  0.652740      1\n",
       "6631411  0.014994  0.985006      1\n",
       "6631413  0.231876  0.768124      1\n",
       "6631417  0.387025  0.612975      1"
      ]
     },
     "execution_count": 68,
     "metadata": {},
     "output_type": "execute_result"
    }
   ],
   "source": [
    "results_df = pd.DataFrame(res).T\n",
    "# add column 'class', if o1 > o2, then class = 0, else class = 1\n",
    "results_df['class'] = results_df['o1'].apply(lambda x: 0 if x > 0.5 else 1)\n",
    "results_df.head()"
   ]
  },
  {
   "cell_type": "code",
   "execution_count": 69,
   "metadata": {},
   "outputs": [
    {
     "data": {
      "text/html": [
       "<div>\n",
       "<style scoped>\n",
       "    .dataframe tbody tr th:only-of-type {\n",
       "        vertical-align: middle;\n",
       "    }\n",
       "\n",
       "    .dataframe tbody tr th {\n",
       "        vertical-align: top;\n",
       "    }\n",
       "\n",
       "    .dataframe thead th {\n",
       "        text-align: right;\n",
       "    }\n",
       "</style>\n",
       "<table border=\"1\" class=\"dataframe\">\n",
       "  <thead>\n",
       "    <tr style=\"text-align: right;\">\n",
       "      <th></th>\n",
       "      <th>beer_name</th>\n",
       "      <th>beer_id</th>\n",
       "      <th>brewery_name</th>\n",
       "      <th>brewery_id</th>\n",
       "      <th>style</th>\n",
       "      <th>abv</th>\n",
       "      <th>date</th>\n",
       "      <th>user_name</th>\n",
       "      <th>user_id</th>\n",
       "      <th>appearance</th>\n",
       "      <th>...</th>\n",
       "      <th>palate</th>\n",
       "      <th>taste</th>\n",
       "      <th>overall</th>\n",
       "      <th>rating</th>\n",
       "      <th>text</th>\n",
       "      <th>review</th>\n",
       "      <th>rating_discrete</th>\n",
       "      <th>o1</th>\n",
       "      <th>o2</th>\n",
       "      <th>class</th>\n",
       "    </tr>\n",
       "  </thead>\n",
       "  <tbody>\n",
       "    <tr>\n",
       "      <th>6631396</th>\n",
       "      <td>Founders Breakfast Stout</td>\n",
       "      <td>11757</td>\n",
       "      <td>Founders Brewing Company</td>\n",
       "      <td>1199</td>\n",
       "      <td>American Double / Imperial Stout</td>\n",
       "      <td>8.3</td>\n",
       "      <td>2017-06-24 10:00:00</td>\n",
       "      <td>cmurphy7</td>\n",
       "      <td>cmurphy7.1176491</td>\n",
       "      <td>4.0</td>\n",
       "      <td>...</td>\n",
       "      <td>3.75</td>\n",
       "      <td>3.75</td>\n",
       "      <td>3.75</td>\n",
       "      <td>3.77</td>\n",
       "      <td>had out of the bottle.  a sharp stout with a ...</td>\n",
       "      <td>True</td>\n",
       "      <td>1</td>\n",
       "      <td>0.357364</td>\n",
       "      <td>0.642636</td>\n",
       "      <td>1</td>\n",
       "    </tr>\n",
       "    <tr>\n",
       "      <th>6631410</th>\n",
       "      <td>Founders Breakfast Stout</td>\n",
       "      <td>11757</td>\n",
       "      <td>Founders Brewing Company</td>\n",
       "      <td>1199</td>\n",
       "      <td>American Double / Imperial Stout</td>\n",
       "      <td>8.3</td>\n",
       "      <td>2017-04-06 10:00:00</td>\n",
       "      <td>OpenStoutLover</td>\n",
       "      <td>openstoutlover.1183725</td>\n",
       "      <td>4.5</td>\n",
       "      <td>...</td>\n",
       "      <td>3.0</td>\n",
       "      <td>4.0</td>\n",
       "      <td>4.25</td>\n",
       "      <td>3.92</td>\n",
       "      <td>Tasty little rascal here. I scored it what I ...</td>\n",
       "      <td>True</td>\n",
       "      <td>1</td>\n",
       "      <td>0.347260</td>\n",
       "      <td>0.652740</td>\n",
       "      <td>1</td>\n",
       "    </tr>\n",
       "    <tr>\n",
       "      <th>6631411</th>\n",
       "      <td>Founders Breakfast Stout</td>\n",
       "      <td>11757</td>\n",
       "      <td>Founders Brewing Company</td>\n",
       "      <td>1199</td>\n",
       "      <td>American Double / Imperial Stout</td>\n",
       "      <td>8.3</td>\n",
       "      <td>2017-04-05 10:00:00</td>\n",
       "      <td>DavidR_9</td>\n",
       "      <td>davidr_9.1192197</td>\n",
       "      <td>4.5</td>\n",
       "      <td>...</td>\n",
       "      <td>4.75</td>\n",
       "      <td>5.0</td>\n",
       "      <td>4.75</td>\n",
       "      <td>4.84</td>\n",
       "      <td>Very complex and full bodied. Brilliant balan...</td>\n",
       "      <td>True</td>\n",
       "      <td>3</td>\n",
       "      <td>0.014994</td>\n",
       "      <td>0.985006</td>\n",
       "      <td>1</td>\n",
       "    </tr>\n",
       "    <tr>\n",
       "      <th>6631413</th>\n",
       "      <td>Founders Breakfast Stout</td>\n",
       "      <td>11757</td>\n",
       "      <td>Founders Brewing Company</td>\n",
       "      <td>1199</td>\n",
       "      <td>American Double / Imperial Stout</td>\n",
       "      <td>8.3</td>\n",
       "      <td>2017-04-03 10:00:00</td>\n",
       "      <td>jasadewi</td>\n",
       "      <td>jasadewi.1125588</td>\n",
       "      <td>4.0</td>\n",
       "      <td>...</td>\n",
       "      <td>4.25</td>\n",
       "      <td>4.5</td>\n",
       "      <td>4.25</td>\n",
       "      <td>4.34</td>\n",
       "      <td>A: Black with a dark brown and creamy head.S:...</td>\n",
       "      <td>True</td>\n",
       "      <td>2</td>\n",
       "      <td>0.231876</td>\n",
       "      <td>0.768124</td>\n",
       "      <td>1</td>\n",
       "    </tr>\n",
       "    <tr>\n",
       "      <th>6631417</th>\n",
       "      <td>Founders Breakfast Stout</td>\n",
       "      <td>11757</td>\n",
       "      <td>Founders Brewing Company</td>\n",
       "      <td>1199</td>\n",
       "      <td>American Double / Imperial Stout</td>\n",
       "      <td>8.3</td>\n",
       "      <td>2017-03-30 10:00:00</td>\n",
       "      <td>andrewh995</td>\n",
       "      <td>andrewh995.1184297</td>\n",
       "      <td>4.5</td>\n",
       "      <td>...</td>\n",
       "      <td>4.75</td>\n",
       "      <td>4.75</td>\n",
       "      <td>4.5</td>\n",
       "      <td>4.57</td>\n",
       "      <td>L: Pitch black with a beautiful dark tan head...</td>\n",
       "      <td>True</td>\n",
       "      <td>3</td>\n",
       "      <td>0.387025</td>\n",
       "      <td>0.612975</td>\n",
       "      <td>1</td>\n",
       "    </tr>\n",
       "  </tbody>\n",
       "</table>\n",
       "<p>5 rows × 21 columns</p>\n",
       "</div>"
      ],
      "text/plain": [
       "                         beer_name  beer_id               brewery_name  \\\n",
       "6631396   Founders Breakfast Stout    11757   Founders Brewing Company   \n",
       "6631410   Founders Breakfast Stout    11757   Founders Brewing Company   \n",
       "6631411   Founders Breakfast Stout    11757   Founders Brewing Company   \n",
       "6631413   Founders Breakfast Stout    11757   Founders Brewing Company   \n",
       "6631417   Founders Breakfast Stout    11757   Founders Brewing Company   \n",
       "\n",
       "         brewery_id                              style   abv  \\\n",
       "6631396        1199   American Double / Imperial Stout   8.3   \n",
       "6631410        1199   American Double / Imperial Stout   8.3   \n",
       "6631411        1199   American Double / Imperial Stout   8.3   \n",
       "6631413        1199   American Double / Imperial Stout   8.3   \n",
       "6631417        1199   American Double / Imperial Stout   8.3   \n",
       "\n",
       "                        date        user_name                  user_id  \\\n",
       "6631396  2017-06-24 10:00:00         cmurphy7         cmurphy7.1176491   \n",
       "6631410  2017-04-06 10:00:00   OpenStoutLover   openstoutlover.1183725   \n",
       "6631411  2017-04-05 10:00:00         DavidR_9         davidr_9.1192197   \n",
       "6631413  2017-04-03 10:00:00         jasadewi         jasadewi.1125588   \n",
       "6631417  2017-03-30 10:00:00       andrewh995       andrewh995.1184297   \n",
       "\n",
       "        appearance  ... palate  taste overall rating  \\\n",
       "6631396        4.0  ...   3.75   3.75    3.75   3.77   \n",
       "6631410        4.5  ...    3.0    4.0    4.25   3.92   \n",
       "6631411        4.5  ...   4.75    5.0    4.75   4.84   \n",
       "6631413        4.0  ...   4.25    4.5    4.25   4.34   \n",
       "6631417        4.5  ...   4.75   4.75     4.5   4.57   \n",
       "\n",
       "                                                      text review  \\\n",
       "6631396   had out of the bottle.  a sharp stout with a ...   True   \n",
       "6631410   Tasty little rascal here. I scored it what I ...   True   \n",
       "6631411   Very complex and full bodied. Brilliant balan...   True   \n",
       "6631413   A: Black with a dark brown and creamy head.S:...   True   \n",
       "6631417   L: Pitch black with a beautiful dark tan head...   True   \n",
       "\n",
       "        rating_discrete        o1        o2  class  \n",
       "6631396               1  0.357364  0.642636      1  \n",
       "6631410               1  0.347260  0.652740      1  \n",
       "6631411               3  0.014994  0.985006      1  \n",
       "6631413               2  0.231876  0.768124      1  \n",
       "6631417               3  0.387025  0.612975      1  \n",
       "\n",
       "[5 rows x 21 columns]"
      ]
     },
     "execution_count": 69,
     "metadata": {},
     "output_type": "execute_result"
    }
   ],
   "source": [
    "# merge the results with the original ratings dataframe\n",
    "BA_ratings_most_com_brw_sentiment = BA_ratings_most_com_brw.merge(results_df, left_index=True, right_index=True)\n",
    "BA_ratings_most_com_brw_sentiment.head()"
   ]
  },
  {
   "cell_type": "code",
   "execution_count": 70,
   "metadata": {},
   "outputs": [
    {
     "name": "stderr",
     "output_type": "stream",
     "text": [
      "c:\\Users\\asus\\anaconda3\\envs\\ada\\lib\\site-packages\\seaborn\\axisgrid.py:118: UserWarning: The figure layout has changed to tight\n",
      "  self._figure.tight_layout(*args, **kwargs)\n"
     ]
    },
    {
     "data": {
      "image/png": "[encoded data removed]",
      "text/plain": [
       "<Figure size 614.986x500 with 6 Axes>"
      ]
     },
     "metadata": {},
     "output_type": "display_data"
    }
   ],
   "source": [
    "sns.pairplot(data = BA_ratings_most_com_brw_sentiment,\n",
    "             vars = ['o1', 'o2'],\n",
    "             hue = 'rating_discrete',\n",
    "             palette = 'tab10')\n",
    "plt.show()"
   ]
  },
  {
   "cell_type": "code",
   "execution_count": null,
   "metadata": {},
   "outputs": [],
   "source": []
  }
 ],
 "metadata": {
  "kernelspec": {
   "display_name": "Python 3 (ipykernel)",
   "language": "python",
   "name": "python3"
  },
  "language_info": {
   "codemirror_mode": {
    "name": "ipython",
    "version": 3
   },
   "file_extension": ".py",
   "mimetype": "text/x-python",
   "name": "python",
   "nbconvert_exporter": "python",
   "pygments_lexer": "ipython3",
   "version": "3.9.18"
  }
 },
 "nbformat": 4,
 "nbformat_minor": 4
}
