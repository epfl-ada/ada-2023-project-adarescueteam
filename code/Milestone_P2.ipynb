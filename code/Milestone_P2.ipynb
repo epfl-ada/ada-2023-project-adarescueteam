{
 "cells": [
  {
   "cell_type": "markdown",
   "metadata": {},
   "source": [
    "# ADA Milestone 2"
   ]
  },
  {
   "cell_type": "code",
   "execution_count": 2,
   "metadata": {},
   "outputs": [],
   "source": [
    "# Environment requirement\n",
    "# Python version...\n",
    "# Packages...\n",
    "\n",
    "import os\n",
    "import sys\n",
    "import pickle\n",
    "from datetime import datetime\n",
    "import numpy as np\n",
    "import pandas as pd\n",
    "import matplotlib.pyplot as plt\n",
    "import seaborn as sns"
   ]
  },
  {
   "cell_type": "markdown",
   "metadata": {},
   "source": [
    "Presumably, one should have the notebook `Milestone_P2.ipynb` in the `code` folder, and the data in the `data` folder."
   ]
  },
  {
   "cell_type": "code",
   "execution_count": 4,
   "metadata": {},
   "outputs": [
    {
     "name": "stdout",
     "output_type": "stream",
     "text": [
      "CODE_DIR:  c:\\Users\\asus\\Documents\\GitHub\\ada-2023-project-adarescueteam\\code\n",
      "DATA_DIR:  c:\\Users\\asus\\Documents\\GitHub\\ada-2023-project-adarescueteam\\data\n"
     ]
    }
   ],
   "source": [
    "CODE_DIR = os.getcwd()\n",
    "DATA_DIR = os.path.join(os.path.dirname(CODE_DIR), 'data')\n",
    "\n",
    "print('CODE_DIR: ', CODE_DIR)\n",
    "print('DATA_DIR: ', DATA_DIR)"
   ]
  },
  {
   "cell_type": "markdown",
   "metadata": {},
   "source": [
    "## Dataset Reading and Cleaning"
   ]
  },
  {
   "cell_type": "code",
   "execution_count": 6,
   "metadata": {},
   "outputs": [],
   "source": [
    "# read in the ratings\n",
    "def read_ratings_txt(folder, file_name):\n",
    "    data = []\n",
    "    counter = 0\n",
    "\n",
    "    with open(os.path.join(folder, file_name), 'rb') as file:\n",
    "        rating_data = {}\n",
    "        for line in file:\n",
    "            line = line.strip()\n",
    "            if line.startswith(b'beer_name:'):\n",
    "                # check if dictionary is not empty\n",
    "                if rating_data:\n",
    "                    data.append(rating_data)\n",
    "                rating_data = {'beer_name': line.split(b'beer_name:')[1].decode('utf-8')}\n",
    "            elif line.startswith(b'beer_id:'):\n",
    "                rating_data['beer_id'] = line.split(b'beer_id:')[1].decode('utf-8')\n",
    "            elif line.startswith(b'brewery_name:'):\n",
    "                rating_data['brewery_name'] = line.split(b'brewery_name:')[1].decode('utf-8')\n",
    "            elif line.startswith(b'brewery_id:'):\n",
    "                rating_data['brewery_id'] = line.split(b'brewery_id:')[1].decode('utf-8')\n",
    "            elif line.startswith(b'style:'):\n",
    "                rating_data['style'] = line.split(b'style:')[1].decode('utf-8')\n",
    "            elif line.startswith(b'abv:'):\n",
    "                rating_data['abv'] = line.split(b'abv:')[1].decode('utf-8')\n",
    "            elif line.startswith(b'date:'):\n",
    "                timestamp = float(line.split(b'date:')[1].decode('utf-8'))\n",
    "                rating_data['date'] = datetime.utcfromtimestamp(timestamp).strftime('%Y-%m-%d %H:%M:%S')\n",
    "            elif line.startswith(b'user_name:'):\n",
    "                rating_data['user_name'] = line.split(b'user_name:')[1].decode('utf-8')\n",
    "            elif line.startswith(b'user_id:'):\n",
    "                rating_data['user_id'] = line.split(b'user_id:')[1].decode('utf-8')\n",
    "            elif line.startswith(b'appearance:'):\n",
    "                rating_data['appearance'] = line.split(b'appearance:')[1].decode('utf-8')\n",
    "            elif line.startswith(b'aroma:'):\n",
    "                rating_data['aroma'] = line.split(b'aroma:')[1].decode('utf-8')\n",
    "            elif line.startswith(b'palate:'):\n",
    "                rating_data['palate'] = line.split(b'palate:')[1].decode('utf-8')\n",
    "            elif line.startswith(b'taste:'):\n",
    "                rating_data['taste'] = line.split(b'taste:')[1].decode('utf-8')\n",
    "            elif line.startswith(b'overall:'):\n",
    "                rating_data['overall'] = line.split(b'overall:')[1].decode('utf-8')\n",
    "            elif line.startswith(b'rating:'):\n",
    "                rating_data['rating'] = line.split(b'rating:')[1].decode('utf-8')\n",
    "            elif line.startswith(b'text:'):\n",
    "                rating_data['text'] = line.split(b'text:')[1].decode('utf-8')\n",
    "            elif line.startswith(b'review:'):\n",
    "                rating_data['review'] = line.split(b'review:')[1].decode('utf-8')\n",
    "\n",
    "            #counter += 1\n",
    "\n",
    "            #if counter == 100000:  # limit amount of lines to read in\n",
    "            #    break\n",
    "\n",
    "    if rating_data:\n",
    "        data.append(rating_data)\n",
    "\n",
    "    ratings = pd.DataFrame(data)\n",
    "    return ratings"
   ]
  },
  {
   "cell_type": "markdown",
   "metadata": {},
   "source": [
    "## Exploratory Data Analysis"
   ]
  },
  {
   "cell_type": "markdown",
   "metadata": {},
   "source": [
    "## Vocabulary Analysis"
   ]
  },
  {
   "cell_type": "markdown",
   "metadata": {},
   "source": [
    "## Sentiment Analysis"
   ]
  }
 ],
 "metadata": {
  "kernelspec": {
   "display_name": "ada",
   "language": "python",
   "name": "python3"
  },
  "language_info": {
   "codemirror_mode": {
    "name": "ipython",
    "version": 3
   },
   "file_extension": ".py",
   "mimetype": "text/x-python",
   "name": "python",
   "nbconvert_exporter": "python",
   "pygments_lexer": "ipython3",
   "version": "3.9.18"
  }
 },
 "nbformat": 4,
 "nbformat_minor": 2
}
