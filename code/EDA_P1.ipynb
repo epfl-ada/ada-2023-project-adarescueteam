{
 "cells": [
  {
   "cell_type": "markdown",
   "metadata": {},
   "source": [
    "# Testing of ADA beer review dataset"
   ]
  },
  {
   "cell_type": "code",
   "execution_count": 6,
   "metadata": {},
   "outputs": [],
   "source": [
    "import os\n",
    "import sys\n",
    "import pickle\n",
    "import numpy as np\n",
    "import pandas as pd\n",
    "import matplotlib.pyplot as plt\n",
    "import seaborn as sns"
   ]
  },
  {
   "cell_type": "code",
   "execution_count": 7,
   "metadata": {},
   "outputs": [
    {
     "data": {
      "text/plain": [
       "'c:\\\\Users\\\\fulci\\\\git\\\\ada_23\\\\ada-2023-project-adarescueteam\\\\code'"
      ]
     },
     "execution_count": 7,
     "metadata": {},
     "output_type": "execute_result"
    }
   ],
   "source": [
    "# add the data into the 'code' folder, make sure it is in the .gitignore file\n",
    "# get your working directory\n",
    "os.getcwd()"
   ]
  },
  {
   "cell_type": "code",
   "execution_count": 8,
   "metadata": {},
   "outputs": [],
   "source": [
    "# add '\\\\data' to it and put in DATA_DIR to set your data directory\n",
    "DATA_DIR = 'c:\\\\Users\\\\fulci\\\\git\\\\ada_23\\\\ada-2023-project-adarescueteam\\\\code\\\\data' # add \\\\data"
   ]
  },
  {
   "cell_type": "markdown",
   "metadata": {},
   "source": [
    "## BeerAdvocate Dataset"
   ]
  },
  {
   "cell_type": "code",
   "execution_count": 40,
   "metadata": {},
   "outputs": [],
   "source": [
    "#DATA_BeerAdvocate = os.path.join(DATA_DIR, \"BeerAdvocate\")     # Jay's path\n",
    "DATA_BeerAdvocate = os.path.join(DATA_DIR, \"BeerAdvocate.tar\")  # Ale's path"
   ]
  },
  {
   "cell_type": "markdown",
   "metadata": {},
   "source": [
    "### beers.csv"
   ]
  },
  {
   "cell_type": "code",
   "execution_count": 11,
   "metadata": {},
   "outputs": [
    {
     "data": {
      "text/html": [
       "<div>\n",
       "<style scoped>\n",
       "    .dataframe tbody tr th:only-of-type {\n",
       "        vertical-align: middle;\n",
       "    }\n",
       "\n",
       "    .dataframe tbody tr th {\n",
       "        vertical-align: top;\n",
       "    }\n",
       "\n",
       "    .dataframe thead th {\n",
       "        text-align: right;\n",
       "    }\n",
       "</style>\n",
       "<table border=\"1\" class=\"dataframe\">\n",
       "  <thead>\n",
       "    <tr style=\"text-align: right;\">\n",
       "      <th></th>\n",
       "      <th>beer_id</th>\n",
       "      <th>beer_name</th>\n",
       "      <th>brewery_id</th>\n",
       "      <th>brewery_name</th>\n",
       "      <th>style</th>\n",
       "      <th>nbr_ratings</th>\n",
       "      <th>nbr_reviews</th>\n",
       "      <th>avg</th>\n",
       "      <th>ba_score</th>\n",
       "      <th>bros_score</th>\n",
       "      <th>abv</th>\n",
       "      <th>avg_computed</th>\n",
       "      <th>zscore</th>\n",
       "      <th>nbr_matched_valid_ratings</th>\n",
       "      <th>avg_matched_valid_ratings</th>\n",
       "    </tr>\n",
       "  </thead>\n",
       "  <tbody>\n",
       "    <tr>\n",
       "      <th>0</th>\n",
       "      <td>166064</td>\n",
       "      <td>Nashe Moskovskoe</td>\n",
       "      <td>39912</td>\n",
       "      <td>Abdysh-Ata (Абдыш Ата)</td>\n",
       "      <td>Euro Pale Lager</td>\n",
       "      <td>0</td>\n",
       "      <td>0</td>\n",
       "      <td>NaN</td>\n",
       "      <td>NaN</td>\n",
       "      <td>NaN</td>\n",
       "      <td>4.7</td>\n",
       "      <td>NaN</td>\n",
       "      <td>NaN</td>\n",
       "      <td>0</td>\n",
       "      <td>NaN</td>\n",
       "    </tr>\n",
       "    <tr>\n",
       "      <th>1</th>\n",
       "      <td>166065</td>\n",
       "      <td>Nashe Pivovskoe</td>\n",
       "      <td>39912</td>\n",
       "      <td>Abdysh-Ata (Абдыш Ата)</td>\n",
       "      <td>Euro Pale Lager</td>\n",
       "      <td>0</td>\n",
       "      <td>0</td>\n",
       "      <td>NaN</td>\n",
       "      <td>NaN</td>\n",
       "      <td>NaN</td>\n",
       "      <td>3.8</td>\n",
       "      <td>NaN</td>\n",
       "      <td>NaN</td>\n",
       "      <td>0</td>\n",
       "      <td>NaN</td>\n",
       "    </tr>\n",
       "    <tr>\n",
       "      <th>2</th>\n",
       "      <td>166066</td>\n",
       "      <td>Nashe Shakhterskoe</td>\n",
       "      <td>39912</td>\n",
       "      <td>Abdysh-Ata (Абдыш Ата)</td>\n",
       "      <td>Euro Pale Lager</td>\n",
       "      <td>0</td>\n",
       "      <td>0</td>\n",
       "      <td>NaN</td>\n",
       "      <td>NaN</td>\n",
       "      <td>NaN</td>\n",
       "      <td>4.8</td>\n",
       "      <td>NaN</td>\n",
       "      <td>NaN</td>\n",
       "      <td>0</td>\n",
       "      <td>NaN</td>\n",
       "    </tr>\n",
       "    <tr>\n",
       "      <th>3</th>\n",
       "      <td>166067</td>\n",
       "      <td>Nashe Zhigulevskoe</td>\n",
       "      <td>39912</td>\n",
       "      <td>Abdysh-Ata (Абдыш Ата)</td>\n",
       "      <td>Euro Pale Lager</td>\n",
       "      <td>0</td>\n",
       "      <td>0</td>\n",
       "      <td>NaN</td>\n",
       "      <td>NaN</td>\n",
       "      <td>NaN</td>\n",
       "      <td>4.0</td>\n",
       "      <td>NaN</td>\n",
       "      <td>NaN</td>\n",
       "      <td>0</td>\n",
       "      <td>NaN</td>\n",
       "    </tr>\n",
       "    <tr>\n",
       "      <th>4</th>\n",
       "      <td>166063</td>\n",
       "      <td>Zhivoe</td>\n",
       "      <td>39912</td>\n",
       "      <td>Abdysh-Ata (Абдыш Ата)</td>\n",
       "      <td>Euro Pale Lager</td>\n",
       "      <td>0</td>\n",
       "      <td>0</td>\n",
       "      <td>NaN</td>\n",
       "      <td>NaN</td>\n",
       "      <td>NaN</td>\n",
       "      <td>4.5</td>\n",
       "      <td>NaN</td>\n",
       "      <td>NaN</td>\n",
       "      <td>0</td>\n",
       "      <td>NaN</td>\n",
       "    </tr>\n",
       "  </tbody>\n",
       "</table>\n",
       "</div>"
      ],
      "text/plain": [
       "   beer_id           beer_name  brewery_id            brewery_name  \\\n",
       "0   166064    Nashe Moskovskoe       39912  Abdysh-Ata (Абдыш Ата)   \n",
       "1   166065     Nashe Pivovskoe       39912  Abdysh-Ata (Абдыш Ата)   \n",
       "2   166066  Nashe Shakhterskoe       39912  Abdysh-Ata (Абдыш Ата)   \n",
       "3   166067  Nashe Zhigulevskoe       39912  Abdysh-Ata (Абдыш Ата)   \n",
       "4   166063              Zhivoe       39912  Abdysh-Ata (Абдыш Ата)   \n",
       "\n",
       "             style  nbr_ratings  nbr_reviews  avg  ba_score  bros_score  abv  \\\n",
       "0  Euro Pale Lager            0            0  NaN       NaN         NaN  4.7   \n",
       "1  Euro Pale Lager            0            0  NaN       NaN         NaN  3.8   \n",
       "2  Euro Pale Lager            0            0  NaN       NaN         NaN  4.8   \n",
       "3  Euro Pale Lager            0            0  NaN       NaN         NaN  4.0   \n",
       "4  Euro Pale Lager            0            0  NaN       NaN         NaN  4.5   \n",
       "\n",
       "   avg_computed  zscore  nbr_matched_valid_ratings  avg_matched_valid_ratings  \n",
       "0           NaN     NaN                          0                        NaN  \n",
       "1           NaN     NaN                          0                        NaN  \n",
       "2           NaN     NaN                          0                        NaN  \n",
       "3           NaN     NaN                          0                        NaN  \n",
       "4           NaN     NaN                          0                        NaN  "
      ]
     },
     "execution_count": 11,
     "metadata": {},
     "output_type": "execute_result"
    }
   ],
   "source": [
    "# read in the beers.csv file as a DataFrame\n",
    "BA_beers = pd.read_csv(os.path.join(DATA_BeerAdvocate, \"beers.csv\")) # worked after i added the data folder into the code folder\n",
    "#BA_beers = pd.read_csv(r'C:\\Users\\fulci\\git\\ada_23\\ada-2023-project-adarescueteam\\data\\BeerAdvocate.tar\\beers.csv') # -> copied the path and pasted with 'r' in front\n",
    "BA_beers.head()"
   ]
  },
  {
   "cell_type": "markdown",
   "metadata": {},
   "source": [
    "### breweries.csv"
   ]
  },
  {
   "cell_type": "code",
   "execution_count": 12,
   "metadata": {},
   "outputs": [
    {
     "data": {
      "text/plain": [
       "(      id    location                    name  nbr_beers\n",
       " 0  39912  Kyrgyzstan  Abdysh-Ata (Абдыш Ата)          5\n",
       " 1  39913  Kyrgyzstan             Arpa (АРПА)          1\n",
       " 2  39914  Kyrgyzstan               Bear Beer          4\n",
       " 3  39915  Kyrgyzstan             Blonder Pub          4\n",
       " 4  39916  Kyrgyzstan            Kellers Bier          2,\n",
       " (16758, 4))"
      ]
     },
     "execution_count": 12,
     "metadata": {},
     "output_type": "execute_result"
    }
   ],
   "source": [
    "BA_breweries = pd.read_csv(os.path.join(DATA_BeerAdvocate, \"breweries.csv\")) # worked after i added the data folder into the code folder\n",
    "#BA_breweries = pd.read_csv(r'C:\\Users\\fulci\\git\\ada_23\\ada-2023-project-adarescueteam\\data\\BeerAdvocate.tar\\breweries.csv') # -> copied the path and pasted with 'r' in front\n",
    "BA_breweries.head(), BA_breweries.shape"
   ]
  },
  {
   "cell_type": "code",
   "execution_count": 13,
   "metadata": {},
   "outputs": [
    {
     "name": "stdout",
     "output_type": "stream",
     "text": [
      "breweries that produced only one beer: 3958\n",
      "that is, 23.62 %\n"
     ]
    }
   ],
   "source": [
    "print('breweries that produced only one beer:', len(BA_breweries.loc[BA_breweries['nbr_beers'] <= 1]))\n",
    "percent = len(BA_breweries.loc[BA_breweries['nbr_beers'] <= 1]) / len(BA_breweries) * 100\n",
    "print('that is,', round(percent, 2),'%')"
   ]
  },
  {
   "cell_type": "markdown",
   "metadata": {},
   "source": [
    "### users.csv"
   ]
  },
  {
   "cell_type": "code",
   "execution_count": 14,
   "metadata": {},
   "outputs": [
    {
     "data": {
      "text/plain": [
       "((153704, 6),\n",
       "    nbr_ratings  nbr_reviews                user_id        user_name  \\\n",
       " 0         7820          465         nmann08.184925          nmann08   \n",
       " 1         2521         2504     stjamesgate.163714      StJamesGate   \n",
       " 2         1797         1143          mdagnew.19527          mdagnew   \n",
       " 3           31           31  helloloser12345.10867  helloloser12345   \n",
       " 4          604          604        cypressbob.3708       cypressbob   \n",
       " \n",
       "          joined                   location  \n",
       " 0  1.199704e+09  United States, Washington  \n",
       " 1  1.191838e+09    United States, New York  \n",
       " 2  1.116410e+09           Northern Ireland  \n",
       " 3  1.101380e+09           Northern Ireland  \n",
       " 4  1.069326e+09           Northern Ireland  )"
      ]
     },
     "execution_count": 14,
     "metadata": {},
     "output_type": "execute_result"
    }
   ],
   "source": [
    "BA_users = pd.read_csv(os.path.join(DATA_BeerAdvocate, \"users.csv\"))\n",
    "BA_users.shape, BA_users.head()"
   ]
  },
  {
   "cell_type": "markdown",
   "metadata": {},
   "source": [
    "### ratings.txt"
   ]
  },
  {
   "cell_type": "markdown",
   "metadata": {},
   "source": [
    "need to check if the whole ratings dataset is equal to the reviews dataset. most probably "
   ]
  },
  {
   "cell_type": "code",
   "execution_count": 45,
   "metadata": {},
   "outputs": [],
   "source": [
    "# read in the file line by line\n",
    "# extract the data into dataframes\n",
    "\n",
    "# create the dataframe\n",
    "def read_ratings_txt(folder, file_name):\n",
    "    ratings = pd.DataFrame(columns = [\"beer_name\", \"beer_id\", \"brewery_name\", \"brewery_id\", \"style\", \"abv\", \"date\", \"user_name\", \"user_id\", \"appearance\", \"aroma\", \"palate\", \"taste\", \"overall\", \"rating\", \"text\", \"review\"])\n",
    "    # open the file\n",
    "    with open(os.path.join(folder, file_name), \"r\") as f:\n",
    "        # read the file line by line\n",
    "        row = dict()\n",
    "        for line in f:\n",
    "            # if line number is larger than 1000, break\n",
    "            if len(ratings) > 100:\n",
    "                break\n",
    "            # the text file recorded chunks of data representing each review\n",
    "            # beer_name, beer_id, brewery_name, brewery_id, style, abv, date, user_name, user_id, appearance, aroma, palate, taste, overall, rating, text, review\n",
    "            # the data is recorded in the order above, line by line iteratively\n",
    "            \n",
    "            # read in the data, split each line by the colon, and put them into a dataframe\n",
    "            # represent each review as a row\n",
    "            \n",
    "            # split the line by the colon\n",
    "            line = line.split(\":\")\n",
    "            # if the line is empty, skip\n",
    "            if len(line) < 2:\n",
    "                continue\n",
    "            else:\n",
    "                if line[0] == \"beer_name\":\n",
    "                    # start a new row\n",
    "                    row = dict()\n",
    "                    row[line[0]] = line[1].strip()\n",
    "                elif line[0] == \"review\":\n",
    "                    # end of the review\n",
    "                    row[line[0]] = line[1].strip()\n",
    "                    # append the row to the dataframe\n",
    "                    ratings.loc[len(ratings)] = row\n",
    "                else:\n",
    "                    row[line[0]] = line[1].strip()        \n",
    "    return ratings\n",
    "        "
   ]
  },
  {
   "cell_type": "code",
   "execution_count": 62,
   "metadata": {},
   "outputs": [
    {
     "data": {
      "text/plain": [
       "(       beer_name beer_id                               brewery_name  \\\n",
       " 0          Régab  142544  Societe des Brasseries du Gabon (SOBRAGA)   \n",
       " 1  Barelegs Brew   19590       Strangford Lough Brewing Company Ltd   \n",
       " 2  Barelegs Brew   19590       Strangford Lough Brewing Company Ltd   \n",
       " 3  Barelegs Brew   19590       Strangford Lough Brewing Company Ltd   \n",
       " 4  Barelegs Brew   19590       Strangford Lough Brewing Company Ltd   \n",
       " \n",
       "   brewery_id             style  abv        date        user_name  \\\n",
       " 0      37262   Euro Pale Lager  4.5  1440064800          nmann08   \n",
       " 1      10093  English Pale Ale  4.5  1235127600      StJamesGate   \n",
       " 2      10093  English Pale Ale  4.5  1142247600          mdagnew   \n",
       " 3      10093  English Pale Ale  4.5  1101898800  helloloser12345   \n",
       " 4      10093  English Pale Ale  4.5  1093860000       cypressbob   \n",
       " \n",
       "                  user_id appearance aroma palate taste overall rating  \\\n",
       " 0         nmann08.184925       3.25  2.75   3.25  2.75     3.0   2.88   \n",
       " 1     stjamesgate.163714        3.0   3.5    3.5   4.0     3.5   3.67   \n",
       " 2          mdagnew.19527        4.0   3.5    3.5   4.0     3.5   3.73   \n",
       " 3  helloloser12345.10867        4.0   3.5    4.0   4.0     4.5   3.98   \n",
       " 4        cypressbob.3708        4.0   4.0    4.0   4.0     4.0   4.00   \n",
       " \n",
       "                                                 text review  \n",
       " 0  From a bottle, pours a piss yellow color with ...   True  \n",
       " 1  Pours pale copper with a thin head that quickl...   True  \n",
       " 2  500ml Bottle bought from The Vintage, Antrim.....   True  \n",
       " 3                                            Serving   True  \n",
       " 4  500ml bottlePours with a light, slightly hazy ...   True  ,\n",
       " (101, 17))"
      ]
     },
     "execution_count": 62,
     "metadata": {},
     "output_type": "execute_result"
    }
   ],
   "source": [
    "BA_ratings = read_ratings_txt(DATA_BeerAdvocate, \"ratings.txt\")\n",
    "BA_ratings.head(), BA_ratings.shape\n",
    "\n",
    "## not sure how"
   ]
  },
  {
   "cell_type": "code",
   "execution_count": 75,
   "metadata": {},
   "outputs": [],
   "source": [
    "# need to see how auxiliary functions work and put this function outside of the notebook, thus just call it here\n",
    "\n",
    "# read in the reviews\n",
    "def read_reviews_txt(folder, file_name):\n",
    "    \n",
    "    data = pd.DataFrame()\n",
    "    counter = 0\n",
    "\n",
    "    with open(os.path.join(folder, file_name), 'rb') as file:\n",
    "        for line in file:\n",
    "            counter += 1\n",
    "\n",
    "            parts = line.strip().split(b'beer_name:')\n",
    "            if len(parts) == 2:\n",
    "                beer_name = parts[1].strip().decode('utf-8')  # Convert bytes to string\n",
    "                data = pd.concat([data, pd.DataFrame({'beer_name': [beer_name]})], ignore_index=True)  # Concatenate\n",
    "\n",
    "            parts = line.strip().split(b'beer_id:')\n",
    "            if len(parts) == 2:\n",
    "                beer_id = parts[1].strip().decode('utf-8')  # Convert bytes to string\n",
    "                data = pd.concat([data, pd.DataFrame({'beer_id': [beer_id]})], ignore_index=True)  # Concatenate\n",
    "\n",
    "            parts = line.strip().split(b'brewery_name:')\n",
    "            if len(parts) == 2:\n",
    "                brewery_name = parts[1].strip().decode('utf-8')  # Convert bytes to string\n",
    "                data = pd.concat([data, pd.DataFrame({'brewery_name': [brewery_name]})], ignore_index=True)  # Concatenate\n",
    "\n",
    "            parts = line.strip().split(b'brewery_id:')\n",
    "            if len(parts) == 2:\n",
    "                brewery_id = parts[1].strip().decode('utf-8')  # Convert bytes to string\n",
    "                data = pd.concat([data, pd.DataFrame({'brewery_id': [brewery_id]})], ignore_index=True)  # Concatenate\n",
    "\n",
    "            parts = line.strip().split(b'style:')\n",
    "            if len(parts) == 2:\n",
    "                style = parts[1].strip().decode('utf-8')  # Convert bytes to string\n",
    "                data = pd.concat([data, pd.DataFrame({'style': [style]})], ignore_index=True)  # Concatenate\n",
    "\n",
    "            parts = line.strip().split(b'abv:')\n",
    "            if len(parts) == 2:\n",
    "                abv = parts[1].strip().decode('utf-8')  # Convert bytes to string\n",
    "                data = pd.concat([data, pd.DataFrame({'abv': [abv]})], ignore_index=True)  # Concatenate\n",
    "\n",
    "            parts = line.strip().split(b'date:')\n",
    "            if len(parts) == 2:\n",
    "                date = parts[1].strip().decode('utf-8')  # Convert bytes to string\n",
    "                data = pd.concat([data, pd.DataFrame({'date': [date]})], ignore_index=True)  # Concatenate\n",
    "\n",
    "            parts = line.strip().split(b'user_name:')\n",
    "            if len(parts) == 2:\n",
    "                user_name = parts[1].strip().decode('utf-8')  # Convert bytes to string\n",
    "                data = pd.concat([data, pd.DataFrame({'user_name': [user_name]})], ignore_index=True)  # Concatenate\n",
    "\n",
    "            parts = line.strip().split(b'user_id:')\n",
    "            if len(parts) == 2:\n",
    "                user_id = parts[1].strip().decode('utf-8')  # Convert bytes to string\n",
    "                data = pd.concat([data, pd.DataFrame({'user_id': [user_id]})], ignore_index=True)  # Concatenate\n",
    "\n",
    "            parts = line.strip().split(b'appearance:')\n",
    "            if len(parts) == 2:\n",
    "                appearance = parts[1].strip().decode('utf-8')  # Convert bytes to string\n",
    "                data = pd.concat([data, pd.DataFrame({'appearance': [appearance]})], ignore_index=True)  # Concatenate\n",
    "\n",
    "            parts = line.strip().split(b'aroma:')\n",
    "            if len(parts) == 2:\n",
    "                aroma = parts[1].strip().decode('utf-8')  # Convert bytes to string\n",
    "                data = pd.concat([data, pd.DataFrame({'aroma': [aroma]})], ignore_index=True)  # Concatenate\n",
    "\n",
    "            parts = line.strip().split(b'palate:')\n",
    "            if len(parts) == 2:\n",
    "                palate = parts[1].strip().decode('utf-8')  # Convert bytes to string\n",
    "                data = pd.concat([data, pd.DataFrame({'palate': [palate]})], ignore_index=True)  # Concatenate\n",
    "\n",
    "            parts = line.strip().split(b'taste:')\n",
    "            if len(parts) == 2:\n",
    "                taste = parts[1].strip().decode('utf-8')  # Convert bytes to string\n",
    "                data = pd.concat([data, pd.DataFrame({'taste': [taste]})], ignore_index=True)  # Concatenate\n",
    "\n",
    "            parts = line.strip().split(b'overall:')\n",
    "            if len(parts) == 2:\n",
    "                overall = parts[1].strip().decode('utf-8')  # Convert bytes to string\n",
    "                data = pd.concat([data, pd.DataFrame({'overall': [overall]})], ignore_index=True)  # Concatenate\n",
    "\n",
    "            parts = line.strip().split(b'rating:')\n",
    "            if len(parts) == 2:\n",
    "                rating = parts[1].strip().decode('utf-8')  # Convert bytes to string\n",
    "                data = pd.concat([data, pd.DataFrame({'rating': [rating]})], ignore_index=True)  # Concatenate\n",
    "\n",
    "            parts = line.strip().split(b'text:')\n",
    "            if len(parts) == 2:\n",
    "                text = parts[1].strip().decode('utf-8')  # Convert bytes to string\n",
    "                data = pd.concat([data, pd.DataFrame({'text': [text]})], ignore_index=True)  # Concatenate\n",
    "\n",
    "            if counter == 300:  # Just 200 lines\n",
    "                break\n",
    "\n",
    "    reviews = data.apply(lambda x: pd.Series(x.dropna().values)) # drop all NaN and shift the values (not dropping the whole row)\n",
    "    return reviews"
   ]
  },
  {
   "cell_type": "code",
   "execution_count": 48,
   "metadata": {},
   "outputs": [
    {
     "data": {
      "text/html": [
       "<div>\n",
       "<style scoped>\n",
       "    .dataframe tbody tr th:only-of-type {\n",
       "        vertical-align: middle;\n",
       "    }\n",
       "\n",
       "    .dataframe tbody tr th {\n",
       "        vertical-align: top;\n",
       "    }\n",
       "\n",
       "    .dataframe thead th {\n",
       "        text-align: right;\n",
       "    }\n",
       "</style>\n",
       "<table border=\"1\" class=\"dataframe\">\n",
       "  <thead>\n",
       "    <tr style=\"text-align: right;\">\n",
       "      <th></th>\n",
       "      <th>beer_name</th>\n",
       "      <th>beer_id</th>\n",
       "      <th>brewery_name</th>\n",
       "      <th>brewery_id</th>\n",
       "      <th>style</th>\n",
       "      <th>abv</th>\n",
       "      <th>date</th>\n",
       "      <th>user_name</th>\n",
       "      <th>user_id</th>\n",
       "      <th>appearance</th>\n",
       "      <th>aroma</th>\n",
       "      <th>palate</th>\n",
       "      <th>taste</th>\n",
       "      <th>overall</th>\n",
       "      <th>rating</th>\n",
       "      <th>text</th>\n",
       "    </tr>\n",
       "  </thead>\n",
       "  <tbody>\n",
       "    <tr>\n",
       "      <th>0</th>\n",
       "      <td>Régab</td>\n",
       "      <td>142544</td>\n",
       "      <td>Societe des Brasseries du Gabon (SOBRAGA)</td>\n",
       "      <td>37262</td>\n",
       "      <td>Euro Pale Lager</td>\n",
       "      <td>4.5</td>\n",
       "      <td>1440064800</td>\n",
       "      <td>nmann08</td>\n",
       "      <td>nmann08.184925</td>\n",
       "      <td>3.25</td>\n",
       "      <td>2.75</td>\n",
       "      <td>3.25</td>\n",
       "      <td>2.75</td>\n",
       "      <td>3.0</td>\n",
       "      <td>2.88</td>\n",
       "      <td>From a bottle, pours a piss yellow color with ...</td>\n",
       "    </tr>\n",
       "    <tr>\n",
       "      <th>1</th>\n",
       "      <td>Barelegs Brew</td>\n",
       "      <td>19590</td>\n",
       "      <td>Strangford Lough Brewing Company Ltd</td>\n",
       "      <td>10093</td>\n",
       "      <td>English Pale Ale</td>\n",
       "      <td>4.5</td>\n",
       "      <td>1235127600</td>\n",
       "      <td>StJamesGate</td>\n",
       "      <td>stjamesgate.163714</td>\n",
       "      <td>3.0</td>\n",
       "      <td>3.5</td>\n",
       "      <td>3.5</td>\n",
       "      <td>4.0</td>\n",
       "      <td>3.5</td>\n",
       "      <td>3.67</td>\n",
       "      <td>Pours pale copper with a thin head that quickl...</td>\n",
       "    </tr>\n",
       "    <tr>\n",
       "      <th>2</th>\n",
       "      <td>Barelegs Brew</td>\n",
       "      <td>19590</td>\n",
       "      <td>Strangford Lough Brewing Company Ltd</td>\n",
       "      <td>10093</td>\n",
       "      <td>English Pale Ale</td>\n",
       "      <td>4.5</td>\n",
       "      <td>1142247600</td>\n",
       "      <td>mdagnew</td>\n",
       "      <td>mdagnew.19527</td>\n",
       "      <td>4.0</td>\n",
       "      <td>3.5</td>\n",
       "      <td>3.5</td>\n",
       "      <td>4.0</td>\n",
       "      <td>3.5</td>\n",
       "      <td>3.73</td>\n",
       "      <td>500ml Bottle bought from The Vintage, Antrim.....</td>\n",
       "    </tr>\n",
       "    <tr>\n",
       "      <th>3</th>\n",
       "      <td>Barelegs Brew</td>\n",
       "      <td>19590</td>\n",
       "      <td>Strangford Lough Brewing Company Ltd</td>\n",
       "      <td>10093</td>\n",
       "      <td>English Pale Ale</td>\n",
       "      <td>4.5</td>\n",
       "      <td>1101898800</td>\n",
       "      <td>helloloser12345</td>\n",
       "      <td>helloloser12345.10867</td>\n",
       "      <td>4.0</td>\n",
       "      <td>3.5</td>\n",
       "      <td>4.0</td>\n",
       "      <td>4.0</td>\n",
       "      <td>4.5</td>\n",
       "      <td>3.98</td>\n",
       "      <td>Serving: 500ml brown bottlePour: Good head wit...</td>\n",
       "    </tr>\n",
       "    <tr>\n",
       "      <th>4</th>\n",
       "      <td>Barelegs Brew</td>\n",
       "      <td>19590</td>\n",
       "      <td>Strangford Lough Brewing Company Ltd</td>\n",
       "      <td>10093</td>\n",
       "      <td>English Pale Ale</td>\n",
       "      <td>4.5</td>\n",
       "      <td>1093860000</td>\n",
       "      <td>cypressbob</td>\n",
       "      <td>cypressbob.3708</td>\n",
       "      <td>4.0</td>\n",
       "      <td>4.0</td>\n",
       "      <td>4.0</td>\n",
       "      <td>4.0</td>\n",
       "      <td>4.0</td>\n",
       "      <td>4.00</td>\n",
       "      <td>500ml bottlePours with a light, slightly hazy ...</td>\n",
       "    </tr>\n",
       "  </tbody>\n",
       "</table>\n",
       "</div>"
      ],
      "text/plain": [
       "       beer_name beer_id                               brewery_name  \\\n",
       "0          Régab  142544  Societe des Brasseries du Gabon (SOBRAGA)   \n",
       "1  Barelegs Brew   19590       Strangford Lough Brewing Company Ltd   \n",
       "2  Barelegs Brew   19590       Strangford Lough Brewing Company Ltd   \n",
       "3  Barelegs Brew   19590       Strangford Lough Brewing Company Ltd   \n",
       "4  Barelegs Brew   19590       Strangford Lough Brewing Company Ltd   \n",
       "\n",
       "  brewery_id             style  abv        date        user_name  \\\n",
       "0      37262   Euro Pale Lager  4.5  1440064800          nmann08   \n",
       "1      10093  English Pale Ale  4.5  1235127600      StJamesGate   \n",
       "2      10093  English Pale Ale  4.5  1142247600          mdagnew   \n",
       "3      10093  English Pale Ale  4.5  1101898800  helloloser12345   \n",
       "4      10093  English Pale Ale  4.5  1093860000       cypressbob   \n",
       "\n",
       "                 user_id appearance aroma palate taste overall rating  \\\n",
       "0         nmann08.184925       3.25  2.75   3.25  2.75     3.0   2.88   \n",
       "1     stjamesgate.163714        3.0   3.5    3.5   4.0     3.5   3.67   \n",
       "2          mdagnew.19527        4.0   3.5    3.5   4.0     3.5   3.73   \n",
       "3  helloloser12345.10867        4.0   3.5    4.0   4.0     4.5   3.98   \n",
       "4        cypressbob.3708        4.0   4.0    4.0   4.0     4.0   4.00   \n",
       "\n",
       "                                                text  \n",
       "0  From a bottle, pours a piss yellow color with ...  \n",
       "1  Pours pale copper with a thin head that quickl...  \n",
       "2  500ml Bottle bought from The Vintage, Antrim.....  \n",
       "3  Serving: 500ml brown bottlePour: Good head wit...  \n",
       "4  500ml bottlePours with a light, slightly hazy ...  "
      ]
     },
     "execution_count": 48,
     "metadata": {},
     "output_type": "execute_result"
    }
   ],
   "source": [
    "BA_reviews = read_review_txt(DATA_BeerAdvocate, \"reviews.txt\")\n",
    "BA_reviews.head()"
   ]
  },
  {
   "cell_type": "markdown",
   "metadata": {},
   "source": [
    "## RateBeer (RB) Dataset"
   ]
  },
  {
   "cell_type": "code",
   "execution_count": 50,
   "metadata": {},
   "outputs": [],
   "source": [
    "DATA_RateBeer = os.path.join(DATA_DIR, \"RateBeer.tar\")"
   ]
  },
  {
   "cell_type": "markdown",
   "metadata": {},
   "source": [
    "### beers.csv"
   ]
  },
  {
   "cell_type": "code",
   "execution_count": 51,
   "metadata": {},
   "outputs": [
    {
     "data": {
      "text/plain": [
       "(   beer_id               beer_name  brewery_id      brewery_name  \\\n",
       " 0   410549       33 Export (Gabon)        3198           Sobraga   \n",
       " 1   105273     Castel Beer (Gabon)        3198           Sobraga   \n",
       " 2    19445                   Régab        3198           Sobraga   \n",
       " 3   155699  Ards Bally Black Stout       13538  Ards Brewing Co.   \n",
       " 4   239097        Ards Belfast 366       13538  Ards Brewing Co.   \n",
       " \n",
       "                   style  nbr_ratings  overall_score  style_score   avg  abv  \\\n",
       " 0            Pale Lager            1            NaN          NaN  2.72  5.0   \n",
       " 1            Pale Lager           10            5.0         58.0  2.18  5.2   \n",
       " 2            Pale Lager           27            1.0         22.0  1.83  4.5   \n",
       " 3                 Stout            6            NaN          NaN  3.18  4.6   \n",
       " 4  Golden Ale/Blond Ale            1            NaN          NaN  2.79  4.2   \n",
       " \n",
       "    avg_computed    zscore  nbr_matched_valid_ratings  \\\n",
       " 0      2.000000       NaN                          0   \n",
       " 1      1.910000       NaN                          0   \n",
       " 2      1.811111       NaN                          0   \n",
       " 3      3.866667  0.823699                          6   \n",
       " 4      3.000000       NaN                          0   \n",
       " \n",
       "    avg_matched_valid_ratings  \n",
       " 0                        NaN  \n",
       " 1                        NaN  \n",
       " 2                        NaN  \n",
       " 3                   3.866667  \n",
       " 4                        NaN  ,\n",
       " (442081, 14))"
      ]
     },
     "execution_count": 51,
     "metadata": {},
     "output_type": "execute_result"
    }
   ],
   "source": [
    "# read in the beers.csv file as a DataFrame\n",
    "RB_beers = pd.read_csv(os.path.join(DATA_RateBeer, \"beers.csv\")) # worked after i added the data folder into the code folder\n",
    "#BA_beers = pd.read_csv(r'C:\\Users\\fulci\\git\\ada_23\\ada-2023-project-adarescueteam\\data\\BeerAdvocate.tar\\beers.csv') # -> copied the path and pasted with 'r' in front\n",
    "RB_beers.head(), RB_beers.shape"
   ]
  },
  {
   "cell_type": "markdown",
   "metadata": {},
   "source": [
    "### breweries.csv"
   ]
  },
  {
   "cell_type": "code",
   "execution_count": 52,
   "metadata": {},
   "outputs": [
    {
     "data": {
      "text/plain": [
       "(      id          location                       name  nbr_beers\n",
       " 0   3198             Gabon                    Sobraga          3\n",
       " 1  13538  Northern Ireland           Ards Brewing Co.         13\n",
       " 2  22304  Northern Ireland  Barrahooley Craft Brewery          4\n",
       " 3  22818  Northern Ireland                   Boundary         66\n",
       " 4  24297  Northern Ireland            Brewbot Belfast          3,\n",
       " (24189, 4))"
      ]
     },
     "execution_count": 52,
     "metadata": {},
     "output_type": "execute_result"
    }
   ],
   "source": [
    "RB_breweries = pd.read_csv(os.path.join(DATA_RateBeer, \"breweries.csv\")) # worked after i added the data folder into the code folder\n",
    "#BA_breweries = pd.read_csv(r'C:\\Users\\fulci\\git\\ada_23\\ada-2023-project-adarescueteam\\data\\BeerAdvocate.tar\\breweries.csv') # -> copied the path and pasted with 'r' in front\n",
    "RB_breweries.head(), RB_breweries.shape"
   ]
  },
  {
   "cell_type": "code",
   "execution_count": 53,
   "metadata": {},
   "outputs": [
    {
     "name": "stdout",
     "output_type": "stream",
     "text": [
      "breweries that produced only one beer: 2745\n",
      "that is, 11.35 %\n"
     ]
    }
   ],
   "source": [
    "print('breweries that produced only one beer:', len(RB_breweries.loc[RB_breweries['nbr_beers'] <= 1]))\n",
    "percent = len(RB_breweries.loc[RB_breweries['nbr_beers'] <= 1]) / len(RB_breweries) * 100\n",
    "print('that is,', round(percent, 2),'%')"
   ]
  },
  {
   "cell_type": "markdown",
   "metadata": {},
   "source": [
    "### users.csv"
   ]
  },
  {
   "cell_type": "code",
   "execution_count": 54,
   "metadata": {},
   "outputs": [
    {
     "data": {
      "text/plain": [
       "((70174, 5),\n",
       "    nbr_ratings  nbr_reviews                user_id        user_name  \\\n",
       " 0         7820          465         nmann08.184925          nmann08   \n",
       " 1         2521         2504     stjamesgate.163714      StJamesGate   \n",
       " 2         1797         1143          mdagnew.19527          mdagnew   \n",
       " 3           31           31  helloloser12345.10867  helloloser12345   \n",
       " 4          604          604        cypressbob.3708       cypressbob   \n",
       " \n",
       "          joined                   location  \n",
       " 0  1.199704e+09  United States, Washington  \n",
       " 1  1.191838e+09    United States, New York  \n",
       " 2  1.116410e+09           Northern Ireland  \n",
       " 3  1.101380e+09           Northern Ireland  \n",
       " 4  1.069326e+09           Northern Ireland  )"
      ]
     },
     "execution_count": 54,
     "metadata": {},
     "output_type": "execute_result"
    }
   ],
   "source": [
    "RB_users = pd.read_csv(os.path.join(DATA_RateBeer, \"users.csv\"))\n",
    "RB_users.shape, BA_users.head()\n",
    "# here the 'joined' column is looking strange, should probably be a date.. maybe specific package?"
   ]
  },
  {
   "cell_type": "markdown",
   "metadata": {},
   "source": [
    "### ratings.txt"
   ]
  },
  {
   "cell_type": "markdown",
   "metadata": {},
   "source": [
    "need to check if the whole ratings dataset is equal to the reviews dataset. most probably "
   ]
  },
  {
   "cell_type": "code",
   "execution_count": 64,
   "metadata": {},
   "outputs": [
    {
     "data": {
      "text/plain": [
       "(             beer_name beer_id brewery_name brewery_id       style  abv  \\\n",
       " 0    33 Export (Gabon)  410549      Sobraga       3198  Pale Lager  5.0   \n",
       " 1  Castel Beer (Gabon)  105273      Sobraga       3198  Pale Lager  5.2   \n",
       " 2  Castel Beer (Gabon)  105273      Sobraga       3198  Pale Lager  5.2   \n",
       " 3  Castel Beer (Gabon)  105273      Sobraga       3198  Pale Lager  5.2   \n",
       " 4  Castel Beer (Gabon)  105273      Sobraga       3198  Pale Lager  5.2   \n",
       " \n",
       "          date     user_name user_id appearance aroma palate taste overall  \\\n",
       " 0  1461664800       Manslow  175852          2     4      2     4       8   \n",
       " 1  1487329200  MAGICuenca91  442761          2     3      2     4       8   \n",
       " 2  1466762400        Sibarh  288889          3     3      2     3       5   \n",
       " 3  1451646000       fombe89  250510          4     3      1     2       5   \n",
       " 4  1445594400    kevnic2008  122778          2     4      2     4       7   \n",
       " \n",
       "   rating                                               text  \n",
       " 0   2.00  Puszka 0,33l dzięki Christoph . Kolor jasnozło...  \n",
       " 1   1.90  Cerveza pale lager gabonesa. MÃ¡s floja que la...  \n",
       " 2   1.60  Kolor- złoty, klarowny. Piana - drobna, średni...  \n",
       " 3   1.50  Botella, de GabÃ³n regalo familiar.31/01/2015C...  \n",
       " 4   1.90  Many thanks for this beer to Erzengel. Pours l...  ,\n",
       " (18, 16))"
      ]
     },
     "execution_count": 64,
     "metadata": {},
     "output_type": "execute_result"
    }
   ],
   "source": [
    "RB_ratings = read_reviews_txt(DATA_RateBeer, \"ratings.txt\") # this rating dataset does not have the 'review' column as in BA, so the same function as the review can be used\n",
    "RB_ratings.head(), RB_ratings.shape"
   ]
  },
  {
   "cell_type": "markdown",
   "metadata": {},
   "source": [
    "### reviews.txt"
   ]
  },
  {
   "cell_type": "code",
   "execution_count": 66,
   "metadata": {},
   "outputs": [
    {
     "data": {
      "text/plain": [
       "(             beer_name beer_id brewery_name brewery_id       style  abv  \\\n",
       " 0    33 Export (Gabon)  410549      Sobraga       3198  Pale Lager  5.0   \n",
       " 1  Castel Beer (Gabon)  105273      Sobraga       3198  Pale Lager  5.2   \n",
       " 2  Castel Beer (Gabon)  105273      Sobraga       3198  Pale Lager  5.2   \n",
       " 3  Castel Beer (Gabon)  105273      Sobraga       3198  Pale Lager  5.2   \n",
       " 4  Castel Beer (Gabon)  105273      Sobraga       3198  Pale Lager  5.2   \n",
       " \n",
       "          date     user_name user_id appearance aroma palate taste overall  \\\n",
       " 0  1461664800       Manslow  175852          2     4      2     4       8   \n",
       " 1  1487329200  MAGICuenca91  442761          2     3      2     4       8   \n",
       " 2  1466762400        Sibarh  288889          3     3      2     3       5   \n",
       " 3  1451646000       fombe89  250510          4     3      1     2       5   \n",
       " 4  1445594400    kevnic2008  122778          2     4      2     4       7   \n",
       " \n",
       "   rating                                               text  \n",
       " 0   2.00  Puszka 0,33l dzięki Christoph . Kolor jasnozło...  \n",
       " 1   1.90  Cerveza pale lager gabonesa. MÃ¡s floja que la...  \n",
       " 2   1.60  Kolor- złoty, klarowny. Piana - drobna, średni...  \n",
       " 3   1.50  Botella, de GabÃ³n regalo familiar.31/01/2015C...  \n",
       " 4   1.90  Many thanks for this beer to Erzengel. Pours l...  ,\n",
       " (18, 16))"
      ]
     },
     "execution_count": 66,
     "metadata": {},
     "output_type": "execute_result"
    }
   ],
   "source": [
    "RB_reviews = read_reviews_txt(DATA_RateBeer, \"reviews.txt\")\n",
    "RB_reviews.head(), RB_reviews.shape\n",
    "\n"
   ]
  },
  {
   "cell_type": "markdown",
   "metadata": {},
   "source": [
    "## Matched beer dataset"
   ]
  },
  {
   "cell_type": "code",
   "execution_count": 72,
   "metadata": {},
   "outputs": [],
   "source": [
    "DATA_MatchedBeers = os.path.join(DATA_DIR, \"matched_beer_data.tar\")"
   ]
  },
  {
   "cell_type": "markdown",
   "metadata": {},
   "source": [
    "### ratings_ba.txt"
   ]
  },
  {
   "cell_type": "markdown",
   "metadata": {},
   "source": [
    "This dataset should be bigger than the ratings_with_text_ba, as it contains True and False values for the 'review' column.\n",
    "We probably need the one with text for our project.\n",
    "Also, not sure if we need beeradvocate and ratebeer separate datasets, or if the matched beer dataset contains both datasets already.\n",
    "Need to read in the whole datasets and compare the sizes.\n",
    "Also, if the whole dataset contains reviews with a colon mentioned in 'text', then the read_ratings_txt() most likely will not work well, as it is using ':' as the delimiter. In case, we omit the 'review' column and use the read_reviews_txt() function. (we can add the 'review' column if we need, but it is not reaaaally necessary imo..) "
   ]
  },
  {
   "cell_type": "code",
   "execution_count": 97,
   "metadata": {},
   "outputs": [
    {
     "name": "stdout",
     "output_type": "stream",
     "text": [
      "beer_name: Legbiter\n",
      "\n",
      "beer_id: 19827\n",
      "\n",
      "brewery_name: Strangford Lough Brewing Company Ltd\n",
      "\n",
      "brewery_id: 10093\n",
      "\n",
      "style: English Pale Ale\n",
      "\n",
      "abv: 4.8\n",
      "\n",
      "date: 1417431600\n",
      "\n",
      "user_name: Hellpop65\n",
      "\n",
      "user_id: hellpop65.48993\n",
      "\n",
      "appearance: nan\n",
      "\n",
      "aroma: nan\n",
      "\n",
      "palate: nan\n",
      "\n",
      "taste: nan\n",
      "\n",
      "overall: nan\n",
      "\n",
      "rating: 3.25\n",
      "\n",
      "text: nan\n",
      "\n",
      "review: False\n",
      "\n",
      "\n",
      "\n",
      "beer_name: Legbiter\n",
      "\n",
      "beer_id: 19827\n",
      "\n",
      "brewery_name: Strangford Lough Brewing Company Ltd\n",
      "\n",
      "brewery_id: 10093\n",
      "\n",
      "style: English Pale Ale\n",
      "\n",
      "abv: 4.8\n",
      "\n",
      "date: 1401357600\n",
      "\n",
      "user_name: Latarnik\n",
      "\n",
      "user_id: latarnik.52897\n",
      "\n",
      "appearance: nan\n",
      "\n",
      "aroma: nan\n",
      "\n",
      "palate: nan\n",
      "\n",
      "taste: nan\n",
      "\n",
      "overall: nan\n",
      "\n",
      "rating: 3.50\n",
      "\n",
      "text: nan\n",
      "\n",
      "review: False\n",
      "\n",
      "\n",
      "\n",
      "beer_name: Legbiter\n",
      "\n",
      "beer_id: 19827\n",
      "\n",
      "brewery_name: Strangford Lough Brewing Company Ltd\n",
      "\n",
      "brewery_id: 10093\n",
      "\n",
      "style: English Pale Ale\n",
      "\n",
      "abv: 4.8\n",
      "\n",
      "date: 1393412400\n",
      "\n",
      "user_name: RochefortChris\n",
      "\n",
      "user_id: rochefortchris.697017\n",
      "\n",
      "appearance: nan\n",
      "\n",
      "aroma: nan\n",
      "\n",
      "palate: nan\n",
      "\n",
      "taste: nan\n",
      "\n",
      "overall: nan\n",
      "\n",
      "rating: 3.50\n",
      "\n",
      "text: nan\n",
      "\n",
      "review: False\n",
      "\n",
      "\n",
      "\n",
      "beer_name: Legbiter\n",
      "\n",
      "beer_id: 19827\n",
      "\n",
      "brewery_name: Strangford Lough Brewing Company Ltd\n",
      "\n",
      "brewery_id: 10093\n",
      "\n",
      "style: English Pale Ale\n",
      "\n",
      "abv: 4.8\n",
      "\n",
      "date: 1392030000\n",
      "\n",
      "user_name: OKCNittany\n",
      "\n",
      "user_id: okcnittany.144868\n",
      "\n",
      "appearance: nan\n",
      "\n",
      "aroma: nan\n",
      "\n",
      "palate: nan\n",
      "\n",
      "taste: nan\n",
      "\n",
      "overall: nan\n",
      "\n",
      "rating: 3.75\n",
      "\n",
      "text: nan\n",
      "\n",
      "review: False\n",
      "\n",
      "\n",
      "\n",
      "beer_name: Legbiter\n",
      "\n",
      "beer_id: 19827\n",
      "\n",
      "brewery_name: Strangford Lough Brewing Company Ltd\n",
      "\n",
      "brewery_id: 10093\n",
      "\n",
      "style: English Pale Ale\n",
      "\n",
      "abv: 4.8\n",
      "\n",
      "date: 1390647600\n",
      "\n",
      "user_name: jaydoc\n",
      "\n",
      "user_id: jaydoc.265507\n",
      "\n",
      "appearance: nan\n",
      "\n",
      "aroma: nan\n",
      "\n",
      "palate: nan\n",
      "\n",
      "taste: nan\n",
      "\n",
      "overall: nan\n",
      "\n",
      "rating: 3.25\n",
      "\n",
      "text: nan\n",
      "\n",
      "review: False\n",
      "\n",
      "\n",
      "\n",
      "beer_name: Legbiter\n",
      "\n",
      "beer_id: 19827\n",
      "\n",
      "brewery_name: Strangford Lough Brewing Company Ltd\n",
      "\n",
      "brewery_id: 10093\n",
      "\n",
      "style: English Pale Ale\n",
      "\n",
      "abv: 4.8\n",
      "\n",
      "date: 1380794400\n",
      "\n",
      "user_name: ejimhof\n",
      "\n",
      "user_id: ejimhof.5743\n",
      "\n",
      "appearance: nan\n",
      "\n",
      "aroma: nan\n",
      "\n"
     ]
    }
   ],
   "source": [
    "# have a quick peak at the data\n",
    "# read in ratings_ba.txt file line by line and print out the first 100 lines\n",
    "with open(os.path.join(DATA_MatchedBeers, \"ratings_ba.txt\"), \"r\") as f:\n",
    "    for i, line in enumerate(f):\n",
    "        if i > 100:\n",
    "            break\n",
    "        print(line)"
   ]
  },
  {
   "cell_type": "code",
   "execution_count": 99,
   "metadata": {},
   "outputs": [
    {
     "data": {
      "text/plain": [
       "(   beer_name beer_id                          brewery_name brewery_id  \\\n",
       " 0   Legbiter   19827  Strangford Lough Brewing Company Ltd      10093   \n",
       " 1   Legbiter   19827  Strangford Lough Brewing Company Ltd      10093   \n",
       " 2   Legbiter   19827  Strangford Lough Brewing Company Ltd      10093   \n",
       " 3   Legbiter   19827  Strangford Lough Brewing Company Ltd      10093   \n",
       " 4   Legbiter   19827  Strangford Lough Brewing Company Ltd      10093   \n",
       " 5   Legbiter   19827  Strangford Lough Brewing Company Ltd      10093   \n",
       " 6   Legbiter   19827  Strangford Lough Brewing Company Ltd      10093   \n",
       " 7   Legbiter   19827  Strangford Lough Brewing Company Ltd      10093   \n",
       " 8   Legbiter   19827  Strangford Lough Brewing Company Ltd      10093   \n",
       " 9   Legbiter   19827  Strangford Lough Brewing Company Ltd      10093   \n",
       " 10  Legbiter   19827  Strangford Lough Brewing Company Ltd      10093   \n",
       " 11  Legbiter   19827  Strangford Lough Brewing Company Ltd      10093   \n",
       " 12  Legbiter   19827  Strangford Lough Brewing Company Ltd      10093   \n",
       " 13  Legbiter   19827  Strangford Lough Brewing Company Ltd      10093   \n",
       " 14  Legbiter   19827  Strangford Lough Brewing Company Ltd      10093   \n",
       " 15  Legbiter   19827  Strangford Lough Brewing Company Ltd      10093   \n",
       " 16  Legbiter   19827  Strangford Lough Brewing Company Ltd      10093   \n",
       " 17  Legbiter   19827  Strangford Lough Brewing Company Ltd      10093   \n",
       " 18  Legbiter   19827  Strangford Lough Brewing Company Ltd      10093   \n",
       " 19  Legbiter   19827  Strangford Lough Brewing Company Ltd      10093   \n",
       " \n",
       "                style  abv        date        user_name  \\\n",
       " 0   English Pale Ale  4.8  1417431600        Hellpop65   \n",
       " 1   English Pale Ale  4.8  1401357600         Latarnik   \n",
       " 2   English Pale Ale  4.8  1393412400   RochefortChris   \n",
       " 3   English Pale Ale  4.8  1392030000       OKCNittany   \n",
       " 4   English Pale Ale  4.8  1390647600           jaydoc   \n",
       " 5   English Pale Ale  4.8  1380794400          ejimhof   \n",
       " 6   English Pale Ale  4.8  1366884000  GraduatedCashew   \n",
       " 7   English Pale Ale  4.8  1360753200     brewdude1982   \n",
       " 8   English Pale Ale  4.8  1357729200       AgentMunky   \n",
       " 9   English Pale Ale  4.8  1355482800     swungomonkey   \n",
       " 10  English Pale Ale  4.8  1354446000            BYOFB   \n",
       " 11  English Pale Ale  4.8  1353754800        CadensDad   \n",
       " 12  English Pale Ale  4.8  1353150000        ferrari29   \n",
       " 13  English Pale Ale  4.8  1351767600       samurai221   \n",
       " 14  English Pale Ale  4.8  1342260000       OtherShoe2   \n",
       " 15  English Pale Ale  4.8  1336125600    FriedGold2112   \n",
       " 16  English Pale Ale  4.8  1335607200         brentk56   \n",
       " 17  English Pale Ale  4.8  1335607200        emerge077   \n",
       " 18  English Pale Ale  4.8  1333274400           buckyp   \n",
       " 19  English Pale Ale  4.8  1332500400   GarthDanielson   \n",
       " \n",
       "                    user_id appearance aroma palate taste overall rating  \\\n",
       " 0          hellpop65.48993        nan   nan    nan   nan     nan   3.25   \n",
       " 1           latarnik.52897        nan   nan    nan   nan     nan   3.50   \n",
       " 2    rochefortchris.697017        nan   nan    nan   nan     nan   3.50   \n",
       " 3        okcnittany.144868        nan   nan    nan   nan     nan   3.75   \n",
       " 4            jaydoc.265507        nan   nan    nan   nan     nan   3.25   \n",
       " 5             ejimhof.5743        nan   nan    nan   nan     nan   3.00   \n",
       " 6   graduatedcashew.730089        nan   nan    nan   nan     nan   3.00   \n",
       " 7      brewdude1982.691169       4.25   4.5   3.25  3.75    3.75   3.91   \n",
       " 8        agentmunky.409755        4.0  3.75    3.5   3.5    3.75   3.64   \n",
       " 9      swungomonkey.698859        nan   nan    nan   nan     nan   3.00   \n",
       " 10            byofb.537281        nan   nan    nan   nan     nan   3.50   \n",
       " 11        cadensdad.704691        nan   nan    nan   nan     nan   4.00   \n",
       " 12        ferrari29.320392        3.0   3.5    2.5   2.5     2.5   2.77   \n",
       " 13       samurai221.575106        nan   nan    nan   nan     nan   2.00   \n",
       " 14       othershoe2.233642        4.0   3.5    4.0   3.5     4.0   3.68   \n",
       " 15    friedgold2112.672227        nan   nan    nan   nan     nan   4.25   \n",
       " 16           brentk56.6284        4.5   3.0    3.5   2.5     2.5   2.84   \n",
       " 17         emerge077.17949        4.0   3.0    3.5   3.0     3.5   3.21   \n",
       " 18           buckyp.435592        nan   nan    nan   nan     nan   2.75   \n",
       " 19   garthdanielson.522584        4.0   3.5    2.5   3.5     3.0   3.33   \n",
       " \n",
       "                                                  text review  \n",
       " 0                                                 nan  False  \n",
       " 1                                                 nan  False  \n",
       " 2                                                 nan  False  \n",
       " 3                                                 nan  False  \n",
       " 4                                                 nan  False  \n",
       " 5                                                 nan  False  \n",
       " 6                                                 nan  False  \n",
       " 7   This was a 12 oz bottle poured into a snifter....   True  \n",
       " 8   Poured from a 12 ounce bottle into a pilsner g...   True  \n",
       " 9                                                 nan  False  \n",
       " 10                                                nan  False  \n",
       " 11                                                nan  False  \n",
       " 12  Beer poured from bottle into a Nonic shaped pi...   True  \n",
       " 13                                                nan  False  \n",
       " 14  Pours a rich brownish red with some chill haze...   True  \n",
       " 15                                                nan  False  \n",
       " 16                                         Appearance   True  \n",
       " 17  Six pack from George's deli case, always some ...   True  \n",
       " 18                                                nan  False  \n",
       " 19  Poured from a bottle into a tumbler pint, the ...   True  ,\n",
       " (101, 17))"
      ]
     },
     "execution_count": 99,
     "metadata": {},
     "output_type": "execute_result"
    }
   ],
   "source": [
    "ratings_ba = read_ratings_txt(DATA_MatchedBeers, \"ratings_ba.txt\") # contains TRUE and FALSE values in the 'review' column  # ratings_ba.review.head(40), \n",
    "ratings_ba.head(20), ratings_ba.shape"
   ]
  },
  {
   "cell_type": "markdown",
   "metadata": {},
   "source": [
    "### ratings_with_text_ba.txt"
   ]
  },
  {
   "cell_type": "code",
   "execution_count": 100,
   "metadata": {},
   "outputs": [
    {
     "data": {
      "text/plain": [
       "(  beer_name beer_id                          brewery_name brewery_id  \\\n",
       " 0  Legbiter   19827  Strangford Lough Brewing Company Ltd      10093   \n",
       " 1  Legbiter   19827  Strangford Lough Brewing Company Ltd      10093   \n",
       " 2  Legbiter   19827  Strangford Lough Brewing Company Ltd      10093   \n",
       " 3  Legbiter   19827  Strangford Lough Brewing Company Ltd      10093   \n",
       " 4  Legbiter   19827  Strangford Lough Brewing Company Ltd      10093   \n",
       " \n",
       "               style  abv        date     user_name              user_id  \\\n",
       " 0  English Pale Ale  4.8  1360753200  brewdude1982  brewdude1982.691169   \n",
       " 1  English Pale Ale  4.8  1357729200    AgentMunky    agentmunky.409755   \n",
       " 2  English Pale Ale  4.8  1353150000     ferrari29     ferrari29.320392   \n",
       " 3  English Pale Ale  4.8  1342260000    OtherShoe2    othershoe2.233642   \n",
       " 4  English Pale Ale  4.8  1335607200      brentk56        brentk56.6284   \n",
       " \n",
       "   appearance aroma palate taste overall rating  \\\n",
       " 0       4.25   4.5   3.25  3.75    3.75   3.91   \n",
       " 1        4.0  3.75    3.5   3.5    3.75   3.64   \n",
       " 2        3.0   3.5    2.5   2.5     2.5   2.77   \n",
       " 3        4.0   3.5    4.0   3.5     4.0   3.68   \n",
       " 4        4.5   3.0    3.5   2.5     2.5   2.84   \n",
       " \n",
       "                                                 text review  \n",
       " 0  This was a 12 oz bottle poured into a snifter....   True  \n",
       " 1  Poured from a 12 ounce bottle into a pilsner g...   True  \n",
       " 2  Beer poured from bottle into a Nonic shaped pi...   True  \n",
       " 3  Pours a rich brownish red with some chill haze...   True  \n",
       " 4                                         Appearance   True  ,\n",
       " (101, 17))"
      ]
     },
     "execution_count": 100,
     "metadata": {},
     "output_type": "execute_result"
    }
   ],
   "source": [
    "ratings_with_text_ba = read_ratings_txt(DATA_MatchedBeers, \"ratings_with_text_ba.txt\") # contains only TRUE values in the 'review' column # ratings_ba_with_text_ba.review.head(40), \n",
    "ratings_with_text_ba.head(), ratings_with_text_ba.shape"
   ]
  },
  {
   "cell_type": "code",
   "execution_count": null,
   "metadata": {},
   "outputs": [],
   "source": []
  }
 ],
 "metadata": {
  "kernelspec": {
   "display_name": "ada",
   "language": "python",
   "name": "python3"
  },
  "language_info": {
   "codemirror_mode": {
    "name": "ipython",
    "version": 3
   },
   "file_extension": ".py",
   "mimetype": "text/x-python",
   "name": "python",
   "nbconvert_exporter": "python",
   "pygments_lexer": "ipython3",
   "version": "3.11.4"
  }
 },
 "nbformat": 4,
 "nbformat_minor": 2
}
