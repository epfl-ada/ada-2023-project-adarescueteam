{
 "cells": [
  {
   "cell_type": "markdown",
   "metadata": {},
   "source": [
    "# Load data"
   ]
  },
  {
   "cell_type": "markdown",
   "metadata": {},
   "source": [
    "## Import libraries and set path "
   ]
  },
  {
   "cell_type": "code",
   "execution_count": 1,
   "metadata": {},
   "outputs": [],
   "source": [
    "import os\n",
    "import sys\n",
    "import pickle\n",
    "from datetime import datetime\n",
    "import numpy as np\n",
    "import pandas as pd\n",
    "import matplotlib.pyplot as plt\n",
    "import seaborn as sns\n",
    "\n",
    "#from read_functions import *"
   ]
  },
  {
   "cell_type": "code",
   "execution_count": 2,
   "metadata": {},
   "outputs": [
    {
     "data": {
      "text/plain": [
       "'c:\\\\Users\\\\Seif\\\\Desktop\\\\MA1\\\\ADA\\\\milestone_2\\\\ada-2023-project-adarescueteam\\\\code'"
      ]
     },
     "execution_count": 2,
     "metadata": {},
     "output_type": "execute_result"
    }
   ],
   "source": [
    "# add the data into the 'code' folder, make sure it is in the .gitignore file\n",
    "# get your working directory\n",
    "os.getcwd()"
   ]
  },
  {
   "cell_type": "code",
   "execution_count": 10,
   "metadata": {},
   "outputs": [],
   "source": [
    "# add '\\\\data' to it and put in DATA_DIR to set your data directory\n",
    "DATA_DIR = '.\\\\data' # add \\\\data"
   ]
  },
  {
   "cell_type": "markdown",
   "metadata": {},
   "source": [
    "## Define functions to read in the data"
   ]
  },
  {
   "cell_type": "markdown",
   "metadata": {},
   "source": [
    "### Read ratings"
   ]
  },
  {
   "cell_type": "code",
   "execution_count": 11,
   "metadata": {},
   "outputs": [],
   "source": [
    "# read in the ratings\n",
    "def read_ratings_txt(folder, file_name):\n",
    "    data = []\n",
    "    counter = 0\n",
    "\n",
    "    with open(os.path.join(folder, file_name), 'rb') as file:\n",
    "        rating_data = {}\n",
    "        for line in file:\n",
    "            line = line.strip()\n",
    "            if line.startswith(b'beer_name:'):\n",
    "                # check if dictionary is not empty\n",
    "                if rating_data:\n",
    "                    data.append(rating_data)\n",
    "                rating_data = {'beer_name': line.split(b'beer_name:')[1].decode('utf-8')}\n",
    "            elif line.startswith(b'beer_id:'):\n",
    "                rating_data['beer_id'] = line.split(b'beer_id:')[1].decode('utf-8')\n",
    "            elif line.startswith(b'brewery_name:'):\n",
    "                rating_data['brewery_name'] = line.split(b'brewery_name:')[1].decode('utf-8')\n",
    "            elif line.startswith(b'brewery_id:'):\n",
    "                rating_data['brewery_id'] = line.split(b'brewery_id:')[1].decode('utf-8')\n",
    "            elif line.startswith(b'style:'):\n",
    "                rating_data['style'] = line.split(b'style:')[1].decode('utf-8')\n",
    "            elif line.startswith(b'abv:'):\n",
    "                rating_data['abv'] = line.split(b'abv:')[1].decode('utf-8')\n",
    "            elif line.startswith(b'date:'):\n",
    "                timestamp = float(line.split(b'date:')[1].decode('utf-8'))\n",
    "                rating_data['date'] = datetime.utcfromtimestamp(timestamp).strftime('%Y-%m-%d %H:%M:%S')\n",
    "            elif line.startswith(b'user_name:'):\n",
    "                rating_data['user_name'] = line.split(b'user_name:')[1].decode('utf-8')\n",
    "            elif line.startswith(b'user_id:'):\n",
    "                rating_data['user_id'] = line.split(b'user_id:')[1].decode('utf-8')\n",
    "            elif line.startswith(b'appearance:'):\n",
    "                rating_data['appearance'] = line.split(b'appearance:')[1].decode('utf-8')\n",
    "            elif line.startswith(b'aroma:'):\n",
    "                rating_data['aroma'] = line.split(b'aroma:')[1].decode('utf-8')\n",
    "            elif line.startswith(b'palate:'):\n",
    "                rating_data['palate'] = line.split(b'palate:')[1].decode('utf-8')\n",
    "            elif line.startswith(b'taste:'):\n",
    "                rating_data['taste'] = line.split(b'taste:')[1].decode('utf-8')\n",
    "            elif line.startswith(b'overall:'):\n",
    "                rating_data['overall'] = line.split(b'overall:')[1].decode('utf-8')\n",
    "            elif line.startswith(b'rating:'):\n",
    "                rating_data['rating'] = line.split(b'rating:')[1].decode('utf-8')\n",
    "            elif line.startswith(b'text:'):\n",
    "                rating_data['text'] = line.split(b'text:')[1].decode('utf-8')\n",
    "            elif line.startswith(b'review:'):\n",
    "                rating_data['review'] = line.split(b'review:')[1].decode('utf-8')\n",
    "\n",
    "            #counter += 1\n",
    "\n",
    "            #if counter == 100000:  # limit amount of lines to read in\n",
    "            #    break\n",
    "\n",
    "    if rating_data:\n",
    "        data.append(rating_data)\n",
    "\n",
    "    ratings = pd.DataFrame(data)\n",
    "    return ratings"
   ]
  },
  {
   "cell_type": "markdown",
   "metadata": {},
   "source": [
    "### Read in reviews"
   ]
  },
  {
   "cell_type": "code",
   "execution_count": 12,
   "metadata": {},
   "outputs": [],
   "source": [
    "# read in the reviews\n",
    "def read_reviews_txt(folder, file_name):\n",
    "    data = []\n",
    "    counter = 0\n",
    "\n",
    "    with open(os.path.join(folder, file_name), 'rb') as file:\n",
    "        review_data = {}\n",
    "        for line in file:\n",
    "            line = line.strip()\n",
    "            if line.startswith(b'beer_name:'):\n",
    "                # check if dictionary is not empty\n",
    "                if review_data:\n",
    "                    data.append(review_data)\n",
    "                review_data = {'beer_name': line.split(b'beer_name:')[1].decode('utf-8')}\n",
    "            elif line.startswith(b'beer_id:'):\n",
    "                review_data['beer_id'] = line.split(b'beer_id:')[1].decode('utf-8')\n",
    "            elif line.startswith(b'brewery_name:'):\n",
    "                review_data['brewery_name'] = line.split(b'brewery_name:')[1].decode('utf-8')\n",
    "            elif line.startswith(b'brewery_id:'):\n",
    "                review_data['brewery_id'] = line.split(b'brewery_id:')[1].decode('utf-8')\n",
    "            elif line.startswith(b'style:'):\n",
    "                review_data['style'] = line.split(b'style:')[1].decode('utf-8')\n",
    "            elif line.startswith(b'abv:'):\n",
    "                review_data['abv'] = line.split(b'abv:')[1].decode('utf-8')\n",
    "            elif line.startswith(b'date:'):\n",
    "                timestamp = float(line.split(b'date:')[1].decode('utf-8'))\n",
    "                review_data['date'] = datetime.utcfromtimestamp(timestamp).strftime('%Y-%m-%d %H:%M:%S')\n",
    "            elif line.startswith(b'user_name:'):\n",
    "                review_data['user_name'] = line.split(b'user_name:')[1].decode('utf-8')\n",
    "            elif line.startswith(b'user_id:'):\n",
    "                review_data['user_id'] = line.split(b'user_id:')[1].decode('utf-8')\n",
    "            elif line.startswith(b'appearance:'):\n",
    "                review_data['appearance'] = line.split(b'appearance:')[1].decode('utf-8')\n",
    "            elif line.startswith(b'aroma:'):\n",
    "                review_data['aroma'] = line.split(b'aroma:')[1].decode('utf-8')\n",
    "            elif line.startswith(b'palate:'):\n",
    "                review_data['palate'] = line.split(b'palate:')[1].decode('utf-8')\n",
    "            elif line.startswith(b'taste:'):\n",
    "                review_data['taste'] = line.split(b'taste:')[1].decode('utf-8')\n",
    "            elif line.startswith(b'overall:'):\n",
    "                review_data['overall'] = line.split(b'overall:')[1].decode('utf-8')\n",
    "            elif line.startswith(b'rating:'):\n",
    "                review_data['rating'] = line.split(b'rating:')[1].decode('utf-8')\n",
    "            elif line.startswith(b'text:'):\n",
    "                review_data['text'] = line.split(b'text:')[1].decode('utf-8')\n",
    "\n",
    "            #counter += 1\n",
    "\n",
    "            #if counter == 10000:  # limit amount of lines to read in\n",
    "            #    break\n",
    "\n",
    "    if review_data:\n",
    "        data.append(review_data)\n",
    "\n",
    "    reviews = pd.DataFrame(data)\n",
    "    return reviews"
   ]
  },
  {
   "cell_type": "markdown",
   "metadata": {},
   "source": [
    "### Convert the time for the users dataset"
   ]
  },
  {
   "cell_type": "code",
   "execution_count": 13,
   "metadata": {},
   "outputs": [],
   "source": [
    "# convert the joined\n",
    "def convert_timestamp(timestamp):\n",
    "    try:\n",
    "        timestamp = float(timestamp)\n",
    "        return datetime.fromtimestamp(timestamp)\n",
    "    except (ValueError, TypeError):\n",
    "        return None"
   ]
  },
  {
   "cell_type": "markdown",
   "metadata": {},
   "source": [
    "## BeerAdvocate (BA) Dataset"
   ]
  },
  {
   "cell_type": "code",
   "execution_count": 14,
   "metadata": {},
   "outputs": [
    {
     "name": "stdout",
     "output_type": "stream",
     "text": [
      ".\\data\\BeerAdvocate.tar\n"
     ]
    }
   ],
   "source": [
    "DATA_BeerAdvocate = os.path.join(DATA_DIR, \"BeerAdvocate.tar\")\n",
    "print(DATA_BeerAdvocate)"
   ]
  },
  {
   "cell_type": "markdown",
   "metadata": {},
   "source": [
    "### beers.csv"
   ]
  },
  {
   "cell_type": "code",
   "execution_count": 15,
   "metadata": {},
   "outputs": [
    {
     "ename": "FileNotFoundError",
     "evalue": "[Errno 2] No such file or directory: '.\\\\data\\\\BeerAdvocate.tar\\\\beers.csv'",
     "output_type": "error",
     "traceback": [
      "\u001b[1;31m---------------------------------------------------------------------------\u001b[0m",
      "\u001b[1;31mFileNotFoundError\u001b[0m                         Traceback (most recent call last)",
      "\u001b[1;32mc:\\Users\\Seif\\Desktop\\MA1\\ADA\\milestone_2\\ada-2023-project-adarescueteam\\code\\EDA_P1.ipynb Cell 16\u001b[0m line \u001b[0;36m<cell line: 2>\u001b[1;34m()\u001b[0m\n\u001b[0;32m      <a href='vscode-notebook-cell:/c%3A/Users/Seif/Desktop/MA1/ADA/milestone_2/ada-2023-project-adarescueteam/code/EDA_P1.ipynb#X21sZmlsZQ%3D%3D?line=0'>1</a>\u001b[0m \u001b[39m# read in the beers.csv file as a DataFrame\u001b[39;00m\n\u001b[1;32m----> <a href='vscode-notebook-cell:/c%3A/Users/Seif/Desktop/MA1/ADA/milestone_2/ada-2023-project-adarescueteam/code/EDA_P1.ipynb#X21sZmlsZQ%3D%3D?line=1'>2</a>\u001b[0m BA_beers \u001b[39m=\u001b[39m pd\u001b[39m.\u001b[39;49mread_csv(os\u001b[39m.\u001b[39;49mpath\u001b[39m.\u001b[39;49mjoin(DATA_BeerAdvocate, \u001b[39m\"\u001b[39;49m\u001b[39mbeers.csv\u001b[39;49m\u001b[39m\"\u001b[39;49m))\n\u001b[0;32m      <a href='vscode-notebook-cell:/c%3A/Users/Seif/Desktop/MA1/ADA/milestone_2/ada-2023-project-adarescueteam/code/EDA_P1.ipynb#X21sZmlsZQ%3D%3D?line=2'>3</a>\u001b[0m BA_beers\u001b[39m.\u001b[39mhead(), BA_beers\u001b[39m.\u001b[39mshape\n",
      "File \u001b[1;32mc:\\Users\\Seif\\anaconda3\\envs\\geoenv2022\\lib\\site-packages\\pandas\\util\\_decorators.py:311\u001b[0m, in \u001b[0;36mdeprecate_nonkeyword_arguments.<locals>.decorate.<locals>.wrapper\u001b[1;34m(*args, **kwargs)\u001b[0m\n\u001b[0;32m    305\u001b[0m \u001b[39mif\u001b[39;00m \u001b[39mlen\u001b[39m(args) \u001b[39m>\u001b[39m num_allow_args:\n\u001b[0;32m    306\u001b[0m     warnings\u001b[39m.\u001b[39mwarn(\n\u001b[0;32m    307\u001b[0m         msg\u001b[39m.\u001b[39mformat(arguments\u001b[39m=\u001b[39marguments),\n\u001b[0;32m    308\u001b[0m         \u001b[39mFutureWarning\u001b[39;00m,\n\u001b[0;32m    309\u001b[0m         stacklevel\u001b[39m=\u001b[39mstacklevel,\n\u001b[0;32m    310\u001b[0m     )\n\u001b[1;32m--> 311\u001b[0m \u001b[39mreturn\u001b[39;00m func(\u001b[39m*\u001b[39margs, \u001b[39m*\u001b[39m\u001b[39m*\u001b[39mkwargs)\n",
      "File \u001b[1;32mc:\\Users\\Seif\\anaconda3\\envs\\geoenv2022\\lib\\site-packages\\pandas\\io\\parsers\\readers.py:680\u001b[0m, in \u001b[0;36mread_csv\u001b[1;34m(filepath_or_buffer, sep, delimiter, header, names, index_col, usecols, squeeze, prefix, mangle_dupe_cols, dtype, engine, converters, true_values, false_values, skipinitialspace, skiprows, skipfooter, nrows, na_values, keep_default_na, na_filter, verbose, skip_blank_lines, parse_dates, infer_datetime_format, keep_date_col, date_parser, dayfirst, cache_dates, iterator, chunksize, compression, thousands, decimal, lineterminator, quotechar, quoting, doublequote, escapechar, comment, encoding, encoding_errors, dialect, error_bad_lines, warn_bad_lines, on_bad_lines, delim_whitespace, low_memory, memory_map, float_precision, storage_options)\u001b[0m\n\u001b[0;32m    665\u001b[0m kwds_defaults \u001b[39m=\u001b[39m _refine_defaults_read(\n\u001b[0;32m    666\u001b[0m     dialect,\n\u001b[0;32m    667\u001b[0m     delimiter,\n\u001b[1;32m   (...)\u001b[0m\n\u001b[0;32m    676\u001b[0m     defaults\u001b[39m=\u001b[39m{\u001b[39m\"\u001b[39m\u001b[39mdelimiter\u001b[39m\u001b[39m\"\u001b[39m: \u001b[39m\"\u001b[39m\u001b[39m,\u001b[39m\u001b[39m\"\u001b[39m},\n\u001b[0;32m    677\u001b[0m )\n\u001b[0;32m    678\u001b[0m kwds\u001b[39m.\u001b[39mupdate(kwds_defaults)\n\u001b[1;32m--> 680\u001b[0m \u001b[39mreturn\u001b[39;00m _read(filepath_or_buffer, kwds)\n",
      "File \u001b[1;32mc:\\Users\\Seif\\anaconda3\\envs\\geoenv2022\\lib\\site-packages\\pandas\\io\\parsers\\readers.py:575\u001b[0m, in \u001b[0;36m_read\u001b[1;34m(filepath_or_buffer, kwds)\u001b[0m\n\u001b[0;32m    572\u001b[0m _validate_names(kwds\u001b[39m.\u001b[39mget(\u001b[39m\"\u001b[39m\u001b[39mnames\u001b[39m\u001b[39m\"\u001b[39m, \u001b[39mNone\u001b[39;00m))\n\u001b[0;32m    574\u001b[0m \u001b[39m# Create the parser.\u001b[39;00m\n\u001b[1;32m--> 575\u001b[0m parser \u001b[39m=\u001b[39m TextFileReader(filepath_or_buffer, \u001b[39m*\u001b[39m\u001b[39m*\u001b[39mkwds)\n\u001b[0;32m    577\u001b[0m \u001b[39mif\u001b[39;00m chunksize \u001b[39mor\u001b[39;00m iterator:\n\u001b[0;32m    578\u001b[0m     \u001b[39mreturn\u001b[39;00m parser\n",
      "File \u001b[1;32mc:\\Users\\Seif\\anaconda3\\envs\\geoenv2022\\lib\\site-packages\\pandas\\io\\parsers\\readers.py:933\u001b[0m, in \u001b[0;36mTextFileReader.__init__\u001b[1;34m(self, f, engine, **kwds)\u001b[0m\n\u001b[0;32m    930\u001b[0m     \u001b[39mself\u001b[39m\u001b[39m.\u001b[39moptions[\u001b[39m\"\u001b[39m\u001b[39mhas_index_names\u001b[39m\u001b[39m\"\u001b[39m] \u001b[39m=\u001b[39m kwds[\u001b[39m\"\u001b[39m\u001b[39mhas_index_names\u001b[39m\u001b[39m\"\u001b[39m]\n\u001b[0;32m    932\u001b[0m \u001b[39mself\u001b[39m\u001b[39m.\u001b[39mhandles: IOHandles \u001b[39m|\u001b[39m \u001b[39mNone\u001b[39;00m \u001b[39m=\u001b[39m \u001b[39mNone\u001b[39;00m\n\u001b[1;32m--> 933\u001b[0m \u001b[39mself\u001b[39m\u001b[39m.\u001b[39m_engine \u001b[39m=\u001b[39m \u001b[39mself\u001b[39;49m\u001b[39m.\u001b[39;49m_make_engine(f, \u001b[39mself\u001b[39;49m\u001b[39m.\u001b[39;49mengine)\n",
      "File \u001b[1;32mc:\\Users\\Seif\\anaconda3\\envs\\geoenv2022\\lib\\site-packages\\pandas\\io\\parsers\\readers.py:1217\u001b[0m, in \u001b[0;36mTextFileReader._make_engine\u001b[1;34m(self, f, engine)\u001b[0m\n\u001b[0;32m   1213\u001b[0m     mode \u001b[39m=\u001b[39m \u001b[39m\"\u001b[39m\u001b[39mrb\u001b[39m\u001b[39m\"\u001b[39m\n\u001b[0;32m   1214\u001b[0m \u001b[39m# error: No overload variant of \"get_handle\" matches argument types\u001b[39;00m\n\u001b[0;32m   1215\u001b[0m \u001b[39m# \"Union[str, PathLike[str], ReadCsvBuffer[bytes], ReadCsvBuffer[str]]\"\u001b[39;00m\n\u001b[0;32m   1216\u001b[0m \u001b[39m# , \"str\", \"bool\", \"Any\", \"Any\", \"Any\", \"Any\", \"Any\"\u001b[39;00m\n\u001b[1;32m-> 1217\u001b[0m \u001b[39mself\u001b[39m\u001b[39m.\u001b[39mhandles \u001b[39m=\u001b[39m get_handle(  \u001b[39m# type: ignore[call-overload]\u001b[39;49;00m\n\u001b[0;32m   1218\u001b[0m     f,\n\u001b[0;32m   1219\u001b[0m     mode,\n\u001b[0;32m   1220\u001b[0m     encoding\u001b[39m=\u001b[39;49m\u001b[39mself\u001b[39;49m\u001b[39m.\u001b[39;49moptions\u001b[39m.\u001b[39;49mget(\u001b[39m\"\u001b[39;49m\u001b[39mencoding\u001b[39;49m\u001b[39m\"\u001b[39;49m, \u001b[39mNone\u001b[39;49;00m),\n\u001b[0;32m   1221\u001b[0m     compression\u001b[39m=\u001b[39;49m\u001b[39mself\u001b[39;49m\u001b[39m.\u001b[39;49moptions\u001b[39m.\u001b[39;49mget(\u001b[39m\"\u001b[39;49m\u001b[39mcompression\u001b[39;49m\u001b[39m\"\u001b[39;49m, \u001b[39mNone\u001b[39;49;00m),\n\u001b[0;32m   1222\u001b[0m     memory_map\u001b[39m=\u001b[39;49m\u001b[39mself\u001b[39;49m\u001b[39m.\u001b[39;49moptions\u001b[39m.\u001b[39;49mget(\u001b[39m\"\u001b[39;49m\u001b[39mmemory_map\u001b[39;49m\u001b[39m\"\u001b[39;49m, \u001b[39mFalse\u001b[39;49;00m),\n\u001b[0;32m   1223\u001b[0m     is_text\u001b[39m=\u001b[39;49mis_text,\n\u001b[0;32m   1224\u001b[0m     errors\u001b[39m=\u001b[39;49m\u001b[39mself\u001b[39;49m\u001b[39m.\u001b[39;49moptions\u001b[39m.\u001b[39;49mget(\u001b[39m\"\u001b[39;49m\u001b[39mencoding_errors\u001b[39;49m\u001b[39m\"\u001b[39;49m, \u001b[39m\"\u001b[39;49m\u001b[39mstrict\u001b[39;49m\u001b[39m\"\u001b[39;49m),\n\u001b[0;32m   1225\u001b[0m     storage_options\u001b[39m=\u001b[39;49m\u001b[39mself\u001b[39;49m\u001b[39m.\u001b[39;49moptions\u001b[39m.\u001b[39;49mget(\u001b[39m\"\u001b[39;49m\u001b[39mstorage_options\u001b[39;49m\u001b[39m\"\u001b[39;49m, \u001b[39mNone\u001b[39;49;00m),\n\u001b[0;32m   1226\u001b[0m )\n\u001b[0;32m   1227\u001b[0m \u001b[39massert\u001b[39;00m \u001b[39mself\u001b[39m\u001b[39m.\u001b[39mhandles \u001b[39mis\u001b[39;00m \u001b[39mnot\u001b[39;00m \u001b[39mNone\u001b[39;00m\n\u001b[0;32m   1228\u001b[0m f \u001b[39m=\u001b[39m \u001b[39mself\u001b[39m\u001b[39m.\u001b[39mhandles\u001b[39m.\u001b[39mhandle\n",
      "File \u001b[1;32mc:\\Users\\Seif\\anaconda3\\envs\\geoenv2022\\lib\\site-packages\\pandas\\io\\common.py:789\u001b[0m, in \u001b[0;36mget_handle\u001b[1;34m(path_or_buf, mode, encoding, compression, memory_map, is_text, errors, storage_options)\u001b[0m\n\u001b[0;32m    784\u001b[0m \u001b[39melif\u001b[39;00m \u001b[39misinstance\u001b[39m(handle, \u001b[39mstr\u001b[39m):\n\u001b[0;32m    785\u001b[0m     \u001b[39m# Check whether the filename is to be opened in binary mode.\u001b[39;00m\n\u001b[0;32m    786\u001b[0m     \u001b[39m# Binary mode does not support 'encoding' and 'newline'.\u001b[39;00m\n\u001b[0;32m    787\u001b[0m     \u001b[39mif\u001b[39;00m ioargs\u001b[39m.\u001b[39mencoding \u001b[39mand\u001b[39;00m \u001b[39m\"\u001b[39m\u001b[39mb\u001b[39m\u001b[39m\"\u001b[39m \u001b[39mnot\u001b[39;00m \u001b[39min\u001b[39;00m ioargs\u001b[39m.\u001b[39mmode:\n\u001b[0;32m    788\u001b[0m         \u001b[39m# Encoding\u001b[39;00m\n\u001b[1;32m--> 789\u001b[0m         handle \u001b[39m=\u001b[39m \u001b[39mopen\u001b[39;49m(\n\u001b[0;32m    790\u001b[0m             handle,\n\u001b[0;32m    791\u001b[0m             ioargs\u001b[39m.\u001b[39;49mmode,\n\u001b[0;32m    792\u001b[0m             encoding\u001b[39m=\u001b[39;49mioargs\u001b[39m.\u001b[39;49mencoding,\n\u001b[0;32m    793\u001b[0m             errors\u001b[39m=\u001b[39;49merrors,\n\u001b[0;32m    794\u001b[0m             newline\u001b[39m=\u001b[39;49m\u001b[39m\"\u001b[39;49m\u001b[39m\"\u001b[39;49m,\n\u001b[0;32m    795\u001b[0m         )\n\u001b[0;32m    796\u001b[0m     \u001b[39melse\u001b[39;00m:\n\u001b[0;32m    797\u001b[0m         \u001b[39m# Binary mode\u001b[39;00m\n\u001b[0;32m    798\u001b[0m         handle \u001b[39m=\u001b[39m \u001b[39mopen\u001b[39m(handle, ioargs\u001b[39m.\u001b[39mmode)\n",
      "\u001b[1;31mFileNotFoundError\u001b[0m: [Errno 2] No such file or directory: '.\\\\data\\\\BeerAdvocate.tar\\\\beers.csv'"
     ]
    }
   ],
   "source": [
    "# read in the beers.csv file as a DataFrame\n",
    "BA_beers = pd.read_csv(os.path.join(DATA_BeerAdvocate, \"beers.csv\"))\n",
    "BA_beers.head(), BA_beers.shape"
   ]
  },
  {
   "cell_type": "markdown",
   "metadata": {},
   "source": [
    "### breweries.csv"
   ]
  },
  {
   "cell_type": "code",
   "execution_count": null,
   "metadata": {},
   "outputs": [
    {
     "data": {
      "text/plain": [
       "(      id    location                    name  nbr_beers\n",
       " 0  39912  Kyrgyzstan  Abdysh-Ata (Абдыш Ата)          5\n",
       " 1  39913  Kyrgyzstan             Arpa (АРПА)          1\n",
       " 2  39914  Kyrgyzstan               Bear Beer          4\n",
       " 3  39915  Kyrgyzstan             Blonder Pub          4\n",
       " 4  39916  Kyrgyzstan            Kellers Bier          2,\n",
       " (16758, 4))"
      ]
     },
     "execution_count": 172,
     "metadata": {},
     "output_type": "execute_result"
    }
   ],
   "source": [
    "BA_breweries = pd.read_csv(os.path.join(DATA_BeerAdvocate, \"breweries.csv\"))\n",
    "BA_breweries.head(), BA_breweries.shape"
   ]
  },
  {
   "cell_type": "code",
   "execution_count": null,
   "metadata": {},
   "outputs": [
    {
     "name": "stdout",
     "output_type": "stream",
     "text": [
      "breweries that produced only one beer: 3958\n",
      "that is, 23.62 %\n"
     ]
    }
   ],
   "source": [
    "print('breweries that produced only one beer:', len(BA_breweries.loc[BA_breweries['nbr_beers'] <= 1]))\n",
    "percent = len(BA_breweries.loc[BA_breweries['nbr_beers'] <= 1]) / len(BA_breweries) * 100\n",
    "print('that is,', round(percent, 2),'%')"
   ]
  },
  {
   "cell_type": "markdown",
   "metadata": {},
   "source": [
    "### users.csv"
   ]
  },
  {
   "cell_type": "code",
   "execution_count": null,
   "metadata": {},
   "outputs": [
    {
     "data": {
      "text/plain": [
       "(   nbr_ratings  nbr_reviews                user_id        user_name  \\\n",
       " 0         7820          465         nmann08.184925          nmann08   \n",
       " 1         2521         2504     stjamesgate.163714      StJamesGate   \n",
       " 2         1797         1143          mdagnew.19527          mdagnew   \n",
       " 3           31           31  helloloser12345.10867  helloloser12345   \n",
       " 4          604          604        cypressbob.3708       cypressbob   \n",
       " \n",
       "                joined                   location  \n",
       " 0 2008-01-07 12:00:00  United States, Washington  \n",
       " 1 2007-10-08 12:00:00    United States, New York  \n",
       " 2 2005-05-18 12:00:00           Northern Ireland  \n",
       " 3 2004-11-25 12:00:00           Northern Ireland  \n",
       " 4 2003-11-20 12:00:00           Northern Ireland  ,\n",
       " (153704, 6))"
      ]
     },
     "execution_count": 174,
     "metadata": {},
     "output_type": "execute_result"
    }
   ],
   "source": [
    "BA_users = pd.read_csv(os.path.join(DATA_BeerAdvocate, \"users.csv\"), \n",
    "                       converters={\"joined\": convert_timestamp}\n",
    "                       )\n",
    "BA_users.head(), BA_users.shape "
   ]
  },
  {
   "cell_type": "markdown",
   "metadata": {},
   "source": [
    "### ratings.txt"
   ]
  },
  {
   "cell_type": "code",
   "execution_count": null,
   "metadata": {},
   "outputs": [
    {
     "data": {
      "text/plain": [
       "(        beer_name  beer_id                                brewery_name  \\\n",
       " 0           Régab   142544   Societe des Brasseries du Gabon (SOBRAGA)   \n",
       " 1   Barelegs Brew    19590        Strangford Lough Brewing Company Ltd   \n",
       " 2   Barelegs Brew    19590        Strangford Lough Brewing Company Ltd   \n",
       " 3   Barelegs Brew    19590        Strangford Lough Brewing Company Ltd   \n",
       " 4   Barelegs Brew    19590        Strangford Lough Brewing Company Ltd   \n",
       " \n",
       "   brewery_id              style   abv                 date         user_name  \\\n",
       " 0      37262    Euro Pale Lager   4.5  2015-08-20 10:00:00           nmann08   \n",
       " 1      10093   English Pale Ale   4.5  2009-02-20 11:00:00       StJamesGate   \n",
       " 2      10093   English Pale Ale   4.5  2006-03-13 11:00:00           mdagnew   \n",
       " 3      10093   English Pale Ale   4.5  2004-12-01 11:00:00   helloloser12345   \n",
       " 4      10093   English Pale Ale   4.5  2004-08-30 10:00:00        cypressbob   \n",
       " \n",
       "                   user_id appearance  aroma palate  taste overall rating  \\\n",
       " 0          nmann08.184925       3.25   2.75   3.25   2.75     3.0   2.88   \n",
       " 1      stjamesgate.163714        3.0    3.5    3.5    4.0     3.5   3.67   \n",
       " 2           mdagnew.19527        4.0    3.5    3.5    4.0     3.5   3.73   \n",
       " 3   helloloser12345.10867        4.0    3.5    4.0    4.0     4.5   3.98   \n",
       " 4         cypressbob.3708        4.0    4.0    4.0    4.0     4.0   4.00   \n",
       " \n",
       "                                                 text review  \n",
       " 0   From a bottle, pours a piss yellow color with...   True  \n",
       " 1   Pours pale copper with a thin head that quick...   True  \n",
       " 2   500ml Bottle bought from The Vintage, Antrim....   True  \n",
       " 3   Serving: 500ml brown bottlePour: Good head wi...   True  \n",
       " 4   500ml bottlePours with a light, slightly hazy...   True  ,\n",
       " (8393032, 17))"
      ]
     },
     "execution_count": 170,
     "metadata": {},
     "output_type": "execute_result"
    }
   ],
   "source": [
    "BA_ratings = read_ratings_txt(DATA_BeerAdvocate, \"ratings.txt\")\n",
    "BA_ratings.head(), BA_ratings.shape"
   ]
  },
  {
   "cell_type": "code",
   "execution_count": null,
   "metadata": {},
   "outputs": [
    {
     "data": {
      "text/plain": [
       "(        beer_name  beer_id                                brewery_name  \\\n",
       " 0           Régab   142544   Societe des Brasseries du Gabon (SOBRAGA)   \n",
       " 1   Barelegs Brew    19590        Strangford Lough Brewing Company Ltd   \n",
       " 2   Barelegs Brew    19590        Strangford Lough Brewing Company Ltd   \n",
       " 3   Barelegs Brew    19590        Strangford Lough Brewing Company Ltd   \n",
       " 4   Barelegs Brew    19590        Strangford Lough Brewing Company Ltd   \n",
       " \n",
       "   brewery_id              style   abv                 date         user_name  \\\n",
       " 0      37262    Euro Pale Lager   4.5  2015-08-20 10:00:00           nmann08   \n",
       " 1      10093   English Pale Ale   4.5  2009-02-20 11:00:00       StJamesGate   \n",
       " 2      10093   English Pale Ale   4.5  2006-03-13 11:00:00           mdagnew   \n",
       " 3      10093   English Pale Ale   4.5  2004-12-01 11:00:00   helloloser12345   \n",
       " 4      10093   English Pale Ale   4.5  2004-08-30 10:00:00        cypressbob   \n",
       " \n",
       "                   user_id appearance  aroma palate  taste overall rating  \\\n",
       " 0          nmann08.184925       3.25   2.75   3.25   2.75     3.0   2.88   \n",
       " 1      stjamesgate.163714        3.0    3.5    3.5    4.0     3.5   3.67   \n",
       " 2           mdagnew.19527        4.0    3.5    3.5    4.0     3.5   3.73   \n",
       " 3   helloloser12345.10867        4.0    3.5    4.0    4.0     4.5   3.98   \n",
       " 4         cypressbob.3708        4.0    4.0    4.0    4.0     4.0   4.00   \n",
       " \n",
       "                                                 text  \n",
       " 0   From a bottle, pours a piss yellow color with...  \n",
       " 1   Pours pale copper with a thin head that quick...  \n",
       " 2   500ml Bottle bought from The Vintage, Antrim....  \n",
       " 3   Serving: 500ml brown bottlePour: Good head wi...  \n",
       " 4   500ml bottlePours with a light, slightly hazy...  ,\n",
       " (2589586, 16))"
      ]
     },
     "execution_count": 176,
     "metadata": {},
     "output_type": "execute_result"
    }
   ],
   "source": [
    "BA_reviews = read_reviews_txt(DATA_BeerAdvocate, \"reviews.txt\")\n",
    "BA_reviews.head(), BA_reviews.shape"
   ]
  },
  {
   "cell_type": "markdown",
   "metadata": {},
   "source": [
    "## RateBeer (RB) Dataset"
   ]
  },
  {
   "cell_type": "code",
   "execution_count": null,
   "metadata": {},
   "outputs": [],
   "source": [
    "DATA_RateBeer = os.path.join(DATA_DIR, \"RateBeer.tar\")"
   ]
  },
  {
   "cell_type": "markdown",
   "metadata": {},
   "source": [
    "### beers.csv"
   ]
  },
  {
   "cell_type": "code",
   "execution_count": null,
   "metadata": {},
   "outputs": [
    {
     "data": {
      "text/plain": [
       "(   beer_id               beer_name  brewery_id      brewery_name  \\\n",
       " 0   410549       33 Export (Gabon)        3198           Sobraga   \n",
       " 1   105273     Castel Beer (Gabon)        3198           Sobraga   \n",
       " 2    19445                   Régab        3198           Sobraga   \n",
       " 3   155699  Ards Bally Black Stout       13538  Ards Brewing Co.   \n",
       " 4   239097        Ards Belfast 366       13538  Ards Brewing Co.   \n",
       " \n",
       "                   style  nbr_ratings  overall_score  style_score   avg  abv  \\\n",
       " 0            Pale Lager            1            NaN          NaN  2.72  5.0   \n",
       " 1            Pale Lager           10            5.0         58.0  2.18  5.2   \n",
       " 2            Pale Lager           27            1.0         22.0  1.83  4.5   \n",
       " 3                 Stout            6            NaN          NaN  3.18  4.6   \n",
       " 4  Golden Ale/Blond Ale            1            NaN          NaN  2.79  4.2   \n",
       " \n",
       "    avg_computed    zscore  nbr_matched_valid_ratings  \\\n",
       " 0      2.000000       NaN                          0   \n",
       " 1      1.910000       NaN                          0   \n",
       " 2      1.811111       NaN                          0   \n",
       " 3      3.866667  0.823699                          6   \n",
       " 4      3.000000       NaN                          0   \n",
       " \n",
       "    avg_matched_valid_ratings  \n",
       " 0                        NaN  \n",
       " 1                        NaN  \n",
       " 2                        NaN  \n",
       " 3                   3.866667  \n",
       " 4                        NaN  ,\n",
       " (442081, 14))"
      ]
     },
     "execution_count": 178,
     "metadata": {},
     "output_type": "execute_result"
    }
   ],
   "source": [
    "# read in the beers.csv file as a DataFrame\n",
    "RB_beers = pd.read_csv(os.path.join(DATA_RateBeer, \"beers.csv\"))\n",
    "RB_beers.head(), RB_beers.shape"
   ]
  },
  {
   "cell_type": "markdown",
   "metadata": {},
   "source": [
    "### breweries.csv"
   ]
  },
  {
   "cell_type": "code",
   "execution_count": null,
   "metadata": {},
   "outputs": [
    {
     "data": {
      "text/plain": [
       "(      id          location                       name  nbr_beers\n",
       " 0   3198             Gabon                    Sobraga          3\n",
       " 1  13538  Northern Ireland           Ards Brewing Co.         13\n",
       " 2  22304  Northern Ireland  Barrahooley Craft Brewery          4\n",
       " 3  22818  Northern Ireland                   Boundary         66\n",
       " 4  24297  Northern Ireland            Brewbot Belfast          3,\n",
       " (24189, 4))"
      ]
     },
     "execution_count": 179,
     "metadata": {},
     "output_type": "execute_result"
    }
   ],
   "source": [
    "RB_breweries = pd.read_csv(os.path.join(DATA_RateBeer, \"breweries.csv\"))\n",
    "RB_breweries.head(), RB_breweries.shape"
   ]
  },
  {
   "cell_type": "code",
   "execution_count": null,
   "metadata": {},
   "outputs": [
    {
     "name": "stdout",
     "output_type": "stream",
     "text": [
      "breweries that produced only one beer: 2745\n",
      "that is, 11.35 %\n"
     ]
    }
   ],
   "source": [
    "print('breweries that produced only one beer:', len(RB_breweries.loc[RB_breweries['nbr_beers'] <= 1]))\n",
    "percent = len(RB_breweries.loc[RB_breweries['nbr_beers'] <= 1]) / len(RB_breweries) * 100\n",
    "print('that is,', round(percent, 2),'%')"
   ]
  },
  {
   "cell_type": "markdown",
   "metadata": {},
   "source": [
    "### users.csv"
   ]
  },
  {
   "cell_type": "code",
   "execution_count": null,
   "metadata": {},
   "outputs": [
    {
     "data": {
      "text/plain": [
       "((70174, 5),\n",
       "    nbr_ratings  nbr_reviews                user_id        user_name  \\\n",
       " 0         7820          465         nmann08.184925          nmann08   \n",
       " 1         2521         2504     stjamesgate.163714      StJamesGate   \n",
       " 2         1797         1143          mdagnew.19527          mdagnew   \n",
       " 3           31           31  helloloser12345.10867  helloloser12345   \n",
       " 4          604          604        cypressbob.3708       cypressbob   \n",
       " \n",
       "                joined                   location  \n",
       " 0 2008-01-07 12:00:00  United States, Washington  \n",
       " 1 2007-10-08 12:00:00    United States, New York  \n",
       " 2 2005-05-18 12:00:00           Northern Ireland  \n",
       " 3 2004-11-25 12:00:00           Northern Ireland  \n",
       " 4 2003-11-20 12:00:00           Northern Ireland  )"
      ]
     },
     "execution_count": 181,
     "metadata": {},
     "output_type": "execute_result"
    }
   ],
   "source": [
    "RB_users = pd.read_csv(os.path.join(DATA_RateBeer, \"users.csv\"),\n",
    "                       converters={\"joined\": convert_timestamp}\n",
    "                       )\n",
    "RB_users.shape, BA_users.head()"
   ]
  },
  {
   "cell_type": "markdown",
   "metadata": {},
   "source": [
    "### ratings.txt"
   ]
  },
  {
   "cell_type": "code",
   "execution_count": null,
   "metadata": {},
   "outputs": [
    {
     "data": {
      "text/plain": [
       "(              beer_name  beer_id brewery_name brewery_id        style   abv  \\\n",
       " 0     33 Export (Gabon)   410549      Sobraga       3198   Pale Lager   5.0   \n",
       " 1   Castel Beer (Gabon)   105273      Sobraga       3198   Pale Lager   5.2   \n",
       " 2   Castel Beer (Gabon)   105273      Sobraga       3198   Pale Lager   5.2   \n",
       " 3   Castel Beer (Gabon)   105273      Sobraga       3198   Pale Lager   5.2   \n",
       " 4   Castel Beer (Gabon)   105273      Sobraga       3198   Pale Lager   5.2   \n",
       " \n",
       "                   date      user_name  user_id appearance aroma palate taste  \\\n",
       " 0  2016-04-26 10:00:00        Manslow   175852          2     4      2     4   \n",
       " 1  2017-02-17 11:00:00   MAGICuenca91   442761          2     3      2     4   \n",
       " 2  2016-06-24 10:00:00         Sibarh   288889          3     3      2     3   \n",
       " 3  2016-01-01 11:00:00        fombe89   250510          4     3      1     2   \n",
       " 4  2015-10-23 10:00:00     kevnic2008   122778          2     4      2     4   \n",
       " \n",
       "   overall rating                                               text  \n",
       " 0       8   2.00   Puszka 0,33l dzięki Christoph . Kolor jasnozł...  \n",
       " 1       8   1.90   Cerveza pale lager gabonesa. MÃ¡s floja que l...  \n",
       " 2       5   1.60   Kolor- złoty, klarowny. Piana - drobna, średn...  \n",
       " 3       5   1.50   Botella, de GabÃ³n regalo familiar.31/01/2015...  \n",
       " 4       7   1.90   Many thanks for this beer to Erzengel. Pours ...  ,\n",
       " (7122074, 16))"
      ]
     },
     "execution_count": 182,
     "metadata": {},
     "output_type": "execute_result"
    }
   ],
   "source": [
    "RB_ratings = read_reviews_txt(DATA_RateBeer, \"ratings.txt\") # has no 'review' column\n",
    "RB_ratings.head(), RB_ratings.shape"
   ]
  },
  {
   "cell_type": "markdown",
   "metadata": {},
   "source": [
    "### reviews.txt"
   ]
  },
  {
   "cell_type": "code",
   "execution_count": null,
   "metadata": {},
   "outputs": [
    {
     "data": {
      "text/plain": [
       "(              beer_name  beer_id brewery_name brewery_id        style   abv  \\\n",
       " 0     33 Export (Gabon)   410549      Sobraga       3198   Pale Lager   5.0   \n",
       " 1   Castel Beer (Gabon)   105273      Sobraga       3198   Pale Lager   5.2   \n",
       " 2   Castel Beer (Gabon)   105273      Sobraga       3198   Pale Lager   5.2   \n",
       " 3   Castel Beer (Gabon)   105273      Sobraga       3198   Pale Lager   5.2   \n",
       " 4   Castel Beer (Gabon)   105273      Sobraga       3198   Pale Lager   5.2   \n",
       " \n",
       "                   date      user_name  user_id appearance aroma palate taste  \\\n",
       " 0  2016-04-26 10:00:00        Manslow   175852          2     4      2     4   \n",
       " 1  2017-02-17 11:00:00   MAGICuenca91   442761          2     3      2     4   \n",
       " 2  2016-06-24 10:00:00         Sibarh   288889          3     3      2     3   \n",
       " 3  2016-01-01 11:00:00        fombe89   250510          4     3      1     2   \n",
       " 4  2015-10-23 10:00:00     kevnic2008   122778          2     4      2     4   \n",
       " \n",
       "   overall rating                                               text  \n",
       " 0       8   2.00   Puszka 0,33l dzięki Christoph . Kolor jasnozł...  \n",
       " 1       8   1.90   Cerveza pale lager gabonesa. MÃ¡s floja que l...  \n",
       " 2       5   1.60   Kolor- złoty, klarowny. Piana - drobna, średn...  \n",
       " 3       5   1.50   Botella, de GabÃ³n regalo familiar.31/01/2015...  \n",
       " 4       7   1.90   Many thanks for this beer to Erzengel. Pours ...  ,\n",
       " (7122074, 16))"
      ]
     },
     "execution_count": 183,
     "metadata": {},
     "output_type": "execute_result"
    }
   ],
   "source": [
    "RB_reviews = read_reviews_txt(DATA_RateBeer, \"reviews.txt\")\n",
    "RB_reviews.head(), RB_reviews.shape"
   ]
  },
  {
   "cell_type": "markdown",
   "metadata": {},
   "source": [
    "## Matched beer (MB) dataset"
   ]
  },
  {
   "cell_type": "code",
   "execution_count": null,
   "metadata": {},
   "outputs": [],
   "source": [
    "DATA_MatchedBeers = os.path.join(DATA_DIR, \"matched_beer_data.tar\")"
   ]
  },
  {
   "cell_type": "markdown",
   "metadata": {},
   "source": [
    "### beers.csv"
   ]
  },
  {
   "cell_type": "code",
   "execution_count": null,
   "metadata": {},
   "outputs": [
    {
     "name": "stderr",
     "output_type": "stream",
     "text": [
      "C:\\Users\\fulci\\AppData\\Local\\Temp\\ipykernel_33016\\1917586975.py:2: DtypeWarning: Columns (0,1,2,3,4,5,8,10,11,12,13,15,16,17,18,19,20,23,25,26,27,29,30,31,32) have mixed types. Specify dtype option on import or set low_memory=False.\n",
      "  MB_beers = pd.read_csv(os.path.join(DATA_MatchedBeers, \"beers.csv\")) # worked after i added the data folder into the code folder\n"
     ]
    },
    {
     "data": {
      "text/plain": [
       "(    ba  ba.1               ba.2                       ba.3      ba.4     ba.5  \\\n",
       " 0  abv   avg       avg_computed  avg_matched_valid_ratings  ba_score  beer_id   \n",
       " 1  4.8  3.45  3.439866666666666          3.504067796610169      80.0    19827   \n",
       " 2  6.0  3.86            3.88875          3.768333333333333       NaN    20841   \n",
       " 3  4.2  3.56         3.55609375          3.580416666666667      82.0    20842   \n",
       " 4  4.8  3.96               3.96                       3.96       NaN    22659   \n",
       " \n",
       "                  ba.6                    ba.7        ba.8  \\\n",
       " 0           beer_name  beer_wout_brewery_name  brewery_id   \n",
       " 1            Legbiter                Legbiter       10093   \n",
       " 2   St. Patrick's Ale         Patricks Ale St       10093   \n",
       " 3  St. Patrick's Best        Patricks Best St       10093   \n",
       " 4  St. Patrick's Gold        Patricks Gold St       10093   \n",
       " \n",
       "                                    ba.9  ...        rb.7              rb.8  \\\n",
       " 0                          brewery_name  ...  brewery_id      brewery_name   \n",
       " 1  Strangford Lough Brewing Company Ltd  ...        4959  Strangford Lough   \n",
       " 2  Strangford Lough Brewing Company Ltd  ...        4959  Strangford Lough   \n",
       " 3  Strangford Lough Brewing Company Ltd  ...        4959  Strangford Lough   \n",
       " 4  Strangford Lough Brewing Company Ltd  ...        4959  Strangford Lough   \n",
       " \n",
       "                         rb.9        rb.10          rb.11  \\\n",
       " 0  nbr_matched_valid_ratings  nbr_ratings  overall_score   \n",
       " 1                         89           89           23.0   \n",
       " 2                         11           11           52.0   \n",
       " 3                         74           74           26.0   \n",
       " 4                          4            4            NaN   \n",
       " \n",
       "                   rb.12        rb.13                 rb.14             scores  \\\n",
       " 0                 style  style_score                zscore               diff   \n",
       " 1  Golden Ale/Blond Ale         27.0     -0.69830388113311                1.0   \n",
       " 2             Irish Ale         79.0  0.005754083235128498  0.527140514545712   \n",
       " 3                Bitter         25.0   -0.8621191741786616  0.527140514545712   \n",
       " 4             Amber Ale          NaN   -0.7584908630826819  0.527140514545712   \n",
       " \n",
       "   scores.1  \n",
       " 0      sim  \n",
       " 1      1.0  \n",
       " 2      1.0  \n",
       " 3      1.0  \n",
       " 4      1.0  \n",
       " \n",
       " [5 rows x 33 columns],\n",
       " (45641, 33))"
      ]
     },
     "execution_count": 186,
     "metadata": {},
     "output_type": "execute_result"
    }
   ],
   "source": [
    "# read in the beers.csv file as a DataFrame\n",
    "MB_beers = pd.read_csv(os.path.join(DATA_MatchedBeers, \"beers.csv\")) # worked after i added the data folder into the code folder\n",
    "MB_beers.head(), MB_beers.shape"
   ]
  },
  {
   "cell_type": "markdown",
   "metadata": {},
   "source": [
    "### breweries.csv"
   ]
  },
  {
   "cell_type": "code",
   "execution_count": null,
   "metadata": {},
   "outputs": [
    {
     "data": {
      "text/plain": [
       "(      ba              ba.1                                  ba.2       ba.3  \\\n",
       " 0     id          location                                  name  nbr_beers   \n",
       " 1  10093  Northern Ireland  Strangford Lough Brewing Company Ltd          5   \n",
       " 2  32848  Northern Ireland                   The Sheelin Brewery          4   \n",
       " 3  40360  Northern Ireland           Walled City Brewing Company          6   \n",
       " 4  40309  Northern Ireland                  Ards Brewing Company          7   \n",
       " \n",
       "       rb              rb.1              rb.2       rb.3               scores  \\\n",
       " 0     id          location              name  nbr_beers                 diff   \n",
       " 1   4959  Northern Ireland  Strangford Lough          5  0.43127548708778424   \n",
       " 2  17616  Northern Ireland           Sheelin          2     0.52638836243535   \n",
       " 3  24866  Northern Ireland       Walled City          3   0.5278523214614645   \n",
       " 4  13538  Northern Ireland  Ards Brewing Co.         13   0.5543953017091594   \n",
       " \n",
       "              scores.1  \n",
       " 0                 sim  \n",
       " 1  0.8890620997705575  \n",
       " 2  0.8635957345058749  \n",
       " 3  0.9541834284914152  \n",
       " 4  0.8960983801420876  ,\n",
       " (8282, 10))"
      ]
     },
     "execution_count": 189,
     "metadata": {},
     "output_type": "execute_result"
    }
   ],
   "source": [
    "MB_breweries = pd.read_csv(os.path.join(DATA_MatchedBeers, \"breweries.csv\"))\n",
    "MB_breweries.head(), MB_breweries.shape"
   ]
  },
  {
   "cell_type": "markdown",
   "metadata": {},
   "source": [
    "### users.csv"
   ]
  },
  {
   "cell_type": "code",
   "execution_count": null,
   "metadata": {},
   "outputs": [
    {
     "data": {
      "text/plain": [
       "Index(['ba', 'ba.1', 'ba.2', 'ba.3', 'ba.4', 'ba.5', 'ba.6', 'rb', 'rb.1',\n",
       "       'rb.2', 'rb.3', 'rb.4', 'rb.5'],\n",
       "      dtype='object')"
      ]
     },
     "execution_count": 209,
     "metadata": {},
     "output_type": "execute_result"
    }
   ],
   "source": [
    "MB_users.columns"
   ]
  },
  {
   "cell_type": "code",
   "execution_count": null,
   "metadata": {},
   "outputs": [
    {
     "data": {
      "text/plain": [
       "(                   ba                       ba.1         ba.2         ba.3  \\\n",
       " 0                 NaT                   location  nbr_ratings  nbr_reviews   \n",
       " 1 2008-09-08 12:00:00                    Germany            6            6   \n",
       " 2 2012-09-23 12:00:00    United States, Virginia            1            1   \n",
       " 3 2008-04-04 12:00:00  United States, Washington            3            3   \n",
       " 4 2011-12-01 12:00:00                    Estonia           11            0   \n",
       " \n",
       "                  ba.4         ba.5             ba.6                  rb  \\\n",
       " 0             user_id    user_name  user_name_lower                 NaT   \n",
       " 1     erzengel.248045     Erzengel         erzengel 2008-10-18 12:00:00   \n",
       " 2     gendv138.695700     GenDV138         gendv138 2013-11-29 12:00:00   \n",
       " 3   nimbleprop.208928   nimbleprop       nimbleprop 2006-06-20 12:00:00   \n",
       " 4  visionthing.639993  visionthing      visionthing 2009-05-22 12:00:00   \n",
       " \n",
       "                         rb.1         rb.2     rb.3         rb.4  \\\n",
       " 0                   location  nbr_ratings  user_id    user_name   \n",
       " 1                    Germany         8781    83106     Erzengel   \n",
       " 2    United States, Virginia         6240   290599     GenDV138   \n",
       " 3  United States, Washington         7452    38859   nimbleprop   \n",
       " 4                    Estonia         5462    91324  visionthing   \n",
       " \n",
       "               rb.5  \n",
       " 0  user_name_lower  \n",
       " 1         erzengel  \n",
       " 2         gendv138  \n",
       " 3       nimbleprop  \n",
       " 4      visionthing  ,\n",
       " (3021, 13))"
      ]
     },
     "execution_count": 213,
     "metadata": {},
     "output_type": "execute_result"
    }
   ],
   "source": [
    "MB_users = pd.read_csv(os.path.join(DATA_MatchedBeers, \"users.csv\"), \n",
    "                       converters={\"ba\": convert_timestamp, \"rb\": convert_timestamp}\n",
    "                       )\n",
    "MB_users.head(), MB_users.shape"
   ]
  },
  {
   "cell_type": "markdown",
   "metadata": {},
   "source": [
    "### users_approx.csv"
   ]
  },
  {
   "cell_type": "code",
   "execution_count": null,
   "metadata": {},
   "outputs": [
    {
     "data": {
      "text/plain": [
       "(                   ba                       ba.1         ba.2         ba.3  \\\n",
       " 0                 NaT                   location  nbr_ratings  nbr_reviews   \n",
       " 1 2008-09-08 12:00:00                    Germany            6            6   \n",
       " 2 2012-09-23 12:00:00    United States, Virginia            1            1   \n",
       " 3 2008-04-04 12:00:00  United States, Washington            3            3   \n",
       " 4 2011-12-01 12:00:00                    Estonia           11            0   \n",
       " \n",
       "                  ba.4         ba.5             ba.6                  rb  \\\n",
       " 0             user_id    user_name  user_name_lower                 NaT   \n",
       " 1     erzengel.248045     Erzengel         erzengel 2008-10-18 12:00:00   \n",
       " 2     gendv138.695700     GenDV138         gendv138 2013-11-29 12:00:00   \n",
       " 3   nimbleprop.208928   nimbleprop       nimbleprop 2006-06-20 12:00:00   \n",
       " 4  visionthing.639993  visionthing      visionthing 2009-05-22 12:00:00   \n",
       " \n",
       "                         rb.1         rb.2     rb.3         rb.4  \\\n",
       " 0                   location  nbr_ratings  user_id    user_name   \n",
       " 1                    Germany         8781    83106     Erzengel   \n",
       " 2    United States, Virginia         6240   290599     GenDV138   \n",
       " 3  United States, Washington         7452    38859   nimbleprop   \n",
       " 4                    Estonia         5462    91324  visionthing   \n",
       " \n",
       "               rb.5  \n",
       " 0  user_name_lower  \n",
       " 1         erzengel  \n",
       " 2         gendv138  \n",
       " 3       nimbleprop  \n",
       " 4      visionthing  ,\n",
       " (3021, 13))"
      ]
     },
     "execution_count": 217,
     "metadata": {},
     "output_type": "execute_result"
    }
   ],
   "source": [
    "MB_users_approx = pd.read_csv(os.path.join(DATA_MatchedBeers, \"users.csv\"), \n",
    "                       converters={\"ba\": convert_timestamp, \"rb\": convert_timestamp}\n",
    "                       )\n",
    "MB_users_approx.head(), MB_users_approx.shape "
   ]
  },
  {
   "cell_type": "markdown",
   "metadata": {},
   "source": [
    "### ratings_ba.txt"
   ]
  },
  {
   "cell_type": "code",
   "execution_count": null,
   "metadata": {},
   "outputs": [
    {
     "data": {
      "text/plain": [
       "(   beer_name beer_id                           brewery_name brewery_id  \\\n",
       " 0   Legbiter   19827   Strangford Lough Brewing Company Ltd      10093   \n",
       " 1   Legbiter   19827   Strangford Lough Brewing Company Ltd      10093   \n",
       " 2   Legbiter   19827   Strangford Lough Brewing Company Ltd      10093   \n",
       " 3   Legbiter   19827   Strangford Lough Brewing Company Ltd      10093   \n",
       " 4   Legbiter   19827   Strangford Lough Brewing Company Ltd      10093   \n",
       " \n",
       "                style   abv                 date        user_name  \\\n",
       " 0   English Pale Ale   4.8  2014-12-01 11:00:00        Hellpop65   \n",
       " 1   English Pale Ale   4.8  2014-05-29 10:00:00         Latarnik   \n",
       " 2   English Pale Ale   4.8  2014-02-26 11:00:00   RochefortChris   \n",
       " 3   English Pale Ale   4.8  2014-02-10 11:00:00       OKCNittany   \n",
       " 4   English Pale Ale   4.8  2014-01-25 11:00:00           jaydoc   \n",
       " \n",
       "                   user_id appearance aroma palate taste overall rating  text  \\\n",
       " 0         hellpop65.48993        nan   nan    nan   nan     nan   3.25   nan   \n",
       " 1          latarnik.52897        nan   nan    nan   nan     nan   3.50   nan   \n",
       " 2   rochefortchris.697017        nan   nan    nan   nan     nan   3.50   nan   \n",
       " 3       okcnittany.144868        nan   nan    nan   nan     nan   3.75   nan   \n",
       " 4           jaydoc.265507        nan   nan    nan   nan     nan   3.25   nan   \n",
       " \n",
       "    review  \n",
       " 0   False  \n",
       " 1   False  \n",
       " 2   False  \n",
       " 3   False  \n",
       " 4   False  ,\n",
       " (955968, 17))"
      ]
     },
     "execution_count": 218,
     "metadata": {},
     "output_type": "execute_result"
    }
   ],
   "source": [
    "MB_ratings_ba = read_ratings_txt(DATA_MatchedBeers, \"ratings_ba.txt\") # contains TRUE and FALSE values in the 'review' column  # ratings_ba.review.head(40), \n",
    "MB_ratings_ba.head(), MB_ratings_ba.shape"
   ]
  },
  {
   "cell_type": "markdown",
   "metadata": {},
   "source": [
    "### ratings_with_text_ba.txt"
   ]
  },
  {
   "cell_type": "code",
   "execution_count": null,
   "metadata": {},
   "outputs": [
    {
     "data": {
      "text/plain": [
       "(   beer_name beer_id                           brewery_name brewery_id  \\\n",
       " 0   Legbiter   19827   Strangford Lough Brewing Company Ltd      10093   \n",
       " 1   Legbiter   19827   Strangford Lough Brewing Company Ltd      10093   \n",
       " 2   Legbiter   19827   Strangford Lough Brewing Company Ltd      10093   \n",
       " 3   Legbiter   19827   Strangford Lough Brewing Company Ltd      10093   \n",
       " 4   Legbiter   19827   Strangford Lough Brewing Company Ltd      10093   \n",
       " \n",
       "                style   abv                 date      user_name  \\\n",
       " 0   English Pale Ale   4.8  2013-02-13 11:00:00   brewdude1982   \n",
       " 1   English Pale Ale   4.8  2013-01-09 11:00:00     AgentMunky   \n",
       " 2   English Pale Ale   4.8  2012-11-17 11:00:00      ferrari29   \n",
       " 3   English Pale Ale   4.8  2012-07-14 10:00:00     OtherShoe2   \n",
       " 4   English Pale Ale   4.8  2012-04-28 10:00:00       brentk56   \n",
       " \n",
       "                 user_id appearance  aroma palate  taste overall rating  \\\n",
       " 0   brewdude1982.691169       4.25    4.5   3.25   3.75    3.75   3.91   \n",
       " 1     agentmunky.409755        4.0   3.75    3.5    3.5    3.75   3.64   \n",
       " 2      ferrari29.320392        3.0    3.5    2.5    2.5     2.5   2.77   \n",
       " 3     othershoe2.233642        4.0    3.5    4.0    3.5     4.0   3.68   \n",
       " 4         brentk56.6284        4.5    3.0    3.5    2.5     2.5   2.84   \n",
       " \n",
       "                                                 text review  \n",
       " 0   This was a 12 oz bottle poured into a snifter...   True  \n",
       " 1   Poured from a 12 ounce bottle into a pilsner ...   True  \n",
       " 2   Beer poured from bottle into a Nonic shaped p...   True  \n",
       " 3   Pours a rich brownish red with some chill haz...   True  \n",
       " 4   Appearance: These Strangford Lough beers pour...   True  ,\n",
       " (289025, 17))"
      ]
     },
     "execution_count": 11,
     "metadata": {},
     "output_type": "execute_result"
    }
   ],
   "source": [
    "MB_ratings_with_text_ba = read_ratings_txt(DATA_MatchedBeers, \"ratings_with_text_ba.txt\") # contains only TRUE values in the 'review' column # ratings_ba_with_text_ba.review.head(40), \n",
    "MB_ratings_with_text_ba.head(), MB_ratings_with_text_ba.shape"
   ]
  },
  {
   "cell_type": "markdown",
   "metadata": {},
   "source": [
    "### ratings_rb.txt"
   ]
  },
  {
   "cell_type": "code",
   "execution_count": null,
   "metadata": {},
   "outputs": [
    {
     "data": {
      "text/plain": [
       "(                 beer_name  beer_id       brewery_name brewery_id   style  \\\n",
       " 0   Ards Bally Black Stout   155699   Ards Brewing Co.      13538   Stout   \n",
       " 1   Ards Bally Black Stout   155699   Ards Brewing Co.      13538   Stout   \n",
       " 2   Ards Bally Black Stout   155699   Ards Brewing Co.      13538   Stout   \n",
       " 3   Ards Bally Black Stout   155699   Ards Brewing Co.      13538   Stout   \n",
       " 4   Ards Bally Black Stout   155699   Ards Brewing Co.      13538   Stout   \n",
       " \n",
       "     abv                 date   user_name  user_id appearance aroma palate  \\\n",
       " 0   4.6  2015-04-16 10:00:00     ciaranc   151109          3     7      2   \n",
       " 1   4.6  2015-03-31 10:00:00     Rowlymo   198957          4     7      4   \n",
       " 2   4.6  2015-01-19 11:00:00     Don2711   285162          4     8      5   \n",
       " 3   4.6  2013-10-01 10:00:00   genegenie   224156          5     8      3   \n",
       " 4   4.6  2013-06-18 10:00:00    kiwianer    88501          4     7      4   \n",
       " \n",
       "   taste overall rating                                               text  \n",
       " 0     8      17   3.70   Bottle, gift from Aaron. Black, big head, lot...  \n",
       " 1     8      15   3.80   500ml Bottle in Bittles bar Belfast. Chocolat...  \n",
       " 2     7      17   4.10   Great one and made very local to me. Bottle b...  \n",
       " 3     5      19   4.00   Deep roasted aroma, good dark brown/black col...  \n",
       " 4     7      14   3.60   The head is medium, the body black. It smells...  ,\n",
       " (1020638, 16))"
      ]
     },
     "execution_count": 220,
     "metadata": {},
     "output_type": "execute_result"
    }
   ],
   "source": [
    "MB_ratings_rb = read_ratings_txt(DATA_MatchedBeers, \"ratings_rb.txt\") # contains TRUE and FALSE values in the 'review' column  # ratings_ba.review.head(40), \n",
    "MB_ratings_rb.head(), MB_ratings_rb.shape"
   ]
  },
  {
   "cell_type": "markdown",
   "metadata": {},
   "source": [
    "### ratings_with_text_rb.txt"
   ]
  },
  {
   "cell_type": "code",
   "execution_count": null,
   "metadata": {},
   "outputs": [
    {
     "data": {
      "text/plain": [
       "(                 beer_name  beer_id       brewery_name brewery_id   style  \\\n",
       " 0   Ards Bally Black Stout   155699   Ards Brewing Co.      13538   Stout   \n",
       " 1   Ards Bally Black Stout   155699   Ards Brewing Co.      13538   Stout   \n",
       " 2   Ards Bally Black Stout   155699   Ards Brewing Co.      13538   Stout   \n",
       " 3   Ards Bally Black Stout   155699   Ards Brewing Co.      13538   Stout   \n",
       " 4   Ards Bally Black Stout   155699   Ards Brewing Co.      13538   Stout   \n",
       " \n",
       "     abv                 date   user_name  user_id appearance aroma palate  \\\n",
       " 0   4.6  2015-04-16 10:00:00     ciaranc   151109          3     7      2   \n",
       " 1   4.6  2015-03-31 10:00:00     Rowlymo   198957          4     7      4   \n",
       " 2   4.6  2015-01-19 11:00:00     Don2711   285162          4     8      5   \n",
       " 3   4.6  2013-10-01 10:00:00   genegenie   224156          5     8      3   \n",
       " 4   4.6  2013-06-18 10:00:00    kiwianer    88501          4     7      4   \n",
       " \n",
       "   taste overall rating                                               text  \n",
       " 0     8      17   3.70   Bottle, gift from Aaron. Black, big head, lot...  \n",
       " 1     8      15   3.80   500ml Bottle in Bittles bar Belfast. Chocolat...  \n",
       " 2     7      17   4.10   Great one and made very local to me. Bottle b...  \n",
       " 3     5      19   4.00   Deep roasted aroma, good dark brown/black col...  \n",
       " 4     7      14   3.60   The head is medium, the body black. It smells...  ,\n",
       " (1020599, 16))"
      ]
     },
     "execution_count": 12,
     "metadata": {},
     "output_type": "execute_result"
    }
   ],
   "source": [
    "MB_ratings_with_text_rb = read_ratings_txt(DATA_MatchedBeers, \"ratings_with_text_rb.txt\") # contains only TRUE values in the 'review' column # ratings_ba_with_text_ba.review.head(40), \n",
    "MB_ratings_with_text_rb.head(), MB_ratings_with_text_rb.shape"
   ]
  },
  {
   "cell_type": "markdown",
   "metadata": {},
   "source": [
    "## Pickle the dataframes"
   ]
  },
  {
   "cell_type": "code",
   "execution_count": null,
   "metadata": {},
   "outputs": [
    {
     "ename": "MemoryError",
     "evalue": "",
     "output_type": "error",
     "traceback": [
      "\u001b[1;31m---------------------------------------------------------------------------\u001b[0m",
      "\u001b[1;31mMemoryError\u001b[0m                               Traceback (most recent call last)",
      "\u001b[1;32mc:\\Users\\fulci\\git\\ada_23\\ada-2023-project-adarescueteam\\code\\EDA_P1.ipynb Cell 54\u001b[0m line \u001b[0;36m2\n\u001b[0;32m      <a href='vscode-notebook-cell:/c%3A/Users/fulci/git/ada_23/ada-2023-project-adarescueteam/code/EDA_P1.ipynb#X55sZmlsZQ%3D%3D?line=0'>1</a>\u001b[0m \u001b[39mwith\u001b[39;00m \u001b[39mopen\u001b[39m(\u001b[39m'\u001b[39m\u001b[39mBA_ratings.pkl\u001b[39m\u001b[39m'\u001b[39m, \u001b[39m'\u001b[39m\u001b[39mwb\u001b[39m\u001b[39m'\u001b[39m) \u001b[39mas\u001b[39;00m file:\n\u001b[1;32m----> <a href='vscode-notebook-cell:/c%3A/Users/fulci/git/ada_23/ada-2023-project-adarescueteam/code/EDA_P1.ipynb#X55sZmlsZQ%3D%3D?line=1'>2</a>\u001b[0m     pickle\u001b[39m.\u001b[39;49mdump(BA_ratings, file)\n",
      "\u001b[1;31mMemoryError\u001b[0m: "
     ]
    }
   ],
   "source": [
    "# first create a file .pkl before running this cell\n",
    "# attempt to create a pickle.. MemoryError .. with 32gb of ram\n",
    "with open('BA_ratings.pkl', 'wb') as file:\n",
    "    pickle.dump(BA_ratings, file)\n"
   ]
  },
  {
   "cell_type": "code",
   "execution_count": null,
   "metadata": {},
   "outputs": [],
   "source": [
    "with open('data_beers.pkl', 'wb') as file:\n",
    "    pickle.dump([BA_beers, BA_breweries, BA_users, BA_ratings, BA_reviews], file)\n",
    "    pickle.dump([RB_beers, RB_breweries, RB_users, RB_ratings, RB_reviews], file)\n",
    "    pickle.dump([MB_beers, MB_breweries, MB_users, MB_users_approx, MB_ratings_ba, MB_ratings_with_text_ba, MB_ratings_rb, MB_ratings_with_text_rb], file)"
   ]
  },
  {
   "cell_type": "markdown",
   "metadata": {},
   "source": [
    "# Exploratory Data Analysis"
   ]
  },
  {
   "cell_type": "markdown",
   "metadata": {},
   "source": [
    "## How many languages?"
   ]
  },
  {
   "cell_type": "markdown",
   "metadata": {},
   "source": [
    "### Install requirements and load SpaCY package\n",
    "\n",
    "separate installation :\n",
    "\n",
    "pip install spacy-langdetect\n",
    "\n",
    "pip install spacy\n",
    "\n",
    "spacy download en_core_web_sm"
   ]
  },
  {
   "cell_type": "code",
   "execution_count": null,
   "metadata": {},
   "outputs": [
    {
     "ename": "ValueError",
     "evalue": "[E004] Can't set up pipeline component: a factory for 'language_detector' already exists. Existing factory: <function get_lang_detector at 0x000001ACD88C4860>. New factory: <function get_lang_detector at 0x000001ACD902A340>",
     "output_type": "error",
     "traceback": [
      "\u001b[1;31m---------------------------------------------------------------------------\u001b[0m",
      "\u001b[1;31mValueError\u001b[0m                                Traceback (most recent call last)",
      "\u001b[1;32mc:\\Users\\fulci\\git\\ada_23\\ada-2023-project-adarescueteam\\code\\EDA_P1.ipynb Cell 63\u001b[0m line \u001b[0;36m9\n\u001b[0;32m      <a href='vscode-notebook-cell:/c%3A/Users/fulci/git/ada_23/ada-2023-project-adarescueteam/code/EDA_P1.ipynb#Y124sZmlsZQ%3D%3D?line=5'>6</a>\u001b[0m     \u001b[39mreturn\u001b[39;00m LanguageDetector()\n\u001b[0;32m      <a href='vscode-notebook-cell:/c%3A/Users/fulci/git/ada_23/ada-2023-project-adarescueteam/code/EDA_P1.ipynb#Y124sZmlsZQ%3D%3D?line=7'>8</a>\u001b[0m nlp \u001b[39m=\u001b[39m spacy\u001b[39m.\u001b[39mload(\u001b[39m\"\u001b[39m\u001b[39men_core_web_sm\u001b[39m\u001b[39m\"\u001b[39m)\n\u001b[1;32m----> <a href='vscode-notebook-cell:/c%3A/Users/fulci/git/ada_23/ada-2023-project-adarescueteam/code/EDA_P1.ipynb#Y124sZmlsZQ%3D%3D?line=8'>9</a>\u001b[0m Language\u001b[39m.\u001b[39;49mfactory(\u001b[39m\"\u001b[39;49m\u001b[39mlanguage_detector\u001b[39;49m\u001b[39m\"\u001b[39;49m, func\u001b[39m=\u001b[39;49mget_lang_detector)\n\u001b[0;32m     <a href='vscode-notebook-cell:/c%3A/Users/fulci/git/ada_23/ada-2023-project-adarescueteam/code/EDA_P1.ipynb#Y124sZmlsZQ%3D%3D?line=9'>10</a>\u001b[0m nlp\u001b[39m.\u001b[39madd_pipe(\u001b[39m'\u001b[39m\u001b[39mlanguage_detector\u001b[39m\u001b[39m'\u001b[39m, last\u001b[39m=\u001b[39m\u001b[39mTrue\u001b[39;00m)\n",
      "File \u001b[1;32mc:\\Users\\fulci\\anaconda3\\Lib\\site-packages\\spacy\\language.py:548\u001b[0m, in \u001b[0;36mLanguage.factory\u001b[1;34m(cls, name, default_config, assigns, requires, retokenizes, default_score_weights, func)\u001b[0m\n\u001b[0;32m    545\u001b[0m     \u001b[39mreturn\u001b[39;00m factory_func\n\u001b[0;32m    547\u001b[0m \u001b[39mif\u001b[39;00m func \u001b[39mis\u001b[39;00m \u001b[39mnot\u001b[39;00m \u001b[39mNone\u001b[39;00m:  \u001b[39m# Support non-decorator use cases\u001b[39;00m\n\u001b[1;32m--> 548\u001b[0m     \u001b[39mreturn\u001b[39;00m add_factory(func)\n\u001b[0;32m    549\u001b[0m \u001b[39mreturn\u001b[39;00m add_factory\n",
      "File \u001b[1;32mc:\\Users\\fulci\\anaconda3\\Lib\\site-packages\\spacy\\language.py:518\u001b[0m, in \u001b[0;36mLanguage.factory.<locals>.add_factory\u001b[1;34m(factory_func)\u001b[0m\n\u001b[0;32m    514\u001b[0m     \u001b[39mif\u001b[39;00m \u001b[39mnot\u001b[39;00m util\u001b[39m.\u001b[39mis_same_func(factory_func, existing_func):\n\u001b[0;32m    515\u001b[0m         err \u001b[39m=\u001b[39m Errors\u001b[39m.\u001b[39mE004\u001b[39m.\u001b[39mformat(\n\u001b[0;32m    516\u001b[0m             name\u001b[39m=\u001b[39mname, func\u001b[39m=\u001b[39mexisting_func, new_func\u001b[39m=\u001b[39mfactory_func\n\u001b[0;32m    517\u001b[0m         )\n\u001b[1;32m--> 518\u001b[0m         \u001b[39mraise\u001b[39;00m \u001b[39mValueError\u001b[39;00m(err)\n\u001b[0;32m    520\u001b[0m arg_names \u001b[39m=\u001b[39m util\u001b[39m.\u001b[39mget_arg_names(factory_func)\n\u001b[0;32m    521\u001b[0m \u001b[39mif\u001b[39;00m \u001b[39m\"\u001b[39m\u001b[39mnlp\u001b[39m\u001b[39m\"\u001b[39m \u001b[39mnot\u001b[39;00m \u001b[39min\u001b[39;00m arg_names \u001b[39mor\u001b[39;00m \u001b[39m\"\u001b[39m\u001b[39mname\u001b[39m\u001b[39m\"\u001b[39m \u001b[39mnot\u001b[39;00m \u001b[39min\u001b[39;00m arg_names:\n",
      "\u001b[1;31mValueError\u001b[0m: [E004] Can't set up pipeline component: a factory for 'language_detector' already exists. Existing factory: <function get_lang_detector at 0x000001ACD88C4860>. New factory: <function get_lang_detector at 0x000001ACD902A340>"
     ]
    }
   ],
   "source": [
    "import spacy\n",
    "from spacy.language import Language\n",
    "from spacy_langdetect import LanguageDetector\n",
    "\n",
    "def get_lang_detector(nlp, name):\n",
    "    return LanguageDetector()\n",
    "\n",
    "nlp = spacy.load(\"en_core_web_sm\")\n",
    "Language.factory(\"language_detector\", func=get_lang_detector)\n",
    "nlp.add_pipe('language_detector', last=True)"
   ]
  },
  {
   "cell_type": "markdown",
   "metadata": {},
   "source": [
    "### Search in MB_ratings_with_text_ba"
   ]
  },
  {
   "cell_type": "code",
   "execution_count": null,
   "metadata": {},
   "outputs": [
    {
     "name": "stdout",
     "output_type": "stream",
     "text": [
      "{'language': 'en', 'score': 0.9999976138685517}\n"
     ]
    }
   ],
   "source": [
    "text = 'This is an english text.'\n",
    "doc = nlp(text)\n",
    "print(doc._.language)"
   ]
  },
  {
   "cell_type": "code",
   "execution_count": null,
   "metadata": {},
   "outputs": [],
   "source": [
    "BA_text = MB_ratings_with_text_ba['text'][:1000]"
   ]
  },
  {
   "cell_type": "code",
   "execution_count": null,
   "metadata": {},
   "outputs": [],
   "source": [
    "# needs about 20s for 1000 rows\n",
    "lang_result_BA = []\n",
    "for row in range(len(BA_text)):\n",
    "    doc = nlp(BA_text[row])\n",
    "    lang_result_BA.append(doc._.language['language']) "
   ]
  },
  {
   "cell_type": "code",
   "execution_count": null,
   "metadata": {},
   "outputs": [
    {
     "data": {
      "text/plain": [
       "99.8"
      ]
     },
     "execution_count": 61,
     "metadata": {},
     "output_type": "execute_result"
    }
   ],
   "source": [
    "# test how much en is in lang_result_BA\n",
    "lang_result_BA.count('en') / len(lang_result_BA) * 100"
   ]
  },
  {
   "cell_type": "code",
   "execution_count": null,
   "metadata": {},
   "outputs": [
    {
     "data": {
      "image/png": "[encoded data removed]",
      "text/plain": [
       "<Figure size 640x480 with 1 Axes>"
      ]
     },
     "metadata": {},
     "output_type": "display_data"
    }
   ],
   "source": [
    "# display the distribution of languages\n",
    "sns.set_theme(style=\"darkgrid\")\n",
    "ax = sns.countplot(x=lang_result_BA)\n",
    "ax.set_title('Distribution of languages in BA reviews')\n",
    "ax.set_xlabel('Language')\n",
    "ax.set_ylabel('Number of reviews')\n",
    "plt.show()"
   ]
  },
  {
   "cell_type": "code",
   "execution_count": null,
   "metadata": {},
   "outputs": [
    {
     "data": {
      "text/plain": [
       "(561, 578)"
      ]
     },
     "execution_count": 73,
     "metadata": {},
     "output_type": "execute_result"
    }
   ],
   "source": [
    "# find other language indexes\n",
    "lang_result_BA.index('so'), lang_result_BA.index('nl')"
   ]
  },
  {
   "cell_type": "code",
   "execution_count": null,
   "metadata": {},
   "outputs": [
    {
     "name": "stdout",
     "output_type": "stream",
     "text": [
      " Cask \n",
      "\n",
      " Good not amazing decent bottke \n",
      "\n"
     ]
    }
   ],
   "source": [
    "# display other language reviews\n",
    "print(BA_text[lang_result_BA.index('so')], '\\n') #might be english, slowenian, or slovak..\n",
    "print(BA_text[lang_result_BA.index('nl')], '\\n') #likely a typo"
   ]
  }
 ],
 "metadata": {
  "kernelspec": {
   "display_name": "ada",
   "language": "python",
   "name": "python3"
  },
  "language_info": {
   "codemirror_mode": {
    "name": "ipython",
    "version": 3
   },
   "file_extension": ".py",
   "mimetype": "text/x-python",
   "name": "python",
   "nbconvert_exporter": "python",
   "pygments_lexer": "ipython3",
   "version": "3.10.2"
  }
 },
 "nbformat": 4,
 "nbformat_minor": 2
}
