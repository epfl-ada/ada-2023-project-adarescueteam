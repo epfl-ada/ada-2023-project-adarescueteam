{
 "cells": [
  {
   "cell_type": "markdown",
   "metadata": {},
   "source": [
    "# Testing of ADA beer review dataset"
   ]
  },
  {
   "cell_type": "code",
   "execution_count": 161,
   "metadata": {},
   "outputs": [],
   "source": [
    "import os\n",
    "import sys\n",
    "import pickle\n",
    "from datetime import datetime\n",
    "import numpy as np\n",
    "import pandas as pd\n",
    "import matplotlib.pyplot as plt\n",
    "import seaborn as sns\n",
    "\n",
    "#from read_functions import *"
   ]
  },
  {
   "cell_type": "code",
   "execution_count": 2,
   "metadata": {},
   "outputs": [
    {
     "data": {
      "text/plain": [
       "'c:\\\\Users\\\\fulci\\\\git\\\\ada_23\\\\ada-2023-project-adarescueteam\\\\code'"
      ]
     },
     "execution_count": 2,
     "metadata": {},
     "output_type": "execute_result"
    }
   ],
   "source": [
    "# add the data into the 'code' folder, make sure it is in the .gitignore file\n",
    "# get your working directory\n",
    "os.getcwd()"
   ]
  },
  {
   "cell_type": "code",
   "execution_count": 162,
   "metadata": {},
   "outputs": [],
   "source": [
    "# add '\\\\data' to it and put in DATA_DIR to set your data directory\n",
    "DATA_DIR = 'c:\\\\Users\\\\fulci\\\\git\\\\ada_23\\\\ada-2023-project-adarescueteam\\\\code\\\\data' # add \\\\data"
   ]
  },
  {
   "cell_type": "markdown",
   "metadata": {},
   "source": [
    "## BeerAdvocate (BA) Dataset"
   ]
  },
  {
   "cell_type": "code",
   "execution_count": 163,
   "metadata": {},
   "outputs": [],
   "source": [
    "DATA_BeerAdvocate = os.path.join(DATA_DIR, \"BeerAdvocate.tar\")"
   ]
  },
  {
   "cell_type": "markdown",
   "metadata": {},
   "source": [
    "### beers.csv"
   ]
  },
  {
   "cell_type": "code",
   "execution_count": 171,
   "metadata": {},
   "outputs": [
    {
     "data": {
      "text/plain": [
       "(   beer_id           beer_name  brewery_id            brewery_name  \\\n",
       " 0   166064    Nashe Moskovskoe       39912  Abdysh-Ata (Абдыш Ата)   \n",
       " 1   166065     Nashe Pivovskoe       39912  Abdysh-Ata (Абдыш Ата)   \n",
       " 2   166066  Nashe Shakhterskoe       39912  Abdysh-Ata (Абдыш Ата)   \n",
       " 3   166067  Nashe Zhigulevskoe       39912  Abdysh-Ata (Абдыш Ата)   \n",
       " 4   166063              Zhivoe       39912  Abdysh-Ata (Абдыш Ата)   \n",
       " \n",
       "              style  nbr_ratings  nbr_reviews  avg  ba_score  bros_score  abv  \\\n",
       " 0  Euro Pale Lager            0            0  NaN       NaN         NaN  4.7   \n",
       " 1  Euro Pale Lager            0            0  NaN       NaN         NaN  3.8   \n",
       " 2  Euro Pale Lager            0            0  NaN       NaN         NaN  4.8   \n",
       " 3  Euro Pale Lager            0            0  NaN       NaN         NaN  4.0   \n",
       " 4  Euro Pale Lager            0            0  NaN       NaN         NaN  4.5   \n",
       " \n",
       "    avg_computed  zscore  nbr_matched_valid_ratings  avg_matched_valid_ratings  \n",
       " 0           NaN     NaN                          0                        NaN  \n",
       " 1           NaN     NaN                          0                        NaN  \n",
       " 2           NaN     NaN                          0                        NaN  \n",
       " 3           NaN     NaN                          0                        NaN  \n",
       " 4           NaN     NaN                          0                        NaN  ,\n",
       " (280823, 15))"
      ]
     },
     "execution_count": 171,
     "metadata": {},
     "output_type": "execute_result"
    }
   ],
   "source": [
    "# read in the beers.csv file as a DataFrame\n",
    "BA_beers = pd.read_csv(os.path.join(DATA_BeerAdvocate, \"beers.csv\"))\n",
    "BA_beers.head(), BA_beers.shape"
   ]
  },
  {
   "cell_type": "markdown",
   "metadata": {},
   "source": [
    "### breweries.csv"
   ]
  },
  {
   "cell_type": "code",
   "execution_count": 172,
   "metadata": {},
   "outputs": [
    {
     "data": {
      "text/plain": [
       "(      id    location                    name  nbr_beers\n",
       " 0  39912  Kyrgyzstan  Abdysh-Ata (Абдыш Ата)          5\n",
       " 1  39913  Kyrgyzstan             Arpa (АРПА)          1\n",
       " 2  39914  Kyrgyzstan               Bear Beer          4\n",
       " 3  39915  Kyrgyzstan             Blonder Pub          4\n",
       " 4  39916  Kyrgyzstan            Kellers Bier          2,\n",
       " (16758, 4))"
      ]
     },
     "execution_count": 172,
     "metadata": {},
     "output_type": "execute_result"
    }
   ],
   "source": [
    "BA_breweries = pd.read_csv(os.path.join(DATA_BeerAdvocate, \"breweries.csv\"))\n",
    "BA_breweries.head(), BA_breweries.shape"
   ]
  },
  {
   "cell_type": "code",
   "execution_count": 173,
   "metadata": {},
   "outputs": [
    {
     "name": "stdout",
     "output_type": "stream",
     "text": [
      "breweries that produced only one beer: 3958\n",
      "that is, 23.62 %\n"
     ]
    }
   ],
   "source": [
    "print('breweries that produced only one beer:', len(BA_breweries.loc[BA_breweries['nbr_beers'] <= 1]))\n",
    "percent = len(BA_breweries.loc[BA_breweries['nbr_beers'] <= 1]) / len(BA_breweries) * 100\n",
    "print('that is,', round(percent, 2),'%')"
   ]
  },
  {
   "cell_type": "markdown",
   "metadata": {},
   "source": [
    "### users.csv"
   ]
  },
  {
   "cell_type": "code",
   "execution_count": 167,
   "metadata": {},
   "outputs": [],
   "source": [
    "# convert the joined\n",
    "def convert_timestamp(timestamp):\n",
    "    try:\n",
    "        timestamp = float(timestamp)\n",
    "        return datetime.fromtimestamp(timestamp)\n",
    "    except (ValueError, TypeError):\n",
    "        return None"
   ]
  },
  {
   "cell_type": "code",
   "execution_count": 174,
   "metadata": {},
   "outputs": [
    {
     "data": {
      "text/plain": [
       "(   nbr_ratings  nbr_reviews                user_id        user_name  \\\n",
       " 0         7820          465         nmann08.184925          nmann08   \n",
       " 1         2521         2504     stjamesgate.163714      StJamesGate   \n",
       " 2         1797         1143          mdagnew.19527          mdagnew   \n",
       " 3           31           31  helloloser12345.10867  helloloser12345   \n",
       " 4          604          604        cypressbob.3708       cypressbob   \n",
       " \n",
       "                joined                   location  \n",
       " 0 2008-01-07 12:00:00  United States, Washington  \n",
       " 1 2007-10-08 12:00:00    United States, New York  \n",
       " 2 2005-05-18 12:00:00           Northern Ireland  \n",
       " 3 2004-11-25 12:00:00           Northern Ireland  \n",
       " 4 2003-11-20 12:00:00           Northern Ireland  ,\n",
       " (153704, 6))"
      ]
     },
     "execution_count": 174,
     "metadata": {},
     "output_type": "execute_result"
    }
   ],
   "source": [
    "BA_users = pd.read_csv(os.path.join(DATA_BeerAdvocate, \"users.csv\"), \n",
    "                       converters={\"joined\": convert_timestamp}\n",
    "                       )\n",
    "BA_users.head(), BA_users.shape "
   ]
  },
  {
   "cell_type": "markdown",
   "metadata": {},
   "source": [
    "### ratings.txt"
   ]
  },
  {
   "cell_type": "markdown",
   "metadata": {},
   "source": [
    "need to check if the whole ratings dataset is equal to the reviews dataset. most probably "
   ]
  },
  {
   "cell_type": "code",
   "execution_count": 216,
   "metadata": {},
   "outputs": [],
   "source": [
    "# read in the ratings\n",
    "def read_ratings_txt(folder, file_name):\n",
    "    data = []\n",
    "    counter = 0\n",
    "\n",
    "    with open(os.path.join(folder, file_name), 'rb') as file:\n",
    "        rating_data = {}\n",
    "        for line in file:\n",
    "            line = line.strip()\n",
    "            if line.startswith(b'beer_name:'):\n",
    "                # check if dictionary is not empty\n",
    "                if rating_data:\n",
    "                    data.append(rating_data)\n",
    "                rating_data = {'beer_name': line.split(b'beer_name:')[1].decode('utf-8')}\n",
    "            elif line.startswith(b'beer_id:'):\n",
    "                rating_data['beer_id'] = line.split(b'beer_id:')[1].decode('utf-8')\n",
    "            elif line.startswith(b'brewery_name:'):\n",
    "                rating_data['brewery_name'] = line.split(b'brewery_name:')[1].decode('utf-8')\n",
    "            elif line.startswith(b'brewery_id:'):\n",
    "                rating_data['brewery_id'] = line.split(b'brewery_id:')[1].decode('utf-8')\n",
    "            elif line.startswith(b'style:'):\n",
    "                rating_data['style'] = line.split(b'style:')[1].decode('utf-8')\n",
    "            elif line.startswith(b'abv:'):\n",
    "                rating_data['abv'] = line.split(b'abv:')[1].decode('utf-8')\n",
    "            elif line.startswith(b'date:'):\n",
    "                timestamp = float(line.split(b'date:')[1].decode('utf-8'))\n",
    "                rating_data['date'] = datetime.utcfromtimestamp(timestamp).strftime('%Y-%m-%d %H:%M:%S')\n",
    "            elif line.startswith(b'user_name:'):\n",
    "                rating_data['user_name'] = line.split(b'user_name:')[1].decode('utf-8')\n",
    "            elif line.startswith(b'user_id:'):\n",
    "                rating_data['user_id'] = line.split(b'user_id:')[1].decode('utf-8')\n",
    "            elif line.startswith(b'appearance:'):\n",
    "                rating_data['appearance'] = line.split(b'appearance:')[1].decode('utf-8')\n",
    "            elif line.startswith(b'aroma:'):\n",
    "                rating_data['aroma'] = line.split(b'aroma:')[1].decode('utf-8')\n",
    "            elif line.startswith(b'palate:'):\n",
    "                rating_data['palate'] = line.split(b'palate:')[1].decode('utf-8')\n",
    "            elif line.startswith(b'taste:'):\n",
    "                rating_data['taste'] = line.split(b'taste:')[1].decode('utf-8')\n",
    "            elif line.startswith(b'overall:'):\n",
    "                rating_data['overall'] = line.split(b'overall:')[1].decode('utf-8')\n",
    "            elif line.startswith(b'rating:'):\n",
    "                rating_data['rating'] = line.split(b'rating:')[1].decode('utf-8')\n",
    "            elif line.startswith(b'text:'):\n",
    "                rating_data['text'] = line.split(b'text:')[1].decode('utf-8')\n",
    "            elif line.startswith(b'review:'):\n",
    "                rating_data['review'] = line.split(b'review:')[1].decode('utf-8')\n",
    "\n",
    "            #counter += 1\n",
    "\n",
    "            #if counter == 100000:  # limit amount of lines to read in\n",
    "            #    break\n",
    "\n",
    "    if rating_data:\n",
    "        data.append(rating_data)\n",
    "\n",
    "    ratings = pd.DataFrame(data)\n",
    "    return ratings"
   ]
  },
  {
   "cell_type": "code",
   "execution_count": 170,
   "metadata": {},
   "outputs": [
    {
     "data": {
      "text/plain": [
       "(        beer_name  beer_id                                brewery_name  \\\n",
       " 0           Régab   142544   Societe des Brasseries du Gabon (SOBRAGA)   \n",
       " 1   Barelegs Brew    19590        Strangford Lough Brewing Company Ltd   \n",
       " 2   Barelegs Brew    19590        Strangford Lough Brewing Company Ltd   \n",
       " 3   Barelegs Brew    19590        Strangford Lough Brewing Company Ltd   \n",
       " 4   Barelegs Brew    19590        Strangford Lough Brewing Company Ltd   \n",
       " \n",
       "   brewery_id              style   abv                 date         user_name  \\\n",
       " 0      37262    Euro Pale Lager   4.5  2015-08-20 10:00:00           nmann08   \n",
       " 1      10093   English Pale Ale   4.5  2009-02-20 11:00:00       StJamesGate   \n",
       " 2      10093   English Pale Ale   4.5  2006-03-13 11:00:00           mdagnew   \n",
       " 3      10093   English Pale Ale   4.5  2004-12-01 11:00:00   helloloser12345   \n",
       " 4      10093   English Pale Ale   4.5  2004-08-30 10:00:00        cypressbob   \n",
       " \n",
       "                   user_id appearance  aroma palate  taste overall rating  \\\n",
       " 0          nmann08.184925       3.25   2.75   3.25   2.75     3.0   2.88   \n",
       " 1      stjamesgate.163714        3.0    3.5    3.5    4.0     3.5   3.67   \n",
       " 2           mdagnew.19527        4.0    3.5    3.5    4.0     3.5   3.73   \n",
       " 3   helloloser12345.10867        4.0    3.5    4.0    4.0     4.5   3.98   \n",
       " 4         cypressbob.3708        4.0    4.0    4.0    4.0     4.0   4.00   \n",
       " \n",
       "                                                 text review  \n",
       " 0   From a bottle, pours a piss yellow color with...   True  \n",
       " 1   Pours pale copper with a thin head that quick...   True  \n",
       " 2   500ml Bottle bought from The Vintage, Antrim....   True  \n",
       " 3   Serving: 500ml brown bottlePour: Good head wi...   True  \n",
       " 4   500ml bottlePours with a light, slightly hazy...   True  ,\n",
       " (8393032, 17))"
      ]
     },
     "execution_count": 170,
     "metadata": {},
     "output_type": "execute_result"
    }
   ],
   "source": [
    "BA_ratings = read_ratings_txt(DATA_BeerAdvocate, \"ratings.txt\")\n",
    "BA_ratings.head(), BA_ratings.shape"
   ]
  },
  {
   "cell_type": "code",
   "execution_count": 175,
   "metadata": {},
   "outputs": [],
   "source": [
    "# read in the reviews\n",
    "def read_reviews_txt(folder, file_name):\n",
    "    data = []\n",
    "    counter = 0\n",
    "\n",
    "    with open(os.path.join(folder, file_name), 'rb') as file:\n",
    "        review_data = {}\n",
    "        for line in file:\n",
    "            line = line.strip()\n",
    "            if line.startswith(b'beer_name:'):\n",
    "                # check if dictionary is not empty\n",
    "                if review_data:\n",
    "                    data.append(review_data)\n",
    "                review_data = {'beer_name': line.split(b'beer_name:')[1].decode('utf-8')}\n",
    "            elif line.startswith(b'beer_id:'):\n",
    "                review_data['beer_id'] = line.split(b'beer_id:')[1].decode('utf-8')\n",
    "            elif line.startswith(b'brewery_name:'):\n",
    "                review_data['brewery_name'] = line.split(b'brewery_name:')[1].decode('utf-8')\n",
    "            elif line.startswith(b'brewery_id:'):\n",
    "                review_data['brewery_id'] = line.split(b'brewery_id:')[1].decode('utf-8')\n",
    "            elif line.startswith(b'style:'):\n",
    "                review_data['style'] = line.split(b'style:')[1].decode('utf-8')\n",
    "            elif line.startswith(b'abv:'):\n",
    "                review_data['abv'] = line.split(b'abv:')[1].decode('utf-8')\n",
    "            elif line.startswith(b'date:'):\n",
    "                timestamp = float(line.split(b'date:')[1].decode('utf-8'))\n",
    "                review_data['date'] = datetime.utcfromtimestamp(timestamp).strftime('%Y-%m-%d %H:%M:%S')\n",
    "            elif line.startswith(b'user_name:'):\n",
    "                review_data['user_name'] = line.split(b'user_name:')[1].decode('utf-8')\n",
    "            elif line.startswith(b'user_id:'):\n",
    "                review_data['user_id'] = line.split(b'user_id:')[1].decode('utf-8')\n",
    "            elif line.startswith(b'appearance:'):\n",
    "                review_data['appearance'] = line.split(b'appearance:')[1].decode('utf-8')\n",
    "            elif line.startswith(b'aroma:'):\n",
    "                review_data['aroma'] = line.split(b'aroma:')[1].decode('utf-8')\n",
    "            elif line.startswith(b'palate:'):\n",
    "                review_data['palate'] = line.split(b'palate:')[1].decode('utf-8')\n",
    "            elif line.startswith(b'taste:'):\n",
    "                review_data['taste'] = line.split(b'taste:')[1].decode('utf-8')\n",
    "            elif line.startswith(b'overall:'):\n",
    "                review_data['overall'] = line.split(b'overall:')[1].decode('utf-8')\n",
    "            elif line.startswith(b'rating:'):\n",
    "                review_data['rating'] = line.split(b'rating:')[1].decode('utf-8')\n",
    "            elif line.startswith(b'text:'):\n",
    "                review_data['text'] = line.split(b'text:')[1].decode('utf-8')\n",
    "\n",
    "            #counter += 1\n",
    "\n",
    "            #if counter == 10000:  # limit amount of lines to read in\n",
    "            #    break\n",
    "\n",
    "    if review_data:\n",
    "        data.append(review_data)\n",
    "\n",
    "    reviews = pd.DataFrame(data)\n",
    "    return reviews"
   ]
  },
  {
   "cell_type": "code",
   "execution_count": 176,
   "metadata": {},
   "outputs": [
    {
     "data": {
      "text/plain": [
       "(        beer_name  beer_id                                brewery_name  \\\n",
       " 0           Régab   142544   Societe des Brasseries du Gabon (SOBRAGA)   \n",
       " 1   Barelegs Brew    19590        Strangford Lough Brewing Company Ltd   \n",
       " 2   Barelegs Brew    19590        Strangford Lough Brewing Company Ltd   \n",
       " 3   Barelegs Brew    19590        Strangford Lough Brewing Company Ltd   \n",
       " 4   Barelegs Brew    19590        Strangford Lough Brewing Company Ltd   \n",
       " \n",
       "   brewery_id              style   abv                 date         user_name  \\\n",
       " 0      37262    Euro Pale Lager   4.5  2015-08-20 10:00:00           nmann08   \n",
       " 1      10093   English Pale Ale   4.5  2009-02-20 11:00:00       StJamesGate   \n",
       " 2      10093   English Pale Ale   4.5  2006-03-13 11:00:00           mdagnew   \n",
       " 3      10093   English Pale Ale   4.5  2004-12-01 11:00:00   helloloser12345   \n",
       " 4      10093   English Pale Ale   4.5  2004-08-30 10:00:00        cypressbob   \n",
       " \n",
       "                   user_id appearance  aroma palate  taste overall rating  \\\n",
       " 0          nmann08.184925       3.25   2.75   3.25   2.75     3.0   2.88   \n",
       " 1      stjamesgate.163714        3.0    3.5    3.5    4.0     3.5   3.67   \n",
       " 2           mdagnew.19527        4.0    3.5    3.5    4.0     3.5   3.73   \n",
       " 3   helloloser12345.10867        4.0    3.5    4.0    4.0     4.5   3.98   \n",
       " 4         cypressbob.3708        4.0    4.0    4.0    4.0     4.0   4.00   \n",
       " \n",
       "                                                 text  \n",
       " 0   From a bottle, pours a piss yellow color with...  \n",
       " 1   Pours pale copper with a thin head that quick...  \n",
       " 2   500ml Bottle bought from The Vintage, Antrim....  \n",
       " 3   Serving: 500ml brown bottlePour: Good head wi...  \n",
       " 4   500ml bottlePours with a light, slightly hazy...  ,\n",
       " (2589586, 16))"
      ]
     },
     "execution_count": 176,
     "metadata": {},
     "output_type": "execute_result"
    }
   ],
   "source": [
    "BA_reviews = read_reviews_txt(DATA_BeerAdvocate, \"reviews.txt\")\n",
    "BA_reviews.head(), BA_reviews.shape"
   ]
  },
  {
   "cell_type": "markdown",
   "metadata": {},
   "source": [
    "## RateBeer (RB) Dataset"
   ]
  },
  {
   "cell_type": "code",
   "execution_count": 177,
   "metadata": {},
   "outputs": [],
   "source": [
    "DATA_RateBeer = os.path.join(DATA_DIR, \"RateBeer.tar\")"
   ]
  },
  {
   "cell_type": "markdown",
   "metadata": {},
   "source": [
    "### beers.csv"
   ]
  },
  {
   "cell_type": "code",
   "execution_count": 178,
   "metadata": {},
   "outputs": [
    {
     "data": {
      "text/plain": [
       "(   beer_id               beer_name  brewery_id      brewery_name  \\\n",
       " 0   410549       33 Export (Gabon)        3198           Sobraga   \n",
       " 1   105273     Castel Beer (Gabon)        3198           Sobraga   \n",
       " 2    19445                   Régab        3198           Sobraga   \n",
       " 3   155699  Ards Bally Black Stout       13538  Ards Brewing Co.   \n",
       " 4   239097        Ards Belfast 366       13538  Ards Brewing Co.   \n",
       " \n",
       "                   style  nbr_ratings  overall_score  style_score   avg  abv  \\\n",
       " 0            Pale Lager            1            NaN          NaN  2.72  5.0   \n",
       " 1            Pale Lager           10            5.0         58.0  2.18  5.2   \n",
       " 2            Pale Lager           27            1.0         22.0  1.83  4.5   \n",
       " 3                 Stout            6            NaN          NaN  3.18  4.6   \n",
       " 4  Golden Ale/Blond Ale            1            NaN          NaN  2.79  4.2   \n",
       " \n",
       "    avg_computed    zscore  nbr_matched_valid_ratings  \\\n",
       " 0      2.000000       NaN                          0   \n",
       " 1      1.910000       NaN                          0   \n",
       " 2      1.811111       NaN                          0   \n",
       " 3      3.866667  0.823699                          6   \n",
       " 4      3.000000       NaN                          0   \n",
       " \n",
       "    avg_matched_valid_ratings  \n",
       " 0                        NaN  \n",
       " 1                        NaN  \n",
       " 2                        NaN  \n",
       " 3                   3.866667  \n",
       " 4                        NaN  ,\n",
       " (442081, 14))"
      ]
     },
     "execution_count": 178,
     "metadata": {},
     "output_type": "execute_result"
    }
   ],
   "source": [
    "# read in the beers.csv file as a DataFrame\n",
    "RB_beers = pd.read_csv(os.path.join(DATA_RateBeer, \"beers.csv\"))\n",
    "RB_beers.head(), RB_beers.shape"
   ]
  },
  {
   "cell_type": "markdown",
   "metadata": {},
   "source": [
    "### breweries.csv"
   ]
  },
  {
   "cell_type": "code",
   "execution_count": 179,
   "metadata": {},
   "outputs": [
    {
     "data": {
      "text/plain": [
       "(      id          location                       name  nbr_beers\n",
       " 0   3198             Gabon                    Sobraga          3\n",
       " 1  13538  Northern Ireland           Ards Brewing Co.         13\n",
       " 2  22304  Northern Ireland  Barrahooley Craft Brewery          4\n",
       " 3  22818  Northern Ireland                   Boundary         66\n",
       " 4  24297  Northern Ireland            Brewbot Belfast          3,\n",
       " (24189, 4))"
      ]
     },
     "execution_count": 179,
     "metadata": {},
     "output_type": "execute_result"
    }
   ],
   "source": [
    "RB_breweries = pd.read_csv(os.path.join(DATA_RateBeer, \"breweries.csv\"))\n",
    "RB_breweries.head(), RB_breweries.shape"
   ]
  },
  {
   "cell_type": "code",
   "execution_count": 180,
   "metadata": {},
   "outputs": [
    {
     "name": "stdout",
     "output_type": "stream",
     "text": [
      "breweries that produced only one beer: 2745\n",
      "that is, 11.35 %\n"
     ]
    }
   ],
   "source": [
    "print('breweries that produced only one beer:', len(RB_breweries.loc[RB_breweries['nbr_beers'] <= 1]))\n",
    "percent = len(RB_breweries.loc[RB_breweries['nbr_beers'] <= 1]) / len(RB_breweries) * 100\n",
    "print('that is,', round(percent, 2),'%')"
   ]
  },
  {
   "cell_type": "markdown",
   "metadata": {},
   "source": [
    "### users.csv"
   ]
  },
  {
   "cell_type": "code",
   "execution_count": 181,
   "metadata": {},
   "outputs": [
    {
     "data": {
      "text/plain": [
       "((70174, 5),\n",
       "    nbr_ratings  nbr_reviews                user_id        user_name  \\\n",
       " 0         7820          465         nmann08.184925          nmann08   \n",
       " 1         2521         2504     stjamesgate.163714      StJamesGate   \n",
       " 2         1797         1143          mdagnew.19527          mdagnew   \n",
       " 3           31           31  helloloser12345.10867  helloloser12345   \n",
       " 4          604          604        cypressbob.3708       cypressbob   \n",
       " \n",
       "                joined                   location  \n",
       " 0 2008-01-07 12:00:00  United States, Washington  \n",
       " 1 2007-10-08 12:00:00    United States, New York  \n",
       " 2 2005-05-18 12:00:00           Northern Ireland  \n",
       " 3 2004-11-25 12:00:00           Northern Ireland  \n",
       " 4 2003-11-20 12:00:00           Northern Ireland  )"
      ]
     },
     "execution_count": 181,
     "metadata": {},
     "output_type": "execute_result"
    }
   ],
   "source": [
    "RB_users = pd.read_csv(os.path.join(DATA_RateBeer, \"users.csv\"),\n",
    "                       converters={\"joined\": convert_timestamp}\n",
    "                       )\n",
    "RB_users.shape, BA_users.head()"
   ]
  },
  {
   "cell_type": "markdown",
   "metadata": {},
   "source": [
    "### ratings.txt"
   ]
  },
  {
   "cell_type": "code",
   "execution_count": 182,
   "metadata": {},
   "outputs": [
    {
     "data": {
      "text/plain": [
       "(              beer_name  beer_id brewery_name brewery_id        style   abv  \\\n",
       " 0     33 Export (Gabon)   410549      Sobraga       3198   Pale Lager   5.0   \n",
       " 1   Castel Beer (Gabon)   105273      Sobraga       3198   Pale Lager   5.2   \n",
       " 2   Castel Beer (Gabon)   105273      Sobraga       3198   Pale Lager   5.2   \n",
       " 3   Castel Beer (Gabon)   105273      Sobraga       3198   Pale Lager   5.2   \n",
       " 4   Castel Beer (Gabon)   105273      Sobraga       3198   Pale Lager   5.2   \n",
       " \n",
       "                   date      user_name  user_id appearance aroma palate taste  \\\n",
       " 0  2016-04-26 10:00:00        Manslow   175852          2     4      2     4   \n",
       " 1  2017-02-17 11:00:00   MAGICuenca91   442761          2     3      2     4   \n",
       " 2  2016-06-24 10:00:00         Sibarh   288889          3     3      2     3   \n",
       " 3  2016-01-01 11:00:00        fombe89   250510          4     3      1     2   \n",
       " 4  2015-10-23 10:00:00     kevnic2008   122778          2     4      2     4   \n",
       " \n",
       "   overall rating                                               text  \n",
       " 0       8   2.00   Puszka 0,33l dzięki Christoph . Kolor jasnozł...  \n",
       " 1       8   1.90   Cerveza pale lager gabonesa. MÃ¡s floja que l...  \n",
       " 2       5   1.60   Kolor- złoty, klarowny. Piana - drobna, średn...  \n",
       " 3       5   1.50   Botella, de GabÃ³n regalo familiar.31/01/2015...  \n",
       " 4       7   1.90   Many thanks for this beer to Erzengel. Pours ...  ,\n",
       " (7122074, 16))"
      ]
     },
     "execution_count": 182,
     "metadata": {},
     "output_type": "execute_result"
    }
   ],
   "source": [
    "RB_ratings = read_reviews_txt(DATA_RateBeer, \"ratings.txt\") # has no 'review' column\n",
    "RB_ratings.head(), RB_ratings.shape"
   ]
  },
  {
   "cell_type": "markdown",
   "metadata": {},
   "source": [
    "### reviews.txt"
   ]
  },
  {
   "cell_type": "code",
   "execution_count": 183,
   "metadata": {},
   "outputs": [
    {
     "data": {
      "text/plain": [
       "(              beer_name  beer_id brewery_name brewery_id        style   abv  \\\n",
       " 0     33 Export (Gabon)   410549      Sobraga       3198   Pale Lager   5.0   \n",
       " 1   Castel Beer (Gabon)   105273      Sobraga       3198   Pale Lager   5.2   \n",
       " 2   Castel Beer (Gabon)   105273      Sobraga       3198   Pale Lager   5.2   \n",
       " 3   Castel Beer (Gabon)   105273      Sobraga       3198   Pale Lager   5.2   \n",
       " 4   Castel Beer (Gabon)   105273      Sobraga       3198   Pale Lager   5.2   \n",
       " \n",
       "                   date      user_name  user_id appearance aroma palate taste  \\\n",
       " 0  2016-04-26 10:00:00        Manslow   175852          2     4      2     4   \n",
       " 1  2017-02-17 11:00:00   MAGICuenca91   442761          2     3      2     4   \n",
       " 2  2016-06-24 10:00:00         Sibarh   288889          3     3      2     3   \n",
       " 3  2016-01-01 11:00:00        fombe89   250510          4     3      1     2   \n",
       " 4  2015-10-23 10:00:00     kevnic2008   122778          2     4      2     4   \n",
       " \n",
       "   overall rating                                               text  \n",
       " 0       8   2.00   Puszka 0,33l dzięki Christoph . Kolor jasnozł...  \n",
       " 1       8   1.90   Cerveza pale lager gabonesa. MÃ¡s floja que l...  \n",
       " 2       5   1.60   Kolor- złoty, klarowny. Piana - drobna, średn...  \n",
       " 3       5   1.50   Botella, de GabÃ³n regalo familiar.31/01/2015...  \n",
       " 4       7   1.90   Many thanks for this beer to Erzengel. Pours ...  ,\n",
       " (7122074, 16))"
      ]
     },
     "execution_count": 183,
     "metadata": {},
     "output_type": "execute_result"
    }
   ],
   "source": [
    "RB_reviews = read_reviews_txt(DATA_RateBeer, \"reviews.txt\")\n",
    "RB_reviews.head(), RB_reviews.shape"
   ]
  },
  {
   "cell_type": "markdown",
   "metadata": {},
   "source": [
    "## Matched beer (MB) dataset"
   ]
  },
  {
   "cell_type": "code",
   "execution_count": 184,
   "metadata": {},
   "outputs": [],
   "source": [
    "DATA_MatchedBeers = os.path.join(DATA_DIR, \"matched_beer_data.tar\")"
   ]
  },
  {
   "cell_type": "markdown",
   "metadata": {},
   "source": [
    "### beers.csv"
   ]
  },
  {
   "cell_type": "code",
   "execution_count": 186,
   "metadata": {},
   "outputs": [
    {
     "name": "stderr",
     "output_type": "stream",
     "text": [
      "C:\\Users\\fulci\\AppData\\Local\\Temp\\ipykernel_33016\\1917586975.py:2: DtypeWarning: Columns (0,1,2,3,4,5,8,10,11,12,13,15,16,17,18,19,20,23,25,26,27,29,30,31,32) have mixed types. Specify dtype option on import or set low_memory=False.\n",
      "  MB_beers = pd.read_csv(os.path.join(DATA_MatchedBeers, \"beers.csv\")) # worked after i added the data folder into the code folder\n"
     ]
    },
    {
     "data": {
      "text/plain": [
       "(    ba  ba.1               ba.2                       ba.3      ba.4     ba.5  \\\n",
       " 0  abv   avg       avg_computed  avg_matched_valid_ratings  ba_score  beer_id   \n",
       " 1  4.8  3.45  3.439866666666666          3.504067796610169      80.0    19827   \n",
       " 2  6.0  3.86            3.88875          3.768333333333333       NaN    20841   \n",
       " 3  4.2  3.56         3.55609375          3.580416666666667      82.0    20842   \n",
       " 4  4.8  3.96               3.96                       3.96       NaN    22659   \n",
       " \n",
       "                  ba.6                    ba.7        ba.8  \\\n",
       " 0           beer_name  beer_wout_brewery_name  brewery_id   \n",
       " 1            Legbiter                Legbiter       10093   \n",
       " 2   St. Patrick's Ale         Patricks Ale St       10093   \n",
       " 3  St. Patrick's Best        Patricks Best St       10093   \n",
       " 4  St. Patrick's Gold        Patricks Gold St       10093   \n",
       " \n",
       "                                    ba.9  ...        rb.7              rb.8  \\\n",
       " 0                          brewery_name  ...  brewery_id      brewery_name   \n",
       " 1  Strangford Lough Brewing Company Ltd  ...        4959  Strangford Lough   \n",
       " 2  Strangford Lough Brewing Company Ltd  ...        4959  Strangford Lough   \n",
       " 3  Strangford Lough Brewing Company Ltd  ...        4959  Strangford Lough   \n",
       " 4  Strangford Lough Brewing Company Ltd  ...        4959  Strangford Lough   \n",
       " \n",
       "                         rb.9        rb.10          rb.11  \\\n",
       " 0  nbr_matched_valid_ratings  nbr_ratings  overall_score   \n",
       " 1                         89           89           23.0   \n",
       " 2                         11           11           52.0   \n",
       " 3                         74           74           26.0   \n",
       " 4                          4            4            NaN   \n",
       " \n",
       "                   rb.12        rb.13                 rb.14             scores  \\\n",
       " 0                 style  style_score                zscore               diff   \n",
       " 1  Golden Ale/Blond Ale         27.0     -0.69830388113311                1.0   \n",
       " 2             Irish Ale         79.0  0.005754083235128498  0.527140514545712   \n",
       " 3                Bitter         25.0   -0.8621191741786616  0.527140514545712   \n",
       " 4             Amber Ale          NaN   -0.7584908630826819  0.527140514545712   \n",
       " \n",
       "   scores.1  \n",
       " 0      sim  \n",
       " 1      1.0  \n",
       " 2      1.0  \n",
       " 3      1.0  \n",
       " 4      1.0  \n",
       " \n",
       " [5 rows x 33 columns],\n",
       " (45641, 33))"
      ]
     },
     "execution_count": 186,
     "metadata": {},
     "output_type": "execute_result"
    }
   ],
   "source": [
    "# read in the beers.csv file as a DataFrame\n",
    "MB_beers = pd.read_csv(os.path.join(DATA_MatchedBeers, \"beers.csv\")) # worked after i added the data folder into the code folder\n",
    "MB_beers.head(), MB_beers.shape"
   ]
  },
  {
   "cell_type": "markdown",
   "metadata": {},
   "source": [
    "### breweries.csv"
   ]
  },
  {
   "cell_type": "code",
   "execution_count": 189,
   "metadata": {},
   "outputs": [
    {
     "data": {
      "text/plain": [
       "(      ba              ba.1                                  ba.2       ba.3  \\\n",
       " 0     id          location                                  name  nbr_beers   \n",
       " 1  10093  Northern Ireland  Strangford Lough Brewing Company Ltd          5   \n",
       " 2  32848  Northern Ireland                   The Sheelin Brewery          4   \n",
       " 3  40360  Northern Ireland           Walled City Brewing Company          6   \n",
       " 4  40309  Northern Ireland                  Ards Brewing Company          7   \n",
       " \n",
       "       rb              rb.1              rb.2       rb.3               scores  \\\n",
       " 0     id          location              name  nbr_beers                 diff   \n",
       " 1   4959  Northern Ireland  Strangford Lough          5  0.43127548708778424   \n",
       " 2  17616  Northern Ireland           Sheelin          2     0.52638836243535   \n",
       " 3  24866  Northern Ireland       Walled City          3   0.5278523214614645   \n",
       " 4  13538  Northern Ireland  Ards Brewing Co.         13   0.5543953017091594   \n",
       " \n",
       "              scores.1  \n",
       " 0                 sim  \n",
       " 1  0.8890620997705575  \n",
       " 2  0.8635957345058749  \n",
       " 3  0.9541834284914152  \n",
       " 4  0.8960983801420876  ,\n",
       " (8282, 10))"
      ]
     },
     "execution_count": 189,
     "metadata": {},
     "output_type": "execute_result"
    }
   ],
   "source": [
    "MB_breweries = pd.read_csv(os.path.join(DATA_MatchedBeers, \"breweries.csv\"))\n",
    "MB_breweries.head(), MB_breweries.shape"
   ]
  },
  {
   "cell_type": "markdown",
   "metadata": {},
   "source": [
    "### users.csv"
   ]
  },
  {
   "cell_type": "code",
   "execution_count": 209,
   "metadata": {},
   "outputs": [
    {
     "data": {
      "text/plain": [
       "Index(['ba', 'ba.1', 'ba.2', 'ba.3', 'ba.4', 'ba.5', 'ba.6', 'rb', 'rb.1',\n",
       "       'rb.2', 'rb.3', 'rb.4', 'rb.5'],\n",
       "      dtype='object')"
      ]
     },
     "execution_count": 209,
     "metadata": {},
     "output_type": "execute_result"
    }
   ],
   "source": [
    "MB_users.columns"
   ]
  },
  {
   "cell_type": "code",
   "execution_count": 213,
   "metadata": {},
   "outputs": [
    {
     "data": {
      "text/plain": [
       "(                   ba                       ba.1         ba.2         ba.3  \\\n",
       " 0                 NaT                   location  nbr_ratings  nbr_reviews   \n",
       " 1 2008-09-08 12:00:00                    Germany            6            6   \n",
       " 2 2012-09-23 12:00:00    United States, Virginia            1            1   \n",
       " 3 2008-04-04 12:00:00  United States, Washington            3            3   \n",
       " 4 2011-12-01 12:00:00                    Estonia           11            0   \n",
       " \n",
       "                  ba.4         ba.5             ba.6                  rb  \\\n",
       " 0             user_id    user_name  user_name_lower                 NaT   \n",
       " 1     erzengel.248045     Erzengel         erzengel 2008-10-18 12:00:00   \n",
       " 2     gendv138.695700     GenDV138         gendv138 2013-11-29 12:00:00   \n",
       " 3   nimbleprop.208928   nimbleprop       nimbleprop 2006-06-20 12:00:00   \n",
       " 4  visionthing.639993  visionthing      visionthing 2009-05-22 12:00:00   \n",
       " \n",
       "                         rb.1         rb.2     rb.3         rb.4  \\\n",
       " 0                   location  nbr_ratings  user_id    user_name   \n",
       " 1                    Germany         8781    83106     Erzengel   \n",
       " 2    United States, Virginia         6240   290599     GenDV138   \n",
       " 3  United States, Washington         7452    38859   nimbleprop   \n",
       " 4                    Estonia         5462    91324  visionthing   \n",
       " \n",
       "               rb.5  \n",
       " 0  user_name_lower  \n",
       " 1         erzengel  \n",
       " 2         gendv138  \n",
       " 3       nimbleprop  \n",
       " 4      visionthing  ,\n",
       " (3021, 13))"
      ]
     },
     "execution_count": 213,
     "metadata": {},
     "output_type": "execute_result"
    }
   ],
   "source": [
    "MB_users = pd.read_csv(os.path.join(DATA_MatchedBeers, \"users.csv\"), \n",
    "                       converters={\"ba\": convert_timestamp, \"rb\": convert_timestamp}\n",
    "                       )\n",
    "MB_users.head(), MB_users.shape"
   ]
  },
  {
   "cell_type": "markdown",
   "metadata": {},
   "source": [
    "### users_approx.csv"
   ]
  },
  {
   "cell_type": "code",
   "execution_count": 217,
   "metadata": {},
   "outputs": [
    {
     "data": {
      "text/plain": [
       "(                   ba                       ba.1         ba.2         ba.3  \\\n",
       " 0                 NaT                   location  nbr_ratings  nbr_reviews   \n",
       " 1 2008-09-08 12:00:00                    Germany            6            6   \n",
       " 2 2012-09-23 12:00:00    United States, Virginia            1            1   \n",
       " 3 2008-04-04 12:00:00  United States, Washington            3            3   \n",
       " 4 2011-12-01 12:00:00                    Estonia           11            0   \n",
       " \n",
       "                  ba.4         ba.5             ba.6                  rb  \\\n",
       " 0             user_id    user_name  user_name_lower                 NaT   \n",
       " 1     erzengel.248045     Erzengel         erzengel 2008-10-18 12:00:00   \n",
       " 2     gendv138.695700     GenDV138         gendv138 2013-11-29 12:00:00   \n",
       " 3   nimbleprop.208928   nimbleprop       nimbleprop 2006-06-20 12:00:00   \n",
       " 4  visionthing.639993  visionthing      visionthing 2009-05-22 12:00:00   \n",
       " \n",
       "                         rb.1         rb.2     rb.3         rb.4  \\\n",
       " 0                   location  nbr_ratings  user_id    user_name   \n",
       " 1                    Germany         8781    83106     Erzengel   \n",
       " 2    United States, Virginia         6240   290599     GenDV138   \n",
       " 3  United States, Washington         7452    38859   nimbleprop   \n",
       " 4                    Estonia         5462    91324  visionthing   \n",
       " \n",
       "               rb.5  \n",
       " 0  user_name_lower  \n",
       " 1         erzengel  \n",
       " 2         gendv138  \n",
       " 3       nimbleprop  \n",
       " 4      visionthing  ,\n",
       " (3021, 13))"
      ]
     },
     "execution_count": 217,
     "metadata": {},
     "output_type": "execute_result"
    }
   ],
   "source": [
    "MB_users_approx = pd.read_csv(os.path.join(DATA_MatchedBeers, \"users.csv\"), \n",
    "                       converters={\"ba\": convert_timestamp, \"rb\": convert_timestamp}\n",
    "                       )\n",
    "MB_users_approx.head(), MB_users_approx.shape "
   ]
  },
  {
   "cell_type": "markdown",
   "metadata": {},
   "source": [
    "### ratings_ba.txt"
   ]
  },
  {
   "cell_type": "code",
   "execution_count": 218,
   "metadata": {},
   "outputs": [
    {
     "data": {
      "text/plain": [
       "(   beer_name beer_id                           brewery_name brewery_id  \\\n",
       " 0   Legbiter   19827   Strangford Lough Brewing Company Ltd      10093   \n",
       " 1   Legbiter   19827   Strangford Lough Brewing Company Ltd      10093   \n",
       " 2   Legbiter   19827   Strangford Lough Brewing Company Ltd      10093   \n",
       " 3   Legbiter   19827   Strangford Lough Brewing Company Ltd      10093   \n",
       " 4   Legbiter   19827   Strangford Lough Brewing Company Ltd      10093   \n",
       " \n",
       "                style   abv                 date        user_name  \\\n",
       " 0   English Pale Ale   4.8  2014-12-01 11:00:00        Hellpop65   \n",
       " 1   English Pale Ale   4.8  2014-05-29 10:00:00         Latarnik   \n",
       " 2   English Pale Ale   4.8  2014-02-26 11:00:00   RochefortChris   \n",
       " 3   English Pale Ale   4.8  2014-02-10 11:00:00       OKCNittany   \n",
       " 4   English Pale Ale   4.8  2014-01-25 11:00:00           jaydoc   \n",
       " \n",
       "                   user_id appearance aroma palate taste overall rating  text  \\\n",
       " 0         hellpop65.48993        nan   nan    nan   nan     nan   3.25   nan   \n",
       " 1          latarnik.52897        nan   nan    nan   nan     nan   3.50   nan   \n",
       " 2   rochefortchris.697017        nan   nan    nan   nan     nan   3.50   nan   \n",
       " 3       okcnittany.144868        nan   nan    nan   nan     nan   3.75   nan   \n",
       " 4           jaydoc.265507        nan   nan    nan   nan     nan   3.25   nan   \n",
       " \n",
       "    review  \n",
       " 0   False  \n",
       " 1   False  \n",
       " 2   False  \n",
       " 3   False  \n",
       " 4   False  ,\n",
       " (955968, 17))"
      ]
     },
     "execution_count": 218,
     "metadata": {},
     "output_type": "execute_result"
    }
   ],
   "source": [
    "MB_ratings_ba = read_ratings_txt(DATA_MatchedBeers, \"ratings_ba.txt\") # contains TRUE and FALSE values in the 'review' column  # ratings_ba.review.head(40), \n",
    "MB_ratings_ba.head(), MB_ratings_ba.shape"
   ]
  },
  {
   "cell_type": "markdown",
   "metadata": {},
   "source": [
    "### ratings_with_text_ba.txt"
   ]
  },
  {
   "cell_type": "code",
   "execution_count": 219,
   "metadata": {},
   "outputs": [
    {
     "data": {
      "text/plain": [
       "(   beer_name beer_id                           brewery_name brewery_id  \\\n",
       " 0   Legbiter   19827   Strangford Lough Brewing Company Ltd      10093   \n",
       " 1   Legbiter   19827   Strangford Lough Brewing Company Ltd      10093   \n",
       " 2   Legbiter   19827   Strangford Lough Brewing Company Ltd      10093   \n",
       " 3   Legbiter   19827   Strangford Lough Brewing Company Ltd      10093   \n",
       " 4   Legbiter   19827   Strangford Lough Brewing Company Ltd      10093   \n",
       " \n",
       "                style   abv                 date      user_name  \\\n",
       " 0   English Pale Ale   4.8  2013-02-13 11:00:00   brewdude1982   \n",
       " 1   English Pale Ale   4.8  2013-01-09 11:00:00     AgentMunky   \n",
       " 2   English Pale Ale   4.8  2012-11-17 11:00:00      ferrari29   \n",
       " 3   English Pale Ale   4.8  2012-07-14 10:00:00     OtherShoe2   \n",
       " 4   English Pale Ale   4.8  2012-04-28 10:00:00       brentk56   \n",
       " \n",
       "                 user_id appearance  aroma palate  taste overall rating  \\\n",
       " 0   brewdude1982.691169       4.25    4.5   3.25   3.75    3.75   3.91   \n",
       " 1     agentmunky.409755        4.0   3.75    3.5    3.5    3.75   3.64   \n",
       " 2      ferrari29.320392        3.0    3.5    2.5    2.5     2.5   2.77   \n",
       " 3     othershoe2.233642        4.0    3.5    4.0    3.5     4.0   3.68   \n",
       " 4         brentk56.6284        4.5    3.0    3.5    2.5     2.5   2.84   \n",
       " \n",
       "                                                 text review  \n",
       " 0   This was a 12 oz bottle poured into a snifter...   True  \n",
       " 1   Poured from a 12 ounce bottle into a pilsner ...   True  \n",
       " 2   Beer poured from bottle into a Nonic shaped p...   True  \n",
       " 3   Pours a rich brownish red with some chill haz...   True  \n",
       " 4   Appearance: These Strangford Lough beers pour...   True  ,\n",
       " (289025, 17))"
      ]
     },
     "execution_count": 219,
     "metadata": {},
     "output_type": "execute_result"
    }
   ],
   "source": [
    "MB_ratings_with_text_ba = read_ratings_txt(DATA_MatchedBeers, \"ratings_with_text_ba.txt\") # contains only TRUE values in the 'review' column # ratings_ba_with_text_ba.review.head(40), \n",
    "MB_ratings_with_text_ba.head(), MB_ratings_with_text_ba.shape"
   ]
  },
  {
   "cell_type": "markdown",
   "metadata": {},
   "source": [
    "### ratings_rb.txt"
   ]
  },
  {
   "cell_type": "code",
   "execution_count": 220,
   "metadata": {},
   "outputs": [
    {
     "data": {
      "text/plain": [
       "(                 beer_name  beer_id       brewery_name brewery_id   style  \\\n",
       " 0   Ards Bally Black Stout   155699   Ards Brewing Co.      13538   Stout   \n",
       " 1   Ards Bally Black Stout   155699   Ards Brewing Co.      13538   Stout   \n",
       " 2   Ards Bally Black Stout   155699   Ards Brewing Co.      13538   Stout   \n",
       " 3   Ards Bally Black Stout   155699   Ards Brewing Co.      13538   Stout   \n",
       " 4   Ards Bally Black Stout   155699   Ards Brewing Co.      13538   Stout   \n",
       " \n",
       "     abv                 date   user_name  user_id appearance aroma palate  \\\n",
       " 0   4.6  2015-04-16 10:00:00     ciaranc   151109          3     7      2   \n",
       " 1   4.6  2015-03-31 10:00:00     Rowlymo   198957          4     7      4   \n",
       " 2   4.6  2015-01-19 11:00:00     Don2711   285162          4     8      5   \n",
       " 3   4.6  2013-10-01 10:00:00   genegenie   224156          5     8      3   \n",
       " 4   4.6  2013-06-18 10:00:00    kiwianer    88501          4     7      4   \n",
       " \n",
       "   taste overall rating                                               text  \n",
       " 0     8      17   3.70   Bottle, gift from Aaron. Black, big head, lot...  \n",
       " 1     8      15   3.80   500ml Bottle in Bittles bar Belfast. Chocolat...  \n",
       " 2     7      17   4.10   Great one and made very local to me. Bottle b...  \n",
       " 3     5      19   4.00   Deep roasted aroma, good dark brown/black col...  \n",
       " 4     7      14   3.60   The head is medium, the body black. It smells...  ,\n",
       " (1020638, 16))"
      ]
     },
     "execution_count": 220,
     "metadata": {},
     "output_type": "execute_result"
    }
   ],
   "source": [
    "MB_ratings_rb = read_ratings_txt(DATA_MatchedBeers, \"ratings_rb.txt\") # contains TRUE and FALSE values in the 'review' column  # ratings_ba.review.head(40), \n",
    "MB_ratings_rb.head(), MB_ratings_rb.shape"
   ]
  },
  {
   "cell_type": "markdown",
   "metadata": {},
   "source": [
    "### ratings_with_text_rb.txt"
   ]
  },
  {
   "cell_type": "code",
   "execution_count": 221,
   "metadata": {},
   "outputs": [
    {
     "data": {
      "text/plain": [
       "(                 beer_name  beer_id       brewery_name brewery_id   style  \\\n",
       " 0   Ards Bally Black Stout   155699   Ards Brewing Co.      13538   Stout   \n",
       " 1   Ards Bally Black Stout   155699   Ards Brewing Co.      13538   Stout   \n",
       " 2   Ards Bally Black Stout   155699   Ards Brewing Co.      13538   Stout   \n",
       " 3   Ards Bally Black Stout   155699   Ards Brewing Co.      13538   Stout   \n",
       " 4   Ards Bally Black Stout   155699   Ards Brewing Co.      13538   Stout   \n",
       " \n",
       "     abv                 date   user_name  user_id appearance aroma palate  \\\n",
       " 0   4.6  2015-04-16 10:00:00     ciaranc   151109          3     7      2   \n",
       " 1   4.6  2015-03-31 10:00:00     Rowlymo   198957          4     7      4   \n",
       " 2   4.6  2015-01-19 11:00:00     Don2711   285162          4     8      5   \n",
       " 3   4.6  2013-10-01 10:00:00   genegenie   224156          5     8      3   \n",
       " 4   4.6  2013-06-18 10:00:00    kiwianer    88501          4     7      4   \n",
       " \n",
       "   taste overall rating                                               text  \n",
       " 0     8      17   3.70   Bottle, gift from Aaron. Black, big head, lot...  \n",
       " 1     8      15   3.80   500ml Bottle in Bittles bar Belfast. Chocolat...  \n",
       " 2     7      17   4.10   Great one and made very local to me. Bottle b...  \n",
       " 3     5      19   4.00   Deep roasted aroma, good dark brown/black col...  \n",
       " 4     7      14   3.60   The head is medium, the body black. It smells...  ,\n",
       " (1020599, 16))"
      ]
     },
     "execution_count": 221,
     "metadata": {},
     "output_type": "execute_result"
    }
   ],
   "source": [
    "MB_ratings_with_text_rb = read_ratings_txt(DATA_MatchedBeers, \"ratings_with_text_rb.txt\") # contains only TRUE values in the 'review' column # ratings_ba_with_text_ba.review.head(40), \n",
    "MB_ratings_with_text_rb.head(), MB_ratings_with_text_rb.shape"
   ]
  },
  {
   "cell_type": "markdown",
   "metadata": {},
   "source": [
    "## Pickle the dataframes"
   ]
  },
  {
   "cell_type": "code",
   "execution_count": 224,
   "metadata": {},
   "outputs": [
    {
     "ename": "MemoryError",
     "evalue": "",
     "output_type": "error",
     "traceback": [
      "\u001b[1;31m---------------------------------------------------------------------------\u001b[0m",
      "\u001b[1;31mMemoryError\u001b[0m                               Traceback (most recent call last)",
      "\u001b[1;32mc:\\Users\\fulci\\git\\ada_23\\ada-2023-project-adarescueteam\\code\\EDA_P1.ipynb Cell 54\u001b[0m line \u001b[0;36m2\n\u001b[0;32m      <a href='vscode-notebook-cell:/c%3A/Users/fulci/git/ada_23/ada-2023-project-adarescueteam/code/EDA_P1.ipynb#X55sZmlsZQ%3D%3D?line=0'>1</a>\u001b[0m \u001b[39mwith\u001b[39;00m \u001b[39mopen\u001b[39m(\u001b[39m'\u001b[39m\u001b[39mBA_ratings.pkl\u001b[39m\u001b[39m'\u001b[39m, \u001b[39m'\u001b[39m\u001b[39mwb\u001b[39m\u001b[39m'\u001b[39m) \u001b[39mas\u001b[39;00m file:\n\u001b[1;32m----> <a href='vscode-notebook-cell:/c%3A/Users/fulci/git/ada_23/ada-2023-project-adarescueteam/code/EDA_P1.ipynb#X55sZmlsZQ%3D%3D?line=1'>2</a>\u001b[0m     pickle\u001b[39m.\u001b[39;49mdump(BA_ratings, file)\n",
      "\u001b[1;31mMemoryError\u001b[0m: "
     ]
    }
   ],
   "source": [
    "# first create a file .pkl before running this cell\n",
    "# attempt to create a pickle.. MemoryError .. with 32gb of ram\n",
    "with open('BA_ratings.pkl', 'wb') as file:\n",
    "    pickle.dump(BA_ratings, file)\n"
   ]
  },
  {
   "cell_type": "code",
   "execution_count": null,
   "metadata": {},
   "outputs": [],
   "source": [
    "with open('data_beers.pkl', 'wb') as file:\n",
    "    pickle.dump([BA_beers, BA_breweries, BA_users, BA_ratings, BA_reviews], file)\n",
    "    pickle.dump([RB_beers, RB_breweries, RB_users, RB_ratings, RB_reviews], file)\n",
    "    pickle.dump([MB_beers, MB_breweries, MB_users, MB_users_approx, MB_ratings_ba, MB_ratings_with_text_ba, MB_ratings_rb, MB_ratings_with_text_rb], file)"
   ]
  }
 ],
 "metadata": {
  "kernelspec": {
   "display_name": "ada",
   "language": "python",
   "name": "python3"
  },
  "language_info": {
   "codemirror_mode": {
    "name": "ipython",
    "version": 3
   },
   "file_extension": ".py",
   "mimetype": "text/x-python",
   "name": "python",
   "nbconvert_exporter": "python",
   "pygments_lexer": "ipython3",
   "version": "3.11.4"
  }
 },
 "nbformat": 4,
 "nbformat_minor": 2
}
