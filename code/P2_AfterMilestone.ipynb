{
 "cells": [
  {
   "cell_type": "markdown",
   "metadata": {},
   "source": [
    "# ADA Project Milestone P2 Afterwork"
   ]
  },
  {
   "cell_type": "markdown",
   "metadata": {},
   "source": [
    "## <span style=\"color: green;\">Import libraries and set paths </span>"
   ]
  },
  {
   "cell_type": "markdown",
   "metadata": {},
   "source": [
    "For data cleaning and EDA, import the following libraries:"
   ]
  },
  {
   "cell_type": "code",
   "execution_count": 1,
   "metadata": {},
   "outputs": [],
   "source": [
    "import os\n",
    "import sys\n",
    "import pickle\n",
    "import numpy as np\n",
    "import pandas as pd\n",
    "import matplotlib.pyplot as plt\n",
    "import seaborn as sns\n",
    "import unidecode as ud\n",
    "from tqdm import tqdm\n",
    "from collections import Counter\n",
    "from datetime import datetime\n",
    "%matplotlib inline"
   ]
  },
  {
   "cell_type": "markdown",
   "metadata": {},
   "source": [
    "If you further try sentiment analysis, import the following libraries:"
   ]
  },
  {
   "cell_type": "code",
   "execution_count": 2,
   "metadata": {},
   "outputs": [],
   "source": [
    "# seems like torch have version conflict with spacy... don't run this when using spacy\n",
    "import torch\n",
    "from transformers import pipeline\n",
    "from transformers import AutoTokenizer\n",
    "from transformers import AutoModelForSequenceClassification\n",
    "from scipy.special import softmax\n",
    "from lime.lime_text import LimeTextExplainer"
   ]
  },
  {
   "cell_type": "markdown",
   "metadata": {},
   "source": [
    "Set the global variables for the paths to the data folder."
   ]
  },
  {
   "cell_type": "code",
   "execution_count": 3,
   "metadata": {},
   "outputs": [
    {
     "name": "stdout",
     "output_type": "stream",
     "text": [
      "your data directory:\n"
     ]
    },
    {
     "data": {
      "text/plain": [
       "'c:\\\\Users\\\\fulci\\\\git\\\\ada_23\\\\ada-2023-project-adarescueteam\\\\code\\\\data'"
      ]
     },
     "execution_count": 3,
     "metadata": {},
     "output_type": "execute_result"
    }
   ],
   "source": [
    "# add your data folder into the 'code' folder, make sure it is in the .gitignore file\n",
    "\n",
    "CODE_DIR = os.getcwd()\n",
    "DATA_DIR = os.path.join(CODE_DIR, 'data')\n",
    "\n",
    "print('your data directory:')\n",
    "DATA_DIR"
   ]
  },
  {
   "cell_type": "code",
   "execution_count": 4,
   "metadata": {},
   "outputs": [],
   "source": [
    "# set path for BeerAdvocate data\n",
    "DATA_BeerAdvocate = os.path.join(DATA_DIR, \"BeerAdvocate.tar\")\n",
    "\n",
    "# set path for RateBeer data\n",
    "DATA_RateBeer = os.path.join(DATA_DIR, \"RateBeer.tar\")\n",
    "\n",
    "# set path for MatchedBeer data\n",
    "DATA_MatchedBeers = os.path.join(DATA_DIR, \"matched_beer_data.tar\")"
   ]
  },
  {
   "cell_type": "markdown",
   "metadata": {},
   "source": [
    "## <span style=\"color: green;\">Define functions to load files</span>"
   ]
  },
  {
   "cell_type": "markdown",
   "metadata": {},
   "source": [
    "### Convert the time for the users dataset"
   ]
  },
  {
   "cell_type": "code",
   "execution_count": 6,
   "metadata": {},
   "outputs": [],
   "source": [
    "# convert the joined (date) column\n",
    "def convert_timestamp(timestamp):\n",
    "    try:\n",
    "        timestamp = float(timestamp)\n",
    "        return datetime.fromtimestamp(timestamp)\n",
    "    except (ValueError, TypeError):\n",
    "        return None"
   ]
  },
  {
   "cell_type": "markdown",
   "metadata": {},
   "source": [
    "### Convert unicode correctly"
   ]
  },
  {
   "cell_type": "code",
   "execution_count": 6,
   "metadata": {},
   "outputs": [],
   "source": [
    "# convert all unicodes that are displayed wrongly\n",
    "def unicode_conversion(df):\n",
    "    replacements = {\n",
    "        'Ã³': 'ó',\n",
    "        'Ã¡': 'á',\n",
    "        'Ã©': 'é',\n",
    "        'Å‚': 'ł',\n",
    "        \"Ã¢Â€Â™\": \"’\",\n",
    "        'Ã±': 'ñ',\n",
    "        'Ã\\xad': 'í',\n",
    "        'Ã¶': 'ö',\n",
    "        \"Ã¤\": \"ä\",\n",
    "        \"Ã¥\": \"å\",\n",
    "        \"Ã¶\": \"ö\",\n",
    "        \"Ã¸\": \"ø\",\n",
    "        \"Ã¦\": \"æ\",\n",
    "        'Ã\\x9f': 'ß',\n",
    "        \"Ã¨\": \"è\",\n",
    "        'Â£': '£',\n",
    "        'â\\x80\\x93': '-',\n",
    "        \"Ã´\": \"ô\",\n",
    "        \"â\\x80\\x99\": \"’\",\n",
    "        \"Ã¼\": \"ü\",\n",
    "        \"Â\\xa0\": \"\",\n",
    "        \"\\xa0\": \" \",\n",
    "        \"[email\\xa0protected]/* */\": \"\",\n",
    "        \"[email protected]/*  */\": \"\",\n",
    "        \"Ã®\": \"î\",\n",
    "        \"Ãª\": \"ê\",\n",
    "        \"Ã»\": \"û\",\n",
    "        'Ã»': 'û',\n",
    "        \"Ã\\x87\": \"Ç\",\n",
    "        'Ã§': 'ç',\n",
    "        \"Ã\": \"à\",\n",
    "        \"Ã¢\": \"â\",\n",
    "        \"Ã¯\": \"ï\",\n",
    "        \"Ã\\x89\": \"é\",\n",
    "        'Ã\\x89': 'é',\n",
    "        'Ã¨': 'è',\n",
    "        \"Ã©\": 'é',\n",
    "        \"à\\x89\": \"É\",\n",
    "        \"à¹\": \"ù\",\n",
    "        \"àº\": \"ú\",\n",
    "        \"Â«\": \"«\",\n",
    "        \"Â»\": \"»\",\n",
    "        \"à¢\": \"â\",\n",
    "        \"â\\x80\\x9c\": \"“\",\n",
    "        \"â\\x80\\x9d\": \"”\",\n",
    "        \"&quot;\": \"'\",\n",
    "        \"à\\x80\": \"À\",\n",
    "        \"à\\x88\": \"È\",\n",
    "        \"Å\\x93\": \"œ\",\n",
    "        \"â\\x80\": \"...\",\n",
    "        \"\\'\": \"'\"\n",
    "    }\n",
    "\n",
    "    def replace_chars(text):\n",
    "        if isinstance(text, str):  # Check if the value is a string\n",
    "            for old, new in replacements.items():\n",
    "                text = text.replace(old, new)\n",
    "        return text\n",
    "\n",
    "    return df.apply(replace_chars)\n",
    "\n",
    "# source: https://www.i18nqa.com/debug/utf8-debug.html, and ChatGPT"
   ]
  },
  {
   "cell_type": "markdown",
   "metadata": {},
   "source": [
    "### <span style=\"color: red;\">One can choose skipping the implementation of 'Read ratings' and 'Read reviews' if you downloaded the .csv data</span> ([download here preprocessed .txt to .csv data](https://drive.google.com/drive/folders/1ZhaUtzQaGtIEi6PmHZ7uXhoo7sC1byAT?usp=sharing))\n",
    "\n",
    "Please place the .csv files in their corresponding folders."
   ]
  },
  {
   "cell_type": "code",
   "execution_count": 7,
   "metadata": {},
   "outputs": [],
   "source": [
    "# change the boolean to false if you did not download the data\n",
    "CSV_DOWNLOAD = True"
   ]
  },
  {
   "cell_type": "markdown",
   "metadata": {},
   "source": [
    "### Read ratings"
   ]
  },
  {
   "cell_type": "code",
   "execution_count": 8,
   "metadata": {},
   "outputs": [],
   "source": [
    "# read in the ratings\n",
    "def read_ratings_txt(folder, file_name):\n",
    "    data = []\n",
    "    counter = 0\n",
    "\n",
    "    with open(os.path.join(folder, file_name), 'rb') as file:\n",
    "        rating_data = {}\n",
    "        for line in file:\n",
    "            line = line.strip()\n",
    "            if line.startswith(b'beer_name:'):\n",
    "                # check if dictionary is not empty\n",
    "                if rating_data:\n",
    "                    data.append(rating_data)\n",
    "                rating_data = {'beer_name': line.split(b'beer_name:')[1].decode('utf-8')}\n",
    "            elif line.startswith(b'beer_id:'):\n",
    "                rating_data['beer_id'] = line.split(b'beer_id:')[1].decode('utf-8')\n",
    "            elif line.startswith(b'brewery_name:'):\n",
    "                rating_data['brewery_name'] = line.split(b'brewery_name:')[1].decode('utf-8')\n",
    "            elif line.startswith(b'brewery_id:'):\n",
    "                rating_data['brewery_id'] = line.split(b'brewery_id:')[1].decode('utf-8')\n",
    "            elif line.startswith(b'style:'):\n",
    "                rating_data['style'] = line.split(b'style:')[1].decode('utf-8')\n",
    "            elif line.startswith(b'abv:'):\n",
    "                rating_data['abv'] = line.split(b'abv:')[1].decode('utf-8')\n",
    "            elif line.startswith(b'date:'):\n",
    "                timestamp = float(line.split(b'date:')[1].decode('utf-8'))\n",
    "                rating_data['date'] = datetime.utcfromtimestamp(timestamp).strftime('%Y-%m-%d %H:%M:%S')\n",
    "            elif line.startswith(b'user_name:'):\n",
    "                rating_data['user_name'] = line.split(b'user_name:')[1].decode('utf-8')\n",
    "            elif line.startswith(b'user_id:'):\n",
    "                rating_data['user_id'] = line.split(b'user_id:')[1].decode('utf-8')\n",
    "            elif line.startswith(b'appearance:'):\n",
    "                rating_data['appearance'] = line.split(b'appearance:')[1].decode('utf-8')\n",
    "            elif line.startswith(b'aroma:'):\n",
    "                rating_data['aroma'] = line.split(b'aroma:')[1].decode('utf-8')\n",
    "            elif line.startswith(b'palate:'):\n",
    "                rating_data['palate'] = line.split(b'palate:')[1].decode('utf-8')\n",
    "            elif line.startswith(b'taste:'):\n",
    "                rating_data['taste'] = line.split(b'taste:')[1].decode('utf-8')\n",
    "            elif line.startswith(b'overall:'):\n",
    "                rating_data['overall'] = line.split(b'overall:')[1].decode('utf-8')\n",
    "            elif line.startswith(b'rating:'):\n",
    "                rating_data['rating'] = line.split(b'rating:')[1].decode('utf-8')\n",
    "            elif line.startswith(b'text:'):\n",
    "                rating_data['text'] = line.split(b'text:')[1].decode('utf-8')\n",
    "            elif line.startswith(b'review:'):\n",
    "                rating_data['review'] = line.split(b'review:')[1].decode('utf-8')\n",
    "\n",
    "            #counter += 1\n",
    "\n",
    "            #if counter == 100000000:  # limit amount of lines to read in (17lines in the data are 1 row)\n",
    "            #    break\n",
    "\n",
    "    if rating_data:\n",
    "        data.append(rating_data)\n",
    "\n",
    "    ratings = pd.DataFrame(data)\n",
    "    return ratings"
   ]
  },
  {
   "cell_type": "markdown",
   "metadata": {},
   "source": [
    "### Read reviews"
   ]
  },
  {
   "cell_type": "code",
   "execution_count": 52,
   "metadata": {},
   "outputs": [],
   "source": [
    "# read in the reviews\n",
    "def read_reviews_txt(folder, file_name):\n",
    "    data = []\n",
    "    counter = 0\n",
    "\n",
    "    with open(os.path.join(folder, file_name), 'rb') as file:\n",
    "        review_data = {}\n",
    "        for line in file:\n",
    "            line = line.strip()\n",
    "            if line.startswith(b'beer_name:'):\n",
    "                # check if dictionary is not empty\n",
    "                if review_data:\n",
    "                    data.append(review_data)\n",
    "                review_data = {'beer_name': line.split(b'beer_name:')[1].decode('utf-8')}\n",
    "            elif line.startswith(b'beer_id:'):\n",
    "                review_data['beer_id'] = line.split(b'beer_id:')[1].decode('utf-8')\n",
    "            elif line.startswith(b'brewery_name:'):\n",
    "                review_data['brewery_name'] = line.split(b'brewery_name:')[1].decode('utf-8')\n",
    "            elif line.startswith(b'brewery_id:'):\n",
    "                review_data['brewery_id'] = line.split(b'brewery_id:')[1].decode('utf-8')\n",
    "            elif line.startswith(b'style:'):\n",
    "                review_data['style'] = line.split(b'style:')[1].decode('utf-8')\n",
    "            elif line.startswith(b'abv:'):\n",
    "                review_data['abv'] = line.split(b'abv:')[1].decode('utf-8')\n",
    "            elif line.startswith(b'date:'):\n",
    "                timestamp = float(line.split(b'date:')[1].decode('utf-8'))\n",
    "                review_data['date'] = datetime.utcfromtimestamp(timestamp).strftime('%Y-%m-%d %H:%M:%S')\n",
    "            elif line.startswith(b'user_name:'):\n",
    "                review_data['user_name'] = line.split(b'user_name:')[1].decode('utf-8')\n",
    "            elif line.startswith(b'user_id:'):\n",
    "                review_data['user_id'] = line.split(b'user_id:')[1].decode('utf-8')\n",
    "            elif line.startswith(b'appearance:'):\n",
    "                review_data['appearance'] = line.split(b'appearance:')[1].decode('utf-8')\n",
    "            elif line.startswith(b'aroma:'):\n",
    "                review_data['aroma'] = line.split(b'aroma:')[1].decode('utf-8')\n",
    "            elif line.startswith(b'palate:'):\n",
    "                review_data['palate'] = line.split(b'palate:')[1].decode('utf-8')\n",
    "            elif line.startswith(b'taste:'):\n",
    "                review_data['taste'] = line.split(b'taste:')[1].decode('utf-8')\n",
    "            elif line.startswith(b'overall:'):\n",
    "                review_data['overall'] = line.split(b'overall:')[1].decode('utf-8')\n",
    "            elif line.startswith(b'rating:'):\n",
    "                review_data['rating'] = line.split(b'rating:')[1].decode('utf-8')\n",
    "            elif line.startswith(b'text:'):\n",
    "                review_data['text'] = line.split(b'text:')[1].decode('utf-8')\n",
    "\n",
    "\n",
    "            #counter += 1\n",
    "\n",
    "            #if counter == 100000000:  # limit amount of lines to read in\n",
    "            #    break\n",
    "\n",
    "    if review_data:\n",
    "        data.append(review_data)\n",
    "\n",
    "    reviews = pd.DataFrame(data)\n",
    "    return reviews"
   ]
  },
  {
   "cell_type": "markdown",
   "metadata": {},
   "source": [
    "# <span style=\"color: darkgreen;\">LOAD FILES</span>"
   ]
  },
  {
   "cell_type": "markdown",
   "metadata": {},
   "source": [
    "### <span style=\"color: green;\">BeerAdvocate (BA) Dataset</span>"
   ]
  },
  {
   "cell_type": "markdown",
   "metadata": {},
   "source": [
    "### beers, breweries, users csv's"
   ]
  },
  {
   "cell_type": "code",
   "execution_count": 8,
   "metadata": {},
   "outputs": [],
   "source": [
    "# read in the BeerAdvocate files\n",
    "BA_beers = pd.read_csv(os.path.join(DATA_BeerAdvocate, \"beers.csv\"))\n",
    "BA_breweries = pd.read_csv(os.path.join(DATA_BeerAdvocate, \"breweries.csv\"))\n",
    "BA_users = pd.read_csv(os.path.join(DATA_BeerAdvocate, \"users.csv\"), \n",
    "                       converters={\"joined\": convert_timestamp})"
   ]
  },
  {
   "cell_type": "markdown",
   "metadata": {},
   "source": [
    "### ratings.txt"
   ]
  },
  {
   "cell_type": "code",
   "execution_count": 10,
   "metadata": {},
   "outputs": [],
   "source": [
    "BA_ratings = pd.DataFrame()\n",
    "if not CSV_DOWNLOAD:\n",
    "    # read in the .txt\n",
    "    BA_ratings = read_ratings_txt(DATA_BeerAdvocate, \"ratings.txt\")\n",
    "    print(BA_ratings.shape)\n",
    "    BA_ratings.head()\n",
    "\n",
    "    #BA_ratings['text'] = BA_ratings['text'].apply(lambda x: ud.unidecode(x))       # doesnt work because there is floats, like prices in the reviews\n",
    "\n",
    "    # fix the encoding issues manually\n",
    "    BA_ratings['text'] = unicode_conversion(BA_ratings['text'])\n",
    "\n",
    "\n",
    "    # create a csv from BA_ratings\n",
    "    BA_ratings.to_csv(os.path.join(DATA_BeerAdvocate, \"BA_ratings.csv\"), index=False, encoding='utf-8')"
   ]
  },
  {
   "cell_type": "code",
   "execution_count": 9,
   "metadata": {},
   "outputs": [
    {
     "name": "stdout",
     "output_type": "stream",
     "text": [
      "(8393032, 17)\n"
     ]
    }
   ],
   "source": [
    "if CSV_DOWNLOAD:\n",
    "    # read in new BA_ratings.csv\n",
    "    BA_ratings = pd.read_csv(os.path.join(DATA_BeerAdvocate, \"BA_ratings.csv\"), header=0, low_memory=False ,encoding='utf-8')\n",
    "    print(BA_ratings.shape)"
   ]
  },
  {
   "cell_type": "markdown",
   "metadata": {},
   "source": [
    "### reviews.txt"
   ]
  },
  {
   "cell_type": "code",
   "execution_count": 64,
   "metadata": {},
   "outputs": [],
   "source": [
    "BA_reviews = pd.DataFrame()\n",
    "if not CSV_DOWNLOAD:\n",
    "    # read the .txt file\n",
    "    BA_reviews = read_reviews_txt(DATA_BeerAdvocate, \"reviews.txt\")\n",
    "    BA_reviews.head(), BA_reviews.shape\n",
    "\n",
    "    # fix the encoding issues manually\n",
    "    BA_reviews['text'] = unicode_conversion(BA_reviews['text'])  \n",
    "\n",
    "    # write the csv file\n",
    "    BA_reviews.to_csv(os.path.join(DATA_BeerAdvocate, \"BA_reviews.csv\"), index=False, encoding='utf-8')"
   ]
  },
  {
   "cell_type": "code",
   "execution_count": 10,
   "metadata": {},
   "outputs": [
    {
     "name": "stdout",
     "output_type": "stream",
     "text": [
      "(2589586, 16)\n"
     ]
    }
   ],
   "source": [
    "if CSV_DOWNLOAD:\n",
    "    # read back in the csv file\n",
    "    BA_reviews = pd.read_csv(os.path.join(DATA_BeerAdvocate, \"BA_reviews.csv\"), header=0, low_memory=False ,encoding='utf-8')\n",
    "    print(BA_reviews.shape)"
   ]
  },
  {
   "cell_type": "markdown",
   "metadata": {},
   "source": [
    "## <span style=\"color: green;\">RateBeer (RB) Dataset</span>"
   ]
  },
  {
   "cell_type": "markdown",
   "metadata": {},
   "source": [
    "### beers, breweries, users csv's"
   ]
  },
  {
   "cell_type": "code",
   "execution_count": 10,
   "metadata": {},
   "outputs": [],
   "source": [
    "# read in the RateBeer files\n",
    "RB_beers = pd.read_csv(os.path.join(DATA_RateBeer, \"beers.csv\"))\n",
    "RB_breweries = pd.read_csv(os.path.join(DATA_RateBeer, \"breweries.csv\"))\n",
    "RB_users = pd.read_csv(os.path.join(DATA_RateBeer, \"users.csv\"),\n",
    "                       converters={\"joined\": convert_timestamp})"
   ]
  },
  {
   "cell_type": "markdown",
   "metadata": {},
   "source": [
    "### ratings.txt <span style=\"color: red;\">(ratings and reviews files are equal, can use just ratings)</span>"
   ]
  },
  {
   "cell_type": "code",
   "execution_count": 114,
   "metadata": {},
   "outputs": [],
   "source": [
    "RB_ratings = pd.DataFrame()\n",
    "if not CSV_DOWNLOAD:\n",
    "    # read in the .txt\n",
    "    RB_ratings = read_ratings_txt(DATA_RateBeer, \"ratings.txt\") # has no 'review' column\n",
    "    RB_ratings.head(), RB_ratings.shape\n",
    "\n",
    "    # fix the encoding issues manually\n",
    "    RB_ratings['text'] = unicode_conversion(RB_ratings['text'])\n",
    "\n",
    "    # write the csv file\n",
    "    RB_ratings.to_csv(os.path.join(DATA_RateBeer, \"RB_ratings.csv\"), index=False, encoding='utf-8')"
   ]
  },
  {
   "cell_type": "code",
   "execution_count": 13,
   "metadata": {},
   "outputs": [
    {
     "name": "stdout",
     "output_type": "stream",
     "text": [
      "(7122074, 16)\n"
     ]
    }
   ],
   "source": [
    "# only read in reviews\n",
    "if CSV_DOWNLOAD:\n",
    "    # read back in the ratings csv file\n",
    "    RB_ratings = pd.read_csv(os.path.join(DATA_RateBeer, \"RB_ratings.csv\"), header=0, low_memory=False ,encoding='utf-8')\n",
    "    print(RB_ratings.shape)"
   ]
  },
  {
   "cell_type": "markdown",
   "metadata": {},
   "source": [
    "### Try to save as pickle and test the readin speed"
   ]
  },
  {
   "cell_type": "markdown",
   "metadata": {},
   "source": [
    "save as pickle file"
   ]
  },
  {
   "cell_type": "code",
   "execution_count": 97,
   "metadata": {},
   "outputs": [],
   "source": [
    "# RateBeer_ratings\n",
    "with open(os.path.join(DATA_RateBeer, \"RB_ratings.pkl\"), 'wb') as f:\n",
    "    pickle.dump(RB_ratings, f)"
   ]
  },
  {
   "cell_type": "code",
   "execution_count": 10,
   "metadata": {},
   "outputs": [],
   "source": [
    "# BeerAdvocate_ratings\n",
    "with open(os.path.join(DATA_BeerAdvocate, \"BA_ratings.pkl\"), 'wb') as f:\n",
    "    pickle.dump(BA_ratings, f)"
   ]
  },
  {
   "cell_type": "markdown",
   "metadata": {},
   "source": [
    "load pickle file"
   ]
  },
  {
   "cell_type": "code",
   "execution_count": 6,
   "metadata": {},
   "outputs": [],
   "source": [
    "# read RB_ratings from pickle file\n",
    "with open(os.path.join(DATA_RateBeer, \"RB_ratings.pkl\"), 'rb') as f:\n",
    "    RB_ratings = pickle.load(f)"
   ]
  },
  {
   "cell_type": "code",
   "execution_count": 11,
   "metadata": {},
   "outputs": [],
   "source": [
    "# read BA_ratings from pickle file\n",
    "with open(os.path.join(DATA_BeerAdvocate, \"BA_ratings.pkl\"), 'rb') as f:\n",
    "    BA_ratings = pickle.load(f)"
   ]
  },
  {
   "cell_type": "markdown",
   "metadata": {},
   "source": [
    "### Try to save as parquet and test the readin speed"
   ]
  },
  {
   "cell_type": "code",
   "execution_count": 25,
   "metadata": {},
   "outputs": [],
   "source": [
    "#pip install fastparquet \n",
    "import fastparquet"
   ]
  },
  {
   "cell_type": "code",
   "execution_count": 26,
   "metadata": {},
   "outputs": [],
   "source": [
    "BA_ratings.to_parquet('BA_ratings_parquet.gzip', compression='gzip')            #https://pandas.pydata.org/pandas-docs/version/1.1/reference/api/pandas.DataFrame.to_parquet.html"
   ]
  },
  {
   "cell_type": "code",
   "execution_count": 27,
   "metadata": {},
   "outputs": [],
   "source": [
    "BA_ratings = pd.read_parquet('BA_ratings_parquet.gzip')"
   ]
  },
  {
   "cell_type": "code",
   "execution_count": 13,
   "metadata": {},
   "outputs": [
    {
     "data": {
      "text/plain": [
       "' Pours pale copper with a thin head that quickly goes. Caramel, golden syrup nose. Taste is big toasty, grassy hops backed by dark fruit, candy corn and brack malts. Clingy. Dries out at the end with more hops. Brave, more going on that usual for this type.'"
      ]
     },
     "metadata": {},
     "output_type": "display_data"
    }
   ],
   "source": [
    "# testing of the text format, can skip\n",
    "for i in range(1, 2):\n",
    "    display(BA_ratings['text'][i])"
   ]
  },
  {
   "cell_type": "markdown",
   "metadata": {},
   "source": [
    "## <span style=\"color: lightgreen;\"> Gluten-free beers and dataset creation</span>"
   ]
  },
  {
   "cell_type": "markdown",
   "metadata": {},
   "source": [
    "### Looking at what beers are gluten-free in RateBeer and BeerAdvocate"
   ]
  },
  {
   "cell_type": "code",
   "execution_count": 182,
   "metadata": {},
   "outputs": [
    {
     "name": "stdout",
     "output_type": "stream",
     "text": [
      "Number of gluten-free beers in RateBeer: 248\n"
     ]
    }
   ],
   "source": [
    "rb_gf_beers=RB_beers[RB_beers['beer_name'].str.contains('gluten',case=False, na=False)]\n",
    "rb_gf_beers_id=rb_gf_beers['beer_id']\n",
    "print(\"Number of gluten-free beers in RateBeer:\",rb_gf_beers.shape[0])"
   ]
  },
  {
   "cell_type": "code",
   "execution_count": 183,
   "metadata": {},
   "outputs": [
    {
     "name": "stdout",
     "output_type": "stream",
     "text": [
      "Number of gluten-free beers in BeerAdvocate: 147\n"
     ]
    }
   ],
   "source": [
    "ba_gf_beers=BA_beers[BA_beers['beer_name'].str.contains('gluten',case=False, na=False)]\n",
    "ba_gf_beers_id=ba_gf_beers['beer_id']\n",
    "print(\"Number of gluten-free beers in BeerAdvocate:\",ba_gf_beers.shape[0])"
   ]
  },
  {
   "cell_type": "code",
   "execution_count": 184,
   "metadata": {},
   "outputs": [
    {
     "name": "stdout",
     "output_type": "stream",
     "text": [
      "there are  21  beers present in both dataset\n",
      "those beers are: \n",
      " ['Glutenberg 8' 'Glutenberg Cuvée Sauvage' 'Glutenberg Double Belge'\n",
      " 'Glutenberg Double IPA' 'Glutenberg Gose'\n",
      " 'Glutenberg Impérial Buchweizen' 'Glutenberg India Pale Ale'\n",
      " 'Glutenberg Myrcène De Glace'\n",
      " 'Glutenberg Myrcène De Glace (Brassin Spécial)' 'Drummond Gluten Free'\n",
      " 'Nickel Brook Bull Eye Gluten Free Pale Ale'\n",
      " 'Puerto Dorado Cerveza Sin Gluten' 'Riedenburger Gluten Frei'\n",
      " 'Neumarkter Lammsbräu Glutenfrei' 'San Miguel Gluten Free'\n",
      " 'Brok Gluten Free' 'Boxer Gluten Free' 'NGB Gluten Free Lager'\n",
      " 'Portsmouth Gluten Minimus Saison' 'Brunehaut Bio Ambrée Gluten Free'\n",
      " 'Slaapmutske Dubbel Glutenvrij']\n"
     ]
    }
   ],
   "source": [
    "#Number of coinciding beers between the two datasets:\n",
    "coinciding_gf_beer=ba_gf_beers['beer_name'].isin(rb_gf_beers['beer_name'])\n",
    "print('there are ', coinciding_gf_beer.sum(),' beers present in both dataset')\n",
    "print('those beers are:','\\n',ba_gf_beers[coinciding_gf_beer]['beer_name'].values)"
   ]
  },
  {
   "cell_type": "markdown",
   "metadata": {},
   "source": [
    "### Creation of review sub-dataset for only gluten-free beers"
   ]
  },
  {
   "cell_type": "code",
   "execution_count": 185,
   "metadata": {},
   "outputs": [],
   "source": [
    "rb_gf_ratings=RB_ratings[RB_ratings['beer_id'].isin(rb_gf_beers_id)]\n",
    "rb_gf_ratings=rb_gf_ratings.merge(RB_users[['user_id','location']],on='user_id') #add location of users\n"
   ]
  },
  {
   "cell_type": "markdown",
   "metadata": {},
   "source": [
    "For BeerAdvocate dataset, user_id are in form of \"user_name.#someID\", which creates problem when trying to merge on it, so we need to convert it to an actual numeric id. Here we will keep the id that is after the dot. This doesn't grant uniqueness of IDs, depleting the duplicates will"
   ]
  },
  {
   "cell_type": "code",
   "execution_count": 186,
   "metadata": {},
   "outputs": [],
   "source": [
    "import re\n",
    "\n",
    "# leave only the numbers in the user_id column (else it wouldnt work)\n",
    "BA_users['user_id'] = BA_users['user_id'].apply(lambda x: re.findall(r'\\.(\\d+)', x)[0]).astype(int)\n",
    "BA_ratings['user_id'] = BA_ratings['user_id'].apply(lambda x: re.findall(r'\\.(\\d+)', x)[0]).astype(int)\n",
    "\n",
    "duplicate_ba_id=BA_users[BA_users['user_id'].duplicated(keep='first')]['user_id']\n",
    "BA_users=BA_users.drop(axis=0, index=duplicate_ba_id.index.values)\n",
    "duplicate_ba_id_indexinratings= BA_ratings[BA_ratings['user_id'].isin(duplicate_ba_id)].index.values #get index of ratings placed by person with duplicate id\n",
    "BA_ratings=BA_ratings.drop(axis=0,index=duplicate_ba_id_indexinratings)\n",
    "\n",
    "ba_gf_ratings=BA_ratings[BA_ratings['beer_id'].isin(ba_gf_beers['beer_id'])]\n",
    "ba_gf_ratings=ba_gf_ratings.merge(BA_users[['user_id','location']],on='user_id')"
   ]
  },
  {
   "cell_type": "markdown",
   "metadata": {},
   "source": [
    "### Change date to year only\n",
    "\n",
    "Output of the timestamp function is not easily useable to look at evolution overtime. To change that, we will only look at the year of the ratings"
   ]
  },
  {
   "cell_type": "code",
   "execution_count": 187,
   "metadata": {},
   "outputs": [],
   "source": [
    "#if the data is read in only partially, for testing, we need to remove the NaNs\n",
    "#RB_ratings.drop(RB_ratings.index[-1], inplace=True)\n",
    "#BA_ratings.drop(BA_ratings.index[-1], inplace=True)"
   ]
  },
  {
   "cell_type": "code",
   "execution_count": 188,
   "metadata": {},
   "outputs": [],
   "source": [
    "BA_ratings['year']=BA_ratings['date'].apply(lambda x:int(x[:4])) #4 first characters of timestamp is the year the rating was posted\n",
    "ba_gf_ratings['year']=ba_gf_ratings['date'].apply(lambda x:int(x[:4]))\n",
    "\n",
    "RB_ratings['year']=RB_ratings['date'].apply(lambda x:int(x[:4])) #4 first characters of timestamp is the year the rating was posted\n",
    "rb_gf_ratings['year']=rb_gf_ratings['date'].apply(lambda x:int(x[:4]))"
   ]
  },
  {
   "cell_type": "code",
   "execution_count": null,
   "metadata": {},
   "outputs": [],
   "source": [
    "unicode_conversion(rb_gf_ratings['text'])\n",
    "unicode_conversion(ba_gf_ratings['text'])"
   ]
  },
  {
   "cell_type": "markdown",
   "metadata": {},
   "source": [
    "### Saving the files as csv"
   ]
  },
  {
   "cell_type": "code",
   "execution_count": 190,
   "metadata": {},
   "outputs": [],
   "source": [
    "rb_gf_ratings.to_csv((os.path.join(DATA_RateBeer, \"rb_gf_ratings.csv\")),index=False,header=True,encoding='utf-8')\n",
    "ba_gf_ratings.to_csv((os.path.join(DATA_BeerAdvocate, \"ba_gf_ratings.csv\")),index=False,header=True,encoding='utf-8')"
   ]
  },
  {
   "cell_type": "markdown",
   "metadata": {},
   "source": [
    "# Exploratory Data Analysis"
   ]
  },
  {
   "cell_type": "markdown",
   "metadata": {},
   "source": [
    "## How many languages are covered in the dataset?"
   ]
  },
  {
   "cell_type": "markdown",
   "metadata": {},
   "source": [
    "### Install requirements and load SpaCY package\n",
    "\n",
    "separate installation :\n",
    "\n",
    "pip install spacy-langdetect\n",
    "\n",
    "pip install spacy\n",
    "\n",
    "spacy download en_core_web_sm\n",
    "\n",
    "spacy download fr_core_news_sm"
   ]
  },
  {
   "cell_type": "code",
   "execution_count": 1,
   "metadata": {},
   "outputs": [
    {
     "data": {
      "text/plain": [
       "<spacy_langdetect.spacy_langdetect.LanguageDetector at 0x1c12acd2e20>"
      ]
     },
     "execution_count": 1,
     "metadata": {},
     "output_type": "execute_result"
    }
   ],
   "source": [
    "import spacy\n",
    "from spacy.language import Language\n",
    "from spacy_langdetect import LanguageDetector\n",
    "\n",
    "def get_lang_detector(nlp, name):\n",
    "    return LanguageDetector()\n",
    "\n",
    "nlp = spacy.load(\"en_core_web_sm\")\n",
    "Language.factory(\"language_detector\", func=get_lang_detector)\n",
    "nlp.add_pipe('language_detector', last=True)"
   ]
  },
  {
   "cell_type": "code",
   "execution_count": 2,
   "metadata": {},
   "outputs": [
    {
     "data": {
      "text/plain": [
       "[('tok2vec', <spacy.pipeline.tok2vec.Tok2Vec at 0x1c13d5b2e80>),\n",
       " ('tagger', <spacy.pipeline.tagger.Tagger at 0x1c13d5b2fa0>),\n",
       " ('parser', <spacy.pipeline.dep_parser.DependencyParser at 0x1c13d2985f0>),\n",
       " ('attribute_ruler',\n",
       "  <spacy.pipeline.attributeruler.AttributeRuler at 0x1c13d5ff640>),\n",
       " ('lemmatizer', <spacy.lang.en.lemmatizer.EnglishLemmatizer at 0x1c13d6603c0>),\n",
       " ('ner', <spacy.pipeline.ner.EntityRecognizer at 0x1c13d2983c0>),\n",
       " ('language_detector',\n",
       "  <spacy_langdetect.spacy_langdetect.LanguageDetector at 0x1c12acd2e20>)]"
      ]
     },
     "execution_count": 2,
     "metadata": {},
     "output_type": "execute_result"
    }
   ],
   "source": [
    "# visulize the nlp pipeline\n",
    "nlp.pipeline"
   ]
  },
  {
   "cell_type": "markdown",
   "metadata": {},
   "source": [
    "### Search in RB_reviews"
   ]
  },
  {
   "cell_type": "code",
   "execution_count": 8,
   "metadata": {},
   "outputs": [
    {
     "name": "stdout",
     "output_type": "stream",
     "text": [
      "{'language': 'fr', 'score': 0.9999948174535973}\n"
     ]
    }
   ],
   "source": [
    "text = 'Bonjour Monsiuer.'\n",
    "doc = nlp(text)\n",
    "print(doc._.language)"
   ]
  },
  {
   "cell_type": "code",
   "execution_count": 20,
   "metadata": {},
   "outputs": [
    {
     "data": {
      "text/plain": [
       "7122074"
      ]
     },
     "execution_count": 20,
     "metadata": {},
     "output_type": "execute_result"
    }
   ],
   "source": [
    "len(RB_ratings)"
   ]
  },
  {
   "cell_type": "code",
   "execution_count": 21,
   "metadata": {},
   "outputs": [],
   "source": [
    "# randomly pick 1000 reviews from the RateBeer dataset\n",
    "RB_ratings_sample = RB_ratings.sample(n=1000, random_state=1)\n",
    "RB_text_sample = RB_ratings_sample['text']"
   ]
  },
  {
   "cell_type": "code",
   "execution_count": 22,
   "metadata": {},
   "outputs": [
    {
     "data": {
      "text/plain": [
       "273718      A hazed orange amber IPA with a thin lacing w...\n",
       "738164      50 cl bottle (4,7% ABV). Golden color, nice w...\n",
       "5306043     Courtesy of thirdeye11. hazy brown color/ tan...\n",
       "1257761     At FdB 2014. Poured cloudy yellow/amber with ...\n",
       "6509822     Tap @ 3F during TdG ’13 with the American tea...\n",
       "Name: text, dtype: object"
      ]
     },
     "execution_count": 22,
     "metadata": {},
     "output_type": "execute_result"
    }
   ],
   "source": [
    "RB_text_sample.head()"
   ]
  },
  {
   "cell_type": "code",
   "execution_count": 24,
   "metadata": {},
   "outputs": [
    {
     "name": "stderr",
     "output_type": "stream",
     "text": [
      "100%|██████████| 1000/1000 [00:42<00:00, 23.52it/s]\n"
     ]
    }
   ],
   "source": [
    "# needs about 20s for 1000 rows\n",
    "RB_languages = []\n",
    "for row in tqdm(range(len(RB_text_sample))):\n",
    "    doc = nlp(RB_text_sample.iloc[row])\n",
    "    RB_languages.append(doc._.language['language']) "
   ]
  },
  {
   "cell_type": "code",
   "execution_count": 26,
   "metadata": {},
   "outputs": [
    {
     "data": {
      "text/plain": [
       "92.4"
      ]
     },
     "execution_count": 26,
     "metadata": {},
     "output_type": "execute_result"
    }
   ],
   "source": [
    "# test how much en is in lang_result_BA\n",
    "RB_languages.count('en') / len(RB_languages) * 100"
   ]
  },
  {
   "cell_type": "code",
   "execution_count": 28,
   "metadata": {},
   "outputs": [
    {
     "data": {
      "image/png": "[encoded data removed]",
      "text/plain": [
       "<Figure size 640x480 with 1 Axes>"
      ]
     },
     "metadata": {},
     "output_type": "display_data"
    }
   ],
   "source": [
    "# display the distribution of languages\n",
    "sns.set_theme(style=\"darkgrid\")\n",
    "ax = sns.countplot(x=RB_languages)\n",
    "# set y-axis to log scale\n",
    "ax.set_yscale('log')\n",
    "ax.set_title('Distribution of languages in RB reviews')\n",
    "ax.set_xlabel('Language')\n",
    "ax.set_ylabel('Number of reviews')\n",
    "plt.show()"
   ]
  },
  {
   "cell_type": "code",
   "execution_count": 50,
   "metadata": {},
   "outputs": [
    {
     "data": {
      "text/plain": [
       "(683, 824)"
      ]
     },
     "execution_count": 50,
     "metadata": {},
     "output_type": "execute_result"
    }
   ],
   "source": [
    "# find other language indexes\n",
    "RB_languages.index('fi'), RB_languages.index('fr')"
   ]
  },
  {
   "cell_type": "code",
   "execution_count": 51,
   "metadata": {},
   "outputs": [
    {
     "name": "stdout",
     "output_type": "stream",
     "text": [
      " Hieman kevyt kaiken kaikkiaan. Tuoksu suht hento. Kevyt suklaa ja paahto. Maku perinteinen stout mutta melko vetinen. Väri todella tumma. \n",
      "\n",
      " Ambrée sombre, petite carbo, petit collet persistant. Aromes de fruits rouges, passion.Mince, resineuse et sèche sur la finale. \n",
      "\n"
     ]
    }
   ],
   "source": [
    "# display other language reviews\n",
    "print(RB_text[RB_languages.index('fi')], '\\n') \n",
    "print(RB_text[RB_languages.index('fr')], '\\n') "
   ]
  },
  {
   "cell_type": "code",
   "execution_count": 32,
   "metadata": {},
   "outputs": [],
   "source": [
    "# display all languages but english\n",
    "RB_languages_without_en = [lang for lang in RB_languages if lang != 'en']"
   ]
  },
  {
   "cell_type": "code",
   "execution_count": 33,
   "metadata": {},
   "outputs": [
    {
     "data": {
      "image/png": "[encoded data removed]",
      "text/plain": [
       "<Figure size 640x480 with 1 Axes>"
      ]
     },
     "metadata": {},
     "output_type": "display_data"
    }
   ],
   "source": [
    "# display the distribution of languages without english\n",
    "sns.set_theme(style=\"darkgrid\")\n",
    "ax = sns.countplot(x=RB_languages_without_en)\n",
    "ax.set_title('Distribution of languages in RB reviews')\n",
    "ax.set_xlabel('Language')\n",
    "ax.set_ylabel('Number of reviews')\n",
    "plt.show()"
   ]
  },
  {
   "cell_type": "markdown",
   "metadata": {},
   "source": [
    "## Glutenfree beers vocabulary analysis"
   ]
  },
  {
   "cell_type": "code",
   "execution_count": 9,
   "metadata": {},
   "outputs": [
    {
     "name": "stdout",
     "output_type": "stream",
     "text": [
      "# of samples:  3770\n",
      "Index(['beer_name', 'beer_id', 'brewery_name', 'brewery_id', 'style', 'abv',\n",
      "       'date', 'user_name', 'user_id', 'appearance', 'aroma', 'palate',\n",
      "       'taste', 'overall', 'rating', 'text', 'location', 'year'],\n",
      "      dtype='object')\n"
     ]
    },
    {
     "data": {
      "text/html": [
       "<div>\n",
       "<style scoped>\n",
       "    .dataframe tbody tr th:only-of-type {\n",
       "        vertical-align: middle;\n",
       "    }\n",
       "\n",
       "    .dataframe tbody tr th {\n",
       "        vertical-align: top;\n",
       "    }\n",
       "\n",
       "    .dataframe thead th {\n",
       "        text-align: right;\n",
       "    }\n",
       "</style>\n",
       "<table border=\"1\" class=\"dataframe\">\n",
       "  <thead>\n",
       "    <tr style=\"text-align: right;\">\n",
       "      <th></th>\n",
       "      <th>beer_name</th>\n",
       "      <th>beer_id</th>\n",
       "      <th>brewery_name</th>\n",
       "      <th>brewery_id</th>\n",
       "      <th>style</th>\n",
       "      <th>abv</th>\n",
       "      <th>date</th>\n",
       "      <th>user_name</th>\n",
       "      <th>user_id</th>\n",
       "      <th>appearance</th>\n",
       "      <th>aroma</th>\n",
       "      <th>palate</th>\n",
       "      <th>taste</th>\n",
       "      <th>overall</th>\n",
       "      <th>rating</th>\n",
       "      <th>text</th>\n",
       "      <th>location</th>\n",
       "      <th>year</th>\n",
       "    </tr>\n",
       "  </thead>\n",
       "  <tbody>\n",
       "    <tr>\n",
       "      <th>0</th>\n",
       "      <td>Kowloon Bay Gluten Free IPA</td>\n",
       "      <td>436710</td>\n",
       "      <td>Kowloon Bay Brewery</td>\n",
       "      <td>25260</td>\n",
       "      <td>India Pale Ale (IPA)</td>\n",
       "      <td>6.6</td>\n",
       "      <td>2016-07-26 10:00:00</td>\n",
       "      <td>CacheManyHose</td>\n",
       "      <td>282160</td>\n",
       "      <td>3</td>\n",
       "      <td>7</td>\n",
       "      <td>2</td>\n",
       "      <td>6</td>\n",
       "      <td>14</td>\n",
       "      <td>3.2</td>\n",
       "      <td>Drank at Home: Eat To Live cafe. Floral hop n...</td>\n",
       "      <td>Hong Kong</td>\n",
       "      <td>2016</td>\n",
       "    </tr>\n",
       "    <tr>\n",
       "      <th>1</th>\n",
       "      <td>Glutenberg 1er Anniversaire</td>\n",
       "      <td>182791</td>\n",
       "      <td>Glutenberg Brewing Company</td>\n",
       "      <td>13241</td>\n",
       "      <td>Specialty Grain</td>\n",
       "      <td>7.5</td>\n",
       "      <td>2013-07-14 10:00:00</td>\n",
       "      <td>BiereLuc</td>\n",
       "      <td>131174</td>\n",
       "      <td>3</td>\n",
       "      <td>7</td>\n",
       "      <td>3</td>\n",
       "      <td>8</td>\n",
       "      <td>16</td>\n",
       "      <td>3.7</td>\n",
       "      <td>Bière cuivrée. Nez houblon-caramel. En bouche...</td>\n",
       "      <td>Canada</td>\n",
       "      <td>2013</td>\n",
       "    </tr>\n",
       "    <tr>\n",
       "      <th>2</th>\n",
       "      <td>Glutenberg 8</td>\n",
       "      <td>162109</td>\n",
       "      <td>Glutenberg Brewing Company</td>\n",
       "      <td>13241</td>\n",
       "      <td>Specialty Grain</td>\n",
       "      <td>5.0</td>\n",
       "      <td>2014-10-04 10:00:00</td>\n",
       "      <td>BiereLuc</td>\n",
       "      <td>131174</td>\n",
       "      <td>3</td>\n",
       "      <td>7</td>\n",
       "      <td>2</td>\n",
       "      <td>7</td>\n",
       "      <td>15</td>\n",
       "      <td>3.4</td>\n",
       "      <td>En fouillant dans mes carnets, je suis retomb...</td>\n",
       "      <td>Canada</td>\n",
       "      <td>2014</td>\n",
       "    </tr>\n",
       "    <tr>\n",
       "      <th>3</th>\n",
       "      <td>Glutenberg Belge de Saison 2013</td>\n",
       "      <td>204934</td>\n",
       "      <td>Glutenberg Brewing Company</td>\n",
       "      <td>13241</td>\n",
       "      <td>Saison</td>\n",
       "      <td>7.0</td>\n",
       "      <td>2013-02-21 11:00:00</td>\n",
       "      <td>BiereLuc</td>\n",
       "      <td>131174</td>\n",
       "      <td>3</td>\n",
       "      <td>8</td>\n",
       "      <td>3</td>\n",
       "      <td>8</td>\n",
       "      <td>18</td>\n",
       "      <td>4.0</td>\n",
       "      <td>(Version 2013, recette différente) - Belle co...</td>\n",
       "      <td>Canada</td>\n",
       "      <td>2013</td>\n",
       "    </tr>\n",
       "    <tr>\n",
       "      <th>4</th>\n",
       "      <td>Glutenberg Belge de Saison 2014</td>\n",
       "      <td>253815</td>\n",
       "      <td>Glutenberg Brewing Company</td>\n",
       "      <td>13241</td>\n",
       "      <td>Saison</td>\n",
       "      <td>7.0</td>\n",
       "      <td>2014-04-22 10:00:00</td>\n",
       "      <td>BiereLuc</td>\n",
       "      <td>131174</td>\n",
       "      <td>3</td>\n",
       "      <td>6</td>\n",
       "      <td>3</td>\n",
       "      <td>7</td>\n",
       "      <td>15</td>\n",
       "      <td>3.4</td>\n",
       "      <td>Bière couleur paille, limpide et mousseuse. L...</td>\n",
       "      <td>Canada</td>\n",
       "      <td>2014</td>\n",
       "    </tr>\n",
       "  </tbody>\n",
       "</table>\n",
       "</div>"
      ],
      "text/plain": [
       "                          beer_name  beer_id                 brewery_name  \\\n",
       "0       Kowloon Bay Gluten Free IPA   436710          Kowloon Bay Brewery   \n",
       "1       Glutenberg 1er Anniversaire   182791   Glutenberg Brewing Company   \n",
       "2                      Glutenberg 8   162109   Glutenberg Brewing Company   \n",
       "3   Glutenberg Belge de Saison 2013   204934   Glutenberg Brewing Company   \n",
       "4   Glutenberg Belge de Saison 2014   253815   Glutenberg Brewing Company   \n",
       "\n",
       "   brewery_id                  style   abv                 date  \\\n",
       "0       25260   India Pale Ale (IPA)   6.6  2016-07-26 10:00:00   \n",
       "1       13241        Specialty Grain   7.5  2013-07-14 10:00:00   \n",
       "2       13241        Specialty Grain   5.0  2014-10-04 10:00:00   \n",
       "3       13241                 Saison   7.0  2013-02-21 11:00:00   \n",
       "4       13241                 Saison   7.0  2014-04-22 10:00:00   \n",
       "\n",
       "        user_name  user_id  appearance  aroma  palate  taste  overall  rating  \\\n",
       "0   CacheManyHose   282160           3      7       2      6       14     3.2   \n",
       "1        BiereLuc   131174           3      7       3      8       16     3.7   \n",
       "2        BiereLuc   131174           3      7       2      7       15     3.4   \n",
       "3        BiereLuc   131174           3      8       3      8       18     4.0   \n",
       "4        BiereLuc   131174           3      6       3      7       15     3.4   \n",
       "\n",
       "                                                text   location  year  \n",
       "0   Drank at Home: Eat To Live cafe. Floral hop n...  Hong Kong  2016  \n",
       "1   Bière cuivrée. Nez houblon-caramel. En bouche...     Canada  2013  \n",
       "2   En fouillant dans mes carnets, je suis retomb...     Canada  2014  \n",
       "3   (Version 2013, recette différente) - Belle co...     Canada  2013  \n",
       "4   Bière couleur paille, limpide et mousseuse. L...     Canada  2014  "
      ]
     },
     "execution_count": 9,
     "metadata": {},
     "output_type": "execute_result"
    }
   ],
   "source": [
    "# read in the glutenfree beers\n",
    "rb_gf_ratings=pd.read_csv(os.path.join(DATA_RateBeer, 'rb_gf_ratings.csv'), low_memory=False, encoding='utf-8')\n",
    "# convert the unicodes\n",
    "#rb_gf_ratings['text'] = unicode_conversion(rb_gf_ratings['text']) # is not needed if full data is clean already\n",
    "print(\"# of samples: \", len(rb_gf_ratings))\n",
    "print(rb_gf_ratings.columns)\n",
    "rb_gf_ratings.head()"
   ]
  },
  {
   "cell_type": "code",
   "execution_count": 12,
   "metadata": {},
   "outputs": [
    {
     "data": {
      "text/plain": [
       "' Bottle (341 ml) at home. Murky reddish-brown with a large off-white head leaving good lacing. Aroma is herbal, minty and fir with toasted notes and buckwheat. Taste is moderately sweet with loads of herbalness and fir, mint, buckwheat, toasted caramel malts and moderate bitterness. Medium body. High carbonation. Mouthfeel is fluffy and creamy despite the high carbonation. Finish is harsh with lingering minty and fir notes. Some alcohol warmth as well. Contrary to many Barley Wine, this Buckwheat Wine isn’t undrinkable because of the high alcohol and sweetness but is undrinkable because of the strong herbalness and fir presence. I couldn’t drink more than a few sips.'"
      ]
     },
     "metadata": {},
     "output_type": "display_data"
    }
   ],
   "source": [
    "# testing of the text format, can skip\n",
    "for i in range(798, 799):\n",
    "    display(rb_gf_ratings['text'][i])"
   ]
  },
  {
   "cell_type": "code",
   "execution_count": 35,
   "metadata": {},
   "outputs": [
    {
     "name": "stderr",
     "output_type": "stream",
     "text": [
      "100%|██████████| 3770/3770 [01:55<00:00, 32.67it/s]\n"
     ]
    }
   ],
   "source": [
    "# needs about 20s for 1000 rows\n",
    "rb_gf_languages = []\n",
    "for row in tqdm(range(len(rb_gf_ratings))):\n",
    "    doc = nlp(rb_gf_ratings['text'][row])\n",
    "    rb_gf_languages.append(doc._.language['language']) "
   ]
  },
  {
   "cell_type": "code",
   "execution_count": 36,
   "metadata": {},
   "outputs": [
    {
     "data": {
      "text/plain": [
       "81.45888594164457"
      ]
     },
     "execution_count": 36,
     "metadata": {},
     "output_type": "execute_result"
    }
   ],
   "source": [
    "# test how much en is in lang_result_BA\n",
    "rb_gf_languages.count('en') / len(rb_gf_languages) * 100"
   ]
  },
  {
   "cell_type": "code",
   "execution_count": 37,
   "metadata": {},
   "outputs": [
    {
     "data": {
      "image/png": "[encoded data removed]",
      "text/plain": [
       "<Figure size 640x480 with 1 Axes>"
      ]
     },
     "metadata": {},
     "output_type": "display_data"
    }
   ],
   "source": [
    "# display the distribution of languages\n",
    "sns.set_theme(style=\"darkgrid\")\n",
    "ax = sns.countplot(x=rb_gf_languages)\n",
    "ax.set_title('Distribution of languages in RB reviews')\n",
    "# set y-axis to log scale\n",
    "ax.set_yscale('log')\n",
    "ax.set_xlabel('Language')\n",
    "ax.set_ylabel('Number of reviews')\n",
    "plt.show()"
   ]
  },
  {
   "cell_type": "code",
   "execution_count": 38,
   "metadata": {},
   "outputs": [],
   "source": [
    "# display all languages but english\n",
    "rb_gf_languages_without_en = [lang for lang in rb_gf_languages if lang != 'en']"
   ]
  },
  {
   "cell_type": "code",
   "execution_count": 40,
   "metadata": {},
   "outputs": [
    {
     "data": {
      "image/png": "[encoded data removed]",
      "text/plain": [
       "<Figure size 640x480 with 1 Axes>"
      ]
     },
     "metadata": {},
     "output_type": "display_data"
    }
   ],
   "source": [
    "# display the distribution of languages without english\n",
    "sns.set_theme(style=\"darkgrid\")\n",
    "ax = sns.countplot(x=rb_gf_languages_without_en)\n",
    "ax.set_title('Distribution of languages in RB reviews without english')\n",
    "ax.set_xlabel('Language')\n",
    "ax.set_ylabel('Number of reviews')\n",
    "ax.set_yscale('log')\n",
    "plt.show()"
   ]
  },
  {
   "cell_type": "markdown",
   "metadata": {},
   "source": [
    "### Proceed the nlp analysis"
   ]
  },
  {
   "cell_type": "code",
   "execution_count": 9,
   "metadata": {},
   "outputs": [],
   "source": [
    "# reset the nlp pipeline\n",
    "# add multiple language models\n",
    "language_models = {\n",
    "    'en': spacy.load('en_core_web_sm'),\n",
    "    'fr': spacy.load('fr_core_news_sm')\n",
    "}"
   ]
  },
  {
   "cell_type": "code",
   "execution_count": 11,
   "metadata": {},
   "outputs": [],
   "source": [
    "rb_gf_ratings = pd.read_csv(os.path.join(DATA_RateBeer, 'rb_gf_ratings.csv'), low_memory=False, encoding='utf-8')"
   ]
  },
  {
   "cell_type": "code",
   "execution_count": 12,
   "metadata": {},
   "outputs": [],
   "source": [
    "# test on first 100 reviews\n",
    "rb_gf_ratings_sample = rb_gf_ratings.iloc[:100]"
   ]
  },
  {
   "cell_type": "code",
   "execution_count": 13,
   "metadata": {},
   "outputs": [
    {
     "name": "stdout",
     "output_type": "stream",
     "text": [
      "en {'take', 'various', 'give', 'between', 'or', 'yet', 'wherever', 'their', 'indeed', 'you', 'seem', 'a', 'other', 'even', 'though', 'sometimes', 'well', 'empty', 'side', \"n't\", 'perhaps', 'was', 'nobody', 'twenty', 'beyond', 'sometime', 'only', 'would', 'someone', 'own', \"'ll\", 'herself', 'via', '‘d', 'seemed', 'nowhere', 'she', '’m', 'do', 'thereupon', 'behind', 'hereafter', 'n‘t', \"'s\", 'hundred', 'towards', 'five', 'within', 'namely', 'we', \"'m\", 'six', 'and', 'move', 'whereupon', 'besides', 'first', 'each', 'it', 'cannot', 'could', 'almost', 'its', 'with', 'else', 'toward', 'very', 'around', '‘s', 'hence', 'beforehand', 'who', 'top', '’s', 'is', 'two', 'latterly', 'nothing', 'been', 'our', 'therein', \"'ve\", 'please', 'three', 'get', 'moreover', 'eight', '’ve', 'when', 'however', 'all', 'least', 'he', 'thence', 'should', 'herein', 'your', 'really', 'beside', 'ten', 'enough', 'seeming', 're', 'before', 'somehow', 'me', 'are', 'whose', 'of', 'former', 'might', 'becoming', 'below', 'any', 'back', '’d', 'regarding', 'hereupon', 'became', 'ever', 'us', 'in', 'being', 'formerly', 'much', 'made', 'amount', 'for', 'done', 'through', 'also', 'without', 'whither', 'have', 'there', 'thereby', '‘re', 'which', 'noone', 'used', 'everywhere', 'becomes', 'wherein', 'not', 'throughout', 'after', 'sixty', 'fifteen', '’ll', 'meanwhile', 'alone', 'to', 'from', 'rather', 'mostly', 'keep', 'themselves', 'four', 'further', 'as', 'eleven', 'into', 'were', '‘m', 'anyone', 'so', 'quite', 'serious', 'make', 'anywhere', 'his', 'but', 'under', 'except', 'anything', 'twelve', 'how', 'often', 'afterwards', 'say', 'whence', 'see', 'another', 'such', 'every', 'has', 'too', 'where', 'these', 'ca', 'this', 'everything', 'yours', 'can', 'i', 'latter', 'elsewhere', 'whom', 'some', 'about', 'more', 'until', 'otherwise', 'out', 'others', 'front', 'together', 'down', 'part', 'whereas', 'due', 'whereby', 'become', 'mine', 'amongst', 'less', 'bottom', 'along', 'at', 'never', 'off', 'many', 'will', 'then', 'why', 'while', 'what', 'most', 'same', '’re', 'just', 'third', 'show', 'whatever', 'neither', 'be', 'does', 'next', 'seems', 'they', 'few', 'himself', 'myself', 'hers', 'over', 'several', 'whoever', '‘ll', \"'d\", 'onto', 'none', 'either', 'unless', 'something', 'upon', 'now', 'per', 'him', 'my', 'thru', 'here', 'thereafter', 'anyhow', 'yourself', 'than', 'on', 'had', 'itself', 'still', 'doing', 'that', 'full', 'ours', 'n’t', 'again', 'across', 'somewhere', 'everyone', 'above', 'against', 'once', 'yourselves', 'put', 'forty', \"'re\", 'already', 'call', 'no', 'whenever', 'both', 'thus', 'using', 'nevertheless', 'may', 'am', 'whole', 'whether', 'name', 'up', 'the', 'therefore', 'during', '‘ve', 'always', 'because', 'among', 'hereby', 'anyway', 'since', 'although', 'by', 'nor', 'one', 'nine', 'if', 'fifty', 'whereafter', 'ourselves', 'an', 'last', 'her', 'go', 'must', 'did', 'those', 'them'}\n",
      "fr {'j’', 'dessus', 'suivant', 'dedans', 'or', 'importe', 'du', 'que', 'cet', 'vôtre', 'directe', 'elles-mêmes', 'quoique', 'plutot', 'a', 'suivante', 'aura', 'differentes', 'aie', 'ce', 'ouste', 'des', 'nombreuses', 'devant', 'soi', 'eh', 'elle', 'cinq', 'sept', 'suffisante', 'leur', 'y', 'ou', 'entre', 'faisaient', 'troisième', 'excepté', 'sauf', 'douzième', 'pense', 'quatorze', 'toi', 'etre', \"n'\", 'restent', 'celle-la', 'alors', 'lui-meme', 'via', 'son', 'néanmoins', 'par', 'hue', 'leurs', 'semblaient', 'feront', 'suivants', 'déjà', 'desormais', 'eux-mêmes', 'là', 'rend', 'suffisant', 'soit', 'à', 'doit', 'déja', 'outre', 'certaine', 'dès', 'mes', 'première', 'moindres', 'six', 'une', 'tous', 'depuis', 'lequel', 'tel', 'quoi', 'ainsi', 'aupres', 'cela', 'sont', 'avons', 'être', 'nos', 'toute', 'neuvième', 'suit', 'voilà', 'peuvent', 'vas', 'precisement', 'lui', 'après', 'encore', 'treize', 'different', 'lui-même', 'relative', 'anterieur', 'desquelles', 'celles-la', 'telles', 'où', 'précisement', 'vais', 'quant-à-soi', 'sans', 'abord', 'peux', 'aussi', 'seraient', 'comment', 'sinon', 'gens', 'etc', 'qui', 'seules', 'auraient', 'faisant', 'maint', 'suivantes', 'elle-meme', 'huitième', 'debout', 'sent', 'la', 'egalement', 'desquels', 'da', 'revoici', 'ouverte', 'plusieurs', 'dix-neuf', \"quelqu'un\", 'neanmoins', 'était', 'vers', 'tienne', 'lors', 'soixante', 'chacune', \"l'\", 'quinze', 'allons', 'celui-ci', 'mêmes', 'ouverts', 'nouveau', 'quelles', 'jusqu', 'seuls', 'toi-même', 'effet', 'me', 'dix-huit', 'tien', 'pouvait', 'hou', 'anterieure', 'elle-même', 'avant', 'parle', 'siens', 'avais', 'malgre', 'retour', 'suffit', 'etais', 'dix', 'quelques', 'tenant', \"c'\", 'l’', 'semblent', 'deuxième', 'autrement', 'parfois', 'compris', 'nôtres', 'directement', 'uns', 'vous', 'differents', 'quelle', 'ouvert', 'houp', 'car', 'dire', 'derriere', 'avoir', 'dans', 'onzième', 'va', 'ceux', 'spécifiques', 'avec', 'partant', 'n’', 'toutes', 'également', 'proche', 'memes', \"j'\", 'basee', 'celles-ci', 'ces', 'specifiques', 'souvent', 'troisièmement', 'votre', 'façon', 'semble', 'relativement', 'quarante', 'sera', 'hors', 'deux', 'm’', 'de', 'je', 'mon', 'puis', 'ha', 'exactement', 'celles-là', 't’', 'parlent', 'stop', 'ceux-là', 'tiens', 'préalable', 'votres', 'telle', 'tiennes', 'lesquelles', 'qu’', 'premier', 'eux', 'pendant', 'as', 'dixième', 'étaient', 'possible', 'toi-meme', 'tres', 'vé', 'meme', 'semblable', 'toujours', 'différents', 'vôtres', 'chaque', 'parler', 'hé', 'ne', 'vont', 'attendu', 'antérieure', 'celle-ci', 'tes', 'voila', 'au', 'serait', 'deuxièmement', 'est', 'pourquoi', 'durant', 'cette', 'même', 'differente', 'différentes', 'lesquels', 'anterieures', 'etant', 'auquel', 'divers', 'quiconque', 'celle-là', 'vous-mêmes', 'certes', 'o', 'autre', 'quelque', 'ont', \"d'\", 'avait', 'facon', 'mienne', 'parmi', 'certain', 'étant', 'dont', 'revoila', 'diverses', 'certaines', 'na', 'chacun', 'tente', 'es', 'tu', 'ô', 'ci', 'ayant', 'nul', 'i', 'nôtre', 'mien', 'specifique', 'sous', 'pourrais', 'ait', 'moi-meme', 'les', 'ceux-ci', 'touchant', 'celui-la', 'pas', 'seulement', 'avaient', 'moi', 'dit', 'cinquième', 'tant', 'différent', 'suis', 'autrui', 'possibles', 'vingt', 'combien', 'vos', 'sixième', 'elles-memes', 'pour', 'celles', 'si', 'ils', 'â', 'et', 'concernant', 'onze', 'té', 'pu', 'aux', 'celui-là', 'maintenant', 'pourrait', 'hui', 'tellement', 'envers', 'ni', 'allaient', 'dejà', 'revoilà', 'sa', 'certains', 'antérieures', 'unes', 'hormis', 'plus', 'ouias', 'restant', 'tout', 'quatre-vingt', 'quatre', 'premièrement', 'surtout', 'environ', 'soi-meme', 'fais', \"m'\", 'longtemps', 'd’', 'eu', 'malgré', 'parce', 'jusque', 'personne', 'près', 'il', 'apres', 'quatrième', 'dix-sept', 'notamment', \"t'\", 'ah', 'cinquantième', 'c’', 'siennes', 'quant', 'seule', 'autres', 'cinquante', 'miens', 'font', 'peu', 'trente', 'etait', 'seul', 'mille', 'dite', 'rendre', 'cependant', 'dits', 'donc', 'laquelle', 'vu', 'en', 'afin', 'quatrièmement', 'ho', 'ai', 'hep', 'le', 'quelconque', 'prealable', 'cent', 'dehors', 'dessous', 'huit', 'hem', 'hi', 'celle', 'ça', 'on', 'trois', 'laisser', 'pres', 'tenir', 'désormais', 'lorsque', 'suivre', 'permet', 'plutôt', 'comme', 'ton', 'etaient', 'seront', 'bat', \"qu'\", 'procedant', 'reste', 'lès', 'aurait', 'bas', 'juste', 'peut', 'derrière', 'elles', 'selon', 'moins', 'te', 'quels', 'cinquantaine', 'chez', 'douze', 'ès', 'enfin', 'ta', 'devers', 'doivent', \"s'\", 'spécifique', 'sait', 'voici', 'deja', 'duquel', 'auxquels', 'miennes', 'seize', 'notre', 'assez', 'quel', 'devra', 'celui', 'auxquelles', 'quand', 'nous', 'nombreux', 'très', 'nous-mêmes', 'tels', 'sienne', 'se', 'diverse', 'un', 'auront', 'ceci', 'différente', 'fait', 'antérieur', 'sien', 'ma', 'soi-même', 'puisque', 's’', 'étais', 'sur', 'mais', 'moi-même', 'ses', 'septième', 'delà', 'merci', 'tend'}\n"
     ]
    }
   ],
   "source": [
    "# print stop words for each language\n",
    "for lang in language_models:\n",
    "    print(lang, language_models[lang].Defaults.stop_words)"
   ]
  },
  {
   "cell_type": "markdown",
   "metadata": {},
   "source": [
    "Run ales' part to establish the nlp pipeline"
   ]
  },
  {
   "cell_type": "code",
   "execution_count": 15,
   "metadata": {},
   "outputs": [
    {
     "name": "stderr",
     "output_type": "stream",
     "text": [
      "  2%|▏         | 2/100 [00:00<00:12,  8.03it/s]"
     ]
    },
    {
     "name": "stderr",
     "output_type": "stream",
     "text": [
      "100%|██████████| 100/100 [00:09<00:00, 10.26it/s]\n"
     ]
    }
   ],
   "source": [
    "review_analysis = pd.DataFrame()\n",
    "for row in tqdm(range(len(rb_gf_ratings_sample))):\n",
    "    review = rb_gf_ratings_sample.iloc[row]['text']\n",
    "    \n",
    "    # assume english\n",
    "    doc = language_models['en'](review)\n",
    "    detected_language = doc._.language\n",
    "    \n",
    "    if detected_language['language'] in language_models.keys():\n",
    "        nlp = language_models[detected_language['language']]\n",
    "        doc = nlp(review)\n",
    "        \n",
    "        # Extract information\n",
    "        tokens = [token.text for token in doc]\n",
    "        # remove stopwords, punctuation, and spaces in tokens\n",
    "        # make all tokens lowercase\n",
    "        tokens_filter = [token.lower() for token in tokens if not nlp.vocab[token].is_stop and not nlp.vocab[token].is_punct and not token.isspace()]\n",
    "        pos_tags = [token.pos_ for token in doc if token.lower_ in tokens_filter]\n",
    "        \n",
    "    else: \n",
    "        print('Language ' + detected_language['language'] + ' not in language models')\n",
    "    # update the dataframe\n",
    "    review_analysis = pd.concat([review_analysis, pd.DataFrame({'review': review, 'tokens': [tokens], 'tokens_filter': [tokens_filter], 'pos_tags': [pos_tags], 'language': [detected_language['language']]})])"
   ]
  },
  {
   "cell_type": "code",
   "execution_count": 17,
   "metadata": {},
   "outputs": [
    {
     "data": {
      "text/html": [
       "<div>\n",
       "<style scoped>\n",
       "    .dataframe tbody tr th:only-of-type {\n",
       "        vertical-align: middle;\n",
       "    }\n",
       "\n",
       "    .dataframe tbody tr th {\n",
       "        vertical-align: top;\n",
       "    }\n",
       "\n",
       "    .dataframe thead th {\n",
       "        text-align: right;\n",
       "    }\n",
       "</style>\n",
       "<table border=\"1\" class=\"dataframe\">\n",
       "  <thead>\n",
       "    <tr style=\"text-align: right;\">\n",
       "      <th></th>\n",
       "      <th>review</th>\n",
       "      <th>tokens</th>\n",
       "      <th>tokens_filter</th>\n",
       "      <th>pos_tags</th>\n",
       "      <th>language</th>\n",
       "    </tr>\n",
       "  </thead>\n",
       "  <tbody>\n",
       "    <tr>\n",
       "      <th>0</th>\n",
       "      <td>Drank at Home: Eat To Live cafe. Floral hop n...</td>\n",
       "      <td>[ , Drank, at, Home, :, Eat, To, Live, cafe, ....</td>\n",
       "      <td>[drank, home, eat, live, cafe, floral, hop, no...</td>\n",
       "      <td>[PROPN, NOUN, VERB, ADJ, NOUN, ADJ, NOUN, NOUN...</td>\n",
       "      <td>en</td>\n",
       "    </tr>\n",
       "    <tr>\n",
       "      <th>0</th>\n",
       "      <td>Bière cuivrée. Nez houblon-caramel. En bouche...</td>\n",
       "      <td>[ , Bière, cuivrée, ., Nez, houblon, -, carame...</td>\n",
       "      <td>[bière, cuivrée, nez, houblon, caramel, bouche...</td>\n",
       "      <td>[NOUN, ADJ, NOUN, PROPN, NOUN, NOUN, X, ADV, A...</td>\n",
       "      <td>fr</td>\n",
       "    </tr>\n",
       "    <tr>\n",
       "      <th>0</th>\n",
       "      <td>En fouillant dans mes carnets, je suis retomb...</td>\n",
       "      <td>[ , En, fouillant, dans, mes, carnets, ,, je, ...</td>\n",
       "      <td>[fouillant, carnets, retombé, notes, dégustati...</td>\n",
       "      <td>[VERB, NOUN, VERB, NOUN, NOUN, PROPN, NUM, NOU...</td>\n",
       "      <td>fr</td>\n",
       "    </tr>\n",
       "    <tr>\n",
       "      <th>0</th>\n",
       "      <td>(Version 2013, recette différente) - Belle co...</td>\n",
       "      <td>[ , (, Version, 2013, ,, recette, différente, ...</td>\n",
       "      <td>[version, 2013, recette, belle, couleur, jaune...</td>\n",
       "      <td>[NOUN, NUM, NOUN, PROPN, NOUN, ADJ, ADJ, ADJ, ...</td>\n",
       "      <td>fr</td>\n",
       "    </tr>\n",
       "    <tr>\n",
       "      <th>0</th>\n",
       "      <td>Bière couleur paille, limpide et mousseuse. L...</td>\n",
       "      <td>[ , Bière, couleur, paille, ,, limpide, et, mo...</td>\n",
       "      <td>[bière, couleur, paille, limpide, mousseuse, n...</td>\n",
       "      <td>[NOUN, NOUN, ADJ, ADJ, ADJ, NOUN, VERB, NOUN, ...</td>\n",
       "      <td>fr</td>\n",
       "    </tr>\n",
       "  </tbody>\n",
       "</table>\n",
       "</div>"
      ],
      "text/plain": [
       "                                              review  \\\n",
       "0   Drank at Home: Eat To Live cafe. Floral hop n...   \n",
       "0   Bière cuivrée. Nez houblon-caramel. En bouche...   \n",
       "0   En fouillant dans mes carnets, je suis retomb...   \n",
       "0   (Version 2013, recette différente) - Belle co...   \n",
       "0   Bière couleur paille, limpide et mousseuse. L...   \n",
       "\n",
       "                                              tokens  \\\n",
       "0  [ , Drank, at, Home, :, Eat, To, Live, cafe, ....   \n",
       "0  [ , Bière, cuivrée, ., Nez, houblon, -, carame...   \n",
       "0  [ , En, fouillant, dans, mes, carnets, ,, je, ...   \n",
       "0  [ , (, Version, 2013, ,, recette, différente, ...   \n",
       "0  [ , Bière, couleur, paille, ,, limpide, et, mo...   \n",
       "\n",
       "                                       tokens_filter  \\\n",
       "0  [drank, home, eat, live, cafe, floral, hop, no...   \n",
       "0  [bière, cuivrée, nez, houblon, caramel, bouche...   \n",
       "0  [fouillant, carnets, retombé, notes, dégustati...   \n",
       "0  [version, 2013, recette, belle, couleur, jaune...   \n",
       "0  [bière, couleur, paille, limpide, mousseuse, n...   \n",
       "\n",
       "                                            pos_tags language  \n",
       "0  [PROPN, NOUN, VERB, ADJ, NOUN, ADJ, NOUN, NOUN...       en  \n",
       "0  [NOUN, ADJ, NOUN, PROPN, NOUN, NOUN, X, ADV, A...       fr  \n",
       "0  [VERB, NOUN, VERB, NOUN, NOUN, PROPN, NUM, NOU...       fr  \n",
       "0  [NOUN, NUM, NOUN, PROPN, NOUN, ADJ, ADJ, ADJ, ...       fr  \n",
       "0  [NOUN, NOUN, ADJ, ADJ, ADJ, NOUN, VERB, NOUN, ...       fr  "
      ]
     },
     "execution_count": 17,
     "metadata": {},
     "output_type": "execute_result"
    }
   ],
   "source": [
    "review_analysis.head()"
   ]
  },
  {
   "cell_type": "code",
   "execution_count": 20,
   "metadata": {},
   "outputs": [
    {
     "name": "stderr",
     "output_type": "stream",
     "text": [
      " 13%|█▎        | 13/100 [00:00<00:00, 120.37it/s]"
     ]
    },
    {
     "name": "stderr",
     "output_type": "stream",
     "text": [
      "100%|██████████| 100/100 [00:01<00:00, 90.79it/s]\n",
      "100%|██████████| 100/100 [00:00<00:00, 9999.06it/s]\n"
     ]
    },
    {
     "data": {
      "text/plain": [
       "[('légère', 36),\n",
       " ('léger', 30),\n",
       " ('white', 30),\n",
       " ('light', 30),\n",
       " ('floral', 29),\n",
       " ('céréales', 28),\n",
       " ('herbeux', 28),\n",
       " ('arrière', 27),\n",
       " ('moyen', 25),\n",
       " ('medium', 21),\n",
       " ('golden', 20),\n",
       " ('spicy', 19),\n",
       " ('érable', 19),\n",
       " ('sweet', 18),\n",
       " ('small', 16),\n",
       " ('moderate', 14),\n",
       " ('decent', 14),\n",
       " ('mousseux', 14),\n",
       " ('dentelle', 14),\n",
       " ('gluten', 12)]"
      ]
     },
     "execution_count": 20,
     "metadata": {},
     "output_type": "execute_result"
    }
   ],
   "source": [
    "# go through all the reviews, count the frequency of adjectives\n",
    "adjectives = []\n",
    "for row in tqdm(range(len(review_analysis))):\n",
    "    adjectives.append([token for token in review_analysis.iloc[row]['tokens_filter'] if review_analysis.iloc[row]['pos_tags'][review_analysis.iloc[row]['tokens_filter'].index(token)] == 'ADJ'])\n",
    "    \n",
    "review_analysis['adjectives'] = adjectives\n",
    "\n",
    "# count the frequency of adjectives\n",
    "adjectives_freq = Counter()\n",
    "for row in tqdm(range(len(review_analysis))):\n",
    "    adjectives_freq.update(review_analysis.iloc[row]['adjectives'])\n",
    "    \n",
    "adjectives_freq.most_common(20)\n",
    "\n",
    "# might need to do lemma or stemming to get the same words together"
   ]
  },
  {
   "cell_type": "markdown",
   "metadata": {},
   "source": [
    "## Temporal analysis of glutenfree beers"
   ]
  },
  {
   "cell_type": "markdown",
   "metadata": {},
   "source": [
    "We first counts the number of reviews per year for gluten free beers."
   ]
  },
  {
   "cell_type": "code",
   "execution_count": null,
   "metadata": {},
   "outputs": [],
   "source": [
    "# plot the number of ratings per year\n",
    "# create a Counter\n",
    "number_rating=Counter(glutenfree['year'])\n",
    "# sort by year\n",
    "number_rating_srt=sorted(number_rating.items(), key=lambda pair: pair[0])"
   ]
  },
  {
   "cell_type": "code",
   "execution_count": null,
   "metadata": {},
   "outputs": [],
   "source": [
    "# make a list of ('year', 'number of ratings') tuples\n",
    "plt.figure(figsize=(10,5))\n",
    "plt.bar([x[0] for x in number_rating_srt], [x[1] for x in number_rating_srt])\n",
    "plt.xlabel('Year')\n",
    "plt.ylabel('Number of ratings')\n",
    "plt.title('Temporal analysis of glutenfree beers worldwide')"
   ]
  },
  {
   "cell_type": "markdown",
   "metadata": {},
   "source": [
    "It showed that the ammount of reviews for gluten-free beers is increasing is the evolution of the popularity of the site? Is it because of the increase of total number of reviews in the dataset?"
   ]
  },
  {
   "cell_type": "code",
   "execution_count": null,
   "metadata": {},
   "outputs": [],
   "source": [
    "#we take all the dates of the ratings, we transform them into 'readable' dates. \n",
    "#So that, we can count how many ratings by year, we have.\n",
    "RB_ratings = pd.read_csv(os.path.join(DATA_RateBeer, 'RB_ratings.csv'))"
   ]
  },
  {
   "cell_type": "code",
   "execution_count": null,
   "metadata": {},
   "outputs": [],
   "source": [
    "RB_ratings['date'].head()\n",
    "# format 2016-04-26 10:00:00\n",
    "# get the year \n",
    "RB_year = RB_ratings['date'].str.split('-').str[0]\n",
    "# make it into int\n",
    "RB_year = RB_year.astype(int)\n",
    "RB_year.head()\n"
   ]
  },
  {
   "cell_type": "code",
   "execution_count": null,
   "metadata": {},
   "outputs": [],
   "source": [
    "# generate a Counter object\n",
    "RB_year_count = Counter(RB_year)\n",
    "# order the Counter object by year\n",
    "RB_year_count_srt = sorted(RB_year_count.items(), key=lambda pair: pair[0])\n",
    "RB_year_count_srt"
   ]
  },
  {
   "cell_type": "code",
   "execution_count": null,
   "metadata": {},
   "outputs": [],
   "source": [
    "# plot the number of ratings per year\n",
    "plt.figure(figsize=(10,5))\n",
    "plt.bar([pair[0] for pair in RB_year_count_srt], [pair[1] for pair in RB_year_count_srt])\n",
    "plt.xlabel('Year')\n",
    "plt.ylabel('Count')\n",
    "plt.title('All beers number of ratings per year')\n",
    "plt.show()"
   ]
  },
  {
   "cell_type": "code",
   "execution_count": null,
   "metadata": {},
   "outputs": [],
   "source": [
    "# get the proportion of glutenfree beers reviews, match the year\n",
    "gluten_free_proportion = []\n",
    "for year, count in number_rating_srt:\n",
    "    if year in RB_year_count.keys():\n",
    "        gluten_free_proportion.append((year, count/RB_year_count[year]))\n",
    "\n",
    "gluten_free_proportion\n"
   ]
  },
  {
   "cell_type": "code",
   "execution_count": null,
   "metadata": {},
   "outputs": [],
   "source": [
    "plt.figure(figsize=(10,5))\n",
    "# plot the proportion of glutenfree beers reviews\n",
    "plt.bar([pair[0] for pair in gluten_free_proportion], [pair[1] for pair in gluten_free_proportion])\n",
    "plt.title('Evolution of the proportion of ratings on glutenfree beers')"
   ]
  },
  {
   "cell_type": "markdown",
   "metadata": {},
   "source": [
    "It shows that the increase of gluten-free beers reviews is not due to the increase of the total number of reviews in the dataset."
   ]
  },
  {
   "cell_type": "markdown",
   "metadata": {},
   "source": [
    "Next we will look at the yearly statistics of some of the metrics."
   ]
  },
  {
   "cell_type": "code",
   "execution_count": null,
   "metadata": {},
   "outputs": [],
   "source": [
    "year_mean=glutenfree[['rating','year', 'appearance','aroma','palate','taste','overall']].groupby('year').mean()\n",
    "year_std=glutenfree[['rating','year', 'appearance','aroma','palate','taste','overall']].groupby('year').std()\n",
    "year_sem=glutenfree[['rating','year', 'appearance','aroma','palate','taste','overall']].groupby('year').sem()\n",
    "year_mean"
   ]
  },
  {
   "cell_type": "code",
   "execution_count": null,
   "metadata": {},
   "outputs": [],
   "source": [
    "#We choose to keep only data after 2010, because before 2010, we have not enough data to do statistics\n",
    "after_2010_mean=year_mean[year_mean.index>=2010]\n",
    "after_2010_std=year_std[year_std.index>=2010]\n",
    "after_2010_sem=year_sem[year_sem.index>=2010]\n"
   ]
  },
  {
   "cell_type": "code",
   "execution_count": null,
   "metadata": {},
   "outputs": [],
   "source": [
    "for item in after_2010_mean.columns:\n",
    "    plt.plot(after_2010_mean.index, after_2010_mean[item])\n",
    "    plt.fill_between(after_2010_mean.index, after_2010_mean[item] - 1.96 * after_2010_sem[item], \n",
    "                         after_2010_mean[item] + 1.96 *after_2010_sem[item], alpha=0.25\n",
    "                         , color=\"tab:blue\")\n",
    "    plt.title(item)\n",
    "    plt.show()"
   ]
  },
  {
   "cell_type": "markdown",
   "metadata": {},
   "source": [
    "## Evolution of the number of ratings of glutenfree beers in function of the location"
   ]
  },
  {
   "cell_type": "code",
   "execution_count": null,
   "metadata": {},
   "outputs": [],
   "source": [
    "#we group united states and europeans countries together\n",
    "united_states=glutenfree[glutenfree['location'].str.contains('United States',case=False, na=False)]\n",
    "european_countries = ['France', 'Germany', 'Italy', 'Spain', 'United Kingdom', 'Sweden', 'Norway', 'Denmark']\n",
    "\n",
    "europe= glutenfree[glutenfree['location'].isin(european_countries)]\n",
    "\n",
    "canada=glutenfree[glutenfree['location']==\"Canada\"]\n"
   ]
  },
  {
   "cell_type": "code",
   "execution_count": null,
   "metadata": {},
   "outputs": [],
   "source": [
    "uni=united_states.groupby('year')['beer_name'].count()\n",
    "eur=europe.groupby('year')['beer_name'].count()\n",
    "can=canada.groupby('year')['beer_name'].count()"
   ]
  },
  {
   "cell_type": "code",
   "execution_count": null,
   "metadata": {},
   "outputs": [],
   "source": [
    "plt.bar(uni.index, uni,label='United States')\n",
    "plt.title('Number of ratings per year in the United States')"
   ]
  },
  {
   "cell_type": "code",
   "execution_count": null,
   "metadata": {},
   "outputs": [],
   "source": [
    "plt.bar(eur.index, eur)\n",
    "plt.title('Number of ratings per year in Europe')"
   ]
  },
  {
   "cell_type": "code",
   "execution_count": null,
   "metadata": {},
   "outputs": [],
   "source": [
    "plt.bar(can.index, can)\n",
    "plt.title('Number of ratings per year in Canada')"
   ]
  },
  {
   "cell_type": "markdown",
   "metadata": {},
   "source": [
    "## Elementary analysis on vocabulary employed to describe glutenfree beers"
   ]
  },
  {
   "cell_type": "markdown",
   "metadata": {},
   "source": [
    "After temporal EDA, the next step is to briefly analyze the vocabulary used to describe gluten-free beers. The capability to investigate vocabulary frequency would allow us to understand if there are some specific words that are used to describe gluten-free beers."
   ]
  },
  {
   "cell_type": "code",
   "execution_count": null,
   "metadata": {},
   "outputs": [],
   "source": [
    "text=glutenfree.groupby('year')['text'].sum()\n",
    "text"
   ]
  },
  {
   "cell_type": "code",
   "execution_count": null,
   "metadata": {},
   "outputs": [],
   "source": [
    "# Load the English language model\n",
    "nlp = spacy.load('en_core_web_sm')"
   ]
  },
  {
   "cell_type": "code",
   "execution_count": null,
   "metadata": {},
   "outputs": [],
   "source": [
    "for i in range(2006,2017):\n",
    "    data=text.get(i, '')\n",
    "    doc = nlp(data)\n",
    "    \n",
    "    cleaned_tokens = [token.text.strip() for token in doc if not (token.is_stop or token.is_punct or token.text.isspace())]\n",
    "    word_freq = Counter(cleaned_tokens)\n",
    "    wordcloud = WordCloud(width=800, height=400, background_color='white').generate_from_frequencies(word_freq)\n",
    "\n",
    "    plt.figure(figsize=(10, 5))\n",
    "    plt.imshow(wordcloud, interpolation='bilinear')\n",
    "    plt.title(f'year = {i}')\n",
    "    plt.axis(\"off\")\n",
    "    plt.show()"
   ]
  },
  {
   "cell_type": "markdown",
   "metadata": {},
   "source": [
    "We have to do deeper analysis for the P3: the next step is to keep only adjectives, that are more meaningful, and then do further ananlysis based on these adajectives."
   ]
  },
  {
   "cell_type": "code",
   "execution_count": null,
   "metadata": {},
   "outputs": [],
   "source": [
    "data=text.get(2006, '')\n",
    "doc = nlp(data)\n",
    "    \n",
    "#We clean tokens\n",
    "cleaned_tokens = [token.text.strip() for token in doc if not (token.is_stop or token.is_punct or token.text.isspace())]\n",
    "word_freq = Counter(cleaned_tokens)\n",
    "dim=len(cleaned_tokens)\n",
    "#keep only tokens that appear more than 2 times\n",
    "subset = {key: counter for key, counter in word_freq.items() if counter >= 2}\n",
    "word=pd.DataFrame([subset])/dim\n",
    "\n",
    "#do this for all the years and concatenate informations into 'word'\n",
    "for i in range(2007,2017):\n",
    "    data=text.get(i, '')\n",
    "    doc = nlp(data)\n",
    "        \n",
    "    cleaned_tokens = [token.text.strip() for token in doc if not (token.is_stop or token.is_punct or token.text.isspace())]\n",
    "    word_freq = Counter(cleaned_tokens)\n",
    "    dim=len(cleaned_tokens)\n",
    "    subset = {key: counter for key, counter in word_freq.items() if counter >= 2}\n",
    "    w=pd.DataFrame([subset])/dim\n",
    "    word = pd.concat([word, w], ignore_index=True)\n",
    "    \n",
    "word"
   ]
  },
  {
   "cell_type": "markdown",
   "metadata": {},
   "source": [
    "The rows represents years from 2006, and for each words that often appear, we report its frequency yearly."
   ]
  },
  {
   "cell_type": "code",
   "execution_count": null,
   "metadata": {},
   "outputs": [],
   "source": [
    "each_year=word.T\n",
    "each_year['na']=each_year.isna().sum(axis=1)\n",
    "each_year['na']"
   ]
  },
  {
   "cell_type": "code",
   "execution_count": null,
   "metadata": {},
   "outputs": [],
   "source": [
    "# to do a temporal analysis, we keep only words that appear during several years\n",
    "interest=each_year[each_year['na']<3]\n",
    "interest"
   ]
  },
  {
   "cell_type": "code",
   "execution_count": null,
   "metadata": {},
   "outputs": [],
   "source": [
    "#We aim to analyze whether certain words exhibit significant variability in their frequency of appearance.\n",
    "interest['std']=interest.std(axis=1)\n",
    "wanted=interest[interest['std']>0.6]\n",
    "wanted.sort_values(by='std', ascending=False)\n",
    "wanted.T"
   ]
  },
  {
   "cell_type": "code",
   "execution_count": null,
   "metadata": {},
   "outputs": [],
   "source": [
    "#look at this words\n",
    "wanted.T.columns"
   ]
  },
  {
   "cell_type": "code",
   "execution_count": null,
   "metadata": {},
   "outputs": [],
   "source": [
    "#plot the evolutions of the frequencies of appearance of some interesting words\n",
    "wanted.T['strange'].iloc[:11].plot(kind='bar')"
   ]
  },
  {
   "cell_type": "code",
   "execution_count": null,
   "metadata": {},
   "outputs": [],
   "source": [
    "wanted.T['Sweet'].iloc[:11].plot(kind='bar')"
   ]
  },
  {
   "cell_type": "code",
   "execution_count": null,
   "metadata": {},
   "outputs": [],
   "source": [
    "wanted.T['bad'].iloc[:11].plot(kind='bar')"
   ]
  },
  {
   "cell_type": "markdown",
   "metadata": {},
   "source": [
    "The analysis, we conduct, is just an introduction to see what we could do to identify 'BOBO'. We would proceed the \"Fanciness analysis\" for the next milestone."
   ]
  },
  {
   "cell_type": "markdown",
   "metadata": {},
   "source": [
    "## Diversity of beer style "
   ]
  },
  {
   "cell_type": "code",
   "execution_count": null,
   "metadata": {},
   "outputs": [],
   "source": [
    "\n",
    "beers=pd.read_csv(os.path.join(DATA_RateBeer, 'beers.csv'))\n",
    "breweries=pd.read_csv(os.path.join(DATA_RateBeer, 'breweries.csv'))"
   ]
  },
  {
   "cell_type": "code",
   "execution_count": null,
   "metadata": {},
   "outputs": [],
   "source": [
    "glutenfree_style=glutenfree.groupby('style')['beer_name'].count()\n",
    "glutenfree_style.plot(kind='bar')"
   ]
  },
  {
   "cell_type": "code",
   "execution_count": null,
   "metadata": {},
   "outputs": [],
   "source": [
    "glutenfree_style"
   ]
  },
  {
   "cell_type": "code",
   "execution_count": null,
   "metadata": {},
   "outputs": [],
   "source": [
    "total_style=beers.groupby('style')['beer_name'].count()\n",
    "nb_style_beer=len(total_style)"
   ]
  },
  {
   "cell_type": "code",
   "execution_count": null,
   "metadata": {},
   "outputs": [],
   "source": [
    "print(f'It exists {len(glutenfree_style)} different styles of beer among gluten-free beers.')\n",
    "print(f'In the entire dataset, we count {nb_style_beer} different styles of beer.')"
   ]
  },
  {
   "cell_type": "code",
   "execution_count": null,
   "metadata": {},
   "outputs": [],
   "source": [
    "print(f'percentage of gluten_free beers : {len(glutenfree.index)/len(beers.index)*100}')"
   ]
  },
  {
   "cell_type": "markdown",
   "metadata": {},
   "source": [
    "## Does glutenfree beers are more appreciated than other beers?\n",
    "We will keep users that evaluated a similar number of glutenfree beer and non glutenfree beers to compare the grades between glutenfree and non glutenfree_beer\n"
   ]
  },
  {
   "cell_type": "code",
   "execution_count": null,
   "metadata": {},
   "outputs": [],
   "source": [
    "# get user id from the glutenfree dataset\n",
    "users = pd.read_csv(os.path.join(DATA_RateBeer, 'users.csv'))\n",
    "user_id = RB_ratings['user_id']\n",
    "user_id.head()"
   ]
  },
  {
   "cell_type": "code",
   "execution_count": null,
   "metadata": {},
   "outputs": [],
   "source": [
    "nb_ratings=glutenfree.groupby('user_id')['user_name'].count()\n",
    "nb_ratings=pd.DataFrame(nb_ratings)\n",
    "nb_ratings.rename(columns={'user_name':'nb_ratings_glutenfree'}, inplace=True)\n",
    "nb_ratings"
   ]
  },
  {
   "cell_type": "code",
   "execution_count": null,
   "metadata": {},
   "outputs": [],
   "source": [
    "users_ratings=users[['nbr_ratings', 'user_id']]\n",
    "users_ratings.set_index('user_id', inplace=True)\n",
    "users_ratings"
   ]
  },
  {
   "cell_type": "code",
   "execution_count": null,
   "metadata": {},
   "outputs": [],
   "source": [
    "gluten_users=pd.merge(users_ratings,nb_ratings, how='right', on='user_id')\n",
    "gluten_users"
   ]
  },
  {
   "cell_type": "code",
   "execution_count": null,
   "metadata": {},
   "outputs": [],
   "source": [
    "#We keep only users that have rated  a similar number of conentional beer and glutenfree beers\n",
    "keep=gluten_users[(gluten_users['nbr_ratings']<=3*gluten_users['nb_ratings_glutenfree'])& (gluten_users['nbr_ratings']>gluten_users['nb_ratings_glutenfree'])]\n",
    "print(keep['nbr_ratings'].sum())\n",
    "print(keep['nb_ratings_glutenfree'].sum())"
   ]
  },
  {
   "cell_type": "code",
   "execution_count": null,
   "metadata": {},
   "outputs": [],
   "source": [
    "#Now, we will recover the corresponding ratings of these users\n",
    "positions_gluten = np.where(np.isin(users_id, keep.index.to_numpy()))[0]\n"
   ]
  },
  {
   "cell_type": "code",
   "execution_count": null,
   "metadata": {},
   "outputs": [],
   "source": [
    "positions_gluten[1:10]"
   ]
  },
  {
   "cell_type": "code",
   "execution_count": null,
   "metadata": {},
   "outputs": [],
   "source": [
    "len(positions_gluten)"
   ]
  },
  {
   "cell_type": "code",
   "execution_count": null,
   "metadata": {},
   "outputs": [],
   "source": [
    "#we calculate the numbers of lines in the rating.txt file on which we have the corresponding ratings\n",
    "positions_gluten*=17\n",
    "lines_to_keep_gluten=[]\n",
    "for i in range(17):\n",
    "    lines_to_keep_gluten+=[element + i for element in positions_gluten]\n",
    "lines_to_keep_gluten.sort()\n",
    "lines_to_keep_gluten[1:10]"
   ]
  },
  {
   "cell_type": "code",
   "execution_count": null,
   "metadata": {},
   "outputs": [],
   "source": [
    "input_file_path = 'ratings.txt'\n",
    "output_file_path = 'glutenfree_users.txt'\n",
    "#We read these line and put it into a new file: glutenfree_users.txt\n",
    "import linecache\n",
    "with  open(output_file_path, 'w') as output_file:\n",
    "    for line_number in lines_to_keep_gluten:\n",
    "        line = linecache.getline(input_file_path, line_number)\n",
    "        output_file.write(line)\n",
    "# Close the output file\n",
    "output_file.close()"
   ]
  },
  {
   "cell_type": "code",
   "execution_count": null,
   "metadata": {},
   "outputs": [],
   "source": [
    "#from the text file, we have just created, we create a csv file with the corresponding ratings\n",
    "import pandas as pd\n",
    "columns_name = ['beer_name', 'beer_id', 'brewery_name', 'brewery_id',\n",
    "                'style', 'abv', 'date', 'user_name', 'user_id', 'appearance',\n",
    "                'aroma', 'palate', 'taste', 'overall', 'rating', 'text']\n",
    "\n",
    "# Create an empty DataFrame with the specified column names\n",
    "df = pd.DataFrame(columns=columns_name)\n",
    "\n",
    "with open('glutenfree_users.txt', 'r') as file:\n",
    "    data = {}\n",
    "    for i, line in enumerate(file):\n",
    "        if i % 17 == 0:\n",
    "            # This is the last line of a group, so add the data to the DataFrame\n",
    "            #df = pd.concat([df, pd.DataFrame(data)], ignore_index=True)\n",
    "            df = df._append(data, ignore_index=True)\n",
    "            data = {}\n",
    "        else:\n",
    "            #print(line)\n",
    "            # Split the line at the first ':' and assign the values to the corresponding column\n",
    "            key, value = line.strip().split(':', 1)\n",
    "            data[columns_name[i % 17 - 1]] = value"
   ]
  },
  {
   "cell_type": "code",
   "execution_count": null,
   "metadata": {},
   "outputs": [],
   "source": [
    "csv_file_path = 'glutenfree_users.csv'  \n",
    "df.to_csv(csv_file_path, index=False) "
   ]
  },
  {
   "cell_type": "code",
   "execution_count": null,
   "metadata": {},
   "outputs": [],
   "source": [
    "users_glutenfree=pd.read_csv('glutenfree_users.csv')"
   ]
  },
  {
   "cell_type": "markdown",
   "metadata": {},
   "source": [
    "Let's first analyse if glutenfree beers are more appreciated than beers with gluten"
   ]
  },
  {
   "cell_type": "code",
   "execution_count": null,
   "metadata": {},
   "outputs": [],
   "source": [
    "# The dataframe contains conventional beers and glutenfree beers, so we have a colomn indicating if the beer is glutenfree or not\n",
    "users_glutenfree['glutenfree']=users_glutenfree['beer_name'].str.contains('gluten', case=False, na=False)\n",
    "users_glutenfree.dropna(inplace=True)  "
   ]
  },
  {
   "cell_type": "code",
   "execution_count": null,
   "metadata": {},
   "outputs": [],
   "source": [
    "users_glutenfree['glutenfree']"
   ]
  },
  {
   "cell_type": "code",
   "execution_count": null,
   "metadata": {},
   "outputs": [],
   "source": [
    "users_glutenfree['glutenfree'].sum()"
   ]
  },
  {
   "cell_type": "code",
   "execution_count": null,
   "metadata": {},
   "outputs": [],
   "source": [
    "glutenfree=users_glutenfree[users_glutenfree['glutenfree']]\n",
    "gluten=users_glutenfree[~users_glutenfree['glutenfree']]\n",
    "gluten"
   ]
  },
  {
   "cell_type": "code",
   "execution_count": null,
   "metadata": {},
   "outputs": [],
   "source": [
    "glu=gluten[['appearance','aroma','palate','taste', 'overall','rating']]\n",
    "freeglu=glutenfree[['appearance','aroma','palate','taste', 'overall','rating']]"
   ]
  },
  {
   "cell_type": "code",
   "execution_count": null,
   "metadata": {},
   "outputs": [],
   "source": [
    "import matplotlib.pyplot as plt\n",
    "import seaborn as sns\n",
    "\n",
    "fig, axs = plt.subplots(len(glu.columns), figsize=(10,10))\n",
    "fig.suptitle('Gluten/Glutenfree')\n",
    "\n",
    "for i,column in enumerate(glu.columns):\n",
    "    sns.histplot(glu[column].dropna(), stat='density', kde=True, color='blue', label='gluten', ax=axs[i])\n",
    "    sns.histplot(freeglu[column].dropna(), stat='density', kde=True, color='green', label='glutenfree', ax=axs[i])\n",
    "    #axs[i].set_title(column)\n",
    "    axs[i].legend()\n",
    "plt.subplots_adjust(wspace=0.5, hspace=0.5)"
   ]
  },
  {
   "cell_type": "code",
   "execution_count": null,
   "metadata": {},
   "outputs": [],
   "source": [
    "from statsmodels.stats import diagnostic\n",
    "# does the data come from a normal distrbution?\n",
    "diagnostic.kstest_normal(glutenfree['aroma'].values, dist = 'norm')"
   ]
  },
  {
   "cell_type": "code",
   "execution_count": null,
   "metadata": {},
   "outputs": [],
   "source": [
    "from scipy.stats import ttest_ind\n",
    "ttest=pd.DataFrame(columns=['Topic','T_stat','P_value'])\n",
    "for col in glu.columns:\n",
    "    t_stat, p_value = ttest_ind(glu[col], freeglu[col])\n",
    "    ttest.loc[len(ttest)]={'Topic':col,'T_stat':t_stat,'P_value':p_value}\n",
    "ttest"
   ]
  },
  {
   "cell_type": "markdown",
   "metadata": {},
   "source": [
    "Glutenfree beers seem to affect the taste!"
   ]
  },
  {
   "cell_type": "code",
   "execution_count": null,
   "metadata": {},
   "outputs": [],
   "source": [
    "for col in glu.columns:\n",
    "    sns.barplot(x=\"glutenfree\", y=col, data=users_glutenfree, )\n",
    "    plt.show()"
   ]
  },
  {
   "cell_type": "markdown",
   "metadata": {},
   "source": [
    "The taste seems to be the most affected parameter (negative impact)"
   ]
  },
  {
   "cell_type": "markdown",
   "metadata": {},
   "source": [
    "Since the data is not normally distributed, I propose to do mannwhitneyu test to complete the t-test"
   ]
  },
  {
   "cell_type": "code",
   "execution_count": null,
   "metadata": {},
   "outputs": [],
   "source": [
    "from scipy.stats import mannwhitneyu\n",
    "\n",
    "correlations=pd.DataFrame(columns=['topic','statistic','pvalue'])\n",
    "\n",
    "for column in glu.columns:\n",
    "    x = glu[column]\n",
    "    y = freeglu[column]\n",
    "\n",
    "    # Perform the Mann-Whitney U test\n",
    "    statistic, p_value = mannwhitneyu(x, y)\n",
    "\n",
    "    correlations.loc[len(correlations)] = {'topic': column, 'statistic': statistic, 'pvalue': p_value}\n",
    "\n",
    "print(correlations)\n"
   ]
  },
  {
   "cell_type": "markdown",
   "metadata": {},
   "source": [
    "There is significant difference between gluten and glutenfree beers in terms of taste!"
   ]
  },
  {
   "cell_type": "code",
   "execution_count": null,
   "metadata": {},
   "outputs": [],
   "source": [
    "users_glutenfree['glutenfree']=users_glutenfree['glutenfree'].astype(int)"
   ]
  },
  {
   "cell_type": "code",
   "execution_count": null,
   "metadata": {},
   "outputs": [],
   "source": [
    "import statsmodels.api as sm\n",
    "import statsmodels.formula.api as smf\n",
    "import numpy as np\n",
    "mod = smf.ols(formula='rating ~ appearance + aroma + palate+ taste + overall+C(glutenfree)', data=users_glutenfree)\n",
    "np.random.seed(2)\n",
    "res = mod.fit()\n",
    "print(res.summary())"
   ]
  },
  {
   "cell_type": "code",
   "execution_count": null,
   "metadata": {},
   "outputs": [],
   "source": [
    "mod = smf.ols(formula='rating ~ appearance + aroma + palate+ taste + overall', data=users_glutenfree)\n",
    "np.random.seed(2)\n",
    "res = mod.fit()\n",
    "print(res.summary())"
   ]
  },
  {
   "cell_type": "markdown",
   "metadata": {},
   "source": [
    "The aroma, palate, taste and overall are very correlated with the rating as expected!\n",
    "By adding information about the presence or absence of gluten, we don't explain much more the outcome!"
   ]
  },
  {
   "cell_type": "code",
   "execution_count": null,
   "metadata": {},
   "outputs": [],
   "source": [
    "mod = smf.ols(formula='taste ~ C(glutenfree)', data=users_glutenfree)\n",
    "res = mod.fit()\n",
    "print(res.summary())"
   ]
  },
  {
   "cell_type": "code",
   "execution_count": null,
   "metadata": {},
   "outputs": [],
   "source": [
    "plt.scatter(users_glutenfree['glutenfree'],users_glutenfree['taste'])\n",
    "b=res.params.values[0]\n",
    "a=res.params.values[1]\n",
    "x=np.linspace(0,1,30)\n",
    "plt.plot(x, a*x+b)"
   ]
  },
  {
   "cell_type": "code",
   "execution_count": null,
   "metadata": {},
   "outputs": [],
   "source": [
    "sns.boxplot(x=\"glutenfree\", y=\"taste\", data=users_glutenfree)"
   ]
  },
  {
   "cell_type": "code",
   "execution_count": null,
   "metadata": {},
   "outputs": [],
   "source": [
    "norm=pd.DataFrame()\n",
    "# how we standardize the countinuous variables\n",
    "\n",
    "norm['appearance'] = (users_glutenfree['appearance'] - users_glutenfree['appearance'].mean())/users_glutenfree['appearance'].std()\n",
    "norm['taste'] = (users_glutenfree['taste'] - users_glutenfree['taste'].mean())/users_glutenfree['taste'].std()\n",
    "norm['palate'] = (users_glutenfree['palate'] - users_glutenfree['palate'].mean())/users_glutenfree['palate'].std()\n",
    "norm['aroma'] = (users_glutenfree['aroma'] - users_glutenfree['aroma'].mean())/users_glutenfree['aroma'].std()\n",
    "norm['overall'] = (users_glutenfree['overall'] - users_glutenfree['overall'].mean())/users_glutenfree['overall'].std()\n",
    "norm['rating'] = (users_glutenfree['rating'] - users_glutenfree['rating'].mean())/users_glutenfree['rating'].std()\n",
    "norm['glutenfree']=users_glutenfree['glutenfree']"
   ]
  },
  {
   "cell_type": "code",
   "execution_count": null,
   "metadata": {},
   "outputs": [],
   "source": [
    "norm"
   ]
  },
  {
   "cell_type": "code",
   "execution_count": null,
   "metadata": {},
   "outputs": [],
   "source": [
    "# logistic regression to predict if the beer is glutenfree given ratings\n",
    "\n",
    "mod = smf.logit(formula='glutenfree~  appearance+ taste + palate + \\\n",
    "                        aroma + overall', data=norm)\n",
    "res = mod.fit()\n",
    "print(res.summary())"
   ]
  },
  {
   "cell_type": "code",
   "execution_count": null,
   "metadata": {},
   "outputs": [],
   "source": [
    "mod = smf.logit(formula='glutenfree~ taste + aroma ', data=norm)\n",
    "res = mod.fit()\n",
    "print(res.summary())"
   ]
  },
  {
   "cell_type": "markdown",
   "metadata": {},
   "source": [
    "Glutenfree beers seem to affect the aroma and the taste of the beer!"
   ]
  },
  {
   "cell_type": "markdown",
   "metadata": {},
   "source": [
    "# Sentiment Analysis"
   ]
  },
  {
   "cell_type": "markdown",
   "metadata": {},
   "source": [
    "## Subsetting the data"
   ]
  },
  {
   "cell_type": "markdown",
   "metadata": {},
   "source": [
    "Reviews of the beers matter. Similar as the numerical ratings, sentiment analysis can be used to indicate the evaluation the reviewer gave to the beer. Such an analysis would be helpful for us to understand the data better and to see if the reviews are in line with the numerical ratings across different beer types, breweries, regions, etc."
   ]
  },
  {
   "cell_type": "markdown",
   "metadata": {},
   "source": [
    "Here as a pilot study, we will simply use a subset of from the `BA_ratings` to conduct the sentiment analysis. We want to first see if the sentiment analysis can be done in a reasonable time with promising results. If so, we will then further look for potentially better models and implementations. (as for instance for the glutenfree beers)"
   ]
  },
  {
   "cell_type": "code",
   "execution_count": null,
   "metadata": {},
   "outputs": [],
   "source": [
    "# show number of unique breweries\n",
    "print('number of unique beer in BA:', len(BA_ratings['beer_id'].unique()))\n",
    "# get the brewery id that appears the most time\n",
    "print('most common beer id in BA:', BA_ratings['beer_id'].value_counts().idxmax())"
   ]
  },
  {
   "cell_type": "code",
   "execution_count": null,
   "metadata": {},
   "outputs": [],
   "source": [
    "# subset the data to only contain the most common brewery id\n",
    "BA_ratings_most_com_brw = BA_ratings.loc[BA_ratings['beer_id'] == BA_ratings['beer_id'].value_counts().idxmax()]\n",
    "print(\"# samples: \", len(BA_ratings_most_com_brw))\n",
    "print(\"# unique beers: \", len(BA_ratings_most_com_brw['beer_id'].unique()))\n",
    "BA_ratings_most_com_brw.head(5)"
   ]
  },
  {
   "cell_type": "code",
   "execution_count": null,
   "metadata": {},
   "outputs": [],
   "source": [
    "BA_ratings_most_com_brw.dtypes"
   ]
  },
  {
   "cell_type": "code",
   "execution_count": null,
   "metadata": {},
   "outputs": [],
   "source": [
    "# filter the data with review == false\n",
    "BA_ratings_most_com_brw = BA_ratings_most_com_brw.loc[BA_ratings_most_com_brw['review'] == \" True\"]\n",
    "print(\"# samples: \", len(BA_ratings_most_com_brw))"
   ]
  },
  {
   "cell_type": "markdown",
   "metadata": {},
   "source": [
    "The pilot analysis would focus on the 3811 samples, all corresponds to the most reviewed \"Founders Breakfast Stout\" from Founders Brewing Company."
   ]
  },
  {
   "cell_type": "markdown",
   "metadata": {},
   "source": [
    "## EDA and Data preprocessing"
   ]
  },
  {
   "cell_type": "code",
   "execution_count": null,
   "metadata": {},
   "outputs": [],
   "source": [
    "BA_ratings_most_com_brw['rating'].describe()"
   ]
  },
  {
   "cell_type": "code",
   "execution_count": null,
   "metadata": {},
   "outputs": [],
   "source": [
    "# study the distribution of rating\n",
    "plt.figure(figsize=(10, 5))\n",
    "plt.hist(BA_ratings_most_com_brw['rating'], bins=20, color = 'blue')\n",
    "plt.xlabel('Rating')\n",
    "plt.ylabel('Count')\n",
    "# set x ticks\n",
    "plt.xticks(np.arange(1, 6, 1))\n",
    "plt.title('Distribution of Ratings')\n",
    "plt.show()"
   ]
  },
  {
   "cell_type": "markdown",
   "metadata": {},
   "source": [
    "Seems like the beer is not popular for no reason. The average rating is 4.46, which is very high. Due to the fact that sentiment analysis works better with discrete values, we convert the 2-decimal ratings into discrete values from 1 to 3."
   ]
  },
  {
   "cell_type": "code",
   "execution_count": null,
   "metadata": {},
   "outputs": [],
   "source": [
    "# add discrete rating column\n",
    "# 1: 1-4, 2: 4-4.5, 3: 4.5-5\n",
    "BA_ratings_most_com_brw['rating_discrete'] = BA_ratings_most_com_brw['rating'].apply(lambda x: 1 if x <= 4 else (2 if x <= 4.5 else 3))\n",
    "\n",
    "# count the number of each discrete rating\n",
    "BA_ratings_most_com_brw['rating_discrete'].value_counts()"
   ]
  },
  {
   "cell_type": "markdown",
   "metadata": {},
   "source": [
    "## Pretrain model analysis"
   ]
  },
  {
   "cell_type": "markdown",
   "metadata": {},
   "source": [
    "The model is downloaded from huggingface website. There are many different models for different usage, language, and output format. Here we applied 2-way classification trained on english product reviews."
   ]
  },
  {
   "cell_type": "code",
   "execution_count": null,
   "metadata": {},
   "outputs": [],
   "source": [
    "# get the pretrained model from huggingface's transformers library\n",
    "#MODEL = f\"cardiffnlp/twitter-roberta-base-sentiment\"\n",
    "MODEL = f\"juliensimon/reviews-sentiment-analysis\"\n",
    "#MODEL = f\"lxyuan/distilbert-base-multilingual-cased-sentiments-student\"\n",
    "tokenizer = AutoTokenizer.from_pretrained(MODEL)\n",
    "model = AutoModelForSequenceClassification.from_pretrained(MODEL)"
   ]
  },
  {
   "cell_type": "markdown",
   "metadata": {},
   "source": [
    "Define the polarity scorer for a given sentence."
   ]
  },
  {
   "cell_type": "code",
   "execution_count": null,
   "metadata": {},
   "outputs": [],
   "source": [
    "# run sentiment analysis over all ratings['text']\n",
    "def polarity_scores(example):\n",
    "    encoded_text = tokenizer(example, return_tensors='pt')\n",
    "    output = model(**encoded_text)\n",
    "    scores = output[0][0].detach().numpy()\n",
    "    scores = softmax(scores)\n",
    "    scores_dict = {\n",
    "        'o1' : scores[0],\n",
    "        'o2' : scores[1]\n",
    "    }\n",
    "    return scores_dict"
   ]
  },
  {
   "cell_type": "code",
   "execution_count": null,
   "metadata": {},
   "outputs": [],
   "source": [
    "# iterate over all rows and run polarity_scores\n",
    "res = {}\n",
    "for i, row in tqdm(BA_ratings_most_com_brw.iterrows(), total=BA_ratings_most_com_brw.shape[0]):\n",
    "    try:\n",
    "        text = row['text']\n",
    "        myid = i\n",
    "        result = polarity_scores(text)\n",
    "        #result = extract_sentiment_words_attention(text)\n",
    "        res[myid] = result\n",
    "    except RuntimeError:\n",
    "        print(f'Broke for id {myid}') # model can't handle some texts (i.e. too long)"
   ]
  },
  {
   "cell_type": "code",
   "execution_count": null,
   "metadata": {},
   "outputs": [],
   "source": [
    "results_df = pd.DataFrame(res).T\n",
    "# add column 'class', if o1 > o2, then class = 0, else class = 1\n",
    "results_df['class'] = results_df['o1'].apply(lambda x: 0 if x > 0.5 else 1)\n",
    "results_df.head()"
   ]
  },
  {
   "cell_type": "code",
   "execution_count": null,
   "metadata": {},
   "outputs": [],
   "source": [
    "# merge the results with the original ratings dataframe\n",
    "BA_ratings_most_com_brw_sentiment = BA_ratings_most_com_brw.merge(results_df, left_index=True, right_index=True)\n",
    "BA_ratings_most_com_brw_sentiment.head()"
   ]
  },
  {
   "cell_type": "markdown",
   "metadata": {},
   "source": [
    "To show how good the sentiment evaluation is, we correlate the positiveness/negativeness results with the ratings."
   ]
  },
  {
   "cell_type": "code",
   "execution_count": null,
   "metadata": {},
   "outputs": [],
   "source": [
    "sns.pairplot(data = BA_ratings_most_com_brw_sentiment,\n",
    "             vars = ['o1', 'o2'],\n",
    "             hue = 'rating_discrete',\n",
    "             palette = 'tab10')\n",
    "plt.show()"
   ]
  },
  {
   "cell_type": "markdown",
   "metadata": {},
   "source": [
    "It seems that those comments with higher discrete ratings have generally better positivity, and vice versa. The preliminary analysis shows it is feasible to do sentiment analysis for the beer dataset. A possibly fine-grained version analysis would be carrying out."
   ]
  },
  {
   "cell_type": "markdown",
   "metadata": {},
   "source": [
    "That is pretty much what we have for milestone 2. As discussed in the readme file on Github, we will proceed our analysis according to our research questions.\n",
    "Thank you for your time :]"
   ]
  }
 ],
 "metadata": {
  "kernelspec": {
   "display_name": "ada",
   "language": "python",
   "name": "python3"
  },
  "language_info": {
   "codemirror_mode": {
    "name": "ipython",
    "version": 3
   },
   "file_extension": ".py",
   "mimetype": "text/x-python",
   "name": "python",
   "nbconvert_exporter": "python",
   "pygments_lexer": "ipython3",
   "version": "3.11.5"
  }
 },
 "nbformat": 4,
 "nbformat_minor": 2
}
