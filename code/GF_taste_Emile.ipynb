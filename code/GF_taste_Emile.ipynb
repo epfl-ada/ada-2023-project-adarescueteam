{
 "cells": [
  {
   "cell_type": "markdown",
   "id": "6454d4c0-b507-4abb-a95d-c15b423dfbb4",
   "metadata": {},
   "source": [
    "# Are gluten-free beers worse than traditional beers?\n",
    "\n",
    "One of the stereotypes that can be found on gluten-free beers is that they taste different than normal beers, and most often taste worse. To take a look at this matter, we can look at the difference in overall score, palate, aroma and taste scores between the gluten-free and normal beers. However, all beer types are not equally translated into gluten-free beers and it is very possible that this as a consequence on the user's ratings. To see that, we can compare the gluten-free datasets with a subset of the all-beers that has the same composition of beer type than the gluten-free one."
   ]
  },
  {
   "cell_type": "code",
   "execution_count": 81,
   "id": "8b12ea98-41e2-4ed8-bb71-01c329c2241f",
   "metadata": {
    "tags": []
   },
   "outputs": [],
   "source": [
    "#Importing packages, not to put in actual notebook\n",
    "import os\n",
    "import sys\n",
    "import pickle\n",
    "import numpy as np\n",
    "import pandas as pd\n",
    "import matplotlib.pyplot as plt\n",
    "import seaborn as sns\n",
    "import unidecode as ud\n",
    "from tqdm import tqdm\n",
    "from collections import Counter\n",
    "from datetime import datetime\n",
    "%matplotlib inline"
   ]
  },
  {
   "cell_type": "markdown",
   "id": "5f6200c9-069b-4333-82bf-d81abc87f017",
   "metadata": {},
   "source": [
    "### Importing datas"
   ]
  },
  {
   "cell_type": "code",
   "execution_count": 82,
   "id": "81ced128-b980-426f-b2fe-a6fb810716bb",
   "metadata": {
    "tags": []
   },
   "outputs": [
    {
     "name": "stdout",
     "output_type": "stream",
     "text": [
      "your data directory:\n"
     ]
    },
    {
     "data": {
      "text/plain": [
       "'C:\\\\Users\\\\insta\\\\OneDrive\\\\Bureau\\\\Cours\\\\M2 EPFL\\\\ADA\\\\projet\\\\ada-2023-project-adarescueteam\\\\code\\\\data'"
      ]
     },
     "execution_count": 82,
     "metadata": {},
     "output_type": "execute_result"
    }
   ],
   "source": [
    "#Importing datasets\n",
    "#add your data folder into the 'code' folder, make sure it is in the .gitignore file\n",
    "\n",
    "CODE_DIR = os.getcwd()\n",
    "DATA_DIR = os.path.join(CODE_DIR, 'data')\n",
    "\n",
    "print('your data directory:')\n",
    "DATA_DIR"
   ]
  },
  {
   "cell_type": "code",
   "execution_count": 83,
   "id": "27fdd8c9-f92a-42e9-b465-3ce6bdc2c0ae",
   "metadata": {
    "tags": []
   },
   "outputs": [],
   "source": [
    "# set path for BeerAdvocate data\n",
    "DATA_BeerAdvocate = os.path.join(DATA_DIR, \"BeerAdvocate\")\n",
    "\n",
    "# set path for RateBeer data\n",
    "DATA_RateBeer = os.path.join(DATA_DIR, \"RateBeer\")\n",
    "\n",
    "# set path for MatchedBeer data\n",
    "DATA_MatchedBeers = os.path.join(DATA_DIR, \"matched_beer_data.tar\")"
   ]
  },
  {
   "cell_type": "code",
   "execution_count": 119,
   "id": "7c144141-b69e-4094-a2e4-10c1491cbf6f",
   "metadata": {
    "tags": []
   },
   "outputs": [],
   "source": [
    "#Data are imported from the preprocessed csv and pkl files\n",
    "BA_gf_ratings=pd.read_csv(os.path.join(DATA_DIR,'ba_gf_ratings.csv'))\n",
    "RB_gf_ratings=pd.read_csv(os.path.join(DATA_DIR,'rb_gf_ratings.csv'))\n",
    "BA_beers=pd.read_csv(os.path.join(DATA_BeerAdvocate,'beers.csv')) \n",
    "RB_beers=pd.read_csv(os.path.join(DATA_RateBeer, 'beers.csv')) \n"
   ]
  },
  {
   "cell_type": "code",
   "execution_count": 85,
   "id": "f62dcd57-7bcf-42cd-a1fe-8111d72272b4",
   "metadata": {
    "tags": []
   },
   "outputs": [],
   "source": [
    "# read ratings from pickle file\n",
    "with open(os.path.join(DATA_DIR, \"RB_ratings.pkl\"), 'rb') as f:\n",
    "    RB_ratings = pickle.load(f)\n",
    "with open(os.path.join(DATA_DIR, \"BA_ratings.pkl\"), 'rb') as f:\n",
    "    BA_ratings = pickle.load(f)"
   ]
  },
  {
   "cell_type": "code",
   "execution_count": 122,
   "id": "af3a87e1-556f-4fb1-8c2d-7ccc3f9accfe",
   "metadata": {
    "tags": []
   },
   "outputs": [],
   "source": [
    "#Create common gluten-free dataframe and common beer dataframe\n",
    "BA_gf_ratings.drop(axis=1,labels=\"review\",inplace=True)\n",
    "gf_ratings= pd.concat([RB_gf_ratings,BA_gf_ratings]) #Need to change index so that it works\n"
   ]
  },
  {
   "cell_type": "markdown",
   "id": "47842f16-0e38-4a7e-82c7-f2841f8a8be5",
   "metadata": {
    "tags": []
   },
   "source": [
    "### Cleaning data a bit more to make analysis of this part\n",
    "\n",
    "-> Keeping only beer type present in gluten-free beers (already done on other analyses normally)\n"
   ]
  },
  {
   "cell_type": "code",
   "execution_count": 132,
   "id": "4de43c03-f4c0-42ab-b124-c99b659dedb7",
   "metadata": {
    "tags": []
   },
   "outputs": [],
   "source": [
    "#Keep only beer-types present in gluten-free beers\n",
    "\n",
    "gf_beers=gf_ratings['beer_name'].unique()\n",
    "\n",
    "for i in range(len(gf_beers)): #Somehow there is a space at beginning of beer_names\n",
    "    gf_beers[i]=gf_beers[i][1:]\n",
    "\n",
    "BA_gf_beertypes = BA_beers[BA_beers['beer_name'].isin(gf_beers)]['style'].unique()\n",
    "RB_gf_beertypes = RB_beers[RB_beers['beer_name'].isin(gf_beers)]['style'].unique()"
   ]
  },
  {
   "cell_type": "code",
   "execution_count": 138,
   "id": "b15b5518-b079-4018-803f-284c397e6331",
   "metadata": {
    "tags": []
   },
   "outputs": [],
   "source": [
    "gf_beertypes = np.concatenate((BA_gf_beertypes,RB_gf_beertypes))\n",
    "gf_beertypes=pd.DataFrame(gf_beertypes,columns=['style'])\n",
    "gf_beertypes=gf_beertypes['style'].unique()"
   ]
  },
  {
   "cell_type": "code",
   "execution_count": null,
   "id": "568a586a-824e-4ba6-b533-00cf2dd0fb86",
   "metadata": {},
   "outputs": [],
   "source": [
    "#Delete ratings with style not in gf\n",
    "# Need to create a \"style\" columns for \n",
    "BA_ratings[~BA_ratings['style'].isin(gf_beerstypes)]"
   ]
  }
 ],
 "metadata": {
  "kernelspec": {
   "display_name": "Python [conda env:ada] *",
   "language": "python",
   "name": "conda-env-ada-py"
  },
  "language_info": {
   "codemirror_mode": {
    "name": "ipython",
    "version": 3
   },
   "file_extension": ".py",
   "mimetype": "text/x-python",
   "name": "python",
   "nbconvert_exporter": "python",
   "pygments_lexer": "ipython3",
   "version": "3.9.18"
  }
 },
 "nbformat": 4,
 "nbformat_minor": 5
}
