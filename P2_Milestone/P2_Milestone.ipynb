{
 "cells": [
  {
   "cell_type": "markdown",
   "metadata": {},
   "source": [
    "# ADA Project Milestone P2 Deliverable"
   ]
  },
  {
   "cell_type": "markdown",
   "metadata": {},
   "source": [
    "## <span style=\"color: green;\">Import libraries and set paths </span>"
   ]
  },
  {
   "cell_type": "markdown",
   "metadata": {},
   "source": [
    "For data cleaning and EDA, import the following libraries:"
   ]
  },
  {
   "cell_type": "code",
   "execution_count": 2,
   "metadata": {},
   "outputs": [],
   "source": [
    "import os\n",
    "import sys\n",
    "import pickle\n",
    "import numpy as np\n",
    "import pandas as pd\n",
    "import matplotlib.pyplot as plt\n",
    "import seaborn as sns\n",
    "import unidecode as ud\n",
    "from collections import Counter\n",
    "from datetime import datetime\n",
    "%matplotlib inline"
   ]
  },
  {
   "cell_type": "markdown",
   "metadata": {},
   "source": [
    "If you further try sentiment analysis, import the following libraries:"
   ]
  },
  {
   "cell_type": "code",
   "execution_count": 2,
   "metadata": {},
   "outputs": [],
   "source": [
    "import torch\n",
    "from tqdm import tqdm\n",
    "from transformers import pipeline\n",
    "from transformers import AutoTokenizer\n",
    "from transformers import AutoModelForSequenceClassification\n",
    "from scipy.special import softmax\n",
    "from lime.lime_text import LimeTextExplainer"
   ]
  },
  {
   "cell_type": "markdown",
   "metadata": {},
   "source": [
    "Set the global variables for the paths to the data folder."
   ]
  },
  {
   "cell_type": "code",
   "execution_count": null,
   "metadata": {},
   "outputs": [
    {
     "name": "stdout",
     "output_type": "stream",
     "text": [
      "your data directory:\n"
     ]
    },
    {
     "data": {
      "text/plain": [
       "'c:\\\\Users\\\\fulci\\\\git\\\\ada_23\\\\ada-2023-project-adarescueteam\\\\code\\\\data'"
      ]
     },
     "execution_count": 3,
     "metadata": {},
     "output_type": "execute_result"
    }
   ],
   "source": [
    "# add your data folder into the 'code' folder, make sure it is in the .gitignore file\n",
    "\n",
    "CODE_DIR = os.getcwd()\n",
    "DATA_DIR = os.path.join(CODE_DIR, 'data')\n",
    "\n",
    "print('your data directory:')\n",
    "DATA_DIR"
   ]
  },
  {
   "cell_type": "code",
   "execution_count": null,
   "metadata": {},
   "outputs": [],
   "source": [
    "# set path for BeerAdvocate data\n",
    "DATA_BeerAdvocate = os.path.join(DATA_DIR, \"BeerAdvocate.tar\")\n",
    "\n",
    "# set path for RateBeer data\n",
    "DATA_RateBeer = os.path.join(DATA_DIR, \"RateBeer.tar\")\n",
    "\n",
    "# set path for MatchedBeer data\n",
    "DATA_MatchedBeers = os.path.join(DATA_DIR, \"matched_beer_data.tar\")"
   ]
  },
  {
   "cell_type": "markdown",
   "metadata": {},
   "source": [
    "## <span style=\"color: green;\">Define functions to load huge txt files</span>"
   ]
  },
  {
   "cell_type": "markdown",
   "metadata": {},
   "source": [
    "### Convert the time for the users dataset"
   ]
  },
  {
   "cell_type": "code",
   "execution_count": 5,
   "metadata": {},
   "outputs": [],
   "source": [
    "# convert the joined\n",
    "def convert_timestamp(timestamp):\n",
    "    try:\n",
    "        timestamp = float(timestamp)\n",
    "        return datetime.fromtimestamp(timestamp)\n",
    "    except (ValueError, TypeError):\n",
    "        return None"
   ]
  },
  {
   "cell_type": "markdown",
   "metadata": {},
   "source": [
    "<span style=\"color: red;\">One can choose skipping the implementation of 'Read ratings' and 'Read reviews' if you downloaded the .csv data</span> ([download here preprocessed .txt to .csv data](https://drive.google.com/drive/folders/1ZhaUtzQaGtIEi6PmHZ7uXhoo7sC1byAT?usp=sharing))\n",
    "\n",
    "Please place the .csv files in their corresponding folders."
   ]
  },
  {
   "cell_type": "code",
   "execution_count": 127,
   "metadata": {},
   "outputs": [],
   "source": [
    "# change the boolean to false if you did not download the data\n",
    "CSV_DOWNLOAD = True"
   ]
  },
  {
   "cell_type": "markdown",
   "metadata": {},
   "source": [
    "### Read ratings"
   ]
  },
  {
   "cell_type": "code",
   "execution_count": 104,
   "metadata": {},
   "outputs": [],
   "source": [
    "# read in the ratings\n",
    "def read_ratings_txt(folder, file_name):\n",
    "    data = []\n",
    "    counter = 0\n",
    "\n",
    "    with open(os.path.join(folder, file_name), 'rb') as file:\n",
    "        rating_data = {}\n",
    "        for line in file:\n",
    "            line = line.strip()\n",
    "            if line.startswith(b'beer_name:'):\n",
    "                # check if dictionary is not empty\n",
    "                if rating_data:\n",
    "                    data.append(rating_data)\n",
    "                rating_data = {'beer_name': line.split(b'beer_name:')[1].decode('utf-8')}\n",
    "            elif line.startswith(b'beer_id:'):\n",
    "                rating_data['beer_id'] = line.split(b'beer_id:')[1].decode('utf-8')\n",
    "            elif line.startswith(b'brewery_name:'):\n",
    "                rating_data['brewery_name'] = line.split(b'brewery_name:')[1].decode('utf-8')\n",
    "            elif line.startswith(b'brewery_id:'):\n",
    "                rating_data['brewery_id'] = line.split(b'brewery_id:')[1].decode('utf-8')\n",
    "            elif line.startswith(b'style:'):\n",
    "                rating_data['style'] = line.split(b'style:')[1].decode('utf-8')\n",
    "            elif line.startswith(b'abv:'):\n",
    "                rating_data['abv'] = line.split(b'abv:')[1].decode('utf-8')\n",
    "            elif line.startswith(b'date:'):\n",
    "                timestamp = float(line.split(b'date:')[1].decode('utf-8'))\n",
    "                rating_data['date'] = datetime.utcfromtimestamp(timestamp).strftime('%Y-%m-%d %H:%M:%S')\n",
    "            elif line.startswith(b'user_name:'):\n",
    "                rating_data['user_name'] = line.split(b'user_name:')[1].decode('utf-8')\n",
    "            elif line.startswith(b'user_id:'):\n",
    "                rating_data['user_id'] = line.split(b'user_id:')[1].decode('utf-8')\n",
    "            elif line.startswith(b'appearance:'):\n",
    "                rating_data['appearance'] = line.split(b'appearance:')[1].decode('utf-8')\n",
    "            elif line.startswith(b'aroma:'):\n",
    "                rating_data['aroma'] = line.split(b'aroma:')[1].decode('utf-8')\n",
    "            elif line.startswith(b'palate:'):\n",
    "                rating_data['palate'] = line.split(b'palate:')[1].decode('utf-8')\n",
    "            elif line.startswith(b'taste:'):\n",
    "                rating_data['taste'] = line.split(b'taste:')[1].decode('utf-8')\n",
    "            elif line.startswith(b'overall:'):\n",
    "                rating_data['overall'] = line.split(b'overall:')[1].decode('utf-8')\n",
    "            elif line.startswith(b'rating:'):\n",
    "                rating_data['rating'] = line.split(b'rating:')[1].decode('utf-8')\n",
    "            elif line.startswith(b'text:'):\n",
    "                rating_data['text'] = line.split(b'text:')[1].decode('utf-8')\n",
    "            elif line.startswith(b'review:'):\n",
    "                rating_data['review'] = line.split(b'review:')[1].decode('utf-8')\n",
    "\n",
    "            #counter += 1\n",
    "\n",
    "            #if counter == 1000000:  # limit amount of lines to read in (17lines in the data are 1 row)\n",
    "            #    break\n",
    "\n",
    "    if rating_data:\n",
    "        data.append(rating_data)\n",
    "\n",
    "    ratings = pd.DataFrame(data)\n",
    "    return ratings"
   ]
  },
  {
   "cell_type": "markdown",
   "metadata": {},
   "source": [
    "### Read reviews"
   ]
  },
  {
   "cell_type": "code",
   "execution_count": 105,
   "metadata": {},
   "outputs": [],
   "source": [
    "# read in the reviews\n",
    "def read_reviews_txt(folder, file_name):\n",
    "    data = []\n",
    "    counter = 0\n",
    "\n",
    "    with open(os.path.join(folder, file_name), 'rb') as file:\n",
    "        review_data = {}\n",
    "        for line in file:\n",
    "            line = line.strip()\n",
    "            if line.startswith(b'beer_name:'):\n",
    "                # check if dictionary is not empty\n",
    "                if review_data:\n",
    "                    data.append(review_data)\n",
    "                review_data = {'beer_name': line.split(b'beer_name:')[1].decode('utf-8')}\n",
    "            elif line.startswith(b'beer_id:'):\n",
    "                review_data['beer_id'] = line.split(b'beer_id:')[1].decode('utf-8')\n",
    "            elif line.startswith(b'brewery_name:'):\n",
    "                review_data['brewery_name'] = line.split(b'brewery_name:')[1].decode('utf-8')\n",
    "            elif line.startswith(b'brewery_id:'):\n",
    "                review_data['brewery_id'] = line.split(b'brewery_id:')[1].decode('utf-8')\n",
    "            elif line.startswith(b'style:'):\n",
    "                review_data['style'] = line.split(b'style:')[1].decode('utf-8')\n",
    "            elif line.startswith(b'abv:'):\n",
    "                review_data['abv'] = line.split(b'abv:')[1].decode('utf-8')\n",
    "            elif line.startswith(b'date:'):\n",
    "                timestamp = float(line.split(b'date:')[1].decode('utf-8'))\n",
    "                review_data['date'] = datetime.utcfromtimestamp(timestamp).strftime('%Y-%m-%d %H:%M:%S')\n",
    "            elif line.startswith(b'user_name:'):\n",
    "                review_data['user_name'] = line.split(b'user_name:')[1].decode('utf-8')\n",
    "            elif line.startswith(b'user_id:'):\n",
    "                review_data['user_id'] = line.split(b'user_id:')[1].decode('utf-8')\n",
    "            elif line.startswith(b'appearance:'):\n",
    "                review_data['appearance'] = line.split(b'appearance:')[1].decode('utf-8')\n",
    "            elif line.startswith(b'aroma:'):\n",
    "                review_data['aroma'] = line.split(b'aroma:')[1].decode('utf-8')\n",
    "            elif line.startswith(b'palate:'):\n",
    "                review_data['palate'] = line.split(b'palate:')[1].decode('utf-8')\n",
    "            elif line.startswith(b'taste:'):\n",
    "                review_data['taste'] = line.split(b'taste:')[1].decode('utf-8')\n",
    "            elif line.startswith(b'overall:'):\n",
    "                review_data['overall'] = line.split(b'overall:')[1].decode('utf-8')\n",
    "            elif line.startswith(b'rating:'):\n",
    "                review_data['rating'] = line.split(b'rating:')[1].decode('utf-8')\n",
    "            elif line.startswith(b'text:'):\n",
    "                review_data['text'] = line.split(b'text:')[1].decode('utf-8')\n",
    "\n",
    "\n",
    "            #counter += 1\n",
    "\n",
    "            #if counter == 10001:  # limit amount of lines to read in\n",
    "            #    break\n",
    "\n",
    "    if review_data:\n",
    "        data.append(review_data)\n",
    "\n",
    "    reviews = pd.DataFrame(data)\n",
    "    return reviews"
   ]
  },
  {
   "cell_type": "markdown",
   "metadata": {},
   "source": [
    "# <span style=\"color: darkgreen;\">LOAD FILES</span>"
   ]
  },
  {
   "cell_type": "markdown",
   "metadata": {},
   "source": [
    "### <span style=\"color: green;\">BeerAdvocate (BA) Dataset</span>"
   ]
  },
  {
   "cell_type": "markdown",
   "metadata": {},
   "source": [
    "### beers.csv"
   ]
  },
  {
   "cell_type": "code",
   "execution_count": 113,
   "metadata": {},
   "outputs": [
    {
     "name": "stdout",
     "output_type": "stream",
     "text": [
      "(280823, 15)\n"
     ]
    },
    {
     "data": {
      "text/html": [
       "<div>\n",
       "<style scoped>\n",
       "    .dataframe tbody tr th:only-of-type {\n",
       "        vertical-align: middle;\n",
       "    }\n",
       "\n",
       "    .dataframe tbody tr th {\n",
       "        vertical-align: top;\n",
       "    }\n",
       "\n",
       "    .dataframe thead th {\n",
       "        text-align: right;\n",
       "    }\n",
       "</style>\n",
       "<table border=\"1\" class=\"dataframe\">\n",
       "  <thead>\n",
       "    <tr style=\"text-align: right;\">\n",
       "      <th></th>\n",
       "      <th>beer_id</th>\n",
       "      <th>beer_name</th>\n",
       "      <th>brewery_id</th>\n",
       "      <th>brewery_name</th>\n",
       "      <th>style</th>\n",
       "      <th>nbr_ratings</th>\n",
       "      <th>nbr_reviews</th>\n",
       "      <th>avg</th>\n",
       "      <th>ba_score</th>\n",
       "      <th>bros_score</th>\n",
       "      <th>abv</th>\n",
       "      <th>avg_computed</th>\n",
       "      <th>zscore</th>\n",
       "      <th>nbr_matched_valid_ratings</th>\n",
       "      <th>avg_matched_valid_ratings</th>\n",
       "    </tr>\n",
       "  </thead>\n",
       "  <tbody>\n",
       "    <tr>\n",
       "      <th>0</th>\n",
       "      <td>166064</td>\n",
       "      <td>Nashe Moskovskoe</td>\n",
       "      <td>39912</td>\n",
       "      <td>Abdysh-Ata (Абдыш Ата)</td>\n",
       "      <td>Euro Pale Lager</td>\n",
       "      <td>0</td>\n",
       "      <td>0</td>\n",
       "      <td>NaN</td>\n",
       "      <td>NaN</td>\n",
       "      <td>NaN</td>\n",
       "      <td>4.7</td>\n",
       "      <td>NaN</td>\n",
       "      <td>NaN</td>\n",
       "      <td>0</td>\n",
       "      <td>NaN</td>\n",
       "    </tr>\n",
       "    <tr>\n",
       "      <th>1</th>\n",
       "      <td>166065</td>\n",
       "      <td>Nashe Pivovskoe</td>\n",
       "      <td>39912</td>\n",
       "      <td>Abdysh-Ata (Абдыш Ата)</td>\n",
       "      <td>Euro Pale Lager</td>\n",
       "      <td>0</td>\n",
       "      <td>0</td>\n",
       "      <td>NaN</td>\n",
       "      <td>NaN</td>\n",
       "      <td>NaN</td>\n",
       "      <td>3.8</td>\n",
       "      <td>NaN</td>\n",
       "      <td>NaN</td>\n",
       "      <td>0</td>\n",
       "      <td>NaN</td>\n",
       "    </tr>\n",
       "    <tr>\n",
       "      <th>2</th>\n",
       "      <td>166066</td>\n",
       "      <td>Nashe Shakhterskoe</td>\n",
       "      <td>39912</td>\n",
       "      <td>Abdysh-Ata (Абдыш Ата)</td>\n",
       "      <td>Euro Pale Lager</td>\n",
       "      <td>0</td>\n",
       "      <td>0</td>\n",
       "      <td>NaN</td>\n",
       "      <td>NaN</td>\n",
       "      <td>NaN</td>\n",
       "      <td>4.8</td>\n",
       "      <td>NaN</td>\n",
       "      <td>NaN</td>\n",
       "      <td>0</td>\n",
       "      <td>NaN</td>\n",
       "    </tr>\n",
       "    <tr>\n",
       "      <th>3</th>\n",
       "      <td>166067</td>\n",
       "      <td>Nashe Zhigulevskoe</td>\n",
       "      <td>39912</td>\n",
       "      <td>Abdysh-Ata (Абдыш Ата)</td>\n",
       "      <td>Euro Pale Lager</td>\n",
       "      <td>0</td>\n",
       "      <td>0</td>\n",
       "      <td>NaN</td>\n",
       "      <td>NaN</td>\n",
       "      <td>NaN</td>\n",
       "      <td>4.0</td>\n",
       "      <td>NaN</td>\n",
       "      <td>NaN</td>\n",
       "      <td>0</td>\n",
       "      <td>NaN</td>\n",
       "    </tr>\n",
       "    <tr>\n",
       "      <th>4</th>\n",
       "      <td>166063</td>\n",
       "      <td>Zhivoe</td>\n",
       "      <td>39912</td>\n",
       "      <td>Abdysh-Ata (Абдыш Ата)</td>\n",
       "      <td>Euro Pale Lager</td>\n",
       "      <td>0</td>\n",
       "      <td>0</td>\n",
       "      <td>NaN</td>\n",
       "      <td>NaN</td>\n",
       "      <td>NaN</td>\n",
       "      <td>4.5</td>\n",
       "      <td>NaN</td>\n",
       "      <td>NaN</td>\n",
       "      <td>0</td>\n",
       "      <td>NaN</td>\n",
       "    </tr>\n",
       "  </tbody>\n",
       "</table>\n",
       "</div>"
      ],
      "text/plain": [
       "   beer_id           beer_name  brewery_id            brewery_name  \\\n",
       "0   166064    Nashe Moskovskoe       39912  Abdysh-Ata (Абдыш Ата)   \n",
       "1   166065     Nashe Pivovskoe       39912  Abdysh-Ata (Абдыш Ата)   \n",
       "2   166066  Nashe Shakhterskoe       39912  Abdysh-Ata (Абдыш Ата)   \n",
       "3   166067  Nashe Zhigulevskoe       39912  Abdysh-Ata (Абдыш Ата)   \n",
       "4   166063              Zhivoe       39912  Abdysh-Ata (Абдыш Ата)   \n",
       "\n",
       "             style  nbr_ratings  nbr_reviews  avg  ba_score  bros_score  abv  \\\n",
       "0  Euro Pale Lager            0            0  NaN       NaN         NaN  4.7   \n",
       "1  Euro Pale Lager            0            0  NaN       NaN         NaN  3.8   \n",
       "2  Euro Pale Lager            0            0  NaN       NaN         NaN  4.8   \n",
       "3  Euro Pale Lager            0            0  NaN       NaN         NaN  4.0   \n",
       "4  Euro Pale Lager            0            0  NaN       NaN         NaN  4.5   \n",
       "\n",
       "   avg_computed  zscore  nbr_matched_valid_ratings  avg_matched_valid_ratings  \n",
       "0           NaN     NaN                          0                        NaN  \n",
       "1           NaN     NaN                          0                        NaN  \n",
       "2           NaN     NaN                          0                        NaN  \n",
       "3           NaN     NaN                          0                        NaN  \n",
       "4           NaN     NaN                          0                        NaN  "
      ]
     },
     "execution_count": 113,
     "metadata": {},
     "output_type": "execute_result"
    }
   ],
   "source": [
    "# read in the beers.csv file as a DataFrame\n",
    "BA_beers = pd.read_csv(os.path.join(DATA_BeerAdvocate, \"beers.csv\"))\n",
    "print(BA_beers.shape)\n",
    "BA_beers.head()"
   ]
  },
  {
   "cell_type": "markdown",
   "metadata": {},
   "source": [
    "### breweries.csv"
   ]
  },
  {
   "cell_type": "code",
   "execution_count": 114,
   "metadata": {},
   "outputs": [
    {
     "name": "stdout",
     "output_type": "stream",
     "text": [
      "(16758, 4)\n"
     ]
    },
    {
     "data": {
      "text/html": [
       "<div>\n",
       "<style scoped>\n",
       "    .dataframe tbody tr th:only-of-type {\n",
       "        vertical-align: middle;\n",
       "    }\n",
       "\n",
       "    .dataframe tbody tr th {\n",
       "        vertical-align: top;\n",
       "    }\n",
       "\n",
       "    .dataframe thead th {\n",
       "        text-align: right;\n",
       "    }\n",
       "</style>\n",
       "<table border=\"1\" class=\"dataframe\">\n",
       "  <thead>\n",
       "    <tr style=\"text-align: right;\">\n",
       "      <th></th>\n",
       "      <th>id</th>\n",
       "      <th>location</th>\n",
       "      <th>name</th>\n",
       "      <th>nbr_beers</th>\n",
       "    </tr>\n",
       "  </thead>\n",
       "  <tbody>\n",
       "    <tr>\n",
       "      <th>0</th>\n",
       "      <td>39912</td>\n",
       "      <td>Kyrgyzstan</td>\n",
       "      <td>Abdysh-Ata (Абдыш Ата)</td>\n",
       "      <td>5</td>\n",
       "    </tr>\n",
       "    <tr>\n",
       "      <th>1</th>\n",
       "      <td>39913</td>\n",
       "      <td>Kyrgyzstan</td>\n",
       "      <td>Arpa (АРПА)</td>\n",
       "      <td>1</td>\n",
       "    </tr>\n",
       "    <tr>\n",
       "      <th>2</th>\n",
       "      <td>39914</td>\n",
       "      <td>Kyrgyzstan</td>\n",
       "      <td>Bear Beer</td>\n",
       "      <td>4</td>\n",
       "    </tr>\n",
       "    <tr>\n",
       "      <th>3</th>\n",
       "      <td>39915</td>\n",
       "      <td>Kyrgyzstan</td>\n",
       "      <td>Blonder Pub</td>\n",
       "      <td>4</td>\n",
       "    </tr>\n",
       "    <tr>\n",
       "      <th>4</th>\n",
       "      <td>39916</td>\n",
       "      <td>Kyrgyzstan</td>\n",
       "      <td>Kellers Bier</td>\n",
       "      <td>2</td>\n",
       "    </tr>\n",
       "  </tbody>\n",
       "</table>\n",
       "</div>"
      ],
      "text/plain": [
       "      id    location                    name  nbr_beers\n",
       "0  39912  Kyrgyzstan  Abdysh-Ata (Абдыш Ата)          5\n",
       "1  39913  Kyrgyzstan             Arpa (АРПА)          1\n",
       "2  39914  Kyrgyzstan               Bear Beer          4\n",
       "3  39915  Kyrgyzstan             Blonder Pub          4\n",
       "4  39916  Kyrgyzstan            Kellers Bier          2"
      ]
     },
     "execution_count": 114,
     "metadata": {},
     "output_type": "execute_result"
    }
   ],
   "source": [
    "BA_breweries = pd.read_csv(os.path.join(DATA_BeerAdvocate, \"breweries.csv\"))\n",
    "print(BA_breweries.shape)\n",
    "BA_breweries.head()"
   ]
  },
  {
   "cell_type": "markdown",
   "metadata": {},
   "source": [
    "### users.csv"
   ]
  },
  {
   "cell_type": "code",
   "execution_count": 142,
   "metadata": {},
   "outputs": [
    {
     "name": "stdout",
     "output_type": "stream",
     "text": [
      "(153704, 6)\n"
     ]
    },
    {
     "data": {
      "text/html": [
       "<div>\n",
       "<style scoped>\n",
       "    .dataframe tbody tr th:only-of-type {\n",
       "        vertical-align: middle;\n",
       "    }\n",
       "\n",
       "    .dataframe tbody tr th {\n",
       "        vertical-align: top;\n",
       "    }\n",
       "\n",
       "    .dataframe thead th {\n",
       "        text-align: right;\n",
       "    }\n",
       "</style>\n",
       "<table border=\"1\" class=\"dataframe\">\n",
       "  <thead>\n",
       "    <tr style=\"text-align: right;\">\n",
       "      <th></th>\n",
       "      <th>nbr_ratings</th>\n",
       "      <th>nbr_reviews</th>\n",
       "      <th>user_id</th>\n",
       "      <th>user_name</th>\n",
       "      <th>joined</th>\n",
       "      <th>location</th>\n",
       "    </tr>\n",
       "  </thead>\n",
       "  <tbody>\n",
       "    <tr>\n",
       "      <th>0</th>\n",
       "      <td>7820</td>\n",
       "      <td>465</td>\n",
       "      <td>nmann08.184925</td>\n",
       "      <td>nmann08</td>\n",
       "      <td>2008-01-07 12:00:00</td>\n",
       "      <td>United States, Washington</td>\n",
       "    </tr>\n",
       "    <tr>\n",
       "      <th>1</th>\n",
       "      <td>2521</td>\n",
       "      <td>2504</td>\n",
       "      <td>stjamesgate.163714</td>\n",
       "      <td>StJamesGate</td>\n",
       "      <td>2007-10-08 12:00:00</td>\n",
       "      <td>United States, New York</td>\n",
       "    </tr>\n",
       "    <tr>\n",
       "      <th>2</th>\n",
       "      <td>1797</td>\n",
       "      <td>1143</td>\n",
       "      <td>mdagnew.19527</td>\n",
       "      <td>mdagnew</td>\n",
       "      <td>2005-05-18 12:00:00</td>\n",
       "      <td>Northern Ireland</td>\n",
       "    </tr>\n",
       "    <tr>\n",
       "      <th>3</th>\n",
       "      <td>31</td>\n",
       "      <td>31</td>\n",
       "      <td>helloloser12345.10867</td>\n",
       "      <td>helloloser12345</td>\n",
       "      <td>2004-11-25 12:00:00</td>\n",
       "      <td>Northern Ireland</td>\n",
       "    </tr>\n",
       "    <tr>\n",
       "      <th>4</th>\n",
       "      <td>604</td>\n",
       "      <td>604</td>\n",
       "      <td>cypressbob.3708</td>\n",
       "      <td>cypressbob</td>\n",
       "      <td>2003-11-20 12:00:00</td>\n",
       "      <td>Northern Ireland</td>\n",
       "    </tr>\n",
       "  </tbody>\n",
       "</table>\n",
       "</div>"
      ],
      "text/plain": [
       "   nbr_ratings  nbr_reviews                user_id        user_name  \\\n",
       "0         7820          465         nmann08.184925          nmann08   \n",
       "1         2521         2504     stjamesgate.163714      StJamesGate   \n",
       "2         1797         1143          mdagnew.19527          mdagnew   \n",
       "3           31           31  helloloser12345.10867  helloloser12345   \n",
       "4          604          604        cypressbob.3708       cypressbob   \n",
       "\n",
       "               joined                   location  \n",
       "0 2008-01-07 12:00:00  United States, Washington  \n",
       "1 2007-10-08 12:00:00    United States, New York  \n",
       "2 2005-05-18 12:00:00           Northern Ireland  \n",
       "3 2004-11-25 12:00:00           Northern Ireland  \n",
       "4 2003-11-20 12:00:00           Northern Ireland  "
      ]
     },
     "execution_count": 142,
     "metadata": {},
     "output_type": "execute_result"
    }
   ],
   "source": [
    "BA_users = pd.read_csv(os.path.join(DATA_BeerAdvocate, \"users.csv\"), \n",
    "                       converters={\"joined\": convert_timestamp}\n",
    "                       )\n",
    "print(BA_users.shape)\n",
    "BA_users.head()"
   ]
  },
  {
   "cell_type": "markdown",
   "metadata": {},
   "source": [
    "### ratings.txt"
   ]
  },
  {
   "cell_type": "code",
   "execution_count": 106,
   "metadata": {},
   "outputs": [
    {
     "name": "stdout",
     "output_type": "stream",
     "text": [
      "(8393032, 17)\n"
     ]
    }
   ],
   "source": [
    "BA_ratings = pd.DataFrame()\n",
    "if not CSV_DOWNLOAD:\n",
    "    # read in the .txt\n",
    "    BA_ratings = read_ratings_txt(DATA_BeerAdvocate, \"ratings.txt\")\n",
    "    print(BA_ratings.shape)\n",
    "    BA_ratings.head()\n",
    "\n",
    "\n",
    "    #BA_ratings['text'] = BA_ratings['text'].apply(lambda x: ud.unidecode(x))       # doesnt work because there is floats, like prices in the reviews\n",
    "\n",
    "    # fix the encoding issues manually\n",
    "    BA_ratings['text'] = (BA_ratings['text'].str.replace('Ã³', 'ó')     # replacing the unicodes manually\n",
    "                    .str.replace('Ã¡', 'á')\n",
    "                    .str.replace('Ã©', 'é')\n",
    "                    .str.replace('Å‚', 'ł')\n",
    "                    .str.replace(\"Ã¢Â€Â™\", \"’\")\n",
    "                    .str.replace('Ã±', 'ñ')\n",
    "                    .str.replace('Ã\\xad','í')\n",
    "                    .str.replace('Ã¶', 'ö')\n",
    "                    .str.replace(\"Ã¤\", \"ä\")\n",
    "                    .str.replace(\"Ã¥\", \"å\")\n",
    "                    .str.replace(\"Ã¶\", \"ö\")\n",
    "                    .str.replace(\"Ã¸\", \"ø\")\n",
    "                    .str.replace(\"Ã¦\", \"æ\")\n",
    "                    .str.replace('Ã\\x9f', 'ß')\n",
    "                    .str.replace(\"Ã¨\", \"è\")\n",
    "                    .str.replace('Â£', '£')\n",
    "                    .str.replace('â\\x80\\x93', '-')\n",
    "                    .str.replace(\"Ã´\", \"ô\")\n",
    "                    .str.replace(\"â\\x80\\x99\", \"’\")\n",
    "                    .str.replace(\"Ã¼\", \"ü\")\n",
    "                    .str.replace(\"Â\\xa0\", \"\")\n",
    "                    .str.replace(\"\\xa0\", \" \")\n",
    "                    .str.replace(\"[email\\xa0protected]/*  */\", \"\")\n",
    "                    .str.replace('Ã®', 'î')\n",
    "                    .str.replace('Ãª', 'ê')\n",
    "                    .str.replace('Ã»', 'û')\n",
    "                    .str.replace('Ã\\x87', 'Ç')\n",
    "                    .str.replace('Ã§', 'ç')\n",
    "                    .str.replace('Ã', 'à')\n",
    "                    .str.replace('Ã¢', 'â')\n",
    "                    .str.replace('Ã¯', 'ï'))   \n",
    "\n",
    "\n",
    "    # create a csv from BA_ratings\n",
    "    BA_ratings.to_csv(os.path.join(DATA_BeerAdvocate, \"BA_ratings.csv\"), index=False, encoding='utf-8')"
   ]
  },
  {
   "cell_type": "markdown",
   "metadata": {},
   "source": [
    "another idea: COULD have the chunk below in  separate function,\n",
    "\n",
    "also just keep the  .str.replace(\"[email\\xa0protected]/*  */\", \"\") part"
   ]
  },
  {
   "cell_type": "code",
   "execution_count": 128,
   "metadata": {},
   "outputs": [
    {
     "name": "stdout",
     "output_type": "stream",
     "text": [
      "(8393032, 17)\n"
     ]
    }
   ],
   "source": [
    "if CSV_DOWNLOAD:\n",
    "    # read in new BA_ratings.csv\n",
    "    BA_ratings = pd.read_csv(os.path.join(DATA_BeerAdvocate, \"BA_ratings.csv\"), header=0, low_memory=False ,encoding='utf-8')\n",
    "    print(BA_ratings.shape)"
   ]
  },
  {
   "cell_type": "code",
   "execution_count": 139,
   "metadata": {},
   "outputs": [
    {
     "data": {
      "text/plain": [
       "' A: snifter. pours a dark rich brown, practically black. a light tan head on top and a low retention rate. light lacing.S: coconut, cherries, vanilla and roasted malts, chocolate and caramel. light coffee hints. huge peaty whiskey aromas. T: tastes like heaven. outstanding old ale, best yet IMO. coconut, vanilla, cherries, bourbon/scotch flavors. some light chocolate and toffee. hints of coffee. M: medium body, low carbonation. huge roasted and barrel aged palate. so intense.D: i could literally drink maybe 3 of these, but a dozen is my goal....absolutely delicious. worth getting...you better believe it!'"
      ]
     },
     "metadata": {},
     "output_type": "display_data"
    }
   ],
   "source": [
    "# testing of the text format, can skip\n",
    "for i in range(4999, 5000):\n",
    "    display(BA_ratings['text'][i])"
   ]
  },
  {
   "cell_type": "code",
   "execution_count": 26,
   "metadata": {},
   "outputs": [
    {
     "data": {
      "text/html": [
       "<div>\n",
       "<style scoped>\n",
       "    .dataframe tbody tr th:only-of-type {\n",
       "        vertical-align: middle;\n",
       "    }\n",
       "\n",
       "    .dataframe tbody tr th {\n",
       "        vertical-align: top;\n",
       "    }\n",
       "\n",
       "    .dataframe thead th {\n",
       "        text-align: right;\n",
       "    }\n",
       "</style>\n",
       "<table border=\"1\" class=\"dataframe\">\n",
       "  <thead>\n",
       "    <tr style=\"text-align: right;\">\n",
       "      <th></th>\n",
       "      <th>beer_name</th>\n",
       "      <th>beer_id</th>\n",
       "      <th>brewery_name</th>\n",
       "      <th>brewery_id</th>\n",
       "      <th>style</th>\n",
       "      <th>abv</th>\n",
       "      <th>date</th>\n",
       "      <th>user_name</th>\n",
       "      <th>user_id</th>\n",
       "      <th>appearance</th>\n",
       "      <th>aroma</th>\n",
       "      <th>palate</th>\n",
       "      <th>taste</th>\n",
       "      <th>overall</th>\n",
       "      <th>rating</th>\n",
       "      <th>text</th>\n",
       "      <th>review</th>\n",
       "    </tr>\n",
       "  </thead>\n",
       "  <tbody>\n",
       "    <tr>\n",
       "      <th>0</th>\n",
       "      <td>Régab</td>\n",
       "      <td>142544</td>\n",
       "      <td>Societe des Brasseries du Gabon (SOBRAGA)</td>\n",
       "      <td>37262</td>\n",
       "      <td>Euro Pale Lager</td>\n",
       "      <td>4.5</td>\n",
       "      <td>2015-08-20 10:00:00</td>\n",
       "      <td>nmann08</td>\n",
       "      <td>nmann08.184925</td>\n",
       "      <td>3.25</td>\n",
       "      <td>2.75</td>\n",
       "      <td>3.25</td>\n",
       "      <td>2.75</td>\n",
       "      <td>3.0</td>\n",
       "      <td>2.88</td>\n",
       "      <td>From a bottle, pours a piss yellow color with...</td>\n",
       "      <td>True</td>\n",
       "    </tr>\n",
       "    <tr>\n",
       "      <th>1</th>\n",
       "      <td>Barelegs Brew</td>\n",
       "      <td>19590</td>\n",
       "      <td>Strangford Lough Brewing Company Ltd</td>\n",
       "      <td>10093</td>\n",
       "      <td>English Pale Ale</td>\n",
       "      <td>4.5</td>\n",
       "      <td>2009-02-20 11:00:00</td>\n",
       "      <td>StJamesGate</td>\n",
       "      <td>stjamesgate.163714</td>\n",
       "      <td>3.0</td>\n",
       "      <td>3.5</td>\n",
       "      <td>3.5</td>\n",
       "      <td>4.0</td>\n",
       "      <td>3.5</td>\n",
       "      <td>3.67</td>\n",
       "      <td>Pours pale copper with a thin head that quick...</td>\n",
       "      <td>True</td>\n",
       "    </tr>\n",
       "    <tr>\n",
       "      <th>2</th>\n",
       "      <td>Barelegs Brew</td>\n",
       "      <td>19590</td>\n",
       "      <td>Strangford Lough Brewing Company Ltd</td>\n",
       "      <td>10093</td>\n",
       "      <td>English Pale Ale</td>\n",
       "      <td>4.5</td>\n",
       "      <td>2006-03-13 11:00:00</td>\n",
       "      <td>mdagnew</td>\n",
       "      <td>mdagnew.19527</td>\n",
       "      <td>4.0</td>\n",
       "      <td>3.5</td>\n",
       "      <td>3.5</td>\n",
       "      <td>4.0</td>\n",
       "      <td>3.5</td>\n",
       "      <td>3.73</td>\n",
       "      <td>500ml Bottle bought from The Vintage, Antrim....</td>\n",
       "      <td>True</td>\n",
       "    </tr>\n",
       "    <tr>\n",
       "      <th>3</th>\n",
       "      <td>Barelegs Brew</td>\n",
       "      <td>19590</td>\n",
       "      <td>Strangford Lough Brewing Company Ltd</td>\n",
       "      <td>10093</td>\n",
       "      <td>English Pale Ale</td>\n",
       "      <td>4.5</td>\n",
       "      <td>2004-12-01 11:00:00</td>\n",
       "      <td>helloloser12345</td>\n",
       "      <td>helloloser12345.10867</td>\n",
       "      <td>4.0</td>\n",
       "      <td>3.5</td>\n",
       "      <td>4.0</td>\n",
       "      <td>4.0</td>\n",
       "      <td>4.5</td>\n",
       "      <td>3.98</td>\n",
       "      <td>Serving: 500ml brown bottlePour: Good head wi...</td>\n",
       "      <td>True</td>\n",
       "    </tr>\n",
       "    <tr>\n",
       "      <th>4</th>\n",
       "      <td>Barelegs Brew</td>\n",
       "      <td>19590</td>\n",
       "      <td>Strangford Lough Brewing Company Ltd</td>\n",
       "      <td>10093</td>\n",
       "      <td>English Pale Ale</td>\n",
       "      <td>4.5</td>\n",
       "      <td>2004-08-30 10:00:00</td>\n",
       "      <td>cypressbob</td>\n",
       "      <td>cypressbob.3708</td>\n",
       "      <td>4.0</td>\n",
       "      <td>4.0</td>\n",
       "      <td>4.0</td>\n",
       "      <td>4.0</td>\n",
       "      <td>4.0</td>\n",
       "      <td>4.00</td>\n",
       "      <td>500ml bottlePours with a light, slightly hazy...</td>\n",
       "      <td>True</td>\n",
       "    </tr>\n",
       "  </tbody>\n",
       "</table>\n",
       "</div>"
      ],
      "text/plain": [
       "        beer_name  beer_id                                brewery_name  \\\n",
       "0           Régab   142544   Societe des Brasseries du Gabon (SOBRAGA)   \n",
       "1   Barelegs Brew    19590        Strangford Lough Brewing Company Ltd   \n",
       "2   Barelegs Brew    19590        Strangford Lough Brewing Company Ltd   \n",
       "3   Barelegs Brew    19590        Strangford Lough Brewing Company Ltd   \n",
       "4   Barelegs Brew    19590        Strangford Lough Brewing Company Ltd   \n",
       "\n",
       "  brewery_id              style   abv                 date         user_name  \\\n",
       "0      37262    Euro Pale Lager   4.5  2015-08-20 10:00:00           nmann08   \n",
       "1      10093   English Pale Ale   4.5  2009-02-20 11:00:00       StJamesGate   \n",
       "2      10093   English Pale Ale   4.5  2006-03-13 11:00:00           mdagnew   \n",
       "3      10093   English Pale Ale   4.5  2004-12-01 11:00:00   helloloser12345   \n",
       "4      10093   English Pale Ale   4.5  2004-08-30 10:00:00        cypressbob   \n",
       "\n",
       "                  user_id appearance  aroma palate  taste overall rating  \\\n",
       "0          nmann08.184925       3.25   2.75   3.25   2.75     3.0   2.88   \n",
       "1      stjamesgate.163714        3.0    3.5    3.5    4.0     3.5   3.67   \n",
       "2           mdagnew.19527        4.0    3.5    3.5    4.0     3.5   3.73   \n",
       "3   helloloser12345.10867        4.0    3.5    4.0    4.0     4.5   3.98   \n",
       "4         cypressbob.3708        4.0    4.0    4.0    4.0     4.0   4.00   \n",
       "\n",
       "                                                text review  \n",
       "0   From a bottle, pours a piss yellow color with...   True  \n",
       "1   Pours pale copper with a thin head that quick...   True  \n",
       "2   500ml Bottle bought from The Vintage, Antrim....   True  \n",
       "3   Serving: 500ml brown bottlePour: Good head wi...   True  \n",
       "4   500ml bottlePours with a light, slightly hazy...   True  "
      ]
     },
     "execution_count": 26,
     "metadata": {},
     "output_type": "execute_result"
    }
   ],
   "source": [
    "BA_ratings.head()"
   ]
  },
  {
   "cell_type": "markdown",
   "metadata": {},
   "source": [
    "### reviews.txt"
   ]
  },
  {
   "cell_type": "code",
   "execution_count": 107,
   "metadata": {},
   "outputs": [],
   "source": [
    "BA_reviews = pd.DataFrame()\n",
    "if not CSV_DOWNLOAD:\n",
    "    # read the .txt file\n",
    "    BA_reviews = read_reviews_txt(DATA_BeerAdvocate, \"reviews.txt\")\n",
    "    BA_reviews.head(), BA_reviews.shape\n",
    "\n",
    "    # fix the encoding issues manually\n",
    "    BA_reviews['text'] = (BA_reviews['text'].str.replace('Ã³', 'ó')\n",
    "                        .str.replace('Ã¡', 'á')\n",
    "                        .str.replace('Ã©', 'é')\n",
    "                        .str.replace('Å‚', 'ł')\n",
    "                        .str.replace(\"Ã¢Â€Â™\", \"’\")\n",
    "                        .str.replace('Ã±', 'ñ')\n",
    "                        .str.replace('Ã\\xad','í')\n",
    "                        .str.replace('Ã¶', 'ö')\n",
    "                        .str.replace(\"Ã¤\", \"ä\")\n",
    "                        .str.replace(\"Ã¥\", \"å\")\n",
    "                        .str.replace(\"Ã¶\", \"ö\")\n",
    "                        .str.replace(\"Ã¸\", \"ø\")\n",
    "                        .str.replace(\"Ã¦\", \"æ\")\n",
    "                        .str.replace('Ã\\x9f', 'ß')\n",
    "                        .str.replace(\"Ã¨\", \"è\")\n",
    "                        .str.replace('Â£', '£')\n",
    "                        .str.replace('â\\x80\\x93', '-')\n",
    "                        .str.replace(\"Ã´\", \"ô\")\n",
    "                        .str.replace(\"â\\x80\\x99\", \"’\")\n",
    "                        .str.replace(\"Ã¼\", \"ü\")\n",
    "                        .str.replace(\"Â\\xa0\", \"\")\n",
    "                        .str.replace(\"\\xa0\", \" \")\n",
    "                        .str.replace(\"[email\\xa0protected]/*  */\", \"\")\n",
    "                        .str.replace('Ã®', 'î')\n",
    "                        .str.replace('Ãª', 'ê')\n",
    "                        .str.replace('Ã»', 'û')\n",
    "                        .str.replace('Ã\\x87', 'Ç')\n",
    "                        .str.replace('Ã§', 'ç')\n",
    "                        .str.replace('Ã', 'à')\n",
    "                        .str.replace('Ã¢', 'â')\n",
    "                        .str.replace('Ã¯', 'ï'))    \n",
    "\n",
    "    # write the csv file\n",
    "    BA_reviews.to_csv(os.path.join(DATA_BeerAdvocate, \"BA_reviews.csv\"), index=False, encoding='utf-8')"
   ]
  },
  {
   "cell_type": "code",
   "execution_count": 129,
   "metadata": {},
   "outputs": [
    {
     "name": "stdout",
     "output_type": "stream",
     "text": [
      "(2589586, 16)\n"
     ]
    }
   ],
   "source": [
    "if CSV_DOWNLOAD:\n",
    "    # read back in the csv file\n",
    "    BA_reviews = pd.read_csv(os.path.join(DATA_BeerAdvocate, \"BA_reviews.csv\"), header=0, low_memory=False ,encoding='utf-8')\n",
    "    print(BA_reviews.shape)"
   ]
  },
  {
   "cell_type": "markdown",
   "metadata": {},
   "source": [
    "## <span style=\"color: green;\">RateBeer (RB) Dataset</span>"
   ]
  },
  {
   "cell_type": "markdown",
   "metadata": {},
   "source": [
    "### beers.csv"
   ]
  },
  {
   "cell_type": "code",
   "execution_count": 116,
   "metadata": {},
   "outputs": [
    {
     "name": "stdout",
     "output_type": "stream",
     "text": [
      "(442081, 14)\n"
     ]
    },
    {
     "data": {
      "text/html": [
       "<div>\n",
       "<style scoped>\n",
       "    .dataframe tbody tr th:only-of-type {\n",
       "        vertical-align: middle;\n",
       "    }\n",
       "\n",
       "    .dataframe tbody tr th {\n",
       "        vertical-align: top;\n",
       "    }\n",
       "\n",
       "    .dataframe thead th {\n",
       "        text-align: right;\n",
       "    }\n",
       "</style>\n",
       "<table border=\"1\" class=\"dataframe\">\n",
       "  <thead>\n",
       "    <tr style=\"text-align: right;\">\n",
       "      <th></th>\n",
       "      <th>beer_id</th>\n",
       "      <th>beer_name</th>\n",
       "      <th>brewery_id</th>\n",
       "      <th>brewery_name</th>\n",
       "      <th>style</th>\n",
       "      <th>nbr_ratings</th>\n",
       "      <th>overall_score</th>\n",
       "      <th>style_score</th>\n",
       "      <th>avg</th>\n",
       "      <th>abv</th>\n",
       "      <th>avg_computed</th>\n",
       "      <th>zscore</th>\n",
       "      <th>nbr_matched_valid_ratings</th>\n",
       "      <th>avg_matched_valid_ratings</th>\n",
       "    </tr>\n",
       "  </thead>\n",
       "  <tbody>\n",
       "    <tr>\n",
       "      <th>0</th>\n",
       "      <td>410549</td>\n",
       "      <td>33 Export (Gabon)</td>\n",
       "      <td>3198</td>\n",
       "      <td>Sobraga</td>\n",
       "      <td>Pale Lager</td>\n",
       "      <td>1</td>\n",
       "      <td>NaN</td>\n",
       "      <td>NaN</td>\n",
       "      <td>2.72</td>\n",
       "      <td>5.0</td>\n",
       "      <td>2.000000</td>\n",
       "      <td>NaN</td>\n",
       "      <td>0</td>\n",
       "      <td>NaN</td>\n",
       "    </tr>\n",
       "    <tr>\n",
       "      <th>1</th>\n",
       "      <td>105273</td>\n",
       "      <td>Castel Beer (Gabon)</td>\n",
       "      <td>3198</td>\n",
       "      <td>Sobraga</td>\n",
       "      <td>Pale Lager</td>\n",
       "      <td>10</td>\n",
       "      <td>5.0</td>\n",
       "      <td>58.0</td>\n",
       "      <td>2.18</td>\n",
       "      <td>5.2</td>\n",
       "      <td>1.910000</td>\n",
       "      <td>NaN</td>\n",
       "      <td>0</td>\n",
       "      <td>NaN</td>\n",
       "    </tr>\n",
       "    <tr>\n",
       "      <th>2</th>\n",
       "      <td>19445</td>\n",
       "      <td>Régab</td>\n",
       "      <td>3198</td>\n",
       "      <td>Sobraga</td>\n",
       "      <td>Pale Lager</td>\n",
       "      <td>27</td>\n",
       "      <td>1.0</td>\n",
       "      <td>22.0</td>\n",
       "      <td>1.83</td>\n",
       "      <td>4.5</td>\n",
       "      <td>1.811111</td>\n",
       "      <td>NaN</td>\n",
       "      <td>0</td>\n",
       "      <td>NaN</td>\n",
       "    </tr>\n",
       "    <tr>\n",
       "      <th>3</th>\n",
       "      <td>155699</td>\n",
       "      <td>Ards Bally Black Stout</td>\n",
       "      <td>13538</td>\n",
       "      <td>Ards Brewing Co.</td>\n",
       "      <td>Stout</td>\n",
       "      <td>6</td>\n",
       "      <td>NaN</td>\n",
       "      <td>NaN</td>\n",
       "      <td>3.18</td>\n",
       "      <td>4.6</td>\n",
       "      <td>3.866667</td>\n",
       "      <td>0.823699</td>\n",
       "      <td>6</td>\n",
       "      <td>3.866667</td>\n",
       "    </tr>\n",
       "    <tr>\n",
       "      <th>4</th>\n",
       "      <td>239097</td>\n",
       "      <td>Ards Belfast 366</td>\n",
       "      <td>13538</td>\n",
       "      <td>Ards Brewing Co.</td>\n",
       "      <td>Golden Ale/Blond Ale</td>\n",
       "      <td>1</td>\n",
       "      <td>NaN</td>\n",
       "      <td>NaN</td>\n",
       "      <td>2.79</td>\n",
       "      <td>4.2</td>\n",
       "      <td>3.000000</td>\n",
       "      <td>NaN</td>\n",
       "      <td>0</td>\n",
       "      <td>NaN</td>\n",
       "    </tr>\n",
       "  </tbody>\n",
       "</table>\n",
       "</div>"
      ],
      "text/plain": [
       "   beer_id               beer_name  brewery_id      brewery_name  \\\n",
       "0   410549       33 Export (Gabon)        3198           Sobraga   \n",
       "1   105273     Castel Beer (Gabon)        3198           Sobraga   \n",
       "2    19445                   Régab        3198           Sobraga   \n",
       "3   155699  Ards Bally Black Stout       13538  Ards Brewing Co.   \n",
       "4   239097        Ards Belfast 366       13538  Ards Brewing Co.   \n",
       "\n",
       "                  style  nbr_ratings  overall_score  style_score   avg  abv  \\\n",
       "0            Pale Lager            1            NaN          NaN  2.72  5.0   \n",
       "1            Pale Lager           10            5.0         58.0  2.18  5.2   \n",
       "2            Pale Lager           27            1.0         22.0  1.83  4.5   \n",
       "3                 Stout            6            NaN          NaN  3.18  4.6   \n",
       "4  Golden Ale/Blond Ale            1            NaN          NaN  2.79  4.2   \n",
       "\n",
       "   avg_computed    zscore  nbr_matched_valid_ratings  \\\n",
       "0      2.000000       NaN                          0   \n",
       "1      1.910000       NaN                          0   \n",
       "2      1.811111       NaN                          0   \n",
       "3      3.866667  0.823699                          6   \n",
       "4      3.000000       NaN                          0   \n",
       "\n",
       "   avg_matched_valid_ratings  \n",
       "0                        NaN  \n",
       "1                        NaN  \n",
       "2                        NaN  \n",
       "3                   3.866667  \n",
       "4                        NaN  "
      ]
     },
     "execution_count": 116,
     "metadata": {},
     "output_type": "execute_result"
    }
   ],
   "source": [
    "# read in the beers.csv file as a DataFrame\n",
    "RB_beers = pd.read_csv(os.path.join(DATA_RateBeer, \"beers.csv\"))\n",
    "print(RB_beers.shape)\n",
    "RB_beers.head()"
   ]
  },
  {
   "cell_type": "markdown",
   "metadata": {},
   "source": [
    "### breweries.csv"
   ]
  },
  {
   "cell_type": "code",
   "execution_count": 117,
   "metadata": {},
   "outputs": [
    {
     "name": "stdout",
     "output_type": "stream",
     "text": [
      "(24189, 4)\n"
     ]
    },
    {
     "data": {
      "text/html": [
       "<div>\n",
       "<style scoped>\n",
       "    .dataframe tbody tr th:only-of-type {\n",
       "        vertical-align: middle;\n",
       "    }\n",
       "\n",
       "    .dataframe tbody tr th {\n",
       "        vertical-align: top;\n",
       "    }\n",
       "\n",
       "    .dataframe thead th {\n",
       "        text-align: right;\n",
       "    }\n",
       "</style>\n",
       "<table border=\"1\" class=\"dataframe\">\n",
       "  <thead>\n",
       "    <tr style=\"text-align: right;\">\n",
       "      <th></th>\n",
       "      <th>id</th>\n",
       "      <th>location</th>\n",
       "      <th>name</th>\n",
       "      <th>nbr_beers</th>\n",
       "    </tr>\n",
       "  </thead>\n",
       "  <tbody>\n",
       "    <tr>\n",
       "      <th>0</th>\n",
       "      <td>3198</td>\n",
       "      <td>Gabon</td>\n",
       "      <td>Sobraga</td>\n",
       "      <td>3</td>\n",
       "    </tr>\n",
       "    <tr>\n",
       "      <th>1</th>\n",
       "      <td>13538</td>\n",
       "      <td>Northern Ireland</td>\n",
       "      <td>Ards Brewing Co.</td>\n",
       "      <td>13</td>\n",
       "    </tr>\n",
       "    <tr>\n",
       "      <th>2</th>\n",
       "      <td>22304</td>\n",
       "      <td>Northern Ireland</td>\n",
       "      <td>Barrahooley Craft Brewery</td>\n",
       "      <td>4</td>\n",
       "    </tr>\n",
       "    <tr>\n",
       "      <th>3</th>\n",
       "      <td>22818</td>\n",
       "      <td>Northern Ireland</td>\n",
       "      <td>Boundary</td>\n",
       "      <td>66</td>\n",
       "    </tr>\n",
       "    <tr>\n",
       "      <th>4</th>\n",
       "      <td>24297</td>\n",
       "      <td>Northern Ireland</td>\n",
       "      <td>Brewbot Belfast</td>\n",
       "      <td>3</td>\n",
       "    </tr>\n",
       "  </tbody>\n",
       "</table>\n",
       "</div>"
      ],
      "text/plain": [
       "      id          location                       name  nbr_beers\n",
       "0   3198             Gabon                    Sobraga          3\n",
       "1  13538  Northern Ireland           Ards Brewing Co.         13\n",
       "2  22304  Northern Ireland  Barrahooley Craft Brewery          4\n",
       "3  22818  Northern Ireland                   Boundary         66\n",
       "4  24297  Northern Ireland            Brewbot Belfast          3"
      ]
     },
     "execution_count": 117,
     "metadata": {},
     "output_type": "execute_result"
    }
   ],
   "source": [
    "RB_breweries = pd.read_csv(os.path.join(DATA_RateBeer, \"breweries.csv\"))\n",
    "print(RB_breweries.shape)\n",
    "RB_breweries.head()"
   ]
  },
  {
   "cell_type": "markdown",
   "metadata": {},
   "source": [
    "### users.csv"
   ]
  },
  {
   "cell_type": "code",
   "execution_count": 118,
   "metadata": {},
   "outputs": [
    {
     "name": "stdout",
     "output_type": "stream",
     "text": [
      "(70174, 5)\n"
     ]
    },
    {
     "data": {
      "text/html": [
       "<div>\n",
       "<style scoped>\n",
       "    .dataframe tbody tr th:only-of-type {\n",
       "        vertical-align: middle;\n",
       "    }\n",
       "\n",
       "    .dataframe tbody tr th {\n",
       "        vertical-align: top;\n",
       "    }\n",
       "\n",
       "    .dataframe thead th {\n",
       "        text-align: right;\n",
       "    }\n",
       "</style>\n",
       "<table border=\"1\" class=\"dataframe\">\n",
       "  <thead>\n",
       "    <tr style=\"text-align: right;\">\n",
       "      <th></th>\n",
       "      <th>nbr_ratings</th>\n",
       "      <th>user_id</th>\n",
       "      <th>user_name</th>\n",
       "      <th>joined</th>\n",
       "      <th>location</th>\n",
       "    </tr>\n",
       "  </thead>\n",
       "  <tbody>\n",
       "    <tr>\n",
       "      <th>0</th>\n",
       "      <td>1890</td>\n",
       "      <td>175852</td>\n",
       "      <td>Manslow</td>\n",
       "      <td>2012-05-20 12:00:00</td>\n",
       "      <td>Poland</td>\n",
       "    </tr>\n",
       "    <tr>\n",
       "      <th>1</th>\n",
       "      <td>89</td>\n",
       "      <td>442761</td>\n",
       "      <td>MAGICuenca91</td>\n",
       "      <td>2017-01-10 12:00:00</td>\n",
       "      <td>Spain</td>\n",
       "    </tr>\n",
       "    <tr>\n",
       "      <th>2</th>\n",
       "      <td>169</td>\n",
       "      <td>288889</td>\n",
       "      <td>Sibarh</td>\n",
       "      <td>2013-11-16 12:00:00</td>\n",
       "      <td>Poland</td>\n",
       "    </tr>\n",
       "    <tr>\n",
       "      <th>3</th>\n",
       "      <td>3371</td>\n",
       "      <td>250510</td>\n",
       "      <td>fombe89</td>\n",
       "      <td>2013-03-22 12:00:00</td>\n",
       "      <td>Spain</td>\n",
       "    </tr>\n",
       "    <tr>\n",
       "      <th>4</th>\n",
       "      <td>13043</td>\n",
       "      <td>122778</td>\n",
       "      <td>kevnic2008</td>\n",
       "      <td>2011-02-02 12:00:00</td>\n",
       "      <td>Germany</td>\n",
       "    </tr>\n",
       "  </tbody>\n",
       "</table>\n",
       "</div>"
      ],
      "text/plain": [
       "   nbr_ratings  user_id     user_name              joined location\n",
       "0         1890   175852       Manslow 2012-05-20 12:00:00   Poland\n",
       "1           89   442761  MAGICuenca91 2017-01-10 12:00:00    Spain\n",
       "2          169   288889        Sibarh 2013-11-16 12:00:00   Poland\n",
       "3         3371   250510       fombe89 2013-03-22 12:00:00    Spain\n",
       "4        13043   122778    kevnic2008 2011-02-02 12:00:00  Germany"
      ]
     },
     "execution_count": 118,
     "metadata": {},
     "output_type": "execute_result"
    }
   ],
   "source": [
    "RB_users = pd.read_csv(os.path.join(DATA_RateBeer, \"users.csv\"),\n",
    "                       converters={\"joined\": convert_timestamp}\n",
    "                       )\n",
    "print(RB_users.shape)\n",
    "RB_users.head()"
   ]
  },
  {
   "cell_type": "markdown",
   "metadata": {},
   "source": [
    "### reviews.txt"
   ]
  },
  {
   "cell_type": "code",
   "execution_count": 108,
   "metadata": {},
   "outputs": [],
   "source": [
    "RB_reviews = pd.DataFrame()\n",
    "if not CSV_DOWNLOAD:\n",
    "    # read in the .txt file\n",
    "    RB_reviews = read_reviews_txt(DATA_RateBeer, \"reviews.txt\")\n",
    "    RB_reviews.head(), RB_reviews.shape\n",
    "\n",
    "    RB_reviews['text'] = (RB_reviews['text'].str.replace('Ã³', 'ó')\n",
    "                        .str.replace('Ã¡', 'á')\n",
    "                        .str.replace('Ã©', 'é')\n",
    "                        .str.replace('Å‚', 'ł')\n",
    "                        .str.replace(\"Ã¢Â€Â™\", \"’\")\n",
    "                        .str.replace('Ã±', 'ñ')\n",
    "                        .str.replace('Ã\\xad','í')\n",
    "                        .str.replace('Ã¶', 'ö')\n",
    "                        .str.replace(\"Ã¤\", \"ä\")\n",
    "                        .str.replace(\"Ã¥\", \"å\")\n",
    "                        .str.replace(\"Ã¶\", \"ö\")\n",
    "                        .str.replace(\"Ã¸\", \"ø\")\n",
    "                        .str.replace(\"Ã¦\", \"æ\")\n",
    "                        .str.replace('Ã\\x9f', 'ß')\n",
    "                        .str.replace(\"Ã¨\", \"è\")\n",
    "                        .str.replace('Â£', '£')\n",
    "                        .str.replace('â\\x80\\x93', '-')\n",
    "                        .str.replace(\"Ã´\", \"ô\")\n",
    "                        .str.replace(\"â\\x80\\x99\", \"’\")\n",
    "                        .str.replace(\"Ã¼\", \"ü\")\n",
    "                        .str.replace(\"Â\\xa0\", \"\")\n",
    "                        .str.replace(\"\\xa0\", \" \")\n",
    "                        .str.replace(\"[email\\xa0protected]/*  */\", \"\")\n",
    "                        .str.replace('Ã®', 'î')\n",
    "                        .str.replace('Ãª', 'ê')\n",
    "                        .str.replace('Ã»', 'û')\n",
    "                        .str.replace('Ã\\x87', 'Ç')\n",
    "                        .str.replace('Ã§', 'ç')\n",
    "                        .str.replace('Ã', 'à')\n",
    "                        .str.replace('Ã¢', 'â')\n",
    "                        .str.replace('Ã¯', 'ï'))  \n",
    "\n",
    "    # write the csv file\n",
    "    RB_reviews.to_csv(os.path.join(DATA_RateBeer, \"RB_reviews.csv\"), index=False, encoding='utf-8')"
   ]
  },
  {
   "cell_type": "code",
   "execution_count": 130,
   "metadata": {},
   "outputs": [
    {
     "name": "stderr",
     "output_type": "stream",
     "text": [
      "C:\\Users\\fulci\\AppData\\Local\\Temp\\ipykernel_14568\\3930797610.py:3: DtypeWarning: Columns (5) have mixed types. Specify dtype option on import or set low_memory=False.\n",
      "  RB_reviews = pd.read_csv(os.path.join(DATA_RateBeer, \"RB_reviews.csv\"), header=0, encoding='utf-8')\n"
     ]
    },
    {
     "name": "stdout",
     "output_type": "stream",
     "text": [
      "(7122074, 16)\n"
     ]
    }
   ],
   "source": [
    "if CSV_DOWNLOAD:\n",
    "    # read back in the reviews csv file\n",
    "    RB_reviews = pd.read_csv(os.path.join(DATA_RateBeer, \"RB_reviews.csv\"), header=0, encoding='utf-8')\n",
    "    print(RB_reviews.shape)"
   ]
  },
  {
   "cell_type": "code",
   "execution_count": 94,
   "metadata": {},
   "outputs": [
    {
     "data": {
      "text/html": [
       "<div>\n",
       "<style scoped>\n",
       "    .dataframe tbody tr th:only-of-type {\n",
       "        vertical-align: middle;\n",
       "    }\n",
       "\n",
       "    .dataframe tbody tr th {\n",
       "        vertical-align: top;\n",
       "    }\n",
       "\n",
       "    .dataframe thead th {\n",
       "        text-align: right;\n",
       "    }\n",
       "</style>\n",
       "<table border=\"1\" class=\"dataframe\">\n",
       "  <thead>\n",
       "    <tr style=\"text-align: right;\">\n",
       "      <th></th>\n",
       "      <th>beer_name</th>\n",
       "      <th>beer_id</th>\n",
       "      <th>brewery_name</th>\n",
       "      <th>brewery_id</th>\n",
       "      <th>style</th>\n",
       "      <th>abv</th>\n",
       "      <th>date</th>\n",
       "      <th>user_name</th>\n",
       "      <th>user_id</th>\n",
       "      <th>appearance</th>\n",
       "      <th>aroma</th>\n",
       "      <th>palate</th>\n",
       "      <th>taste</th>\n",
       "      <th>overall</th>\n",
       "      <th>rating</th>\n",
       "      <th>text</th>\n",
       "    </tr>\n",
       "  </thead>\n",
       "  <tbody>\n",
       "    <tr>\n",
       "      <th>0</th>\n",
       "      <td>33 Export (Gabon)</td>\n",
       "      <td>410549</td>\n",
       "      <td>Sobraga</td>\n",
       "      <td>3198</td>\n",
       "      <td>Pale Lager</td>\n",
       "      <td>5.0</td>\n",
       "      <td>2016-04-26 10:00:00</td>\n",
       "      <td>Manslow</td>\n",
       "      <td>175852</td>\n",
       "      <td>2</td>\n",
       "      <td>4</td>\n",
       "      <td>2</td>\n",
       "      <td>4</td>\n",
       "      <td>8</td>\n",
       "      <td>2.00</td>\n",
       "      <td>Puszka 0,33l dzięki Christoph . Kolor jasnozł...</td>\n",
       "    </tr>\n",
       "    <tr>\n",
       "      <th>1</th>\n",
       "      <td>Castel Beer (Gabon)</td>\n",
       "      <td>105273</td>\n",
       "      <td>Sobraga</td>\n",
       "      <td>3198</td>\n",
       "      <td>Pale Lager</td>\n",
       "      <td>5.2</td>\n",
       "      <td>2017-02-17 11:00:00</td>\n",
       "      <td>MAGICuenca91</td>\n",
       "      <td>442761</td>\n",
       "      <td>2</td>\n",
       "      <td>3</td>\n",
       "      <td>2</td>\n",
       "      <td>4</td>\n",
       "      <td>8</td>\n",
       "      <td>1.90</td>\n",
       "      <td>Cerveza pale lager gabonesa. Más floja que la...</td>\n",
       "    </tr>\n",
       "    <tr>\n",
       "      <th>2</th>\n",
       "      <td>Castel Beer (Gabon)</td>\n",
       "      <td>105273</td>\n",
       "      <td>Sobraga</td>\n",
       "      <td>3198</td>\n",
       "      <td>Pale Lager</td>\n",
       "      <td>5.2</td>\n",
       "      <td>2016-06-24 10:00:00</td>\n",
       "      <td>Sibarh</td>\n",
       "      <td>288889</td>\n",
       "      <td>3</td>\n",
       "      <td>3</td>\n",
       "      <td>2</td>\n",
       "      <td>3</td>\n",
       "      <td>5</td>\n",
       "      <td>1.60</td>\n",
       "      <td>Kolor- złoty, klarowny. Piana - drobna, średn...</td>\n",
       "    </tr>\n",
       "    <tr>\n",
       "      <th>3</th>\n",
       "      <td>Castel Beer (Gabon)</td>\n",
       "      <td>105273</td>\n",
       "      <td>Sobraga</td>\n",
       "      <td>3198</td>\n",
       "      <td>Pale Lager</td>\n",
       "      <td>5.2</td>\n",
       "      <td>2016-01-01 11:00:00</td>\n",
       "      <td>fombe89</td>\n",
       "      <td>250510</td>\n",
       "      <td>4</td>\n",
       "      <td>3</td>\n",
       "      <td>1</td>\n",
       "      <td>2</td>\n",
       "      <td>5</td>\n",
       "      <td>1.50</td>\n",
       "      <td>Botella, de Gabón regalo familiar.31/01/2015C...</td>\n",
       "    </tr>\n",
       "    <tr>\n",
       "      <th>4</th>\n",
       "      <td>Castel Beer (Gabon)</td>\n",
       "      <td>105273</td>\n",
       "      <td>Sobraga</td>\n",
       "      <td>3198</td>\n",
       "      <td>Pale Lager</td>\n",
       "      <td>5.2</td>\n",
       "      <td>2015-10-23 10:00:00</td>\n",
       "      <td>kevnic2008</td>\n",
       "      <td>122778</td>\n",
       "      <td>2</td>\n",
       "      <td>4</td>\n",
       "      <td>2</td>\n",
       "      <td>4</td>\n",
       "      <td>7</td>\n",
       "      <td>1.90</td>\n",
       "      <td>Many thanks for this beer to Erzengel. Pours ...</td>\n",
       "    </tr>\n",
       "  </tbody>\n",
       "</table>\n",
       "</div>"
      ],
      "text/plain": [
       "              beer_name  beer_id brewery_name brewery_id        style   abv  \\\n",
       "0     33 Export (Gabon)   410549      Sobraga       3198   Pale Lager   5.0   \n",
       "1   Castel Beer (Gabon)   105273      Sobraga       3198   Pale Lager   5.2   \n",
       "2   Castel Beer (Gabon)   105273      Sobraga       3198   Pale Lager   5.2   \n",
       "3   Castel Beer (Gabon)   105273      Sobraga       3198   Pale Lager   5.2   \n",
       "4   Castel Beer (Gabon)   105273      Sobraga       3198   Pale Lager   5.2   \n",
       "\n",
       "                  date      user_name  user_id appearance aroma palate taste  \\\n",
       "0  2016-04-26 10:00:00        Manslow   175852          2     4      2     4   \n",
       "1  2017-02-17 11:00:00   MAGICuenca91   442761          2     3      2     4   \n",
       "2  2016-06-24 10:00:00         Sibarh   288889          3     3      2     3   \n",
       "3  2016-01-01 11:00:00        fombe89   250510          4     3      1     2   \n",
       "4  2015-10-23 10:00:00     kevnic2008   122778          2     4      2     4   \n",
       "\n",
       "  overall rating                                               text  \n",
       "0       8   2.00   Puszka 0,33l dzięki Christoph . Kolor jasnozł...  \n",
       "1       8   1.90   Cerveza pale lager gabonesa. Más floja que la...  \n",
       "2       5   1.60   Kolor- złoty, klarowny. Piana - drobna, średn...  \n",
       "3       5   1.50   Botella, de Gabón regalo familiar.31/01/2015C...  \n",
       "4       7   1.90   Many thanks for this beer to Erzengel. Pours ...  "
      ]
     },
     "execution_count": 94,
     "metadata": {},
     "output_type": "execute_result"
    }
   ],
   "source": [
    "RB_reviews.head()"
   ]
  },
  {
   "cell_type": "code",
   "execution_count": null,
   "metadata": {},
   "outputs": [],
   "source": [
    "# testing of the text format, can skip\n",
    "for i in range(480, 550):\n",
    "    display(RB_ratings['text'][i])"
   ]
  },
  {
   "cell_type": "markdown",
   "metadata": {},
   "source": [
    "### ratings.txt <span style=\"color: red;\">(ratings, reviews are equal, can use just ratings)</span>"
   ]
  },
  {
   "cell_type": "code",
   "execution_count": 109,
   "metadata": {},
   "outputs": [],
   "source": [
    "RB_ratings = pd.DataFrame()\n",
    "if not CSV_DOWNLOAD:\n",
    "    # read in the .txt\n",
    "    RB_ratings = read_ratings_txt(DATA_RateBeer, \"ratings.txt\") # has no 'review' column\n",
    "    RB_ratings.head(), RB_ratings.shape\n",
    "\n",
    "    # fix the encoding issues manually\n",
    "    RB_ratings['text'] = (RB_ratings['text'].str.replace('Ã³', 'ó')\n",
    "                        .str.replace('Ã¡', 'á')\n",
    "                        .str.replace('Ã©', 'é')\n",
    "                        .str.replace('Å‚', 'ł')\n",
    "                        .str.replace(\"Ã¢Â€Â™\", \"’\")\n",
    "                        .str.replace('Ã±', 'ñ')\n",
    "                        .str.replace('Ã\\xad','í')\n",
    "                        .str.replace('Ã¶', 'ö')\n",
    "                        .str.replace(\"Ã¤\", \"ä\")\n",
    "                        .str.replace(\"Ã¥\", \"å\")\n",
    "                        .str.replace(\"Ã¶\", \"ö\")\n",
    "                        .str.replace(\"Ã¸\", \"ø\")\n",
    "                        .str.replace(\"Ã¦\", \"æ\")\n",
    "                        .str.replace('Ã\\x9f', 'ß')\n",
    "                        .str.replace(\"Ã¨\", \"è\")\n",
    "                        .str.replace('Â£', '£')\n",
    "                        .str.replace('â\\x80\\x93', '-')\n",
    "                        .str.replace(\"Ã´\", \"ô\")\n",
    "                        .str.replace(\"â\\x80\\x99\", \"’\")\n",
    "                        .str.replace(\"Ã¼\", \"ü\")\n",
    "                        .str.replace(\"Â\\xa0\", \"\")\n",
    "                        .str.replace(\"\\xa0\", \" \")\n",
    "                        .str.replace(\"[email\\xa0protected]/*  */\", \"\")\n",
    "                        .str.replace('Ã®', 'î')\n",
    "                        .str.replace('Ãª', 'ê')\n",
    "                        .str.replace('Ã»', 'û')\n",
    "                        .str.replace('Ã\\x87', 'Ç')\n",
    "                        .str.replace('Ã§', 'ç')\n",
    "                        .str.replace('Ã', 'à')\n",
    "                        .str.replace('Ã¢', 'â')\n",
    "                        .str.replace('Ã¯', 'ï'))    \n",
    "\n",
    "    # write the csv file\n",
    "    RB_ratings.to_csv(os.path.join(DATA_RateBeer, \"RB_rxatings.csv\"), index=False, encoding='utf-8')"
   ]
  },
  {
   "cell_type": "code",
   "execution_count": 131,
   "metadata": {},
   "outputs": [
    {
     "name": "stdout",
     "output_type": "stream",
     "text": [
      "(7122074, 16)\n"
     ]
    }
   ],
   "source": [
    "# only read in reviews\n",
    "if CSV_DOWNLOAD:\n",
    "    # read back in the ratings csv file\n",
    "    RB_ratings = pd.read_csv(os.path.join(DATA_RateBeer, \"RB_ratings.csv\"), header=0, low_memory=False ,encoding='utf-8')\n",
    "    print(RB_ratings.shape)"
   ]
  },
  {
   "cell_type": "code",
   "execution_count": 86,
   "metadata": {},
   "outputs": [
    {
     "data": {
      "text/html": [
       "<div>\n",
       "<style scoped>\n",
       "    .dataframe tbody tr th:only-of-type {\n",
       "        vertical-align: middle;\n",
       "    }\n",
       "\n",
       "    .dataframe tbody tr th {\n",
       "        vertical-align: top;\n",
       "    }\n",
       "\n",
       "    .dataframe thead th {\n",
       "        text-align: right;\n",
       "    }\n",
       "</style>\n",
       "<table border=\"1\" class=\"dataframe\">\n",
       "  <thead>\n",
       "    <tr style=\"text-align: right;\">\n",
       "      <th></th>\n",
       "      <th>beer_name</th>\n",
       "      <th>beer_id</th>\n",
       "      <th>brewery_name</th>\n",
       "      <th>brewery_id</th>\n",
       "      <th>style</th>\n",
       "      <th>abv</th>\n",
       "      <th>date</th>\n",
       "      <th>user_name</th>\n",
       "      <th>user_id</th>\n",
       "      <th>appearance</th>\n",
       "      <th>aroma</th>\n",
       "      <th>palate</th>\n",
       "      <th>taste</th>\n",
       "      <th>overall</th>\n",
       "      <th>rating</th>\n",
       "      <th>text</th>\n",
       "    </tr>\n",
       "  </thead>\n",
       "  <tbody>\n",
       "    <tr>\n",
       "      <th>0</th>\n",
       "      <td>33 Export (Gabon)</td>\n",
       "      <td>410549</td>\n",
       "      <td>Sobraga</td>\n",
       "      <td>3198</td>\n",
       "      <td>Pale Lager</td>\n",
       "      <td>5.0</td>\n",
       "      <td>2016-04-26 10:00:00</td>\n",
       "      <td>Manslow</td>\n",
       "      <td>175852</td>\n",
       "      <td>2</td>\n",
       "      <td>4</td>\n",
       "      <td>2</td>\n",
       "      <td>4</td>\n",
       "      <td>8</td>\n",
       "      <td>2.00</td>\n",
       "      <td>Puszka 0,33l dzięki Christoph . Kolor jasnozł...</td>\n",
       "    </tr>\n",
       "    <tr>\n",
       "      <th>1</th>\n",
       "      <td>Castel Beer (Gabon)</td>\n",
       "      <td>105273</td>\n",
       "      <td>Sobraga</td>\n",
       "      <td>3198</td>\n",
       "      <td>Pale Lager</td>\n",
       "      <td>5.2</td>\n",
       "      <td>2017-02-17 11:00:00</td>\n",
       "      <td>MAGICuenca91</td>\n",
       "      <td>442761</td>\n",
       "      <td>2</td>\n",
       "      <td>3</td>\n",
       "      <td>2</td>\n",
       "      <td>4</td>\n",
       "      <td>8</td>\n",
       "      <td>1.90</td>\n",
       "      <td>Cerveza pale lager gabonesa. Más floja que la...</td>\n",
       "    </tr>\n",
       "    <tr>\n",
       "      <th>2</th>\n",
       "      <td>Castel Beer (Gabon)</td>\n",
       "      <td>105273</td>\n",
       "      <td>Sobraga</td>\n",
       "      <td>3198</td>\n",
       "      <td>Pale Lager</td>\n",
       "      <td>5.2</td>\n",
       "      <td>2016-06-24 10:00:00</td>\n",
       "      <td>Sibarh</td>\n",
       "      <td>288889</td>\n",
       "      <td>3</td>\n",
       "      <td>3</td>\n",
       "      <td>2</td>\n",
       "      <td>3</td>\n",
       "      <td>5</td>\n",
       "      <td>1.60</td>\n",
       "      <td>Kolor- złoty, klarowny. Piana - drobna, średn...</td>\n",
       "    </tr>\n",
       "    <tr>\n",
       "      <th>3</th>\n",
       "      <td>Castel Beer (Gabon)</td>\n",
       "      <td>105273</td>\n",
       "      <td>Sobraga</td>\n",
       "      <td>3198</td>\n",
       "      <td>Pale Lager</td>\n",
       "      <td>5.2</td>\n",
       "      <td>2016-01-01 11:00:00</td>\n",
       "      <td>fombe89</td>\n",
       "      <td>250510</td>\n",
       "      <td>4</td>\n",
       "      <td>3</td>\n",
       "      <td>1</td>\n",
       "      <td>2</td>\n",
       "      <td>5</td>\n",
       "      <td>1.50</td>\n",
       "      <td>Botella, de Gabón regalo familiar.31/01/2015C...</td>\n",
       "    </tr>\n",
       "    <tr>\n",
       "      <th>4</th>\n",
       "      <td>Castel Beer (Gabon)</td>\n",
       "      <td>105273</td>\n",
       "      <td>Sobraga</td>\n",
       "      <td>3198</td>\n",
       "      <td>Pale Lager</td>\n",
       "      <td>5.2</td>\n",
       "      <td>2015-10-23 10:00:00</td>\n",
       "      <td>kevnic2008</td>\n",
       "      <td>122778</td>\n",
       "      <td>2</td>\n",
       "      <td>4</td>\n",
       "      <td>2</td>\n",
       "      <td>4</td>\n",
       "      <td>7</td>\n",
       "      <td>1.90</td>\n",
       "      <td>Many thanks for this beer to Erzengel. Pours ...</td>\n",
       "    </tr>\n",
       "  </tbody>\n",
       "</table>\n",
       "</div>"
      ],
      "text/plain": [
       "              beer_name  beer_id brewery_name brewery_id        style   abv  \\\n",
       "0     33 Export (Gabon)   410549      Sobraga       3198   Pale Lager   5.0   \n",
       "1   Castel Beer (Gabon)   105273      Sobraga       3198   Pale Lager   5.2   \n",
       "2   Castel Beer (Gabon)   105273      Sobraga       3198   Pale Lager   5.2   \n",
       "3   Castel Beer (Gabon)   105273      Sobraga       3198   Pale Lager   5.2   \n",
       "4   Castel Beer (Gabon)   105273      Sobraga       3198   Pale Lager   5.2   \n",
       "\n",
       "                  date      user_name  user_id appearance aroma palate taste  \\\n",
       "0  2016-04-26 10:00:00        Manslow   175852          2     4      2     4   \n",
       "1  2017-02-17 11:00:00   MAGICuenca91   442761          2     3      2     4   \n",
       "2  2016-06-24 10:00:00         Sibarh   288889          3     3      2     3   \n",
       "3  2016-01-01 11:00:00        fombe89   250510          4     3      1     2   \n",
       "4  2015-10-23 10:00:00     kevnic2008   122778          2     4      2     4   \n",
       "\n",
       "  overall rating                                               text  \n",
       "0       8   2.00   Puszka 0,33l dzięki Christoph . Kolor jasnozł...  \n",
       "1       8   1.90   Cerveza pale lager gabonesa. Más floja que la...  \n",
       "2       5   1.60   Kolor- złoty, klarowny. Piana - drobna, średn...  \n",
       "3       5   1.50   Botella, de Gabón regalo familiar.31/01/2015C...  \n",
       "4       7   1.90   Many thanks for this beer to Erzengel. Pours ...  "
      ]
     },
     "execution_count": 86,
     "metadata": {},
     "output_type": "execute_result"
    }
   ],
   "source": [
    "RB_ratings.head()"
   ]
  },
  {
   "cell_type": "code",
   "execution_count": 110,
   "metadata": {},
   "outputs": [
    {
     "data": {
      "text/plain": [
       "' Hazed deep golden color with fine white head. Ok mild aroma with some Belgian yeast, fruity and mild citric. Fine body and a soft carbonation. Fine balance between sweetness and acidity. Fruity, yeast and citric flavor. Nice tasty ale.[On tap @ source]'"
      ]
     },
     "metadata": {},
     "output_type": "display_data"
    },
    {
     "data": {
      "text/plain": [
       "' On tap at the brewpub. Pours pitch black with no head at all. Aroma is weak roast with traces of liquorice. Taste is flat and boring, moderate sweet unfermented worth comes to mind.Watery thin palate, flat carbonated, hope the next brews will be a lot better than this.'"
      ]
     },
     "metadata": {},
     "output_type": "display_data"
    },
    {
     "data": {
      "text/plain": [
       "' #755Tap at the brewery bar. Slightly hazy deep golden to amber body, medium white head. Aroma of cherries, flowers, touch of licorice. Taste is semi-dry, slightly bitter. Flowers, citrusy peel. Medium to full body, moderately carbonated.Good one.'"
      ]
     },
     "metadata": {},
     "output_type": "display_data"
    },
    {
     "data": {
      "text/plain": [
       "' Draught at Brewbot, Belfast. Cloudy, pale amber colored. AROMA- tropical fruit, apricots, strawberries. FLAVOR- neutral, lightly bitter, malty and fruity. Medium to fuller bodied. Tasty.'"
      ]
     },
     "metadata": {},
     "output_type": "display_data"
    },
    {
     "data": {
      "text/plain": [
       "' Bottle shared at Chris & Ruth’s pre GBBF Shindig 07/08/2016. Many thanks to Steve I’ve known. A dark brown / black coloured pour with a dark tan head. Aroma is earthy, coffee, little veg pepper, toasted coconut, creamy roast. Flavour is composed of decent earthy coffee, veg pepper, smooth chocolate malts. Palate is full bodied, creamy, moderate carbonation.'"
      ]
     },
     "metadata": {},
     "output_type": "display_data"
    },
    {
     "data": {
      "text/plain": [
       "' Bottle at MC Zurich. Pours black with a medium beige foam. Aroma is damp cellar, old wine plug, oxidized. Body is medium, damp, sweet, a little sour, lively carbonation. Yuk.'"
      ]
     },
     "metadata": {},
     "output_type": "display_data"
    },
    {
     "data": {
      "text/plain": [
       "' Bottle shared with chriso et all and also a bottle to myself at homeFull bodied, roasty, quite a lot of fruity yeast, coffee not overtly noticable but probably added complexity rather than caffeine. moderate carbonation, roasty. excellent work for a first attempt!'"
      ]
     },
     "metadata": {},
     "output_type": "display_data"
    },
    {
     "data": {
      "text/plain": [
       "' August 2016 - Bottle share at Chriso’s Sunday Shindig. Thanks! As ’Bullhouse El Capitan’, 8%. Opaque black with a foamy brown head. Aroma is coffee and chocolate. Body is smooth with soft carbonation. Taste is earthy, chocolate, coffee, milky instant coffee, hoppy notes with a dry finish. A very good stout. (3.9)'"
      ]
     },
     "metadata": {},
     "output_type": "display_data"
    },
    {
     "data": {
      "text/plain": [
       "' Chris and Ruth’s Shindig 2016, Sunday. Black beer with a nice beige head. Roasted coffee aroma, chocolate, cocoa powder, licorice notes, some tar. Chocolate flavor, licorice, cocoa powder, some tar. Quite ok.'"
      ]
     },
     "metadata": {},
     "output_type": "display_data"
    },
    {
     "data": {
      "text/plain": [
       "' Pre-gbbf-shinding. Trübes dunkel orange braunes Bier mit geringen beigen Schaumkrone. Geruch süß malzig, schokoladig, Kaffee, leicht holzig. Geschmack süß Röstmalzig, schokoladig, Lactose, Kaffee.'"
      ]
     },
     "metadata": {},
     "output_type": "display_data"
    },
    {
     "data": {
      "text/plain": [
       "' bottle at home from emersons,armaghOpaque chocolatey brown-black with dense amber-beige head. rich, chocalate and lactose on the aroma. full bodied, slightly zippy carbonation, red berries, warming booze, but well integrated whiskey character in a well put together beer. This is even more impressive than el capitain'"
      ]
     },
     "metadata": {},
     "output_type": "display_data"
    },
    {
     "data": {
      "text/plain": [
       "' Bottle shared by Beersiveknown @ tasting at his place. Huge thanks Steve! Opaque dark brown to black color, small light brown colored head that diminishes quickly. Smell and taste malts, lightly liquorice, milk chocolate, a bit sweet and perhaps a hint of vanilla. Decent body and carbonation.'"
      ]
     },
     "metadata": {},
     "output_type": "display_data"
    }
   ],
   "source": [
    "# testing of the text format, can skip\n",
    "for i in range(488, 500):\n",
    "    display(RB_ratings['text'][i])"
   ]
  },
  {
   "cell_type": "markdown",
   "metadata": {},
   "source": [
    "## <span style=\"color: green;\">Matched beer (MB) dataset</span> ### <span style=\"color: red;\">can skip, as we read in the full data</span>"
   ]
  },
  {
   "cell_type": "markdown",
   "metadata": {},
   "source": [
    "unless we need matched information"
   ]
  },
  {
   "cell_type": "markdown",
   "metadata": {},
   "source": [
    "### beers.csv"
   ]
  },
  {
   "cell_type": "code",
   "execution_count": 26,
   "metadata": {},
   "outputs": [
    {
     "name": "stdout",
     "output_type": "stream",
     "text": [
      "(45640, 33)\n"
     ]
    },
    {
     "data": {
      "text/html": [
       "<div>\n",
       "<style scoped>\n",
       "    .dataframe tbody tr th:only-of-type {\n",
       "        vertical-align: middle;\n",
       "    }\n",
       "\n",
       "    .dataframe tbody tr th {\n",
       "        vertical-align: top;\n",
       "    }\n",
       "\n",
       "    .dataframe thead th {\n",
       "        text-align: right;\n",
       "    }\n",
       "</style>\n",
       "<table border=\"1\" class=\"dataframe\">\n",
       "  <thead>\n",
       "    <tr style=\"text-align: right;\">\n",
       "      <th></th>\n",
       "      <th>abv</th>\n",
       "      <th>avg</th>\n",
       "      <th>avg_computed</th>\n",
       "      <th>avg_matched_valid_ratings</th>\n",
       "      <th>ba_score</th>\n",
       "      <th>beer_id</th>\n",
       "      <th>beer_name</th>\n",
       "      <th>beer_wout_brewery_name</th>\n",
       "      <th>brewery_id</th>\n",
       "      <th>brewery_name</th>\n",
       "      <th>...</th>\n",
       "      <th>brewery_id.1</th>\n",
       "      <th>brewery_name.1</th>\n",
       "      <th>nbr_matched_valid_ratings.1</th>\n",
       "      <th>nbr_ratings.1</th>\n",
       "      <th>overall_score</th>\n",
       "      <th>style.1</th>\n",
       "      <th>style_score</th>\n",
       "      <th>zscore.1</th>\n",
       "      <th>diff</th>\n",
       "      <th>sim</th>\n",
       "    </tr>\n",
       "  </thead>\n",
       "  <tbody>\n",
       "    <tr>\n",
       "      <th>0</th>\n",
       "      <td>4.8</td>\n",
       "      <td>3.45</td>\n",
       "      <td>3.439867</td>\n",
       "      <td>3.504068</td>\n",
       "      <td>80.0</td>\n",
       "      <td>19827</td>\n",
       "      <td>Legbiter</td>\n",
       "      <td>Legbiter</td>\n",
       "      <td>10093</td>\n",
       "      <td>Strangford Lough Brewing Company Ltd</td>\n",
       "      <td>...</td>\n",
       "      <td>4959</td>\n",
       "      <td>Strangford Lough</td>\n",
       "      <td>89</td>\n",
       "      <td>89</td>\n",
       "      <td>23.0</td>\n",
       "      <td>Golden Ale/Blond Ale</td>\n",
       "      <td>27.0</td>\n",
       "      <td>-0.698304</td>\n",
       "      <td>1.000000</td>\n",
       "      <td>1.0</td>\n",
       "    </tr>\n",
       "    <tr>\n",
       "      <th>1</th>\n",
       "      <td>6.0</td>\n",
       "      <td>3.86</td>\n",
       "      <td>3.888750</td>\n",
       "      <td>3.768333</td>\n",
       "      <td>NaN</td>\n",
       "      <td>20841</td>\n",
       "      <td>St. Patrick's Ale</td>\n",
       "      <td>Patricks Ale St</td>\n",
       "      <td>10093</td>\n",
       "      <td>Strangford Lough Brewing Company Ltd</td>\n",
       "      <td>...</td>\n",
       "      <td>4959</td>\n",
       "      <td>Strangford Lough</td>\n",
       "      <td>11</td>\n",
       "      <td>11</td>\n",
       "      <td>52.0</td>\n",
       "      <td>Irish Ale</td>\n",
       "      <td>79.0</td>\n",
       "      <td>0.005754</td>\n",
       "      <td>0.527141</td>\n",
       "      <td>1.0</td>\n",
       "    </tr>\n",
       "    <tr>\n",
       "      <th>2</th>\n",
       "      <td>4.2</td>\n",
       "      <td>3.56</td>\n",
       "      <td>3.556094</td>\n",
       "      <td>3.580417</td>\n",
       "      <td>82.0</td>\n",
       "      <td>20842</td>\n",
       "      <td>St. Patrick's Best</td>\n",
       "      <td>Patricks Best St</td>\n",
       "      <td>10093</td>\n",
       "      <td>Strangford Lough Brewing Company Ltd</td>\n",
       "      <td>...</td>\n",
       "      <td>4959</td>\n",
       "      <td>Strangford Lough</td>\n",
       "      <td>74</td>\n",
       "      <td>74</td>\n",
       "      <td>26.0</td>\n",
       "      <td>Bitter</td>\n",
       "      <td>25.0</td>\n",
       "      <td>-0.862119</td>\n",
       "      <td>0.527141</td>\n",
       "      <td>1.0</td>\n",
       "    </tr>\n",
       "    <tr>\n",
       "      <th>3</th>\n",
       "      <td>4.8</td>\n",
       "      <td>3.96</td>\n",
       "      <td>3.960000</td>\n",
       "      <td>3.960000</td>\n",
       "      <td>NaN</td>\n",
       "      <td>22659</td>\n",
       "      <td>St. Patrick's Gold</td>\n",
       "      <td>Patricks Gold St</td>\n",
       "      <td>10093</td>\n",
       "      <td>Strangford Lough Brewing Company Ltd</td>\n",
       "      <td>...</td>\n",
       "      <td>4959</td>\n",
       "      <td>Strangford Lough</td>\n",
       "      <td>4</td>\n",
       "      <td>4</td>\n",
       "      <td>NaN</td>\n",
       "      <td>Amber Ale</td>\n",
       "      <td>NaN</td>\n",
       "      <td>-0.758491</td>\n",
       "      <td>0.527141</td>\n",
       "      <td>1.0</td>\n",
       "    </tr>\n",
       "    <tr>\n",
       "      <th>4</th>\n",
       "      <td>4.5</td>\n",
       "      <td>NaN</td>\n",
       "      <td>NaN</td>\n",
       "      <td>NaN</td>\n",
       "      <td>NaN</td>\n",
       "      <td>178681</td>\n",
       "      <td>Sheelin Stout</td>\n",
       "      <td>Stout</td>\n",
       "      <td>32848</td>\n",
       "      <td>The Sheelin Brewery</td>\n",
       "      <td>...</td>\n",
       "      <td>17616</td>\n",
       "      <td>Sheelin</td>\n",
       "      <td>2</td>\n",
       "      <td>2</td>\n",
       "      <td>NaN</td>\n",
       "      <td>Mild Ale</td>\n",
       "      <td>NaN</td>\n",
       "      <td>-0.347271</td>\n",
       "      <td>1.000000</td>\n",
       "      <td>1.0</td>\n",
       "    </tr>\n",
       "  </tbody>\n",
       "</table>\n",
       "<p>5 rows × 33 columns</p>\n",
       "</div>"
      ],
      "text/plain": [
       "   abv   avg  avg_computed  avg_matched_valid_ratings  ba_score  beer_id  \\\n",
       "0  4.8  3.45      3.439867                   3.504068      80.0    19827   \n",
       "1  6.0  3.86      3.888750                   3.768333       NaN    20841   \n",
       "2  4.2  3.56      3.556094                   3.580417      82.0    20842   \n",
       "3  4.8  3.96      3.960000                   3.960000       NaN    22659   \n",
       "4  4.5   NaN           NaN                        NaN       NaN   178681   \n",
       "\n",
       "            beer_name beer_wout_brewery_name  brewery_id  \\\n",
       "0            Legbiter               Legbiter       10093   \n",
       "1   St. Patrick's Ale        Patricks Ale St       10093   \n",
       "2  St. Patrick's Best       Patricks Best St       10093   \n",
       "3  St. Patrick's Gold       Patricks Gold St       10093   \n",
       "4       Sheelin Stout                  Stout       32848   \n",
       "\n",
       "                           brewery_name  ...  brewery_id.1    brewery_name.1  \\\n",
       "0  Strangford Lough Brewing Company Ltd  ...          4959  Strangford Lough   \n",
       "1  Strangford Lough Brewing Company Ltd  ...          4959  Strangford Lough   \n",
       "2  Strangford Lough Brewing Company Ltd  ...          4959  Strangford Lough   \n",
       "3  Strangford Lough Brewing Company Ltd  ...          4959  Strangford Lough   \n",
       "4                   The Sheelin Brewery  ...         17616           Sheelin   \n",
       "\n",
       "   nbr_matched_valid_ratings.1  nbr_ratings.1 overall_score  \\\n",
       "0                           89             89          23.0   \n",
       "1                           11             11          52.0   \n",
       "2                           74             74          26.0   \n",
       "3                            4              4           NaN   \n",
       "4                            2              2           NaN   \n",
       "\n",
       "                style.1  style_score  zscore.1      diff  sim  \n",
       "0  Golden Ale/Blond Ale         27.0 -0.698304  1.000000  1.0  \n",
       "1             Irish Ale         79.0  0.005754  0.527141  1.0  \n",
       "2                Bitter         25.0 -0.862119  0.527141  1.0  \n",
       "3             Amber Ale          NaN -0.758491  0.527141  1.0  \n",
       "4              Mild Ale          NaN -0.347271  1.000000  1.0  \n",
       "\n",
       "[5 rows x 33 columns]"
      ]
     },
     "execution_count": 26,
     "metadata": {},
     "output_type": "execute_result"
    }
   ],
   "source": [
    "# read in the beers.csv file as a DataFrame\n",
    "MB_beers = pd.read_csv(os.path.join(DATA_MatchedBeers, \"beers.csv\"), header=1)\n",
    "print(MB_beers.shape)\n",
    "MB_beers.head()"
   ]
  },
  {
   "cell_type": "markdown",
   "metadata": {},
   "source": [
    "### breweries.csv"
   ]
  },
  {
   "cell_type": "code",
   "execution_count": null,
   "metadata": {},
   "outputs": [],
   "source": [
    "MB_breweries = pd.read_csv(os.path.join(DATA_MatchedBeers, \"breweries.csv\"), header=1)\n",
    "print(MB_breweries.shape)\n",
    "MB_breweries.head()"
   ]
  },
  {
   "cell_type": "markdown",
   "metadata": {},
   "source": [
    "### users.csv"
   ]
  },
  {
   "cell_type": "code",
   "execution_count": null,
   "metadata": {},
   "outputs": [],
   "source": [
    "MB_users = pd.read_csv(os.path.join(DATA_MatchedBeers, \"users.csv\"), header=1, \n",
    "                       converters={\"joined\": convert_timestamp, \"joined.1\": convert_timestamp}  # joined.1 is the RateBeer date, joined is the BeerAdvocate date\n",
    "                       )\n",
    "print(MB_users.shape)\n",
    "MB_users.head()"
   ]
  },
  {
   "cell_type": "markdown",
   "metadata": {},
   "source": [
    "### users_approx.csv"
   ]
  },
  {
   "cell_type": "code",
   "execution_count": null,
   "metadata": {},
   "outputs": [],
   "source": [
    "MB_users_approx = pd.read_csv(os.path.join(DATA_MatchedBeers, \"users.csv\"), header=1,\n",
    "                       converters={\"joined\": convert_timestamp, \"joined.1\": convert_timestamp}  # joined.1 is the RateBeer date, joined is the BeerAdvocate date\n",
    "                       )\n",
    "print(MB_users_approx.shape)\n",
    "MB_users_approx.head()"
   ]
  },
  {
   "cell_type": "markdown",
   "metadata": {},
   "source": [
    "### ratings_ba.txt"
   ]
  },
  {
   "cell_type": "code",
   "execution_count": null,
   "metadata": {},
   "outputs": [],
   "source": [
    "if not CSV_DOWNLOAD:\n",
    "    # read in the .txt file\n",
    "    MB_ratings_ba = read_ratings_txt(DATA_MatchedBeers, \"ratings_ba.txt\") # contains TRUE and FALSE values in the 'review' column  # ratings_ba.review.head(40), \n",
    "    MB_ratings_ba.head(), MB_ratings_ba.shape\n",
    "    \n",
    "    # write the csv file\n",
    "    MB_ratings_ba.to_csv(os.path.join(DATA_MatchedBeers, \"MB_ratings_ba.csv\"), index=False)"
   ]
  },
  {
   "cell_type": "code",
   "execution_count": null,
   "metadata": {},
   "outputs": [],
   "source": [
    "if CSV_DOWNLOAD:\n",
    "    # read back in the ratings csv file\n",
    "    MB_ratings_ba = pd.read_csv(os.path.join(DATA_MatchedBeers, \"MB_ratings_ba.csv\"), header=0)\n",
    "    print(MB_ratings_ba.shape)"
   ]
  },
  {
   "cell_type": "code",
   "execution_count": null,
   "metadata": {},
   "outputs": [],
   "source": [
    "MB_ratings_ba.head()"
   ]
  },
  {
   "cell_type": "markdown",
   "metadata": {},
   "source": [
    "### ratings_with_text_ba.txt"
   ]
  },
  {
   "cell_type": "code",
   "execution_count": null,
   "metadata": {},
   "outputs": [],
   "source": [
    "if not CSV_DOWNLOAD:\n",
    "    # read in the .txt file    \n",
    "    MB_ratings_with_text_ba = read_ratings_txt(DATA_MatchedBeers, \"ratings_with_text_ba.txt\") # contains only TRUE values in the 'review' column # ratings_ba_with_text_ba.review.head(40), \n",
    "    MB_ratings_with_text_ba.head(), MB_ratings_with_text_ba.shape\n",
    "\n",
    "    # write the csv file\n",
    "    MB_ratings_with_text_ba.to_csv(os.path.join(DATA_MatchedBeers, \"MB_ratings_with_text_ba.csv\"), index=False)"
   ]
  },
  {
   "cell_type": "code",
   "execution_count": null,
   "metadata": {},
   "outputs": [],
   "source": [
    "if CSV_DOWNLOAD:\n",
    "    # read back in the ratings csv file\n",
    "    MB_ratings_with_text_ba = pd.read_csv(os.path.join(DATA_MatchedBeers, \"MB_ratings_with_text_ba.csv\"), header=0)\n",
    "    print(MB_ratings_with_text_ba.shape)"
   ]
  },
  {
   "cell_type": "code",
   "execution_count": null,
   "metadata": {},
   "outputs": [],
   "source": [
    "MB_ratings_with_text_ba.head()"
   ]
  },
  {
   "cell_type": "markdown",
   "metadata": {},
   "source": [
    "### ratings_rb.txt"
   ]
  },
  {
   "cell_type": "code",
   "execution_count": null,
   "metadata": {},
   "outputs": [],
   "source": [
    "if not CSV_DOWNLOAD:\n",
    "    # read in the .txt file\n",
    "    MB_ratings_rb = read_ratings_txt(DATA_MatchedBeers, \"ratings_rb.txt\") # contains TRUE and FALSE values in the 'review' column  # ratings_ba.review.head(40), \n",
    "    MB_ratings_rb.head(), MB_ratings_rb.shape\n",
    "\n",
    "    # write the csv file\n",
    "    MB_ratings_rb.to_csv(os.path.join(DATA_MatchedBeers, \"MB_ratings_rb.csv\"), index=False)"
   ]
  },
  {
   "cell_type": "code",
   "execution_count": null,
   "metadata": {},
   "outputs": [],
   "source": [
    "if CSV_DOWNLOAD:\n",
    "    # read back in the ratings csv file\n",
    "    MB_ratings_rb = pd.read_csv(os.path.join(DATA_MatchedBeers, \"MB_ratings_rb.csv\"), header=0)\n",
    "    print(MB_ratings_rb.shape)"
   ]
  },
  {
   "cell_type": "code",
   "execution_count": null,
   "metadata": {},
   "outputs": [],
   "source": [
    "MB_ratings_rb.head()"
   ]
  },
  {
   "cell_type": "markdown",
   "metadata": {},
   "source": [
    "### ratings_with_text_rb.txt"
   ]
  },
  {
   "cell_type": "code",
   "execution_count": null,
   "metadata": {},
   "outputs": [],
   "source": [
    "if not CSV_DOWNLOAD:\n",
    "    # read in the .txt file\n",
    "    MB_ratings_with_text_rb = read_ratings_txt(DATA_MatchedBeers, \"ratings_with_text_rb.txt\") # contains only TRUE values in the 'review' column # ratings_ba_with_text_ba.review.head(40), \n",
    "    MB_ratings_with_text_rb.head(), MB_ratings_with_text_rb.shape\n",
    "\n",
    "    # write the csv file\n",
    "    MB_ratings_with_text_rb.to_csv(os.path.join(DATA_MatchedBeers, \"MB_ratings_with_text_rb.csv\"), index=False)"
   ]
  },
  {
   "cell_type": "code",
   "execution_count": null,
   "metadata": {},
   "outputs": [],
   "source": [
    "if CSV_DOWNLOAD:\n",
    "    # read back in the ratings csv file\n",
    "    MB_ratings_with_text_rb = pd.read_csv(os.path.join(DATA_MatchedBeers, \"MB_ratings_with_text_rb.csv\"), header=0)\n",
    "    print(MB_ratings_with_text_rb.shape)"
   ]
  },
  {
   "cell_type": "code",
   "execution_count": null,
   "metadata": {},
   "outputs": [],
   "source": [
    "MB_ratings_with_text_rb.head()"
   ]
  },
  {
   "cell_type": "markdown",
   "metadata": {},
   "source": [
    "## How similar are the datasets"
   ]
  },
  {
   "cell_type": "markdown",
   "metadata": {},
   "source": [
    "### BA_ratings and BA_reviews"
   ]
  },
  {
   "cell_type": "code",
   "execution_count": 27,
   "metadata": {},
   "outputs": [
    {
     "name": "stdout",
     "output_type": "stream",
     "text": [
      "BA_ratings shape: (8393032, 17)\n",
      "BA_reviews shape: (2589586, 16)\n"
     ]
    }
   ],
   "source": [
    "# print the shape of BA_ratings and RB_ratings\n",
    "print(\"BA_ratings shape:\", BA_ratings.shape)\n",
    "print(\"BA_reviews shape:\", BA_reviews.shape)"
   ]
  },
  {
   "cell_type": "code",
   "execution_count": 28,
   "metadata": {},
   "outputs": [
    {
     "data": {
      "text/plain": [
       "(Index(['beer_name', 'beer_id', 'brewery_name', 'brewery_id', 'style', 'abv',\n",
       "        'date', 'user_name', 'user_id', 'appearance', 'aroma', 'palate',\n",
       "        'taste', 'overall', 'rating', 'text', 'review'],\n",
       "       dtype='object'),\n",
       " Index(['beer_name', 'beer_id', 'brewery_name', 'brewery_id', 'style', 'abv',\n",
       "        'date', 'user_name', 'user_id', 'appearance', 'aroma', 'palate',\n",
       "        'taste', 'overall', 'rating', 'text'],\n",
       "       dtype='object'))"
      ]
     },
     "execution_count": 28,
     "metadata": {},
     "output_type": "execute_result"
    }
   ],
   "source": [
    "#compare their columns\n",
    "BA_ratings.columns, BA_reviews.columns"
   ]
  },
  {
   "cell_type": "code",
   "execution_count": 29,
   "metadata": {},
   "outputs": [
    {
     "data": {
      "text/plain": [
       "Index(['beer_name', 'beer_id', 'brewery_name', 'brewery_id', 'style', 'abv',\n",
       "       'date', 'user_name', 'user_id', 'appearance', 'aroma', 'palate',\n",
       "       'taste', 'overall', 'rating', 'text'],\n",
       "      dtype='object')"
      ]
     },
     "execution_count": 29,
     "metadata": {},
     "output_type": "execute_result"
    }
   ],
   "source": [
    "# drop the review column in ratings\n",
    "BA_ratings_temp = BA_ratings.drop(columns='review').copy()\n",
    "BA_ratings_temp.columns"
   ]
  },
  {
   "cell_type": "code",
   "execution_count": 30,
   "metadata": {},
   "outputs": [],
   "source": [
    "# comparison and create indexes\n",
    "BA_compare = BA_ratings_temp.isin(BA_reviews)"
   ]
  },
  {
   "cell_type": "code",
   "execution_count": 31,
   "metadata": {},
   "outputs": [
    {
     "name": "stdout",
     "output_type": "stream",
     "text": [
      "(8393032, 16)\n"
     ]
    },
    {
     "data": {
      "text/html": [
       "<div>\n",
       "<style scoped>\n",
       "    .dataframe tbody tr th:only-of-type {\n",
       "        vertical-align: middle;\n",
       "    }\n",
       "\n",
       "    .dataframe tbody tr th {\n",
       "        vertical-align: top;\n",
       "    }\n",
       "\n",
       "    .dataframe thead th {\n",
       "        text-align: right;\n",
       "    }\n",
       "</style>\n",
       "<table border=\"1\" class=\"dataframe\">\n",
       "  <thead>\n",
       "    <tr style=\"text-align: right;\">\n",
       "      <th></th>\n",
       "      <th>beer_name</th>\n",
       "      <th>beer_id</th>\n",
       "      <th>brewery_name</th>\n",
       "      <th>brewery_id</th>\n",
       "      <th>style</th>\n",
       "      <th>abv</th>\n",
       "      <th>date</th>\n",
       "      <th>user_name</th>\n",
       "      <th>user_id</th>\n",
       "      <th>appearance</th>\n",
       "      <th>aroma</th>\n",
       "      <th>palate</th>\n",
       "      <th>taste</th>\n",
       "      <th>overall</th>\n",
       "      <th>rating</th>\n",
       "      <th>text</th>\n",
       "    </tr>\n",
       "  </thead>\n",
       "  <tbody>\n",
       "    <tr>\n",
       "      <th>0</th>\n",
       "      <td>True</td>\n",
       "      <td>True</td>\n",
       "      <td>True</td>\n",
       "      <td>True</td>\n",
       "      <td>True</td>\n",
       "      <td>True</td>\n",
       "      <td>True</td>\n",
       "      <td>True</td>\n",
       "      <td>True</td>\n",
       "      <td>True</td>\n",
       "      <td>True</td>\n",
       "      <td>True</td>\n",
       "      <td>True</td>\n",
       "      <td>True</td>\n",
       "      <td>True</td>\n",
       "      <td>True</td>\n",
       "    </tr>\n",
       "    <tr>\n",
       "      <th>1</th>\n",
       "      <td>True</td>\n",
       "      <td>True</td>\n",
       "      <td>True</td>\n",
       "      <td>True</td>\n",
       "      <td>True</td>\n",
       "      <td>True</td>\n",
       "      <td>True</td>\n",
       "      <td>True</td>\n",
       "      <td>True</td>\n",
       "      <td>True</td>\n",
       "      <td>True</td>\n",
       "      <td>True</td>\n",
       "      <td>True</td>\n",
       "      <td>True</td>\n",
       "      <td>True</td>\n",
       "      <td>True</td>\n",
       "    </tr>\n",
       "    <tr>\n",
       "      <th>2</th>\n",
       "      <td>True</td>\n",
       "      <td>True</td>\n",
       "      <td>True</td>\n",
       "      <td>True</td>\n",
       "      <td>True</td>\n",
       "      <td>True</td>\n",
       "      <td>True</td>\n",
       "      <td>True</td>\n",
       "      <td>True</td>\n",
       "      <td>True</td>\n",
       "      <td>True</td>\n",
       "      <td>True</td>\n",
       "      <td>True</td>\n",
       "      <td>True</td>\n",
       "      <td>True</td>\n",
       "      <td>True</td>\n",
       "    </tr>\n",
       "    <tr>\n",
       "      <th>3</th>\n",
       "      <td>True</td>\n",
       "      <td>True</td>\n",
       "      <td>True</td>\n",
       "      <td>True</td>\n",
       "      <td>True</td>\n",
       "      <td>True</td>\n",
       "      <td>True</td>\n",
       "      <td>True</td>\n",
       "      <td>True</td>\n",
       "      <td>True</td>\n",
       "      <td>True</td>\n",
       "      <td>True</td>\n",
       "      <td>True</td>\n",
       "      <td>True</td>\n",
       "      <td>True</td>\n",
       "      <td>True</td>\n",
       "    </tr>\n",
       "    <tr>\n",
       "      <th>4</th>\n",
       "      <td>True</td>\n",
       "      <td>True</td>\n",
       "      <td>True</td>\n",
       "      <td>True</td>\n",
       "      <td>True</td>\n",
       "      <td>True</td>\n",
       "      <td>True</td>\n",
       "      <td>True</td>\n",
       "      <td>True</td>\n",
       "      <td>True</td>\n",
       "      <td>True</td>\n",
       "      <td>True</td>\n",
       "      <td>True</td>\n",
       "      <td>True</td>\n",
       "      <td>True</td>\n",
       "      <td>True</td>\n",
       "    </tr>\n",
       "    <tr>\n",
       "      <th>5</th>\n",
       "      <td>True</td>\n",
       "      <td>True</td>\n",
       "      <td>True</td>\n",
       "      <td>True</td>\n",
       "      <td>True</td>\n",
       "      <td>True</td>\n",
       "      <td>False</td>\n",
       "      <td>False</td>\n",
       "      <td>False</td>\n",
       "      <td>False</td>\n",
       "      <td>False</td>\n",
       "      <td>False</td>\n",
       "      <td>False</td>\n",
       "      <td>False</td>\n",
       "      <td>False</td>\n",
       "      <td>False</td>\n",
       "    </tr>\n",
       "  </tbody>\n",
       "</table>\n",
       "</div>"
      ],
      "text/plain": [
       "   beer_name  beer_id  brewery_name  brewery_id  style   abv   date  \\\n",
       "0       True     True          True        True   True  True   True   \n",
       "1       True     True          True        True   True  True   True   \n",
       "2       True     True          True        True   True  True   True   \n",
       "3       True     True          True        True   True  True   True   \n",
       "4       True     True          True        True   True  True   True   \n",
       "5       True     True          True        True   True  True  False   \n",
       "\n",
       "   user_name  user_id  appearance  aroma  palate  taste  overall  rating  \\\n",
       "0       True     True        True   True    True   True     True    True   \n",
       "1       True     True        True   True    True   True     True    True   \n",
       "2       True     True        True   True    True   True     True    True   \n",
       "3       True     True        True   True    True   True     True    True   \n",
       "4       True     True        True   True    True   True     True    True   \n",
       "5      False    False       False  False   False  False    False   False   \n",
       "\n",
       "    text  \n",
       "0   True  \n",
       "1   True  \n",
       "2   True  \n",
       "3   True  \n",
       "4   True  \n",
       "5  False  "
      ]
     },
     "execution_count": 31,
     "metadata": {},
     "output_type": "execute_result"
    }
   ],
   "source": [
    "print(BA_compare.shape)\n",
    "BA_compare.head(6)"
   ]
  },
  {
   "cell_type": "code",
   "execution_count": 32,
   "metadata": {},
   "outputs": [
    {
     "data": {
      "text/plain": [
       "5"
      ]
     },
     "execution_count": 32,
     "metadata": {},
     "output_type": "execute_result"
    }
   ],
   "source": [
    "# check how many rows have 'True' in all columns\n",
    "BA_compare.eq(True).all(axis=1).sum() # .eq(True) is the same as == True"
   ]
  },
  {
   "cell_type": "markdown",
   "metadata": {},
   "source": [
    "i.e. only the 5 first entries are the same, this works also the other way around:"
   ]
  },
  {
   "cell_type": "code",
   "execution_count": 33,
   "metadata": {},
   "outputs": [],
   "source": [
    "BA_compare_temp = BA_reviews.copy().isin(BA_ratings)"
   ]
  },
  {
   "cell_type": "code",
   "execution_count": 34,
   "metadata": {},
   "outputs": [
    {
     "data": {
      "text/plain": [
       "5"
      ]
     },
     "execution_count": 34,
     "metadata": {},
     "output_type": "execute_result"
    }
   ],
   "source": [
    "BA_compare_temp.eq(True).all(axis=1).sum()"
   ]
  },
  {
   "cell_type": "markdown",
   "metadata": {},
   "source": [
    "So this means both datasets have to be used, as reviews most likely are not contained in the ratings."
   ]
  },
  {
   "cell_type": "markdown",
   "metadata": {},
   "source": [
    "### RB_ratings and RB_reviews #### <span style=\"color: red;\">previous analysis showed that the datasets are similar</span>"
   ]
  },
  {
   "cell_type": "markdown",
   "metadata": {},
   "source": [
    "Use .equals approach to compare the dataframes directly:"
   ]
  },
  {
   "cell_type": "code",
   "execution_count": null,
   "metadata": {},
   "outputs": [],
   "source": [
    "RB_ratings.equals(RB_reviews)"
   ]
  },
  {
   "cell_type": "markdown",
   "metadata": {},
   "source": [
    "So the assumption that both dataframes are equal is true."
   ]
  },
  {
   "cell_type": "markdown",
   "metadata": {},
   "source": [
    "Just to make sure, that the assumption that the BA_dataframes are really not equal, we go with the same approach:"
   ]
  },
  {
   "cell_type": "code",
   "execution_count": null,
   "metadata": {},
   "outputs": [],
   "source": [
    "BA_ratings.equals(BA_reviews), BA_reviews.equals(BA_ratings)"
   ]
  },
  {
   "cell_type": "markdown",
   "metadata": {},
   "source": [
    "### MatchedBeer with itself and in RateBeer or BeerAd: #### <span style=\"color: red;\"> left out based on the assumption that the datasets represent matching reviews of ratebeer and beeradvisor, we will use the whole data </span> | #### <span style=\"color: pink;\"> however we need to filter out the doubles, or else they will be weighted differently</span>"
   ]
  },
  {
   "cell_type": "markdown",
   "metadata": {},
   "source": [
    "## <span style=\"color: lightgreen;\"> Gluten-free beers and dataset creation</span>"
   ]
  },
  {
   "cell_type": "markdown",
   "metadata": {},
   "source": [
    "### Looking at what beers are gluten-free in RateBeer and BeerAdvocate"
   ]
  },
  {
   "cell_type": "code",
   "execution_count": 132,
   "metadata": {},
   "outputs": [
    {
     "name": "stdout",
     "output_type": "stream",
     "text": [
      "Number of gluten-free beers in RateBeer: 248\n"
     ]
    }
   ],
   "source": [
    "rb_gf_beers=RB_beers[RB_beers['beer_name'].str.contains('gluten',case=False, na=False)]\n",
    "rb_gf_beers_id=rb_gf_beers['beer_id']\n",
    "print(\"Number of gluten-free beers in RateBeer:\",rb_gf_beers.shape[0])"
   ]
  },
  {
   "cell_type": "code",
   "execution_count": 133,
   "metadata": {},
   "outputs": [
    {
     "name": "stdout",
     "output_type": "stream",
     "text": [
      "Number of gluten-free beers in BeerAdvocate: 147\n"
     ]
    }
   ],
   "source": [
    "ba_gf_beers=BA_beers[BA_beers['beer_name'].str.contains('gluten',case=False, na=False)]\n",
    "ba_gf_beers_id=ba_gf_beers['beer_id']\n",
    "print(\"Number of gluten-free beers in BeerAdvocate:\",ba_gf_beers.shape[0])"
   ]
  },
  {
   "cell_type": "code",
   "execution_count": 134,
   "metadata": {},
   "outputs": [
    {
     "name": "stdout",
     "output_type": "stream",
     "text": [
      "there are  21  beers present in both dataset\n",
      "those beers are: \n",
      " ['Glutenberg 8' 'Glutenberg Cuvée Sauvage' 'Glutenberg Double Belge'\n",
      " 'Glutenberg Double IPA' 'Glutenberg Gose'\n",
      " 'Glutenberg Impérial Buchweizen' 'Glutenberg India Pale Ale'\n",
      " 'Glutenberg Myrcène De Glace'\n",
      " 'Glutenberg Myrcène De Glace (Brassin Spécial)' 'Drummond Gluten Free'\n",
      " 'Nickel Brook Bull Eye Gluten Free Pale Ale'\n",
      " 'Puerto Dorado Cerveza Sin Gluten' 'Riedenburger Gluten Frei'\n",
      " 'Neumarkter Lammsbräu Glutenfrei' 'San Miguel Gluten Free'\n",
      " 'Brok Gluten Free' 'Boxer Gluten Free' 'NGB Gluten Free Lager'\n",
      " 'Portsmouth Gluten Minimus Saison' 'Brunehaut Bio Ambrée Gluten Free'\n",
      " 'Slaapmutske Dubbel Glutenvrij']\n"
     ]
    }
   ],
   "source": [
    "#Number of coinciding beers between the two datasets:\n",
    "coinciding_gf_beer=ba_gf_beers['beer_name'].isin(rb_gf_beers['beer_name'])\n",
    "print('there are ', coinciding_gf_beer.sum(),' beers present in both dataset')\n",
    "print('those beers are:','\\n',ba_gf_beers[coinciding_gf_beer]['beer_name'].values)"
   ]
  },
  {
   "cell_type": "markdown",
   "metadata": {},
   "source": [
    "### Creation of review sub-dataset for only gluten-free beers"
   ]
  },
  {
   "cell_type": "code",
   "execution_count": 135,
   "metadata": {},
   "outputs": [],
   "source": [
    "rb_gf_ratings=RB_ratings[RB_ratings['beer_id'].isin(rb_gf_beers_id)]\n",
    "rb_gf_ratings=rb_gf_ratings.merge(RB_users[['user_id','location']],on='user_id') #add location of users\n"
   ]
  },
  {
   "cell_type": "markdown",
   "metadata": {},
   "source": [
    "For BeerAdvocate dataset, user_id are in form of \"user_name.#someID\", which creates problem when trying to merge on it, so we need to convert it to an actual numeric id. Here we will keep the id that is after the dot. This doesn't grant uniqueness of IDs, depleting the duplicates will"
   ]
  },
  {
   "cell_type": "code",
   "execution_count": 143,
   "metadata": {},
   "outputs": [],
   "source": [
    "import re\n",
    "\n",
    "# leave only the numbers in the user_id column (else it wouldnt work)\n",
    "BA_users['user_id'] = BA_users['user_id'].apply(lambda x: re.findall(r'\\.(\\d+)', x)[0]).astype(int)\n",
    "BA_ratings['user_id'] = BA_ratings['user_id'].apply(lambda x: re.findall(r'\\.(\\d+)', x)[0]).astype(int)\n",
    "\n",
    "duplicate_ba_id=BA_users[BA_users['user_id'].duplicated(keep='first')]['user_id']\n",
    "BA_users=BA_users.drop(axis=0, index=duplicate_ba_id.index.values)\n",
    "duplicate_ba_id_indexinratings= BA_ratings[BA_ratings['user_id'].isin(duplicate_ba_id)].index.values #get index of ratings placed by person with duplicate id\n",
    "BA_ratings=BA_ratings.drop(axis=0,index=duplicate_ba_id_indexinratings)\n",
    "\n",
    "ba_gf_ratings=BA_ratings[BA_ratings['beer_id'].isin(ba_gf_beers['beer_id'])]\n",
    "ba_gf_ratings=ba_gf_ratings.merge(BA_users[['user_id','location']],on='user_id')"
   ]
  },
  {
   "cell_type": "markdown",
   "metadata": {},
   "source": [
    "### Change date to year only\n",
    "\n",
    "Output of the timestamp function is not easily useable to look at evolution overtime. To change that, we will only look at the year of the ratings"
   ]
  },
  {
   "cell_type": "code",
   "execution_count": 144,
   "metadata": {},
   "outputs": [],
   "source": [
    "BA_ratings['year']=BA_ratings['date'].apply(lambda x:int(x[:4])) #4 first characters of timestamp is the year the rating was posted\n",
    "ba_gf_ratings['year']=ba_gf_ratings['date'].apply(lambda x:int(x[:4]))\n",
    "\n",
    "RB_ratings['year']=RB_ratings['date'].apply(lambda x:int(x[:4])) #4 first characters of timestamp is the year the rating was posted\n",
    "rb_gf_ratings['year']=rb_gf_ratings['date'].apply(lambda x:int(x[:4]))"
   ]
  },
  {
   "cell_type": "markdown",
   "metadata": {},
   "source": [
    "### Saving the files as csv"
   ]
  },
  {
   "cell_type": "code",
   "execution_count": 145,
   "metadata": {},
   "outputs": [],
   "source": [
    "rb_gf_ratings.to_csv((os.path.join(DATA_RateBeer, \"rb_gf_ratings.csv\")),index=False,header=True,encoding='utf-8')\n",
    "ba_gf_ratings.to_csv((os.path.join(DATA_BeerAdvocate, \"ba_gf_ratings.csv\")),index=False,header=True,encoding='utf-8')"
   ]
  },
  {
   "cell_type": "markdown",
   "metadata": {},
   "source": [
    "# Exploratory Data Analysis"
   ]
  },
  {
   "cell_type": "markdown",
   "metadata": {},
   "source": [
    "## How many languages are covered in the dattaset?"
   ]
  },
  {
   "cell_type": "markdown",
   "metadata": {},
   "source": [
    "### Install requirements and load SpaCY package\n",
    "\n",
    "separate installation :\n",
    "\n",
    "pip install spacy-langdetect\n",
    "\n",
    "pip install spacy\n",
    "\n",
    "spacy download en_core_web_sm"
   ]
  },
  {
   "cell_type": "code",
   "execution_count": 44,
   "metadata": {},
   "outputs": [
    {
     "data": {
      "text/plain": [
       "<spacy_langdetect.spacy_langdetect.LanguageDetector at 0x2a489557c90>"
      ]
     },
     "execution_count": 44,
     "metadata": {},
     "output_type": "execute_result"
    }
   ],
   "source": [
    "import spacy\n",
    "from spacy.language import Language\n",
    "from spacy_langdetect import LanguageDetector\n",
    "\n",
    "def get_lang_detector(nlp, name):\n",
    "    return LanguageDetector()\n",
    "\n",
    "nlp = spacy.load(\"en_core_web_sm\")\n",
    "Language.factory(\"language_detector\", func=get_lang_detector)\n",
    "nlp.add_pipe('language_detector', last=True)"
   ]
  },
  {
   "cell_type": "markdown",
   "metadata": {},
   "source": [
    "### Search in RB_reviews"
   ]
  },
  {
   "cell_type": "code",
   "execution_count": 45,
   "metadata": {},
   "outputs": [
    {
     "name": "stdout",
     "output_type": "stream",
     "text": [
      "{'language': 'en', 'score': 0.9999981113054486}\n"
     ]
    }
   ],
   "source": [
    "text = 'This is an english text.'\n",
    "doc = nlp(text)\n",
    "print(doc._.language)"
   ]
  },
  {
   "cell_type": "code",
   "execution_count": 46,
   "metadata": {},
   "outputs": [],
   "source": [
    "RB_text = RB_reviews['text'][:1000]"
   ]
  },
  {
   "cell_type": "code",
   "execution_count": 47,
   "metadata": {},
   "outputs": [],
   "source": [
    "# needs about 20s for 1000 rows\n",
    "RB_languages = []\n",
    "for row in range(len(RB_text)):\n",
    "    doc = nlp(RB_text[row])\n",
    "    RB_languages.append(doc._.language['language']) "
   ]
  },
  {
   "cell_type": "code",
   "execution_count": 48,
   "metadata": {},
   "outputs": [
    {
     "data": {
      "text/plain": [
       "95.0"
      ]
     },
     "execution_count": 48,
     "metadata": {},
     "output_type": "execute_result"
    }
   ],
   "source": [
    "# test how much en is in lang_result_BA\n",
    "RB_languages.count('en') / len(RB_languages) * 100"
   ]
  },
  {
   "cell_type": "code",
   "execution_count": 49,
   "metadata": {},
   "outputs": [
    {
     "name": "stderr",
     "output_type": "stream",
     "text": [
      "c:\\Users\\fulci\\anaconda3\\Lib\\site-packages\\seaborn\\_oldcore.py:1498: FutureWarning: is_categorical_dtype is deprecated and will be removed in a future version. Use isinstance(dtype, CategoricalDtype) instead\n",
      "  if pd.api.types.is_categorical_dtype(vector):\n",
      "c:\\Users\\fulci\\anaconda3\\Lib\\site-packages\\seaborn\\_oldcore.py:1498: FutureWarning: is_categorical_dtype is deprecated and will be removed in a future version. Use isinstance(dtype, CategoricalDtype) instead\n",
      "  if pd.api.types.is_categorical_dtype(vector):\n",
      "c:\\Users\\fulci\\anaconda3\\Lib\\site-packages\\seaborn\\_oldcore.py:1765: FutureWarning: unique with argument that is not not a Series, Index, ExtensionArray, or np.ndarray is deprecated and will raise in a future version.\n",
      "  order = pd.unique(vector)\n",
      "c:\\Users\\fulci\\anaconda3\\Lib\\site-packages\\seaborn\\_oldcore.py:1498: FutureWarning: is_categorical_dtype is deprecated and will be removed in a future version. Use isinstance(dtype, CategoricalDtype) instead\n",
      "  if pd.api.types.is_categorical_dtype(vector):\n"
     ]
    },
    {
     "data": {
      "image/png": "[encoded data removed]",
      "text/plain": [
       "<Figure size 640x480 with 1 Axes>"
      ]
     },
     "metadata": {},
     "output_type": "display_data"
    }
   ],
   "source": [
    "# display the distribution of languages\n",
    "sns.set_theme(style=\"darkgrid\")\n",
    "ax = sns.countplot(x=RB_languages)\n",
    "ax.set_title('Distribution of languages in RB reviews')\n",
    "ax.set_xlabel('Language')\n",
    "ax.set_ylabel('Number of reviews')\n",
    "plt.show()"
   ]
  },
  {
   "cell_type": "code",
   "execution_count": 50,
   "metadata": {},
   "outputs": [
    {
     "data": {
      "text/plain": [
       "(683, 824)"
      ]
     },
     "execution_count": 50,
     "metadata": {},
     "output_type": "execute_result"
    }
   ],
   "source": [
    "# find other language indexes\n",
    "RB_languages.index('fi'), RB_languages.index('fr')"
   ]
  },
  {
   "cell_type": "code",
   "execution_count": 51,
   "metadata": {},
   "outputs": [
    {
     "name": "stdout",
     "output_type": "stream",
     "text": [
      " Hieman kevyt kaiken kaikkiaan. Tuoksu suht hento. Kevyt suklaa ja paahto. Maku perinteinen stout mutta melko vetinen. Väri todella tumma. \n",
      "\n",
      " Ambrée sombre, petite carbo, petit collet persistant. Aromes de fruits rouges, passion.Mince, resineuse et sèche sur la finale. \n",
      "\n"
     ]
    }
   ],
   "source": [
    "# display other language reviews\n",
    "print(RB_text[RB_languages.index('fi')], '\\n') \n",
    "print(RB_text[RB_languages.index('fr')], '\\n') "
   ]
  },
  {
   "cell_type": "code",
   "execution_count": 52,
   "metadata": {},
   "outputs": [],
   "source": [
    "# display all languages but english\n",
    "RB_languages_without_en = [lang for lang in RB_languages if lang != 'en']"
   ]
  },
  {
   "cell_type": "code",
   "execution_count": 53,
   "metadata": {},
   "outputs": [
    {
     "name": "stderr",
     "output_type": "stream",
     "text": [
      "c:\\Users\\fulci\\anaconda3\\Lib\\site-packages\\seaborn\\_oldcore.py:1498: FutureWarning: is_categorical_dtype is deprecated and will be removed in a future version. Use isinstance(dtype, CategoricalDtype) instead\n",
      "  if pd.api.types.is_categorical_dtype(vector):\n",
      "c:\\Users\\fulci\\anaconda3\\Lib\\site-packages\\seaborn\\_oldcore.py:1498: FutureWarning: is_categorical_dtype is deprecated and will be removed in a future version. Use isinstance(dtype, CategoricalDtype) instead\n",
      "  if pd.api.types.is_categorical_dtype(vector):\n",
      "c:\\Users\\fulci\\anaconda3\\Lib\\site-packages\\seaborn\\_oldcore.py:1765: FutureWarning: unique with argument that is not not a Series, Index, ExtensionArray, or np.ndarray is deprecated and will raise in a future version.\n",
      "  order = pd.unique(vector)\n",
      "c:\\Users\\fulci\\anaconda3\\Lib\\site-packages\\seaborn\\_oldcore.py:1498: FutureWarning: is_categorical_dtype is deprecated and will be removed in a future version. Use isinstance(dtype, CategoricalDtype) instead\n",
      "  if pd.api.types.is_categorical_dtype(vector):\n"
     ]
    },
    {
     "data": {
      "image/png": "[encoded data removed]",
      "text/plain": [
       "<Figure size 640x480 with 1 Axes>"
      ]
     },
     "metadata": {},
     "output_type": "display_data"
    }
   ],
   "source": [
    "# display the distribution of languages without english\n",
    "sns.set_theme(style=\"darkgrid\")\n",
    "ax = sns.countplot(x=RB_languages_without_en)\n",
    "ax.set_title('Distribution of languages in RB reviews')\n",
    "ax.set_xlabel('Language')\n",
    "ax.set_ylabel('Number of reviews')\n",
    "plt.show()"
   ]
  },
  {
   "cell_type": "markdown",
   "metadata": {},
   "source": [
    "## Glutenfree beers vocabulary analysis"
   ]
  },
  {
   "cell_type": "code",
   "execution_count": 126,
   "metadata": {},
   "outputs": [
    {
     "name": "stdout",
     "output_type": "stream",
     "text": [
      "# of samples:  0\n",
      "Index(['beer_name', 'beer_id', 'brewery_name', 'brewery_id', 'style', 'abv',\n",
      "       'date', 'user_name', 'appearance', 'aroma', 'palate', 'taste',\n",
      "       'overall', 'rating', 'text', 'user_id', 'location', 'year'],\n",
      "      dtype='object')\n"
     ]
    },
    {
     "data": {
      "text/html": [
       "<div>\n",
       "<style scoped>\n",
       "    .dataframe tbody tr th:only-of-type {\n",
       "        vertical-align: middle;\n",
       "    }\n",
       "\n",
       "    .dataframe tbody tr th {\n",
       "        vertical-align: top;\n",
       "    }\n",
       "\n",
       "    .dataframe thead th {\n",
       "        text-align: right;\n",
       "    }\n",
       "</style>\n",
       "<table border=\"1\" class=\"dataframe\">\n",
       "  <thead>\n",
       "    <tr style=\"text-align: right;\">\n",
       "      <th></th>\n",
       "      <th>beer_name</th>\n",
       "      <th>beer_id</th>\n",
       "      <th>brewery_name</th>\n",
       "      <th>brewery_id</th>\n",
       "      <th>style</th>\n",
       "      <th>abv</th>\n",
       "      <th>date</th>\n",
       "      <th>user_name</th>\n",
       "      <th>appearance</th>\n",
       "      <th>aroma</th>\n",
       "      <th>palate</th>\n",
       "      <th>taste</th>\n",
       "      <th>overall</th>\n",
       "      <th>rating</th>\n",
       "      <th>text</th>\n",
       "      <th>user_id</th>\n",
       "      <th>location</th>\n",
       "      <th>year</th>\n",
       "    </tr>\n",
       "  </thead>\n",
       "  <tbody>\n",
       "  </tbody>\n",
       "</table>\n",
       "</div>"
      ],
      "text/plain": [
       "Empty DataFrame\n",
       "Columns: [beer_name, beer_id, brewery_name, brewery_id, style, abv, date, user_name, appearance, aroma, palate, taste, overall, rating, text, user_id, location, year]\n",
       "Index: []"
      ]
     },
     "execution_count": 126,
     "metadata": {},
     "output_type": "execute_result"
    }
   ],
   "source": [
    "rb_gf_ratings=pd.read_csv(os.path.join(DATA_RateBeer, 'rb_gf_ratings.csv'), low_memory=False, encoding='utf-8')\n",
    "print(\"# of samples: \", len(rb_gf_ratings))\n",
    "print(rb_gf_ratings.columns)\n",
    "rb_gf_ratings.head()"
   ]
  },
  {
   "cell_type": "code",
   "execution_count": null,
   "metadata": {},
   "outputs": [],
   "source": [
    "# testing of the text format, can skip\n",
    "for i in range(20, 190):\n",
    "    display(rb_gf_ratings['text'][i])"
   ]
  },
  {
   "cell_type": "markdown",
   "metadata": {},
   "source": [
    "## Temporal analysis of glutenfree beers"
   ]
  },
  {
   "cell_type": "markdown",
   "metadata": {},
   "source": [
    "We first counts the number of reviews per year for gluten free beers."
   ]
  },
  {
   "cell_type": "code",
   "execution_count": null,
   "metadata": {},
   "outputs": [],
   "source": [
    "# plot the number of ratings per year\n",
    "# create a Counter\n",
    "number_rating=Counter(glutenfree['year'])\n",
    "# sort by year\n",
    "number_rating_srt=sorted(number_rating.items(), key=lambda pair: pair[0])"
   ]
  },
  {
   "cell_type": "code",
   "execution_count": null,
   "metadata": {},
   "outputs": [],
   "source": [
    "# make a list of ('year', 'number of ratings') tuples\n",
    "plt.figure(figsize=(10,5))\n",
    "plt.bar([x[0] for x in number_rating_srt], [x[1] for x in number_rating_srt])\n",
    "plt.xlabel('Year')\n",
    "plt.ylabel('Number of ratings')\n",
    "plt.title('Temporal analysis of glutenfree beers worldwide')"
   ]
  },
  {
   "cell_type": "markdown",
   "metadata": {},
   "source": [
    "It showed that the ammount of reviews for gluten-free beers is increasing is the evolution of the popularity of the site? Is it because of the increase of total number of reviews in the dataset?"
   ]
  },
  {
   "cell_type": "code",
   "execution_count": null,
   "metadata": {},
   "outputs": [],
   "source": [
    "#we take all the dates of the ratings, we transform them into 'readable' dates. \n",
    "#So that, we can count how many ratings by year, we have.\n",
    "RB_ratings = pd.read_csv(os.path.join(DATA_RateBeer, 'RB_ratings.csv'))"
   ]
  },
  {
   "cell_type": "code",
   "execution_count": null,
   "metadata": {},
   "outputs": [],
   "source": [
    "RB_ratings['date'].head()\n",
    "# format 2016-04-26 10:00:00\n",
    "# get the year \n",
    "RB_year = RB_ratings['date'].str.split('-').str[0]\n",
    "# make it into int\n",
    "RB_year = RB_year.astype(int)\n",
    "RB_year.head()\n"
   ]
  },
  {
   "cell_type": "code",
   "execution_count": null,
   "metadata": {},
   "outputs": [],
   "source": [
    "# generate a Counter object\n",
    "RB_year_count = Counter(RB_year)\n",
    "# order the Counter object by year\n",
    "RB_year_count_srt = sorted(RB_year_count.items(), key=lambda pair: pair[0])\n",
    "RB_year_count_srt"
   ]
  },
  {
   "cell_type": "code",
   "execution_count": null,
   "metadata": {},
   "outputs": [],
   "source": [
    "# plot the number of ratings per year\n",
    "plt.figure(figsize=(10,5))\n",
    "plt.bar([pair[0] for pair in RB_year_count_srt], [pair[1] for pair in RB_year_count_srt])\n",
    "plt.xlabel('Year')\n",
    "plt.ylabel('Count')\n",
    "plt.title('All beers number of ratings per year')\n",
    "plt.show()"
   ]
  },
  {
   "cell_type": "code",
   "execution_count": null,
   "metadata": {},
   "outputs": [],
   "source": [
    "# get the proportion of glutenfree beers reviews, match the year\n",
    "gluten_free_proportion = []\n",
    "for year, count in number_rating_srt:\n",
    "    if year in RB_year_count.keys():\n",
    "        gluten_free_proportion.append((year, count/RB_year_count[year]))\n",
    "\n",
    "gluten_free_proportion\n"
   ]
  },
  {
   "cell_type": "code",
   "execution_count": null,
   "metadata": {},
   "outputs": [],
   "source": [
    "plt.figure(figsize=(10,5))\n",
    "# plot the proportion of glutenfree beers reviews\n",
    "plt.bar([pair[0] for pair in gluten_free_proportion], [pair[1] for pair in gluten_free_proportion])\n",
    "plt.title('Evolution of the proportion of ratings on glutenfree beers')"
   ]
  },
  {
   "cell_type": "markdown",
   "metadata": {},
   "source": [
    "It shows that the increase of gluten-free beers reviews is not due to the increase of the total number of reviews in the dataset."
   ]
  },
  {
   "cell_type": "markdown",
   "metadata": {},
   "source": [
    "Next we will look at the yearly statistics of some of the metrics."
   ]
  },
  {
   "cell_type": "code",
   "execution_count": null,
   "metadata": {},
   "outputs": [],
   "source": [
    "year_mean=glutenfree[['rating','year', 'appearance','aroma','palate','taste','overall']].groupby('year').mean()\n",
    "year_std=glutenfree[['rating','year', 'appearance','aroma','palate','taste','overall']].groupby('year').std()\n",
    "year_sem=glutenfree[['rating','year', 'appearance','aroma','palate','taste','overall']].groupby('year').sem()\n",
    "year_mean"
   ]
  },
  {
   "cell_type": "code",
   "execution_count": null,
   "metadata": {},
   "outputs": [],
   "source": [
    "#We choose to keep only data after 2010, because before 2010, we have not enough data to do statistics\n",
    "after_2010_mean=year_mean[year_mean.index>=2010]\n",
    "after_2010_std=year_std[year_std.index>=2010]\n",
    "after_2010_sem=year_sem[year_sem.index>=2010]\n"
   ]
  },
  {
   "cell_type": "code",
   "execution_count": null,
   "metadata": {},
   "outputs": [],
   "source": [
    "for item in after_2010_mean.columns:\n",
    "    plt.plot(after_2010_mean.index, after_2010_mean[item])\n",
    "    plt.fill_between(after_2010_mean.index, after_2010_mean[item] - 1.96 * after_2010_sem[item], \n",
    "                         after_2010_mean[item] + 1.96 *after_2010_sem[item], alpha=0.25\n",
    "                         , color=\"tab:blue\")\n",
    "    plt.title(item)\n",
    "    plt.show()"
   ]
  },
  {
   "cell_type": "markdown",
   "metadata": {},
   "source": [
    "## Evolution of the number of ratings of glutenfree beers in function of the location"
   ]
  },
  {
   "cell_type": "code",
   "execution_count": null,
   "metadata": {},
   "outputs": [],
   "source": [
    "#we group united states and europeans countries together\n",
    "united_states=glutenfree[glutenfree['location'].str.contains('United States',case=False, na=False)]\n",
    "european_countries = ['France', 'Germany', 'Italy', 'Spain', 'United Kingdom', 'Sweden', 'Norway', 'Denmark']\n",
    "\n",
    "europe= glutenfree[glutenfree['location'].isin(european_countries)]\n",
    "\n",
    "canada=glutenfree[glutenfree['location']==\"Canada\"]\n"
   ]
  },
  {
   "cell_type": "code",
   "execution_count": null,
   "metadata": {},
   "outputs": [],
   "source": [
    "uni=united_states.groupby('year')['beer_name'].count()\n",
    "eur=europe.groupby('year')['beer_name'].count()\n",
    "can=canada.groupby('year')['beer_name'].count()"
   ]
  },
  {
   "cell_type": "code",
   "execution_count": null,
   "metadata": {},
   "outputs": [],
   "source": [
    "plt.bar(uni.index, uni,label='United States')\n",
    "plt.title('Number of ratings per year in the United States')"
   ]
  },
  {
   "cell_type": "code",
   "execution_count": null,
   "metadata": {},
   "outputs": [],
   "source": [
    "plt.bar(eur.index, eur)\n",
    "plt.title('Number of ratings per year in Europe')"
   ]
  },
  {
   "cell_type": "code",
   "execution_count": null,
   "metadata": {},
   "outputs": [],
   "source": [
    "plt.bar(can.index, can)\n",
    "plt.title('Number of ratings per year in Canada')"
   ]
  },
  {
   "cell_type": "markdown",
   "metadata": {},
   "source": [
    "## Elementary analysis on vocabulary employed to describe glutenfree beers"
   ]
  },
  {
   "cell_type": "markdown",
   "metadata": {},
   "source": [
    "After temporal EDA, the next step is to briefly analyze the vocabulary used to describe gluten-free beers. The capability to investigate vocabulary frequency would allow us to understand if there are some specific words that are used to describe gluten-free beers."
   ]
  },
  {
   "cell_type": "code",
   "execution_count": null,
   "metadata": {},
   "outputs": [],
   "source": [
    "text=glutenfree.groupby('year')['text'].sum()\n",
    "text"
   ]
  },
  {
   "cell_type": "code",
   "execution_count": null,
   "metadata": {},
   "outputs": [],
   "source": [
    "# Load the English language model\n",
    "nlp = spacy.load('en_core_web_sm')"
   ]
  },
  {
   "cell_type": "code",
   "execution_count": null,
   "metadata": {},
   "outputs": [],
   "source": [
    "for i in range(2006,2017):\n",
    "    data=text.get(i, '')\n",
    "    doc = nlp(data)\n",
    "    \n",
    "    cleaned_tokens = [token.text.strip() for token in doc if not (token.is_stop or token.is_punct or token.text.isspace())]\n",
    "    word_freq = Counter(cleaned_tokens)\n",
    "    wordcloud = WordCloud(width=800, height=400, background_color='white').generate_from_frequencies(word_freq)\n",
    "\n",
    "    plt.figure(figsize=(10, 5))\n",
    "    plt.imshow(wordcloud, interpolation='bilinear')\n",
    "    plt.title(f'year = {i}')\n",
    "    plt.axis(\"off\")\n",
    "    plt.show()"
   ]
  },
  {
   "cell_type": "markdown",
   "metadata": {},
   "source": [
    "We have to do deeper analysis for the P3: the next step is to keep only adjectives, that are more meaningful, and then do further ananlysis based on these adajectives."
   ]
  },
  {
   "cell_type": "code",
   "execution_count": null,
   "metadata": {},
   "outputs": [],
   "source": [
    "data=text.get(2006, '')\n",
    "doc = nlp(data)\n",
    "    \n",
    "#We clean tokens\n",
    "cleaned_tokens = [token.text.strip() for token in doc if not (token.is_stop or token.is_punct or token.text.isspace())]\n",
    "word_freq = Counter(cleaned_tokens)\n",
    "dim=len(cleaned_tokens)\n",
    "#keep only tokens that appear more than 2 times\n",
    "subset = {key: counter for key, counter in word_freq.items() if counter >= 2}\n",
    "word=pd.DataFrame([subset])/dim\n",
    "\n",
    "#do this for all the years and concatenate informations into 'word'\n",
    "for i in range(2007,2017):\n",
    "    data=text.get(i, '')\n",
    "    doc = nlp(data)\n",
    "        \n",
    "    cleaned_tokens = [token.text.strip() for token in doc if not (token.is_stop or token.is_punct or token.text.isspace())]\n",
    "    word_freq = Counter(cleaned_tokens)\n",
    "    dim=len(cleaned_tokens)\n",
    "    subset = {key: counter for key, counter in word_freq.items() if counter >= 2}\n",
    "    w=pd.DataFrame([subset])/dim\n",
    "    word = pd.concat([word, w], ignore_index=True)\n",
    "    \n",
    "word"
   ]
  },
  {
   "cell_type": "markdown",
   "metadata": {},
   "source": [
    "The rows represents years from 2006, and for each words that often appear, we report its frequency yearly."
   ]
  },
  {
   "cell_type": "code",
   "execution_count": null,
   "metadata": {},
   "outputs": [],
   "source": [
    "each_year=word.T\n",
    "each_year['na']=each_year.isna().sum(axis=1)\n",
    "each_year['na']"
   ]
  },
  {
   "cell_type": "code",
   "execution_count": null,
   "metadata": {},
   "outputs": [],
   "source": [
    "# to do a temporal analysis, we keep only words that appear during several years\n",
    "interest=each_year[each_year['na']<3]\n",
    "interest"
   ]
  },
  {
   "cell_type": "code",
   "execution_count": null,
   "metadata": {},
   "outputs": [],
   "source": [
    "#We aim to analyze whether certain words exhibit significant variability in their frequency of appearance.\n",
    "interest['std']=interest.std(axis=1)\n",
    "wanted=interest[interest['std']>0.6]\n",
    "wanted.sort_values(by='std', ascending=False)\n",
    "wanted.T"
   ]
  },
  {
   "cell_type": "code",
   "execution_count": null,
   "metadata": {},
   "outputs": [],
   "source": [
    "#look at this words\n",
    "wanted.T.columns"
   ]
  },
  {
   "cell_type": "code",
   "execution_count": null,
   "metadata": {},
   "outputs": [],
   "source": [
    "#plot the evolutions of the frequencies of appearance of some interesting words\n",
    "wanted.T['strange'].iloc[:11].plot(kind='bar')"
   ]
  },
  {
   "cell_type": "code",
   "execution_count": null,
   "metadata": {},
   "outputs": [],
   "source": [
    "wanted.T['Sweet'].iloc[:11].plot(kind='bar')"
   ]
  },
  {
   "cell_type": "code",
   "execution_count": null,
   "metadata": {},
   "outputs": [],
   "source": [
    "wanted.T['bad'].iloc[:11].plot(kind='bar')"
   ]
  },
  {
   "cell_type": "markdown",
   "metadata": {},
   "source": [
    "The analysis, we conduct, is just an introduction to see what we could do to identify 'BOBO'. We would proceed the \"Fanciness analysis\" for the next milestone."
   ]
  },
  {
   "cell_type": "markdown",
   "metadata": {},
   "source": [
    "## Diversity of beer style "
   ]
  },
  {
   "cell_type": "code",
   "execution_count": null,
   "metadata": {},
   "outputs": [],
   "source": [
    "\n",
    "beers=pd.read_csv(os.path.join(DATA_RateBeer, 'beers.csv'))\n",
    "breweries=pd.read_csv(os.path.join(DATA_RateBeer, 'breweries.csv'))"
   ]
  },
  {
   "cell_type": "code",
   "execution_count": null,
   "metadata": {},
   "outputs": [],
   "source": [
    "glutenfree_style=glutenfree.groupby('style')['beer_name'].count()\n",
    "glutenfree_style.plot(kind='bar')"
   ]
  },
  {
   "cell_type": "code",
   "execution_count": null,
   "metadata": {},
   "outputs": [],
   "source": [
    "glutenfree_style"
   ]
  },
  {
   "cell_type": "code",
   "execution_count": null,
   "metadata": {},
   "outputs": [],
   "source": [
    "total_style=beers.groupby('style')['beer_name'].count()\n",
    "nb_style_beer=len(total_style)"
   ]
  },
  {
   "cell_type": "code",
   "execution_count": null,
   "metadata": {},
   "outputs": [],
   "source": [
    "print(f'It exists {len(glutenfree_style)} different styles of beer among gluten-free beers.')\n",
    "print(f'In the entire dataset, we count {nb_style_beer} different styles of beer.')"
   ]
  },
  {
   "cell_type": "code",
   "execution_count": null,
   "metadata": {},
   "outputs": [],
   "source": [
    "print(f'percentage of gluten_free beers : {len(glutenfree.index)/len(beers.index)*100}')"
   ]
  },
  {
   "cell_type": "markdown",
   "metadata": {},
   "source": [
    "## Does glutenfree beers are more appreciated than other beers?\n",
    "We will keep users that evaluated a similar number of glutenfree beer and non glutenfree beers to compare the grades between glutenfree and non glutenfree_beer\n"
   ]
  },
  {
   "cell_type": "code",
   "execution_count": null,
   "metadata": {},
   "outputs": [],
   "source": [
    "# get user id from the glutenfree dataset\n",
    "users = pd.read_csv(os.path.join(DATA_RateBeer, 'users.csv'))\n",
    "user_id = RB_ratings['user_id']\n",
    "user_id.head()"
   ]
  },
  {
   "cell_type": "code",
   "execution_count": null,
   "metadata": {},
   "outputs": [],
   "source": [
    "nb_ratings=glutenfree.groupby('user_id')['user_name'].count()\n",
    "nb_ratings=pd.DataFrame(nb_ratings)\n",
    "nb_ratings.rename(columns={'user_name':'nb_ratings_glutenfree'}, inplace=True)\n",
    "nb_ratings"
   ]
  },
  {
   "cell_type": "code",
   "execution_count": null,
   "metadata": {},
   "outputs": [],
   "source": [
    "users_ratings=users[['nbr_ratings', 'user_id']]\n",
    "users_ratings.set_index('user_id', inplace=True)\n",
    "users_ratings"
   ]
  },
  {
   "cell_type": "code",
   "execution_count": null,
   "metadata": {},
   "outputs": [],
   "source": [
    "gluten_users=pd.merge(users_ratings,nb_ratings, how='right', on='user_id')\n",
    "gluten_users"
   ]
  },
  {
   "cell_type": "code",
   "execution_count": null,
   "metadata": {},
   "outputs": [],
   "source": [
    "#We keep only users that have rated  a similar number of conentional beer and glutenfree beers\n",
    "keep=gluten_users[(gluten_users['nbr_ratings']<=3*gluten_users['nb_ratings_glutenfree'])& (gluten_users['nbr_ratings']>gluten_users['nb_ratings_glutenfree'])]\n",
    "print(keep['nbr_ratings'].sum())\n",
    "print(keep['nb_ratings_glutenfree'].sum())"
   ]
  },
  {
   "cell_type": "code",
   "execution_count": null,
   "metadata": {},
   "outputs": [],
   "source": [
    "#Now, we will recover the corresponding ratings of these users\n",
    "positions_gluten = np.where(np.isin(users_id, keep.index.to_numpy()))[0]\n"
   ]
  },
  {
   "cell_type": "code",
   "execution_count": null,
   "metadata": {},
   "outputs": [],
   "source": [
    "positions_gluten[1:10]"
   ]
  },
  {
   "cell_type": "code",
   "execution_count": null,
   "metadata": {},
   "outputs": [],
   "source": [
    "len(positions_gluten)"
   ]
  },
  {
   "cell_type": "code",
   "execution_count": null,
   "metadata": {},
   "outputs": [],
   "source": [
    "#we calculate the numbers of lines in the rating.txt file on which we have the corresponding ratings\n",
    "positions_gluten*=17\n",
    "lines_to_keep_gluten=[]\n",
    "for i in range(17):\n",
    "    lines_to_keep_gluten+=[element + i for element in positions_gluten]\n",
    "lines_to_keep_gluten.sort()\n",
    "lines_to_keep_gluten[1:10]"
   ]
  },
  {
   "cell_type": "code",
   "execution_count": null,
   "metadata": {},
   "outputs": [],
   "source": [
    "input_file_path = 'ratings.txt'\n",
    "output_file_path = 'glutenfree_users.txt'\n",
    "#We read these line and put it into a new file: glutenfree_users.txt\n",
    "import linecache\n",
    "with  open(output_file_path, 'w') as output_file:\n",
    "    for line_number in lines_to_keep_gluten:\n",
    "        line = linecache.getline(input_file_path, line_number)\n",
    "        output_file.write(line)\n",
    "# Close the output file\n",
    "output_file.close()"
   ]
  },
  {
   "cell_type": "code",
   "execution_count": null,
   "metadata": {},
   "outputs": [],
   "source": [
    "#from the text file, we have just created, we create a csv file with the corresponding ratings\n",
    "import pandas as pd\n",
    "columns_name = ['beer_name', 'beer_id', 'brewery_name', 'brewery_id',\n",
    "                'style', 'abv', 'date', 'user_name', 'user_id', 'appearance',\n",
    "                'aroma', 'palate', 'taste', 'overall', 'rating', 'text']\n",
    "\n",
    "# Create an empty DataFrame with the specified column names\n",
    "df = pd.DataFrame(columns=columns_name)\n",
    "\n",
    "with open('glutenfree_users.txt', 'r') as file:\n",
    "    data = {}\n",
    "    for i, line in enumerate(file):\n",
    "        if i % 17 == 0:\n",
    "            # This is the last line of a group, so add the data to the DataFrame\n",
    "            #df = pd.concat([df, pd.DataFrame(data)], ignore_index=True)\n",
    "            df = df._append(data, ignore_index=True)\n",
    "            data = {}\n",
    "        else:\n",
    "            #print(line)\n",
    "            # Split the line at the first ':' and assign the values to the corresponding column\n",
    "            key, value = line.strip().split(':', 1)\n",
    "            data[columns_name[i % 17 - 1]] = value"
   ]
  },
  {
   "cell_type": "code",
   "execution_count": null,
   "metadata": {},
   "outputs": [],
   "source": [
    "csv_file_path = 'glutenfree_users.csv'  \n",
    "df.to_csv(csv_file_path, index=False) "
   ]
  },
  {
   "cell_type": "code",
   "execution_count": null,
   "metadata": {},
   "outputs": [],
   "source": [
    "users_glutenfree=pd.read_csv('glutenfree_users.csv')"
   ]
  },
  {
   "cell_type": "markdown",
   "metadata": {},
   "source": [
    "Let's first analyse if glutenfree beers are more appreciated than beers with gluten"
   ]
  },
  {
   "cell_type": "code",
   "execution_count": null,
   "metadata": {},
   "outputs": [],
   "source": [
    "# The dataframe contains conventional beers and glutenfree beers, so we have a colomn indicating if the beer is glutenfree or not\n",
    "users_glutenfree['glutenfree']=users_glutenfree['beer_name'].str.contains('gluten', case=False, na=False)\n",
    "users_glutenfree.dropna(inplace=True)  "
   ]
  },
  {
   "cell_type": "code",
   "execution_count": null,
   "metadata": {},
   "outputs": [],
   "source": [
    "users_glutenfree['glutenfree']"
   ]
  },
  {
   "cell_type": "code",
   "execution_count": null,
   "metadata": {},
   "outputs": [],
   "source": [
    "users_glutenfree['glutenfree'].sum()"
   ]
  },
  {
   "cell_type": "code",
   "execution_count": null,
   "metadata": {},
   "outputs": [],
   "source": [
    "glutenfree=users_glutenfree[users_glutenfree['glutenfree']]\n",
    "gluten=users_glutenfree[~users_glutenfree['glutenfree']]\n",
    "gluten"
   ]
  },
  {
   "cell_type": "code",
   "execution_count": null,
   "metadata": {},
   "outputs": [],
   "source": [
    "glu=gluten[['appearance','aroma','palate','taste', 'overall','rating']]\n",
    "freeglu=glutenfree[['appearance','aroma','palate','taste', 'overall','rating']]"
   ]
  },
  {
   "cell_type": "code",
   "execution_count": null,
   "metadata": {},
   "outputs": [],
   "source": [
    "import matplotlib.pyplot as plt\n",
    "import seaborn as sns\n",
    "\n",
    "fig, axs = plt.subplots(len(glu.columns), figsize=(10,10))\n",
    "fig.suptitle('Gluten/Glutenfree')\n",
    "\n",
    "for i,column in enumerate(glu.columns):\n",
    "    sns.histplot(glu[column].dropna(), stat='density', kde=True, color='blue', label='gluten', ax=axs[i])\n",
    "    sns.histplot(freeglu[column].dropna(), stat='density', kde=True, color='green', label='glutenfree', ax=axs[i])\n",
    "    #axs[i].set_title(column)\n",
    "    axs[i].legend()\n",
    "plt.subplots_adjust(wspace=0.5, hspace=0.5)"
   ]
  },
  {
   "cell_type": "code",
   "execution_count": null,
   "metadata": {},
   "outputs": [],
   "source": [
    "from statsmodels.stats import diagnostic\n",
    "# does the data come from a normal distrbution?\n",
    "diagnostic.kstest_normal(glutenfree['aroma'].values, dist = 'norm')"
   ]
  },
  {
   "cell_type": "code",
   "execution_count": null,
   "metadata": {},
   "outputs": [],
   "source": [
    "from scipy.stats import ttest_ind\n",
    "ttest=pd.DataFrame(columns=['Topic','T_stat','P_value'])\n",
    "for col in glu.columns:\n",
    "    t_stat, p_value = ttest_ind(glu[col], freeglu[col])\n",
    "    ttest.loc[len(ttest)]={'Topic':col,'T_stat':t_stat,'P_value':p_value}\n",
    "ttest"
   ]
  },
  {
   "cell_type": "markdown",
   "metadata": {},
   "source": [
    "Glutenfree beers seem to affect the taste!"
   ]
  },
  {
   "cell_type": "code",
   "execution_count": null,
   "metadata": {},
   "outputs": [],
   "source": [
    "for col in glu.columns:\n",
    "    sns.barplot(x=\"glutenfree\", y=col, data=users_glutenfree, )\n",
    "    plt.show()"
   ]
  },
  {
   "cell_type": "markdown",
   "metadata": {},
   "source": [
    "The taste seems to be the most affected parameter (negative impact)"
   ]
  },
  {
   "cell_type": "markdown",
   "metadata": {},
   "source": [
    "Since the data is not normally distributed, I propose to do mannwhitneyu test to complete the t-test"
   ]
  },
  {
   "cell_type": "code",
   "execution_count": null,
   "metadata": {},
   "outputs": [],
   "source": [
    "from scipy.stats import mannwhitneyu\n",
    "\n",
    "correlations=pd.DataFrame(columns=['topic','statistic','pvalue'])\n",
    "\n",
    "for column in glu.columns:\n",
    "    x = glu[column]\n",
    "    y = freeglu[column]\n",
    "\n",
    "    # Perform the Mann-Whitney U test\n",
    "    statistic, p_value = mannwhitneyu(x, y)\n",
    "\n",
    "    correlations.loc[len(correlations)] = {'topic': column, 'statistic': statistic, 'pvalue': p_value}\n",
    "\n",
    "print(correlations)\n"
   ]
  },
  {
   "cell_type": "markdown",
   "metadata": {},
   "source": [
    "There is significant difference between gluten and glutenfree beers in terms of taste!"
   ]
  },
  {
   "cell_type": "code",
   "execution_count": null,
   "metadata": {},
   "outputs": [],
   "source": [
    "users_glutenfree['glutenfree']=users_glutenfree['glutenfree'].astype(int)"
   ]
  },
  {
   "cell_type": "code",
   "execution_count": null,
   "metadata": {},
   "outputs": [],
   "source": [
    "import statsmodels.api as sm\n",
    "import statsmodels.formula.api as smf\n",
    "import numpy as np\n",
    "mod = smf.ols(formula='rating ~ appearance + aroma + palate+ taste + overall+C(glutenfree)', data=users_glutenfree)\n",
    "np.random.seed(2)\n",
    "res = mod.fit()\n",
    "print(res.summary())"
   ]
  },
  {
   "cell_type": "code",
   "execution_count": null,
   "metadata": {},
   "outputs": [],
   "source": [
    "mod = smf.ols(formula='rating ~ appearance + aroma + palate+ taste + overall', data=users_glutenfree)\n",
    "np.random.seed(2)\n",
    "res = mod.fit()\n",
    "print(res.summary())"
   ]
  },
  {
   "cell_type": "markdown",
   "metadata": {},
   "source": [
    "The aroma, palate, taste and overall are very correlated with the rating as expected!\n",
    "By adding information about the presence or absence of gluten, we don't explain much more the outcome!"
   ]
  },
  {
   "cell_type": "code",
   "execution_count": null,
   "metadata": {},
   "outputs": [],
   "source": [
    "mod = smf.ols(formula='taste ~ C(glutenfree)', data=users_glutenfree)\n",
    "res = mod.fit()\n",
    "print(res.summary())"
   ]
  },
  {
   "cell_type": "code",
   "execution_count": null,
   "metadata": {},
   "outputs": [],
   "source": [
    "plt.scatter(users_glutenfree['glutenfree'],users_glutenfree['taste'])\n",
    "b=res.params.values[0]\n",
    "a=res.params.values[1]\n",
    "x=np.linspace(0,1,30)\n",
    "plt.plot(x, a*x+b)"
   ]
  },
  {
   "cell_type": "code",
   "execution_count": null,
   "metadata": {},
   "outputs": [],
   "source": [
    "sns.boxplot(x=\"glutenfree\", y=\"taste\", data=users_glutenfree)"
   ]
  },
  {
   "cell_type": "code",
   "execution_count": null,
   "metadata": {},
   "outputs": [],
   "source": [
    "norm=pd.DataFrame()\n",
    "# how we standardize the countinuous variables\n",
    "\n",
    "norm['appearance'] = (users_glutenfree['appearance'] - users_glutenfree['appearance'].mean())/users_glutenfree['appearance'].std()\n",
    "norm['taste'] = (users_glutenfree['taste'] - users_glutenfree['taste'].mean())/users_glutenfree['taste'].std()\n",
    "norm['palate'] = (users_glutenfree['palate'] - users_glutenfree['palate'].mean())/users_glutenfree['palate'].std()\n",
    "norm['aroma'] = (users_glutenfree['aroma'] - users_glutenfree['aroma'].mean())/users_glutenfree['aroma'].std()\n",
    "norm['overall'] = (users_glutenfree['overall'] - users_glutenfree['overall'].mean())/users_glutenfree['overall'].std()\n",
    "norm['rating'] = (users_glutenfree['rating'] - users_glutenfree['rating'].mean())/users_glutenfree['rating'].std()\n",
    "norm['glutenfree']=users_glutenfree['glutenfree']"
   ]
  },
  {
   "cell_type": "code",
   "execution_count": null,
   "metadata": {},
   "outputs": [],
   "source": [
    "norm"
   ]
  },
  {
   "cell_type": "code",
   "execution_count": null,
   "metadata": {},
   "outputs": [],
   "source": [
    "# logistic regression to predict if the beer is glutenfree given ratings\n",
    "\n",
    "mod = smf.logit(formula='glutenfree~  appearance+ taste + palate + \\\n",
    "                        aroma + overall', data=norm)\n",
    "res = mod.fit()\n",
    "print(res.summary())"
   ]
  },
  {
   "cell_type": "code",
   "execution_count": null,
   "metadata": {},
   "outputs": [],
   "source": [
    "mod = smf.logit(formula='glutenfree~ taste + aroma ', data=norm)\n",
    "res = mod.fit()\n",
    "print(res.summary())"
   ]
  },
  {
   "cell_type": "markdown",
   "metadata": {},
   "source": [
    "Glutenfree beers seem to affect the aroma and the taste of the beer!"
   ]
  },
  {
   "cell_type": "markdown",
   "metadata": {},
   "source": [
    "# Sentiment Analysis"
   ]
  },
  {
   "cell_type": "markdown",
   "metadata": {},
   "source": [
    "## Subsetting the data"
   ]
  },
  {
   "cell_type": "markdown",
   "metadata": {},
   "source": [
    "Reviews of the beers matter. Similar as the numerical ratings, sentiment analysis can be used to indicate the evaluation the reviewer gave to the beer. Such an analysis would be helpful for us to understand the data better and to see if the reviews are in line with the numerical ratings across different beer types, breweries, regions, etc."
   ]
  },
  {
   "cell_type": "markdown",
   "metadata": {},
   "source": [
    "Here as a pilot study, we will simply use a subset of from the `BA_ratings` to conduct the sentiment analysis. We want to first see if the sentiment analysis can be done in a reasonable time with promising results. If so, we will then further look for potentially better models and implementations. (as for instance for the glutenfree beers)"
   ]
  },
  {
   "cell_type": "code",
   "execution_count": null,
   "metadata": {},
   "outputs": [],
   "source": [
    "# show number of unique breweries\n",
    "print('number of unique beer in BA:', len(BA_ratings['beer_id'].unique()))\n",
    "# get the brewery id that appears the most time\n",
    "print('most common beer id in BA:', BA_ratings['beer_id'].value_counts().idxmax())"
   ]
  },
  {
   "cell_type": "code",
   "execution_count": null,
   "metadata": {},
   "outputs": [],
   "source": [
    "# subset the data to only contain the most common brewery id\n",
    "BA_ratings_most_com_brw = BA_ratings.loc[BA_ratings['beer_id'] == BA_ratings['beer_id'].value_counts().idxmax()]\n",
    "print(\"# samples: \", len(BA_ratings_most_com_brw))\n",
    "print(\"# unique beers: \", len(BA_ratings_most_com_brw['beer_id'].unique()))\n",
    "BA_ratings_most_com_brw.head(5)"
   ]
  },
  {
   "cell_type": "code",
   "execution_count": null,
   "metadata": {},
   "outputs": [],
   "source": [
    "BA_ratings_most_com_brw.dtypes"
   ]
  },
  {
   "cell_type": "code",
   "execution_count": null,
   "metadata": {},
   "outputs": [],
   "source": [
    "# filter the data with review == false\n",
    "BA_ratings_most_com_brw = BA_ratings_most_com_brw.loc[BA_ratings_most_com_brw['review'] == \" True\"]\n",
    "print(\"# samples: \", len(BA_ratings_most_com_brw))"
   ]
  },
  {
   "cell_type": "markdown",
   "metadata": {},
   "source": [
    "The pilot analysis would focus on the 3811 samples, all corresponds to the most reviewed \"Founders Breakfast Stout\" from Founders Brewing Company."
   ]
  },
  {
   "cell_type": "markdown",
   "metadata": {},
   "source": [
    "## EDA and Data preprocessing"
   ]
  },
  {
   "cell_type": "code",
   "execution_count": null,
   "metadata": {},
   "outputs": [],
   "source": [
    "BA_ratings_most_com_brw['rating'].describe()"
   ]
  },
  {
   "cell_type": "code",
   "execution_count": null,
   "metadata": {},
   "outputs": [],
   "source": [
    "# study the distribution of rating\n",
    "plt.figure(figsize=(10, 5))\n",
    "plt.hist(BA_ratings_most_com_brw['rating'], bins=20, color = 'blue')\n",
    "plt.xlabel('Rating')\n",
    "plt.ylabel('Count')\n",
    "# set x ticks\n",
    "plt.xticks(np.arange(1, 6, 1))\n",
    "plt.title('Distribution of Ratings')\n",
    "plt.show()"
   ]
  },
  {
   "cell_type": "markdown",
   "metadata": {},
   "source": [
    "Seems like the beer is not popular for no reason. The average rating is 4.46, which is very high. Due to the fact that sentiment analysis works better with discrete values, we convert the 2-decimal ratings into discrete values from 1 to 3."
   ]
  },
  {
   "cell_type": "code",
   "execution_count": null,
   "metadata": {},
   "outputs": [],
   "source": [
    "# add discrete rating column\n",
    "# 1: 1-4, 2: 4-4.5, 3: 4.5-5\n",
    "BA_ratings_most_com_brw['rating_discrete'] = BA_ratings_most_com_brw['rating'].apply(lambda x: 1 if x <= 4 else (2 if x <= 4.5 else 3))\n",
    "\n",
    "# count the number of each discrete rating\n",
    "BA_ratings_most_com_brw['rating_discrete'].value_counts()"
   ]
  },
  {
   "cell_type": "markdown",
   "metadata": {},
   "source": [
    "## Pretrain model analysis"
   ]
  },
  {
   "cell_type": "markdown",
   "metadata": {},
   "source": [
    "The model is downloaded from huggingface website. There are many different models for different usage, language, and output format. Here we applied 2-way classification trained on english product reviews."
   ]
  },
  {
   "cell_type": "code",
   "execution_count": null,
   "metadata": {},
   "outputs": [],
   "source": [
    "# get the pretrained model from huggingface's transformers library\n",
    "#MODEL = f\"cardiffnlp/twitter-roberta-base-sentiment\"\n",
    "MODEL = f\"juliensimon/reviews-sentiment-analysis\"\n",
    "#MODEL = f\"lxyuan/distilbert-base-multilingual-cased-sentiments-student\"\n",
    "tokenizer = AutoTokenizer.from_pretrained(MODEL)\n",
    "model = AutoModelForSequenceClassification.from_pretrained(MODEL)"
   ]
  },
  {
   "cell_type": "markdown",
   "metadata": {},
   "source": [
    "Define the polarity scorer for a given sentence."
   ]
  },
  {
   "cell_type": "code",
   "execution_count": null,
   "metadata": {},
   "outputs": [],
   "source": [
    "# run sentiment analysis over all ratings['text']\n",
    "def polarity_scores(example):\n",
    "    encoded_text = tokenizer(example, return_tensors='pt')\n",
    "    output = model(**encoded_text)\n",
    "    scores = output[0][0].detach().numpy()\n",
    "    scores = softmax(scores)\n",
    "    scores_dict = {\n",
    "        'o1' : scores[0],\n",
    "        'o2' : scores[1]\n",
    "    }\n",
    "    return scores_dict"
   ]
  },
  {
   "cell_type": "code",
   "execution_count": null,
   "metadata": {},
   "outputs": [],
   "source": [
    "# iterate over all rows and run polarity_scores\n",
    "res = {}\n",
    "for i, row in tqdm(BA_ratings_most_com_brw.iterrows(), total=BA_ratings_most_com_brw.shape[0]):\n",
    "    try:\n",
    "        text = row['text']\n",
    "        myid = i\n",
    "        result = polarity_scores(text)\n",
    "        #result = extract_sentiment_words_attention(text)\n",
    "        res[myid] = result\n",
    "    except RuntimeError:\n",
    "        print(f'Broke for id {myid}') # model can't handle some texts (i.e. too long)"
   ]
  },
  {
   "cell_type": "code",
   "execution_count": null,
   "metadata": {},
   "outputs": [],
   "source": [
    "results_df = pd.DataFrame(res).T\n",
    "# add column 'class', if o1 > o2, then class = 0, else class = 1\n",
    "results_df['class'] = results_df['o1'].apply(lambda x: 0 if x > 0.5 else 1)\n",
    "results_df.head()"
   ]
  },
  {
   "cell_type": "code",
   "execution_count": null,
   "metadata": {},
   "outputs": [],
   "source": [
    "# merge the results with the original ratings dataframe\n",
    "BA_ratings_most_com_brw_sentiment = BA_ratings_most_com_brw.merge(results_df, left_index=True, right_index=True)\n",
    "BA_ratings_most_com_brw_sentiment.head()"
   ]
  },
  {
   "cell_type": "markdown",
   "metadata": {},
   "source": [
    "To show how good the sentiment evaluation is, we correlate the positiveness/negativeness results with the ratings."
   ]
  },
  {
   "cell_type": "code",
   "execution_count": null,
   "metadata": {},
   "outputs": [],
   "source": [
    "sns.pairplot(data = BA_ratings_most_com_brw_sentiment,\n",
    "             vars = ['o1', 'o2'],\n",
    "             hue = 'rating_discrete',\n",
    "             palette = 'tab10')\n",
    "plt.show()"
   ]
  },
  {
   "cell_type": "markdown",
   "metadata": {},
   "source": [
    "It seems that those comments with higher discrete ratings have generally better positivity, and vice versa. The preliminary analysis shows it is feasible to do sentiment analysis for the beer dataset. A possibly fine-grained version analysis would be carrying out."
   ]
  },
  {
   "cell_type": "markdown",
   "metadata": {},
   "source": [
    "That is pretty much what we have for milestone 2. As discussed in the readme file on Github, we will proceed our analysis according to our research questions.\n",
    "Thank you for your time :]"
   ]
  }
 ],
 "metadata": {
  "kernelspec": {
   "display_name": "ada",
   "language": "python",
   "name": "python3"
  },
  "language_info": {
   "codemirror_mode": {
    "name": "ipython",
    "version": 3
   },
   "file_extension": ".py",
   "mimetype": "text/x-python",
   "name": "python",
   "nbconvert_exporter": "python",
   "pygments_lexer": "ipython3",
   "version": "3.11.5"
  }
 },
 "nbformat": 4,
 "nbformat_minor": 2
}
